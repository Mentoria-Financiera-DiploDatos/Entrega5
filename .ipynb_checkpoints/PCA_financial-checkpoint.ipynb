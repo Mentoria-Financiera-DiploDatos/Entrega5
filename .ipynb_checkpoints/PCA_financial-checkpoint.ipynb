{
 "cells": [
  {
   "cell_type": "markdown",
   "metadata": {
    "id": "n5NtImOJDbui"
   },
   "source": [
    "# PCA en indices financieros\n",
    "\n",
    "\n",
    "\n"
   ]
  },
  {
   "cell_type": "code",
   "execution_count": 1,
   "metadata": {
    "colab": {
     "base_uri": "https://localhost:8080/",
     "height": 349
    },
    "id": "uEQpxYNu1k8k",
    "outputId": "1224af67-0086-4c4d-894d-2757f2718ce6"
   },
   "outputs": [
    {
     "data": {
      "text/html": [
       "<div>\n",
       "<style scoped>\n",
       "    .dataframe tbody tr th:only-of-type {\n",
       "        vertical-align: middle;\n",
       "    }\n",
       "\n",
       "    .dataframe tbody tr th {\n",
       "        vertical-align: top;\n",
       "    }\n",
       "\n",
       "    .dataframe thead th {\n",
       "        text-align: right;\n",
       "    }\n",
       "</style>\n",
       "<table border=\"1\" class=\"dataframe\">\n",
       "  <thead>\n",
       "    <tr style=\"text-align: right;\">\n",
       "      <th></th>\n",
       "      <th>Unnamed: 0</th>\n",
       "      <th>Revenue</th>\n",
       "      <th>Gross Profit</th>\n",
       "      <th>Net Income</th>\n",
       "      <th>debtRatio</th>\n",
       "      <th>priceEarningsRatio</th>\n",
       "      <th>AnualPriceVariation</th>\n",
       "      <th>year</th>\n",
       "      <th>Sector</th>\n",
       "      <th>Unnamed: 0.1</th>\n",
       "      <th>Market Cap</th>\n",
       "      <th>Graham Net-Net</th>\n",
       "      <th>EPS</th>\n",
       "      <th>priceToSalesRatio</th>\n",
       "    </tr>\n",
       "  </thead>\n",
       "  <tbody>\n",
       "    <tr>\n",
       "      <th>0</th>\n",
       "      <td>0</td>\n",
       "      <td>7.440100e+10</td>\n",
       "      <td>3.537100e+10</td>\n",
       "      <td>1.164300e+10</td>\n",
       "      <td>0.2455</td>\n",
       "      <td>18.7566</td>\n",
       "      <td>-9.323276</td>\n",
       "      <td>2014</td>\n",
       "      <td>Consumer Defensive</td>\n",
       "      <td>PG</td>\n",
       "      <td>2.126614e+11</td>\n",
       "      <td>-0.2007</td>\n",
       "      <td>4.19</td>\n",
       "      <td>2.8583</td>\n",
       "    </tr>\n",
       "    <tr>\n",
       "      <th>1</th>\n",
       "      <td>2</td>\n",
       "      <td>9.837500e+10</td>\n",
       "      <td>2.023700e+10</td>\n",
       "      <td>1.519000e+09</td>\n",
       "      <td>0.3863</td>\n",
       "      <td>12.0340</td>\n",
       "      <td>33.118297</td>\n",
       "      <td>2014</td>\n",
       "      <td>Consumer Defensive</td>\n",
       "      <td>KR</td>\n",
       "      <td>1.827470e+10</td>\n",
       "      <td>-0.8239</td>\n",
       "      <td>1.47</td>\n",
       "      <td>0.1858</td>\n",
       "    </tr>\n",
       "    <tr>\n",
       "      <th>2</th>\n",
       "      <td>3</td>\n",
       "      <td>2.552641e+10</td>\n",
       "      <td>7.323734e+09</td>\n",
       "      <td>2.494140e+08</td>\n",
       "      <td>0.8290</td>\n",
       "      <td>28.6087</td>\n",
       "      <td>2.752291</td>\n",
       "      <td>2014</td>\n",
       "      <td>Consumer Defensive</td>\n",
       "      <td>RAD</td>\n",
       "      <td>6.359738e+09</td>\n",
       "      <td>-0.7506</td>\n",
       "      <td>4.60</td>\n",
       "      <td>0.2491</td>\n",
       "    </tr>\n",
       "  </tbody>\n",
       "</table>\n",
       "</div>"
      ],
      "text/plain": [
       "   Unnamed: 0       Revenue  Gross Profit    Net Income  debtRatio  \\\n",
       "0           0  7.440100e+10  3.537100e+10  1.164300e+10     0.2455   \n",
       "1           2  9.837500e+10  2.023700e+10  1.519000e+09     0.3863   \n",
       "2           3  2.552641e+10  7.323734e+09  2.494140e+08     0.8290   \n",
       "\n",
       "   priceEarningsRatio  AnualPriceVariation  year              Sector  \\\n",
       "0             18.7566            -9.323276  2014  Consumer Defensive   \n",
       "1             12.0340            33.118297  2014  Consumer Defensive   \n",
       "2             28.6087             2.752291  2014  Consumer Defensive   \n",
       "\n",
       "  Unnamed: 0.1    Market Cap  Graham Net-Net   EPS  priceToSalesRatio  \n",
       "0           PG  2.126614e+11         -0.2007  4.19             2.8583  \n",
       "1           KR  1.827470e+10         -0.8239  1.47             0.1858  \n",
       "2          RAD  6.359738e+09         -0.7506  4.60             0.2491  "
      ]
     },
     "execution_count": 1,
     "metadata": {},
     "output_type": "execute_result"
    }
   ],
   "source": [
    "import pandas as pd\n",
    "import seaborn as sns\n",
    "from sklearn import decomposition, preprocessing\n",
    "import numpy as np\n",
    "\n",
    "df= pd.read_csv(\"BD/financial_final.csv\")\n",
    "df.head(3)"
   ]
  },
  {
   "cell_type": "code",
   "execution_count": 2,
   "metadata": {
    "colab": {
     "base_uri": "https://localhost:8080/"
    },
    "id": "fSxrVNTRkj_B",
    "outputId": "d16ca569-9b30-4655-fc2a-33d0fc5d5f96"
   },
   "outputs": [
    {
     "data": {
      "text/plain": [
       "Unnamed: 0             0\n",
       "Revenue                0\n",
       "Gross Profit           0\n",
       "Net Income             0\n",
       "debtRatio              0\n",
       "priceEarningsRatio     0\n",
       "AnualPriceVariation    0\n",
       "year                   0\n",
       "Sector                 0\n",
       "Unnamed: 0.1           0\n",
       "Market Cap             0\n",
       "Graham Net-Net         0\n",
       "EPS                    0\n",
       "priceToSalesRatio      0\n",
       "dtype: int64"
      ]
     },
     "execution_count": 2,
     "metadata": {},
     "output_type": "execute_result"
    }
   ],
   "source": [
    "df.isnull().sum()"
   ]
  },
  {
   "cell_type": "code",
   "execution_count": 3,
   "metadata": {
    "id": "3DULgr5DDI9H"
   },
   "outputs": [],
   "source": [
    "market_cap = \"Market Cap\"\n",
    "revenue= 'Revenue'\n",
    "gross_profit= 'Gross Profit'\n",
    "net_income= 'Net Income'\n",
    "debt_ratio =  'debtRatio'\n",
    "price_earning_ratio='priceEarningsRatio'\n",
    "year= 'year'\n",
    "anual_price_var = 'AnualPriceVariation'\n",
    "sector= 'Sector'\n",
    "ticker= 'Unnamed: 0'\n",
    "graham= 'Graham Net-Net'\n",
    "eps= \"EPS\"\n",
    "price_sales_ratio= 'priceToSalesRatio'\n",
    "\n",
    "rvs = [\n",
    "    revenue,\n",
    "    gross_profit,\n",
    "    net_income,\n",
    "    debt_ratio,\n",
    "    price_earning_ratio,\n",
    "    anual_price_var,\n",
    "    year,\n",
    "    sector,\n",
    "    ticker,\n",
    "    market_cap,\n",
    "    graham,\n",
    "    eps,\n",
    "    price_sales_ratio\n",
    "]\n",
    "\n",
    "continous = [\n",
    "    revenue,\n",
    "    gross_profit,\n",
    "    net_income,\n",
    "    debt_ratio,\n",
    "    price_earning_ratio,\n",
    "    anual_price_var,\n",
    "    market_cap,\n",
    "    graham,\n",
    "    eps,\n",
    "    price_sales_ratio\n",
    "]\n",
    "categoricals =[\n",
    "               sector\n",
    "               ticker\n",
    "]"
   ]
  },
  {
   "cell_type": "code",
   "execution_count": 5,
   "metadata": {
    "colab": {
     "base_uri": "https://localhost:8080/",
     "height": 143
    },
    "id": "ab-iAzOKQP-9",
    "outputId": "a56d69c4-a316-4ec4-bb15-abe612008e8a"
   },
   "outputs": [
    {
     "data": {
      "text/html": [
       "<div>\n",
       "<style scoped>\n",
       "    .dataframe tbody tr th:only-of-type {\n",
       "        vertical-align: middle;\n",
       "    }\n",
       "\n",
       "    .dataframe tbody tr th {\n",
       "        vertical-align: top;\n",
       "    }\n",
       "\n",
       "    .dataframe thead th {\n",
       "        text-align: right;\n",
       "    }\n",
       "</style>\n",
       "<table border=\"1\" class=\"dataframe\">\n",
       "  <thead>\n",
       "    <tr style=\"text-align: right;\">\n",
       "      <th></th>\n",
       "      <th>Revenue</th>\n",
       "      <th>Gross Profit</th>\n",
       "      <th>Net Income</th>\n",
       "      <th>debtRatio</th>\n",
       "      <th>priceEarningsRatio</th>\n",
       "      <th>Market Cap</th>\n",
       "      <th>Graham Net-Net</th>\n",
       "      <th>EPS</th>\n",
       "      <th>priceToSalesRatio</th>\n",
       "    </tr>\n",
       "  </thead>\n",
       "  <tbody>\n",
       "    <tr>\n",
       "      <th>0</th>\n",
       "      <td>7.440100e+10</td>\n",
       "      <td>3.537100e+10</td>\n",
       "      <td>1.164300e+10</td>\n",
       "      <td>0.2455</td>\n",
       "      <td>18.7566</td>\n",
       "      <td>2.126614e+11</td>\n",
       "      <td>-0.2007</td>\n",
       "      <td>4.19</td>\n",
       "      <td>2.8583</td>\n",
       "    </tr>\n",
       "    <tr>\n",
       "      <th>1</th>\n",
       "      <td>9.837500e+10</td>\n",
       "      <td>2.023700e+10</td>\n",
       "      <td>1.519000e+09</td>\n",
       "      <td>0.3863</td>\n",
       "      <td>12.0340</td>\n",
       "      <td>1.827470e+10</td>\n",
       "      <td>-0.8239</td>\n",
       "      <td>1.47</td>\n",
       "      <td>0.1858</td>\n",
       "    </tr>\n",
       "    <tr>\n",
       "      <th>2</th>\n",
       "      <td>2.552641e+10</td>\n",
       "      <td>7.323734e+09</td>\n",
       "      <td>2.494140e+08</td>\n",
       "      <td>0.8290</td>\n",
       "      <td>28.6087</td>\n",
       "      <td>6.359738e+09</td>\n",
       "      <td>-0.7506</td>\n",
       "      <td>4.60</td>\n",
       "      <td>0.2491</td>\n",
       "    </tr>\n",
       "  </tbody>\n",
       "</table>\n",
       "</div>"
      ],
      "text/plain": [
       "        Revenue  Gross Profit    Net Income  debtRatio  priceEarningsRatio  \\\n",
       "0  7.440100e+10  3.537100e+10  1.164300e+10     0.2455             18.7566   \n",
       "1  9.837500e+10  2.023700e+10  1.519000e+09     0.3863             12.0340   \n",
       "2  2.552641e+10  7.323734e+09  2.494140e+08     0.8290             28.6087   \n",
       "\n",
       "     Market Cap  Graham Net-Net   EPS  priceToSalesRatio  \n",
       "0  2.126614e+11         -0.2007  4.19             2.8583  \n",
       "1  1.827470e+10         -0.8239  1.47             0.1858  \n",
       "2  6.359738e+09         -0.7506  4.60             0.2491  "
      ]
     },
     "execution_count": 5,
     "metadata": {},
     "output_type": "execute_result"
    }
   ],
   "source": [
    "df_continous=df[continous]\\\n",
    "        .drop(columns=anual_price_var)\n",
    "df_continous.head(3)"
   ]
  },
  {
   "cell_type": "markdown",
   "metadata": {
    "id": "ApyV3YE9PGqV"
   },
   "source": [
    "# Reducción de dimensionalidad con PCA"
   ]
  },
  {
   "cell_type": "markdown",
   "metadata": {},
   "source": [
    "Antes de realizar el PCA se realiza la estandarización de los datos, es decir a cada dato se le resta su media y se lo divide por el desvío estándar. La estandarización permite trabajar con variables medidas en distintas unidades y así dar el mismo peso a todas las variables."
   ]
  },
  {
   "cell_type": "code",
   "execution_count": 6,
   "metadata": {
    "id": "uavm-duQPBcj"
   },
   "outputs": [],
   "source": [
    "feature_matrix_standarized = preprocessing.StandardScaler().fit_transform(\n",
    "    df_continous)"
   ]
  },
  {
   "cell_type": "code",
   "execution_count": 7,
   "metadata": {
    "id": "Jl1gyw9zPoDl"
   },
   "outputs": [],
   "source": [
    "_, nof_components = feature_matrix_standarized.shape\n",
    "pca = decomposition.PCA(n_components=nof_components)\n",
    "principal_components = pca.fit_transform(feature_matrix_standarized)"
   ]
  },
  {
   "cell_type": "markdown",
   "metadata": {},
   "source": [
    "Se muestra la varianza explicada por cada componente"
   ]
  },
  {
   "cell_type": "code",
   "execution_count": 8,
   "metadata": {
    "colab": {
     "base_uri": "https://localhost:8080/"
    },
    "id": "UagmGxa_Pruz",
    "outputId": "44afef49-92cc-4e44-fb60-a3f1b651332b"
   },
   "outputs": [
    {
     "data": {
      "text/plain": [
       "array([0.27724088, 0.12364229, 0.11136941, 0.11116998, 0.11020961,\n",
       "       0.11008841, 0.09986072, 0.04220931, 0.01420939])"
      ]
     },
     "execution_count": 8,
     "metadata": {},
     "output_type": "execute_result"
    }
   ],
   "source": [
    "explained_variance = pca.explained_variance_ratio_\n",
    "explained_variance"
   ]
  },
  {
   "cell_type": "markdown",
   "metadata": {},
   "source": [
    "Para una mejor comprensión se calcula el porcentaje acumulado explicado por cada componente. El primer componente explica el 27,72% de la variación. Luego, el primer y segundo componente explican el 40.08% de la variación y así sucesivamente."
   ]
  },
  {
   "cell_type": "code",
   "execution_count": 9,
   "metadata": {
    "colab": {
     "base_uri": "https://localhost:8080/"
    },
    "id": "swux6OoyPvS1",
    "outputId": "0e58a8a6-dc86-4ca5-8fed-5f2b4ce91bd8"
   },
   "outputs": [
    {
     "data": {
      "text/plain": [
       "array([ 27.72,  40.08,  51.22,  62.34,  73.36,  84.37,  94.36,  98.58,\n",
       "       100.  ])"
      ]
     },
     "execution_count": 9,
     "metadata": {},
     "output_type": "execute_result"
    }
   ],
   "source": [
    "acc_variance_percent = np.cumsum(np.round(explained_variance, decimals=4) * 100)\n",
    "acc_variance_percent"
   ]
  },
  {
   "cell_type": "code",
   "execution_count": 10,
   "metadata": {
    "colab": {
     "base_uri": "https://localhost:8080/",
     "height": 367
    },
    "id": "chao-p3uPzg1",
    "outputId": "d1288e4e-5b9c-45ed-e1e7-e3f200a620f4"
   },
   "outputs": [
    {
     "data": {
      "text/plain": [
       "[<matplotlib.lines.Line2D at 0x235d04dde80>]"
      ]
     },
     "execution_count": 10,
     "metadata": {},
     "output_type": "execute_result"
    },
    {
     "data": {
      "image/png": "[encoded data removed]",
      "text/plain": [
       "<Figure size 720x360 with 1 Axes>"
      ]
     },
     "metadata": {
      "needs_background": "light"
     },
     "output_type": "display_data"
    }
   ],
   "source": [
    "import matplotlib.pyplot as plt\n",
    "plt.figure(figsize=(10, 5))\n",
    "plt.ylabel('% de varianza explicada')\n",
    "plt.xlabel('Componentes Principales')\n",
    "plt.title('PCA')\n",
    "plt.ylim(20, 110)\n",
    "plt.xticks(range(nof_components))\n",
    "plt.plot(acc_variance_percent)"
   ]
  },
  {
   "cell_type": "markdown",
   "metadata": {},
   "source": [
    "El siguiente gráfico muestra en conjunto la varianza explicada por cada componente (barra) y la varianza acumulada (línea escalonada)."
   ]
  },
  {
   "cell_type": "code",
   "execution_count": 11,
   "metadata": {
    "colab": {
     "base_uri": "https://localhost:8080/",
     "height": 369
    },
    "id": "vHoyDlBBQD-G",
    "outputId": "f0bd997f-44fd-401a-f4c8-06296b0e39b8"
   },
   "outputs": [
    {
     "data": {
      "image/png": "[encoded data removed]",
      "text/plain": [
       "<Figure size 720x360 with 1 Axes>"
      ]
     },
     "metadata": {
      "needs_background": "light"
     },
     "output_type": "display_data"
    }
   ],
   "source": [
    "acc_variance = np.cumsum(explained_variance)\n",
    "plt.figure(figsize=(10, 5))\n",
    "plt.bar(range(len(explained_variance)),\n",
    "        explained_variance,\n",
    "        alpha=0.5,\n",
    "        align='center',\n",
    "        label='Varianza explicada individual')\n",
    "plt.step(range(len(acc_variance)),\n",
    "         acc_variance,\n",
    "         where='mid',\n",
    "         label='Varianza explicada acumulada')\n",
    "plt.ylabel('Radio de varianza explicada')\n",
    "plt.xlabel('Componentes principales')\n",
    "plt.legend(loc='best')\n",
    "plt.xticks(range(nof_components))\n",
    "plt.tight_layout()\n",
    "plt.show()"
   ]
  },
  {
   "cell_type": "code",
   "execution_count": 12,
   "metadata": {
    "colab": {
     "base_uri": "https://localhost:8080/"
    },
    "id": "DfTeijrBaCpC",
    "outputId": "702fac89-805d-4a32-e1c7-eab6a7cff0cf"
   },
   "outputs": [
    {
     "data": {
      "text/plain": [
       "(16098, 2)"
      ]
     },
     "execution_count": 12,
     "metadata": {},
     "output_type": "execute_result"
    }
   ],
   "source": [
    "from sklearn.decomposition import PCA\n",
    "pcamodel = PCA(n_components=2)\n",
    "pca = pcamodel.fit_transform(feature_matrix_standarized)\n",
    "pca.shape"
   ]
  },
  {
   "cell_type": "code",
   "execution_count": 14,
   "metadata": {
    "colab": {
     "base_uri": "https://localhost:8080/",
     "height": 877
    },
    "id": "DIqo3XgbajLK",
    "outputId": "cf9a957c-98eb-42af-8b70-1d0ce23668ea"
   },
   "outputs": [
    {
     "data": {
      "image/png": "[encoded data removed]",
      "text/plain": [
       "<Figure size 1296x1080 with 1 Axes>"
      ]
     },
     "metadata": {
      "needs_background": "light"
     },
     "output_type": "display_data"
    }
   ],
   "source": [
    "def myplot(score,coeff,labels=None):\n",
    "    xs = score[:,0]\n",
    "    ys = score[:,1]\n",
    "    n = coeff.shape[0]\n",
    "    scalex = 1.0/(xs.max() - xs.min())\n",
    "    scaley = 1.0/(ys.max() - ys.min())\n",
    "    plt.scatter(xs * scalex,ys * scaley,s=4)\n",
    "    for i in range(n):\n",
    "        plt.arrow(0, 0, coeff[i,0], coeff[i,1],color = 'r',alpha = 0.5)\n",
    "        if labels is None:\n",
    "            plt.text(coeff[i,0]* 1.1, coeff[i,1] * 1.1, \"Var\"+str(i+1), color = 'r', ha = 'center', va = 'center', fontsize= 14)\n",
    "        else:\n",
    "            plt.text(coeff[i,0]* 1.1, coeff[i,1] * 1.1, labels[i], color = 'r', ha = 'center', va = 'center', fontsize= 14)\n",
    "    plt.xlabel(\"PC{}\".format(1))\n",
    "    plt.ylabel(\"PC{}\".format(2))\n",
    "    plt.ylim(-0.8, 0.9)\n",
    "    plt.xlim(-0.2, 0.9)\n",
    "    plt.grid()\n",
    "\n",
    "plt.figure(figsize=(18, 15))\n",
    "myplot(pca[:,0:2],np.transpose(pcamodel.components_[0:2, :]),list(df_continous.columns))\n",
    "plt.show()"
   ]
  },
  {
   "cell_type": "markdown",
   "metadata": {},
   "source": [
    "El gráfico de arriba muestra el biplot del PCA junto con las variables originales y los puntos representan los datos. Se puede identificar que las variables `Revenue`, `Gross profit` y `Net income` son las variables que mas aportan a la primer componente. Por el contario el resto de las variables aportan a la segunda componente del PCA siendo la que menos aporta `EPS`. "
   ]
  },
  {
   "cell_type": "code",
   "execution_count": null,
   "metadata": {},
   "outputs": [],
   "source": []
  }
 ],
 "metadata": {
  "colab": {
   "collapsed_sections": [],
   "name": "PCA_financial.ipynb",
   "provenance": []
  },
  "kernelspec": {
   "display_name": "Python 3",
   "language": "python",
   "name": "python3"
  },
  "language_info": {
   "codemirror_mode": {
    "name": "ipython",
    "version": 3
   },
   "file_extension": ".py",
   "mimetype": "text/x-python",
   "name": "python",
   "nbconvert_exporter": "python",
   "pygments_lexer": "ipython3",
   "version": "3.9.5"
  },
  "toc": {
   "base_numbering": 1,
   "nav_menu": {},
   "number_sections": false,
   "sideBar": true,
   "skip_h1_title": false,
   "title_cell": "Table of Contents",
   "title_sidebar": "Contents",
   "toc_cell": false,
   "toc_position": {},
   "toc_section_display": true,
   "toc_window_display": false
  }
 },
 "nbformat": 4,
 "nbformat_minor": 1
}
