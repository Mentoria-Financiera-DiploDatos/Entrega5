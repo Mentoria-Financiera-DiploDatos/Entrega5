{
  "nbformat": 4,
  "nbformat_minor": 0,
  "metadata": {
    "accelerator": "GPU",
    "colab": {
      "name": "5_1_1_Embedding_word2vec_news.ipynb",
      "provenance": [],
      "collapsed_sections": []
    },
    "kernelspec": {
      "display_name": "Python 3",
      "name": "python3"
    },
    "language_info": {
      "name": "python"
    }
  },
  "cells": [
    {
      "cell_type": "markdown",
      "metadata": {
        "id": "jR8aZG44Smip"
      },
      "source": [
        "# Embedding Neuronal \n"
      ]
    },
    {
      "cell_type": "markdown",
      "metadata": {
        "id": "fIhCvV8qSygL"
      },
      "source": [
        "En esta notebook entrenaremos un embedding neuronal, utilizando Word2Vec sobre el dataset de noticias financieras.\n"
      ]
    },
    {
      "cell_type": "code",
      "metadata": {
        "id": "cyj2dzjfhIjV"
      },
      "source": [
        "import pandas as pd\n",
        "import numpy as np"
      ],
      "execution_count": 1,
      "outputs": []
    },
    {
      "cell_type": "code",
      "metadata": {
        "colab": {
          "base_uri": "https://localhost:8080/"
        },
        "id": "Vne_tyIQ49wB",
        "outputId": "01f5190b-9ef4-466c-ca67-2ac313c8bd98"
      },
      "source": [
        "from google.colab import drive\n",
        "drive.mount('/content/drive')"
      ],
      "execution_count": 2,
      "outputs": [
        {
          "output_type": "stream",
          "name": "stdout",
          "text": [
            "Drive already mounted at /content/drive; to attempt to forcibly remount, call drive.mount(\"/content/drive\", force_remount=True).\n"
          ]
        }
      ]
    },
    {
      "cell_type": "code",
      "metadata": {
        "id": "gyHqO5YE5DkB"
      },
      "source": [
        "df_original = pd.read_csv('/content/drive/MyDrive/Mentoria/news_dataset.csv')"
      ],
      "execution_count": 3,
      "outputs": []
    },
    {
      "cell_type": "code",
      "metadata": {
        "id": "oZ6m3Oa5j6LJ"
      },
      "source": [
        "#df =pd.read_csv(\"sentPositiveall-data.csv\", names=[\"feeling\", \"news\"], encoding='latin-1')"
      ],
      "execution_count": 4,
      "outputs": []
    },
    {
      "cell_type": "code",
      "metadata": {
        "colab": {
          "base_uri": "https://localhost:8080/",
          "height": 344
        },
        "id": "VIQt8oExknep",
        "outputId": "cffc9869-da19-42ed-e20b-893da79ef317"
      },
      "source": [
        "df_original.head()"
      ],
      "execution_count": 5,
      "outputs": [
        {
          "output_type": "execute_result",
          "data": {
            "text/html": [
              "<div>\n",
              "<style scoped>\n",
              "    .dataframe tbody tr th:only-of-type {\n",
              "        vertical-align: middle;\n",
              "    }\n",
              "\n",
              "    .dataframe tbody tr th {\n",
              "        vertical-align: top;\n",
              "    }\n",
              "\n",
              "    .dataframe thead th {\n",
              "        text-align: right;\n",
              "    }\n",
              "</style>\n",
              "<table border=\"1\" class=\"dataframe\">\n",
              "  <thead>\n",
              "    <tr style=\"text-align: right;\">\n",
              "      <th></th>\n",
              "      <th>id</th>\n",
              "      <th>ticker</th>\n",
              "      <th>title</th>\n",
              "      <th>category</th>\n",
              "      <th>content</th>\n",
              "      <th>release_date</th>\n",
              "      <th>provider</th>\n",
              "      <th>url</th>\n",
              "      <th>article_id</th>\n",
              "    </tr>\n",
              "  </thead>\n",
              "  <tbody>\n",
              "    <tr>\n",
              "      <th>0</th>\n",
              "      <td>221515</td>\n",
              "      <td>NIO</td>\n",
              "      <td>Why Shares of Chinese Electric Car Maker NIO A...</td>\n",
              "      <td>news</td>\n",
              "      <td>What s happening\\nShares of Chinese electric c...</td>\n",
              "      <td>2020-01-15</td>\n",
              "      <td>The Motley Fool</td>\n",
              "      <td>https://invst.ly/pigqi</td>\n",
              "      <td>2060327</td>\n",
              "    </tr>\n",
              "    <tr>\n",
              "      <th>1</th>\n",
              "      <td>221516</td>\n",
              "      <td>NIO</td>\n",
              "      <td>NIO only consumer gainer  Workhorse Group amon...</td>\n",
              "      <td>news</td>\n",
              "      <td>Gainers  NIO  NYSE NIO   7  \\nLosers  MGP Ingr...</td>\n",
              "      <td>2020-01-18</td>\n",
              "      <td>Seeking Alpha</td>\n",
              "      <td>https://invst.ly/pje9c</td>\n",
              "      <td>2062196</td>\n",
              "    </tr>\n",
              "    <tr>\n",
              "      <th>2</th>\n",
              "      <td>221517</td>\n",
              "      <td>NIO</td>\n",
              "      <td>NIO leads consumer gainers  Beyond Meat and Ma...</td>\n",
              "      <td>news</td>\n",
              "      <td>Gainers  NIO  NYSE NIO   14   Village Farms In...</td>\n",
              "      <td>2020-01-15</td>\n",
              "      <td>Seeking Alpha</td>\n",
              "      <td>https://invst.ly/pifmv</td>\n",
              "      <td>2060249</td>\n",
              "    </tr>\n",
              "    <tr>\n",
              "      <th>3</th>\n",
              "      <td>221518</td>\n",
              "      <td>NIO</td>\n",
              "      <td>NIO  NVAX among premarket gainers</td>\n",
              "      <td>news</td>\n",
              "      <td>Cemtrex  NASDAQ CETX   85  after FY results \\n...</td>\n",
              "      <td>2020-01-15</td>\n",
              "      <td>Seeking Alpha</td>\n",
              "      <td>https://invst.ly/picu8</td>\n",
              "      <td>2060039</td>\n",
              "    </tr>\n",
              "    <tr>\n",
              "      <th>4</th>\n",
              "      <td>221519</td>\n",
              "      <td>NIO</td>\n",
              "      <td>PLUG  NIO among premarket gainers</td>\n",
              "      <td>news</td>\n",
              "      <td>aTyr Pharma  NASDAQ LIFE   63  on Kyorin Pharm...</td>\n",
              "      <td>2020-01-06</td>\n",
              "      <td>Seeking Alpha</td>\n",
              "      <td>https://seekingalpha.com/news/3529772-plug-nio...</td>\n",
              "      <td>2053096</td>\n",
              "    </tr>\n",
              "  </tbody>\n",
              "</table>\n",
              "</div>"
            ],
            "text/plain": [
              "       id ticker  ...                                                url article_id\n",
              "0  221515    NIO  ...                             https://invst.ly/pigqi    2060327\n",
              "1  221516    NIO  ...                             https://invst.ly/pje9c    2062196\n",
              "2  221517    NIO  ...                             https://invst.ly/pifmv    2060249\n",
              "3  221518    NIO  ...                             https://invst.ly/picu8    2060039\n",
              "4  221519    NIO  ...  https://seekingalpha.com/news/3529772-plug-nio...    2053096\n",
              "\n",
              "[5 rows x 9 columns]"
            ]
          },
          "metadata": {},
          "execution_count": 5
        }
      ]
    },
    {
      "cell_type": "code",
      "metadata": {
        "colab": {
          "base_uri": "https://localhost:8080/"
        },
        "id": "V3jDzlm1ns9K",
        "outputId": "50d426cf-0be9-4d96-8995-2d60e4d577a8"
      },
      "source": [
        "df_original.info()"
      ],
      "execution_count": 6,
      "outputs": [
        {
          "output_type": "stream",
          "name": "stdout",
          "text": [
            "<class 'pandas.core.frame.DataFrame'>\n",
            "RangeIndex: 221513 entries, 0 to 221512\n",
            "Data columns (total 9 columns):\n",
            " #   Column        Non-Null Count   Dtype \n",
            "---  ------        --------------   ----- \n",
            " 0   id            221513 non-null  int64 \n",
            " 1   ticker        221513 non-null  object\n",
            " 2   title         221513 non-null  object\n",
            " 3   category      221513 non-null  object\n",
            " 4   content       221505 non-null  object\n",
            " 5   release_date  221513 non-null  object\n",
            " 6   provider      221513 non-null  object\n",
            " 7   url           221513 non-null  object\n",
            " 8   article_id    221513 non-null  int64 \n",
            "dtypes: int64(2), object(7)\n",
            "memory usage: 15.2+ MB\n"
          ]
        }
      ]
    },
    {
      "cell_type": "markdown",
      "metadata": {
        "id": "VOoeimUQwUrf"
      },
      "source": [
        "## Train Word2Vec"
      ]
    },
    {
      "cell_type": "markdown",
      "metadata": {
        "id": "jBIYFz81wX8g"
      },
      "source": [
        "Preprocesamiento"
      ]
    },
    {
      "cell_type": "markdown",
      "metadata": {
        "id": "kzc8tNAKTTRd"
      },
      "source": [
        "Realizamos un preprocesamiento sobre el dataset para eliminar signos de puntuacion, stopwords."
      ]
    },
    {
      "cell_type": "code",
      "metadata": {
        "id": "-VUmsslW_7ZV",
        "colab": {
          "base_uri": "https://localhost:8080/"
        },
        "outputId": "11b7da70-5c44-4519-eade-7578e7a1826e"
      },
      "source": [
        "# Nos quedamos con el titulo y el contenido de las noticias\n",
        "X = df_original['title'].fillna(' ') + ' ' + df_original['content'].fillna(' ')  \n",
        "X.shape"
      ],
      "execution_count": 7,
      "outputs": [
        {
          "output_type": "execute_result",
          "data": {
            "text/plain": [
              "(221513,)"
            ]
          },
          "metadata": {},
          "execution_count": 7
        }
      ]
    },
    {
      "cell_type": "code",
      "metadata": {
        "colab": {
          "base_uri": "https://localhost:8080/"
        },
        "id": "khFVRT_OwJRA",
        "outputId": "c3cdec5d-efba-4d18-a32d-0f395a18543b"
      },
      "source": [
        "import nltk\n",
        "from nltk.corpus import stopwords\n",
        "nltk.download('punkt')\n",
        "nltk.download('stopwords')\n",
        "stop_words=set(stopwords.words('english'))"
      ],
      "execution_count": 8,
      "outputs": [
        {
          "output_type": "stream",
          "name": "stdout",
          "text": [
            "[nltk_data] Downloading package punkt to /root/nltk_data...\n",
            "[nltk_data]   Package punkt is already up-to-date!\n",
            "[nltk_data] Downloading package stopwords to /root/nltk_data...\n",
            "[nltk_data]   Package stopwords is already up-to-date!\n"
          ]
        }
      ]
    },
    {
      "cell_type": "markdown",
      "metadata": {
        "id": "wQDWPPiFU0oX"
      },
      "source": [
        "Realizamos el preprocesamiento de las noticias."
      ]
    },
    {
      "cell_type": "code",
      "metadata": {
        "id": "zdhkKcMO-xQA"
      },
      "source": [
        "import string\n",
        "from nltk.tokenize import word_tokenize\n",
        "\n",
        "news_lines= list()\n",
        "lines=X.tolist()\n",
        "\n",
        "for line in lines:\n",
        "  tokens= word_tokenize(line)\n",
        "  #to lower case\n",
        "  tokens=[w.lower() for w in tokens]\n",
        "  # remove puntuaction from each word\n",
        "  table=str.maketrans('','',string.punctuation)\n",
        "  stripped= [w.translate(table) for w in tokens]\n",
        "  # remove remaining tokens that are not alphabetic\n",
        "  words=[word for word in stripped if word.isalpha()]\n",
        "  # filter out stop words\n",
        "  ###stop_words=set(stopwords.words('english'))\n",
        "  words=[w for w in words if not w in stop_words]\n",
        "  news_lines.append(words)"
      ],
      "execution_count": 9,
      "outputs": []
    },
    {
      "cell_type": "code",
      "metadata": {
        "colab": {
          "base_uri": "https://localhost:8080/"
        },
        "id": "LPAXxtZc-56Y",
        "outputId": "545892c2-84a5-4f10-8cc4-443f601b925c"
      },
      "source": [
        "len(news_lines)"
      ],
      "execution_count": 32,
      "outputs": [
        {
          "output_type": "execute_result",
          "data": {
            "text/plain": [
              "221513"
            ]
          },
          "metadata": {},
          "execution_count": 32
        }
      ]
    },
    {
      "cell_type": "code",
      "metadata": {
        "colab": {
          "base_uri": "https://localhost:8080/"
        },
        "id": "LwP5ElBwgsis",
        "outputId": "ac0899cb-a2fd-4e79-d17a-c8a6dc942e53"
      },
      "source": [
        "# Noticia con mayor cantidad de palabras.\n",
        "max=0\n",
        "for list in news_lines:\n",
        "  if len(list) > max:\n",
        "    max=len(list)\n",
        "print(max)"
      ],
      "execution_count": 14,
      "outputs": [
        {
          "output_type": "stream",
          "name": "stdout",
          "text": [
            "11536\n"
          ]
        }
      ]
    },
    {
      "cell_type": "markdown",
      "metadata": {
        "id": "XGi6sl1HSmck"
      },
      "source": [
        "Analizamos la frecuencias de las palabras"
      ]
    },
    {
      "cell_type": "code",
      "metadata": {
        "colab": {
          "base_uri": "https://localhost:8080/"
        },
        "id": "xgSpVhFBXQ4w",
        "outputId": "8517c02b-d228-47fb-8386-b1e99aa640af"
      },
      "source": [
        "from sklearn.feature_extraction.text import CountVectorizer\n",
        "def dummy(doc):\n",
        "    return doc\n",
        "\n",
        "vectorizer = CountVectorizer(\n",
        "        tokenizer=dummy,\n",
        "        preprocessor=dummy,\n",
        "    )\n",
        "\n",
        "vectorizer.fit(news_lines)"
      ],
      "execution_count": 33,
      "outputs": [
        {
          "output_type": "stream",
          "name": "stderr",
          "text": [
            "/usr/local/lib/python3.7/dist-packages/sklearn/feature_extraction/text.py:507: UserWarning: The parameter 'token_pattern' will not be used since 'tokenizer' is not None'\n",
            "  warnings.warn(\"The parameter 'token_pattern' will not be used\"\n"
          ]
        },
        {
          "output_type": "execute_result",
          "data": {
            "text/plain": [
              "CountVectorizer(analyzer='word', binary=False, decode_error='strict',\n",
              "                dtype=<class 'numpy.int64'>, encoding='utf-8', input='content',\n",
              "                lowercase=True, max_df=1.0, max_features=None, min_df=1,\n",
              "                ngram_range=(1, 1),\n",
              "                preprocessor=<function dummy at 0x7f8d99e82200>,\n",
              "                stop_words=None, strip_accents=None,\n",
              "                token_pattern='(?u)\\\\b\\\\w\\\\w+\\\\b',\n",
              "                tokenizer=<function dummy at 0x7f8d99e82200>, vocabulary=None)"
            ]
          },
          "metadata": {},
          "execution_count": 33
        }
      ]
    },
    {
      "cell_type": "code",
      "metadata": {
        "id": "CDT4kqhfc5nE"
      },
      "source": [
        "names = vectorizer.get_feature_names()"
      ],
      "execution_count": 34,
      "outputs": []
    },
    {
      "cell_type": "code",
      "metadata": {
        "colab": {
          "base_uri": "https://localhost:8080/"
        },
        "id": "8tYiLMZbgPuV",
        "outputId": "222836bc-8833-401d-be2c-fcc266aa94a1"
      },
      "source": [
        "len(names)"
      ],
      "execution_count": 35,
      "outputs": [
        {
          "output_type": "execute_result",
          "data": {
            "text/plain": [
              "261785"
            ]
          },
          "metadata": {},
          "execution_count": 35
        }
      ]
    },
    {
      "cell_type": "code",
      "metadata": {
        "id": "RL1vlYaGt3Sl"
      },
      "source": [
        "cv= vectorizer.transform(news_lines)"
      ],
      "execution_count": 36,
      "outputs": []
    },
    {
      "cell_type": "code",
      "metadata": {
        "colab": {
          "base_uri": "https://localhost:8080/"
        },
        "id": "SvxbQaQ_7xj_",
        "outputId": "0be91f00-db8c-456f-e2bc-ac6e9c1c74ac"
      },
      "source": [
        "cv.shape"
      ],
      "execution_count": 19,
      "outputs": [
        {
          "output_type": "execute_result",
          "data": {
            "text/plain": [
              "(221513, 261785)"
            ]
          },
          "metadata": {},
          "execution_count": 19
        }
      ]
    },
    {
      "cell_type": "code",
      "metadata": {
        "id": "h5NYIF4KcZuy"
      },
      "source": [
        "counts=((cv.sum(axis=0)))"
      ],
      "execution_count": 20,
      "outputs": []
    },
    {
      "cell_type": "code",
      "metadata": {
        "colab": {
          "base_uri": "https://localhost:8080/"
        },
        "id": "VJb739ta8FxK",
        "outputId": "bec71750-1ea8-4c83-b6d4-9ca17956a350"
      },
      "source": [
        "counts.shape"
      ],
      "execution_count": 22,
      "outputs": [
        {
          "output_type": "execute_result",
          "data": {
            "text/plain": [
              "(1, 261785)"
            ]
          },
          "metadata": {},
          "execution_count": 22
        }
      ]
    },
    {
      "cell_type": "code",
      "metadata": {
        "id": "43JJYZoGfNQ2"
      },
      "source": [
        "count_dict={}\n",
        "for i in range(len(names)-1):\n",
        "  count_dict[names[i]]=int(counts[0,i])"
      ],
      "execution_count": 27,
      "outputs": []
    },
    {
      "cell_type": "code",
      "metadata": {
        "colab": {
          "base_uri": "https://localhost:8080/"
        },
        "id": "3_DVhOu98iXd",
        "outputId": "67a66336-b2cc-4302-adab-188c45365b55"
      },
      "source": [
        "len(count_dict)"
      ],
      "execution_count": 63,
      "outputs": [
        {
          "output_type": "execute_result",
          "data": {
            "text/plain": [
              "261784"
            ]
          },
          "metadata": {},
          "execution_count": 63
        }
      ]
    },
    {
      "cell_type": "code",
      "metadata": {
        "id": "XI57TeJhdqMg"
      },
      "source": [
        "df_counts=pd.DataFrame.from_dict(count_dict,orient='index')"
      ],
      "execution_count": 29,
      "outputs": []
    },
    {
      "cell_type": "code",
      "metadata": {
        "colab": {
          "base_uri": "https://localhost:8080/",
          "height": 205
        },
        "id": "K8g74wya8dqA",
        "outputId": "9a1cf2de-5e3e-4f82-e63e-ea7361370260"
      },
      "source": [
        "df_counts.head()"
      ],
      "execution_count": 64,
      "outputs": [
        {
          "output_type": "execute_result",
          "data": {
            "text/html": [
              "<div>\n",
              "<style scoped>\n",
              "    .dataframe tbody tr th:only-of-type {\n",
              "        vertical-align: middle;\n",
              "    }\n",
              "\n",
              "    .dataframe tbody tr th {\n",
              "        vertical-align: top;\n",
              "    }\n",
              "\n",
              "    .dataframe thead th {\n",
              "        text-align: right;\n",
              "    }\n",
              "</style>\n",
              "<table border=\"1\" class=\"dataframe\">\n",
              "  <thead>\n",
              "    <tr style=\"text-align: right;\">\n",
              "      <th></th>\n",
              "      <th>0</th>\n",
              "    </tr>\n",
              "  </thead>\n",
              "  <tbody>\n",
              "    <tr>\n",
              "      <th>aa</th>\n",
              "      <td>1661</td>\n",
              "    </tr>\n",
              "    <tr>\n",
              "      <th>aaa</th>\n",
              "      <td>874</td>\n",
              "    </tr>\n",
              "    <tr>\n",
              "      <th>aaaa</th>\n",
              "      <td>1</td>\n",
              "    </tr>\n",
              "    <tr>\n",
              "      <th>aaaai</th>\n",
              "      <td>1</td>\n",
              "    </tr>\n",
              "    <tr>\n",
              "      <th>aaae</th>\n",
              "      <td>1</td>\n",
              "    </tr>\n",
              "  </tbody>\n",
              "</table>\n",
              "</div>"
            ],
            "text/plain": [
              "          0\n",
              "aa     1661\n",
              "aaa     874\n",
              "aaaa      1\n",
              "aaaai     1\n",
              "aaae      1"
            ]
          },
          "metadata": {},
          "execution_count": 64
        }
      ]
    },
    {
      "cell_type": "code",
      "metadata": {
        "colab": {
          "base_uri": "https://localhost:8080/"
        },
        "id": "wR005pDbh29q",
        "outputId": "57bbe5b9-35d3-41fe-f0c9-02db2769c9dc"
      },
      "source": [
        "(df_counts[0].sort_values(ascending=False)>5).sum()"
      ],
      "execution_count": 70,
      "outputs": [
        {
          "output_type": "execute_result",
          "data": {
            "text/plain": [
              "86769"
            ]
          },
          "metadata": {},
          "execution_count": 70
        }
      ]
    },
    {
      "cell_type": "markdown",
      "metadata": {
        "id": "g6PnQxy3Sx4z"
      },
      "source": [
        "Observando la frecuencia de palabras decidimos quedarnos con aquellas que posean al menos 5 registros para entrenar el embedding."
      ]
    },
    {
      "cell_type": "markdown",
      "metadata": {
        "id": "sQJwFZrC3fja"
      },
      "source": [
        "### Word2Vec\n"
      ]
    },
    {
      "cell_type": "code",
      "metadata": {
        "id": "T_WY486_y04t"
      },
      "source": [
        "# Decidimos que la dimension de los vectores sea 100\n",
        "EMBEDDING_DIM=100"
      ],
      "execution_count": 71,
      "outputs": []
    },
    {
      "cell_type": "code",
      "metadata": {
        "id": "5MGEq1yzw1Qa"
      },
      "source": [
        "import gensim\n",
        "\n",
        "#train word2vec model\n",
        "modelg=gensim.models.Word2Vec(sentences=news_lines,\n",
        "                              size=EMBEDDING_DIM,                          \n",
        "                              window=5, workers=4, min_count=5)"
      ],
      "execution_count": 72,
      "outputs": []
    },
    {
      "cell_type": "code",
      "metadata": {
        "id": "05GBzOrHlve9",
        "colab": {
          "base_uri": "https://localhost:8080/"
        },
        "outputId": "b7fe3805-05e6-4eac-924e-5cc7bb9e9db4"
      },
      "source": [
        "#vocab_size\n",
        "words=modelg.wv.vocab\n",
        "print('vocabulary size:%d' %len(words))"
      ],
      "execution_count": 75,
      "outputs": [
        {
          "output_type": "stream",
          "name": "stdout",
          "text": [
            "vocabulary size:94966\n"
          ]
        }
      ]
    },
    {
      "cell_type": "code",
      "metadata": {
        "id": "HCXrG_oWw_bP",
        "colab": {
          "base_uri": "https://localhost:8080/"
        },
        "outputId": "9b1b08e8-7f4a-43bd-a96a-135a617e4562"
      },
      "source": [
        "modelg.wv.most_similar('msft')"
      ],
      "execution_count": 85,
      "outputs": [
        {
          "output_type": "execute_result",
          "data": {
            "text/plain": [
              "[('microsoft', 0.8490878343582153),\n",
              " ('intc', 0.7448422908782959),\n",
              " ('googl', 0.6724490523338318),\n",
              " ('cmcsa', 0.6469652652740479),\n",
              " ('amzn', 0.6334707736968994),\n",
              " ('aapl', 0.6233265399932861),\n",
              " ('fb', 0.620248019695282),\n",
              " ('symc', 0.6192315816879272),\n",
              " ('sbux', 0.6154654026031494),\n",
              " ('csco', 0.6142740249633789)]"
            ]
          },
          "metadata": {},
          "execution_count": 85
        }
      ]
    },
    {
      "cell_type": "markdown",
      "metadata": {
        "id": "PEThvkbKT1M7"
      },
      "source": [
        "Guardamos los embeddings entrenados."
      ]
    },
    {
      "cell_type": "code",
      "metadata": {
        "id": "s_7PKm-K0VOs"
      },
      "source": [
        "# save model\n",
        "filename='Embedding_FinancialNews_word2vec.txt'\n",
        "modelg.wv.save_word2vec_format(filename,binary=False)"
      ],
      "execution_count": 78,
      "outputs": []
    },
    {
      "cell_type": "code",
      "metadata": {
        "id": "k06E5jakbg3v"
      },
      "source": [
        "# save model 2\n",
        "#filename='Embedding_FinancialNews_word2vec_format2.txt'\n",
        "#modelg.wv.save(filename)"
      ],
      "execution_count": 99,
      "outputs": []
    },
    {
      "cell_type": "code",
      "metadata": {
        "id": "RVOQQniMv2ih"
      },
      "source": [
        ""
      ],
      "execution_count": null,
      "outputs": []
    }
  ]
}