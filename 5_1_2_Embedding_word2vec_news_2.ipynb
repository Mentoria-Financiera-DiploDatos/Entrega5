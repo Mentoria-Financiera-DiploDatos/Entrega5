{
  "nbformat": 4,
  "nbformat_minor": 0,
  "metadata": {
    "colab": {
      "name": "5_1_2_Embedding_word2vec_news.ipynb",
      "provenance": [],
      "collapsed_sections": []
    },
    "kernelspec": {
      "name": "python3",
      "display_name": "Python 3"
    },
    "language_info": {
      "name": "python"
    }
  },
  "cells": [
    {
      "cell_type": "markdown",
      "metadata": {
        "id": "_0BmgE_CUX7a"
      },
      "source": [
        "## Embeddings, Proyeccion , TSNE"
      ]
    },
    {
      "cell_type": "code",
      "metadata": {
        "id": "cyj2dzjfhIjV"
      },
      "source": [
        "import pandas as pd\n",
        "import numpy as np\n",
        "import gensim\n",
        "pd.set_option('display.max_columns',100)\n",
        "pd.set_option('display.max_rows',1000)\n",
        "import itertools\n",
        "import warnings\n",
        "warnings.filterwarnings(\"ignore\")\n",
        "import io"
      ],
      "execution_count": 142,
      "outputs": []
    },
    {
      "cell_type": "code",
      "metadata": {
        "id": "Vne_tyIQ49wB",
        "colab": {
          "base_uri": "https://localhost:8080/"
        },
        "outputId": "a83f108a-4121-430f-eb4e-ddd5bd45321c"
      },
      "source": [
        "from google.colab import drive\n",
        "drive.mount('/content/drive')"
      ],
      "execution_count": 143,
      "outputs": [
        {
          "output_type": "stream",
          "name": "stdout",
          "text": [
            "Drive already mounted at /content/drive; to attempt to forcibly remount, call drive.mount(\"/content/drive\", force_remount=True).\n"
          ]
        }
      ]
    },
    {
      "cell_type": "markdown",
      "metadata": {
        "id": "UeG2lmC_UkbA"
      },
      "source": [
        "Cargamos los embeddings entrenados en la notebook anterior"
      ]
    },
    {
      "cell_type": "code",
      "metadata": {
        "id": "D8tyjHSe0XNV"
      },
      "source": [
        "#load model\n",
        "import os\n",
        "filename='/content/drive/MyDrive/Mentoria/Embedding_FinancialNews_word2vec.txt'\n",
        "\n",
        "\n",
        "embeddings_index={}\n",
        "f=open(os.path.join('',filename), encoding=\"utf-8\")\n",
        "for line in f:\n",
        "  values=line.split()\n",
        "  word=values[0]\n",
        "  coefs=np.asarray(values[1:])\n",
        "  embeddings_index[word]=coefs\n",
        "f.close()"
      ],
      "execution_count": 144,
      "outputs": []
    },
    {
      "cell_type": "code",
      "metadata": {
        "id": "34pa3ibkom06"
      },
      "source": [
        "embeddings = gensim.models.KeyedVectors.load_word2vec_format(filename, binary=False)"
      ],
      "execution_count": 145,
      "outputs": []
    },
    {
      "cell_type": "code",
      "metadata": {
        "colab": {
          "base_uri": "https://localhost:8080/"
        },
        "id": "oRpWdJRto2sr",
        "outputId": "ddcf81fc-ef69-4fc3-ddd1-9638f186a141"
      },
      "source": [
        "len(embeddings.vocab)"
      ],
      "execution_count": 146,
      "outputs": [
        {
          "output_type": "execute_result",
          "data": {
            "text/plain": [
              "94966"
            ]
          },
          "metadata": {},
          "execution_count": 146
        }
      ]
    },
    {
      "cell_type": "markdown",
      "metadata": {
        "id": "vaeXoOazSD9e"
      },
      "source": [
        "### Most Similar"
      ]
    },
    {
      "cell_type": "code",
      "metadata": {
        "colab": {
          "base_uri": "https://localhost:8080/"
        },
        "id": "72Jof4pSBESg",
        "outputId": "2468596a-17da-45bb-e730-ff761b93f305"
      },
      "source": [
        "embeddings.most_similar_cosmul('msft')"
      ],
      "execution_count": 147,
      "outputs": [
        {
          "output_type": "execute_result",
          "data": {
            "text/plain": [
              "[('microsoft', 0.924543023109436),\n",
              " ('intc', 0.8724203109741211),\n",
              " ('googl', 0.8362237811088562),\n",
              " ('cmcsa', 0.8234818577766418),\n",
              " ('amzn', 0.8167346119880676),\n",
              " ('aapl', 0.811662495136261),\n",
              " ('fb', 0.8101232647895813),\n",
              " ('symc', 0.8096150159835815),\n",
              " ('sbux', 0.8077319264411926),\n",
              " ('csco', 0.8071362376213074)]"
            ]
          },
          "metadata": {},
          "execution_count": 147
        }
      ]
    },
    {
      "cell_type": "code",
      "metadata": {
        "colab": {
          "base_uri": "https://localhost:8080/"
        },
        "id": "QZ4SZENHoJxo",
        "outputId": "f76dffd8-e173-45ae-997d-42f8acf8ce7a"
      },
      "source": [
        "embeddings.most_similar('amazon' )"
      ],
      "execution_count": 148,
      "outputs": [
        {
          "output_type": "execute_result",
          "data": {
            "text/plain": [
              "[('amzn', 0.7858572006225586),\n",
              " ('walmart', 0.6856096386909485),\n",
              " ('aws', 0.6330705881118774),\n",
              " ('google', 0.5992705225944519),\n",
              " ('souq', 0.5887264013290405),\n",
              " ('netflix', 0.5859094858169556),\n",
              " ('salesforce', 0.5797685384750366),\n",
              " ('jd', 0.5759837627410889),\n",
              " ('online', 0.5757834911346436),\n",
              " ('overstock', 0.5623939037322998)]"
            ]
          },
          "metadata": {},
          "execution_count": 148
        }
      ]
    },
    {
      "cell_type": "code",
      "metadata": {
        "colab": {
          "base_uri": "https://localhost:8080/"
        },
        "id": "TtbClAbOj5Zq",
        "outputId": "ff4a9758-9e42-49ff-b4b4-38845a89d179"
      },
      "source": [
        "embeddings.similar_by_vector(embeddings.get_vector('amzn')+embeddings.get_vector('amazon'))"
      ],
      "execution_count": 149,
      "outputs": [
        {
          "output_type": "execute_result",
          "data": {
            "text/plain": [
              "[('amzn', 0.951489269733429),\n",
              " ('amazon', 0.9380075931549072),\n",
              " ('walmart', 0.6383774280548096),\n",
              " ('googl', 0.6264796257019043),\n",
              " ('nflx', 0.6096340417861938),\n",
              " ('ebay', 0.5925592184066772),\n",
              " ('google', 0.5867770910263062),\n",
              " ('netflix', 0.5852630138397217),\n",
              " ('aws', 0.584559440612793),\n",
              " ('jd', 0.5729597806930542)]"
            ]
          },
          "metadata": {},
          "execution_count": 149
        }
      ]
    },
    {
      "cell_type": "markdown",
      "metadata": {
        "id": "LHO61cyPNV0i"
      },
      "source": [
        "## TSNE sobre tickers\n",
        "\n",
        "\n"
      ]
    },
    {
      "cell_type": "markdown",
      "metadata": {
        "id": "QJd3FMIkN0bs"
      },
      "source": [
        "Carga Dataframe News para extraer tickers"
      ]
    },
    {
      "cell_type": "code",
      "metadata": {
        "id": "elcrALD0N5xs"
      },
      "source": [
        "df_news= pd.read_csv('/content/drive/MyDrive/Mentoria/news_dataset.csv')"
      ],
      "execution_count": 150,
      "outputs": []
    },
    {
      "cell_type": "code",
      "metadata": {
        "colab": {
          "base_uri": "https://localhost:8080/"
        },
        "id": "H7Yx97ow5eYP",
        "outputId": "d353f35e-c3a2-4370-c4b4-b2fabcc886d1"
      },
      "source": [
        "df_news.info()"
      ],
      "execution_count": 151,
      "outputs": [
        {
          "output_type": "stream",
          "name": "stdout",
          "text": [
            "<class 'pandas.core.frame.DataFrame'>\n",
            "RangeIndex: 221513 entries, 0 to 221512\n",
            "Data columns (total 9 columns):\n",
            " #   Column        Non-Null Count   Dtype \n",
            "---  ------        --------------   ----- \n",
            " 0   id            221513 non-null  int64 \n",
            " 1   ticker        221513 non-null  object\n",
            " 2   title         221513 non-null  object\n",
            " 3   category      221513 non-null  object\n",
            " 4   content       221505 non-null  object\n",
            " 5   release_date  221513 non-null  object\n",
            " 6   provider      221513 non-null  object\n",
            " 7   url           221513 non-null  object\n",
            " 8   article_id    221513 non-null  int64 \n",
            "dtypes: int64(2), object(7)\n",
            "memory usage: 15.2+ MB\n"
          ]
        }
      ]
    },
    {
      "cell_type": "markdown",
      "metadata": {
        "id": "P5Ax-S-Y7bni"
      },
      "source": [
        "Seleccionar ticker con mas cantidad de registros\n"
      ]
    },
    {
      "cell_type": "code",
      "metadata": {
        "id": "C9kq0rzAOrLc"
      },
      "source": [
        "df_counts = pd.DataFrame(df_news.ticker.value_counts())"
      ],
      "execution_count": 152,
      "outputs": []
    },
    {
      "cell_type": "code",
      "metadata": {
        "id": "MxqdJ938PVVj"
      },
      "source": [
        "# Seleccion de tickers con mas de 100 registros\n",
        "ticker_list= list(df_counts[df_counts.ticker>100].index)"
      ],
      "execution_count": 154,
      "outputs": []
    },
    {
      "cell_type": "code",
      "metadata": {
        "colab": {
          "base_uri": "https://localhost:8080/"
        },
        "id": "7FssGULMaDhS",
        "outputId": "bd24d519-60c8-45fe-c75a-1d96c2764c8a"
      },
      "source": [
        "# Seleccion de tickers con mas de 800 registros\n",
        "ticker_top=list(df_counts[df_counts.ticker>800].index)\n",
        "# Lista 'top' tickers en minuscula\n",
        "ticker_top_low=[]\n",
        "for word in ticker_top:\n",
        "  ticker_top_low.append(word.lower())\n",
        "len(ticker_top)"
      ],
      "execution_count": 155,
      "outputs": [
        {
          "output_type": "execute_result",
          "data": {
            "text/plain": [
              "40"
            ]
          },
          "metadata": {},
          "execution_count": 155
        }
      ]
    },
    {
      "cell_type": "code",
      "metadata": {
        "colab": {
          "base_uri": "https://localhost:8080/"
        },
        "id": "1raibYTlOCKc",
        "outputId": "fd2af935-5974-4aed-bf55-2adda4eb6de8"
      },
      "source": [
        "# Lista tickers en minuscula\n",
        "ticker_list=set(ticker_list)\n",
        "ticker_low_list=[]\n",
        "for word in ticker_list:\n",
        "  ticker_low_list.append(word.lower())\n",
        "len(ticker_list)"
      ],
      "execution_count": 156,
      "outputs": [
        {
          "output_type": "execute_result",
          "data": {
            "text/plain": [
              "388"
            ]
          },
          "metadata": {},
          "execution_count": 156
        }
      ]
    },
    {
      "cell_type": "code",
      "metadata": {
        "colab": {
          "base_uri": "https://localhost:8080/"
        },
        "id": "_JFlgoFgQfEr",
        "outputId": "f307b471-256c-46a9-e4fd-2707ec3325d7"
      },
      "source": [
        "# Diccionario con vector de embeddings para los tickers seleccionados\n",
        "embeddings_tickers= {}\n",
        "count_no_encn=0\n",
        "count_encn=0\n",
        "for tick in ticker_low_list:\n",
        "  try:\n",
        "    embeddings_tickers[tick.upper()]=embeddings[tick]\n",
        "    count_encn+=1\n",
        "  except:\n",
        "    count_no_encn+=1  \n",
        "print(count_no_encn)\n",
        "print(count_encn)"
      ],
      "execution_count": 157,
      "outputs": [
        {
          "output_type": "stream",
          "name": "stdout",
          "text": [
            "10\n",
            "378\n"
          ]
        }
      ]
    },
    {
      "cell_type": "code",
      "metadata": {
        "colab": {
          "base_uri": "https://localhost:8080/",
          "height": 252
        },
        "id": "laxl30TPSYJZ",
        "outputId": "b92be7ab-ce06-4e9b-aa14-83c79d97bd13"
      },
      "source": [
        "# Dataframe con tickers y embeddings\n",
        "df_ticker= (pd.DataFrame(embeddings_tickers)).T.reset_index().rename(columns={'index':'tickers'})\n",
        "df_ticker.head()"
      ],
      "execution_count": 158,
      "outputs": [
        {
          "output_type": "execute_result",
          "data": {
            "text/html": [
              "<div>\n",
              "<style scoped>\n",
              "    .dataframe tbody tr th:only-of-type {\n",
              "        vertical-align: middle;\n",
              "    }\n",
              "\n",
              "    .dataframe tbody tr th {\n",
              "        vertical-align: top;\n",
              "    }\n",
              "\n",
              "    .dataframe thead th {\n",
              "        text-align: right;\n",
              "    }\n",
              "</style>\n",
              "<table border=\"1\" class=\"dataframe\">\n",
              "  <thead>\n",
              "    <tr style=\"text-align: right;\">\n",
              "      <th></th>\n",
              "      <th>tickers</th>\n",
              "      <th>0</th>\n",
              "      <th>1</th>\n",
              "      <th>2</th>\n",
              "      <th>3</th>\n",
              "      <th>4</th>\n",
              "      <th>5</th>\n",
              "      <th>6</th>\n",
              "      <th>7</th>\n",
              "      <th>8</th>\n",
              "      <th>9</th>\n",
              "      <th>10</th>\n",
              "      <th>11</th>\n",
              "      <th>12</th>\n",
              "      <th>13</th>\n",
              "      <th>14</th>\n",
              "      <th>15</th>\n",
              "      <th>16</th>\n",
              "      <th>17</th>\n",
              "      <th>18</th>\n",
              "      <th>19</th>\n",
              "      <th>20</th>\n",
              "      <th>21</th>\n",
              "      <th>22</th>\n",
              "      <th>23</th>\n",
              "      <th>24</th>\n",
              "      <th>25</th>\n",
              "      <th>26</th>\n",
              "      <th>27</th>\n",
              "      <th>28</th>\n",
              "      <th>29</th>\n",
              "      <th>30</th>\n",
              "      <th>31</th>\n",
              "      <th>32</th>\n",
              "      <th>33</th>\n",
              "      <th>34</th>\n",
              "      <th>35</th>\n",
              "      <th>36</th>\n",
              "      <th>37</th>\n",
              "      <th>38</th>\n",
              "      <th>39</th>\n",
              "      <th>40</th>\n",
              "      <th>41</th>\n",
              "      <th>42</th>\n",
              "      <th>43</th>\n",
              "      <th>44</th>\n",
              "      <th>45</th>\n",
              "      <th>46</th>\n",
              "      <th>47</th>\n",
              "      <th>48</th>\n",
              "      <th>...</th>\n",
              "      <th>50</th>\n",
              "      <th>51</th>\n",
              "      <th>52</th>\n",
              "      <th>53</th>\n",
              "      <th>54</th>\n",
              "      <th>55</th>\n",
              "      <th>56</th>\n",
              "      <th>57</th>\n",
              "      <th>58</th>\n",
              "      <th>59</th>\n",
              "      <th>60</th>\n",
              "      <th>61</th>\n",
              "      <th>62</th>\n",
              "      <th>63</th>\n",
              "      <th>64</th>\n",
              "      <th>65</th>\n",
              "      <th>66</th>\n",
              "      <th>67</th>\n",
              "      <th>68</th>\n",
              "      <th>69</th>\n",
              "      <th>70</th>\n",
              "      <th>71</th>\n",
              "      <th>72</th>\n",
              "      <th>73</th>\n",
              "      <th>74</th>\n",
              "      <th>75</th>\n",
              "      <th>76</th>\n",
              "      <th>77</th>\n",
              "      <th>78</th>\n",
              "      <th>79</th>\n",
              "      <th>80</th>\n",
              "      <th>81</th>\n",
              "      <th>82</th>\n",
              "      <th>83</th>\n",
              "      <th>84</th>\n",
              "      <th>85</th>\n",
              "      <th>86</th>\n",
              "      <th>87</th>\n",
              "      <th>88</th>\n",
              "      <th>89</th>\n",
              "      <th>90</th>\n",
              "      <th>91</th>\n",
              "      <th>92</th>\n",
              "      <th>93</th>\n",
              "      <th>94</th>\n",
              "      <th>95</th>\n",
              "      <th>96</th>\n",
              "      <th>97</th>\n",
              "      <th>98</th>\n",
              "      <th>99</th>\n",
              "    </tr>\n",
              "  </thead>\n",
              "  <tbody>\n",
              "    <tr>\n",
              "      <th>0</th>\n",
              "      <td>SPGI</td>\n",
              "      <td>0.584564</td>\n",
              "      <td>2.216319</td>\n",
              "      <td>1.935004</td>\n",
              "      <td>2.015835</td>\n",
              "      <td>2.368881</td>\n",
              "      <td>1.732645</td>\n",
              "      <td>1.780420</td>\n",
              "      <td>-0.967393</td>\n",
              "      <td>-1.536189</td>\n",
              "      <td>-1.320857</td>\n",
              "      <td>-4.832930</td>\n",
              "      <td>0.718732</td>\n",
              "      <td>-1.224573</td>\n",
              "      <td>-2.717190</td>\n",
              "      <td>1.298834</td>\n",
              "      <td>0.869890</td>\n",
              "      <td>-2.762770</td>\n",
              "      <td>-1.240653</td>\n",
              "      <td>-0.645811</td>\n",
              "      <td>0.993639</td>\n",
              "      <td>-1.231071</td>\n",
              "      <td>-1.405677</td>\n",
              "      <td>2.234833</td>\n",
              "      <td>1.516477</td>\n",
              "      <td>0.872348</td>\n",
              "      <td>-2.004479</td>\n",
              "      <td>1.244900</td>\n",
              "      <td>1.158597</td>\n",
              "      <td>0.289334</td>\n",
              "      <td>0.354488</td>\n",
              "      <td>1.198745</td>\n",
              "      <td>2.125031</td>\n",
              "      <td>1.043576</td>\n",
              "      <td>-0.796886</td>\n",
              "      <td>0.403814</td>\n",
              "      <td>0.994817</td>\n",
              "      <td>-0.949282</td>\n",
              "      <td>-2.968786</td>\n",
              "      <td>-1.378741</td>\n",
              "      <td>-0.574627</td>\n",
              "      <td>-1.912701</td>\n",
              "      <td>3.636627</td>\n",
              "      <td>2.341389</td>\n",
              "      <td>-1.003874</td>\n",
              "      <td>1.629686</td>\n",
              "      <td>-3.092700</td>\n",
              "      <td>-0.730019</td>\n",
              "      <td>-0.534505</td>\n",
              "      <td>1.480113</td>\n",
              "      <td>...</td>\n",
              "      <td>1.830995</td>\n",
              "      <td>-3.118619</td>\n",
              "      <td>0.062808</td>\n",
              "      <td>2.648552</td>\n",
              "      <td>-1.610808</td>\n",
              "      <td>4.293792</td>\n",
              "      <td>1.636358</td>\n",
              "      <td>-0.533970</td>\n",
              "      <td>-1.829359</td>\n",
              "      <td>0.868063</td>\n",
              "      <td>-3.431865</td>\n",
              "      <td>-0.156054</td>\n",
              "      <td>0.771195</td>\n",
              "      <td>1.109036</td>\n",
              "      <td>1.128320</td>\n",
              "      <td>-1.111910</td>\n",
              "      <td>-0.329911</td>\n",
              "      <td>0.085003</td>\n",
              "      <td>-1.163452</td>\n",
              "      <td>-1.074318</td>\n",
              "      <td>-1.312150</td>\n",
              "      <td>1.879428</td>\n",
              "      <td>3.196213</td>\n",
              "      <td>-3.716517</td>\n",
              "      <td>0.666764</td>\n",
              "      <td>-2.053659</td>\n",
              "      <td>-0.645031</td>\n",
              "      <td>1.246101</td>\n",
              "      <td>0.559775</td>\n",
              "      <td>-0.524007</td>\n",
              "      <td>0.991830</td>\n",
              "      <td>-0.619562</td>\n",
              "      <td>-2.440879</td>\n",
              "      <td>-5.236860</td>\n",
              "      <td>-5.136682</td>\n",
              "      <td>1.397233</td>\n",
              "      <td>1.067374</td>\n",
              "      <td>-0.994883</td>\n",
              "      <td>0.502498</td>\n",
              "      <td>-1.046842</td>\n",
              "      <td>-1.771040</td>\n",
              "      <td>-2.902447</td>\n",
              "      <td>-1.832420</td>\n",
              "      <td>-2.125515</td>\n",
              "      <td>1.426445</td>\n",
              "      <td>2.651506</td>\n",
              "      <td>0.517839</td>\n",
              "      <td>0.757128</td>\n",
              "      <td>2.551112</td>\n",
              "      <td>2.312111</td>\n",
              "    </tr>\n",
              "    <tr>\n",
              "      <th>1</th>\n",
              "      <td>TSLA</td>\n",
              "      <td>-2.279429</td>\n",
              "      <td>2.454614</td>\n",
              "      <td>-0.762606</td>\n",
              "      <td>2.240674</td>\n",
              "      <td>-0.816147</td>\n",
              "      <td>-0.375941</td>\n",
              "      <td>-0.886259</td>\n",
              "      <td>0.857278</td>\n",
              "      <td>-1.355634</td>\n",
              "      <td>-1.364968</td>\n",
              "      <td>-2.549090</td>\n",
              "      <td>-3.779485</td>\n",
              "      <td>0.240093</td>\n",
              "      <td>3.138210</td>\n",
              "      <td>1.372476</td>\n",
              "      <td>3.989936</td>\n",
              "      <td>0.238906</td>\n",
              "      <td>-2.081098</td>\n",
              "      <td>1.168638</td>\n",
              "      <td>-0.118580</td>\n",
              "      <td>2.381252</td>\n",
              "      <td>3.439993</td>\n",
              "      <td>3.739950</td>\n",
              "      <td>-2.855067</td>\n",
              "      <td>-0.741166</td>\n",
              "      <td>1.378477</td>\n",
              "      <td>0.901401</td>\n",
              "      <td>3.410915</td>\n",
              "      <td>-1.674394</td>\n",
              "      <td>-1.819856</td>\n",
              "      <td>1.124463</td>\n",
              "      <td>-3.328674</td>\n",
              "      <td>-1.807618</td>\n",
              "      <td>-3.831665</td>\n",
              "      <td>-0.162033</td>\n",
              "      <td>0.270124</td>\n",
              "      <td>-3.412543</td>\n",
              "      <td>4.953801</td>\n",
              "      <td>2.653123</td>\n",
              "      <td>-3.910193</td>\n",
              "      <td>-2.848558</td>\n",
              "      <td>-1.741503</td>\n",
              "      <td>3.139614</td>\n",
              "      <td>0.295667</td>\n",
              "      <td>0.847659</td>\n",
              "      <td>2.499944</td>\n",
              "      <td>-0.634010</td>\n",
              "      <td>0.988983</td>\n",
              "      <td>-1.992059</td>\n",
              "      <td>...</td>\n",
              "      <td>0.102597</td>\n",
              "      <td>3.249620</td>\n",
              "      <td>-0.383961</td>\n",
              "      <td>-0.519367</td>\n",
              "      <td>-1.043071</td>\n",
              "      <td>1.642625</td>\n",
              "      <td>1.006046</td>\n",
              "      <td>3.031872</td>\n",
              "      <td>-0.549446</td>\n",
              "      <td>-2.651946</td>\n",
              "      <td>-1.046821</td>\n",
              "      <td>0.864738</td>\n",
              "      <td>2.045406</td>\n",
              "      <td>0.299244</td>\n",
              "      <td>0.531395</td>\n",
              "      <td>-3.080444</td>\n",
              "      <td>-2.767721</td>\n",
              "      <td>-5.715636</td>\n",
              "      <td>-1.228449</td>\n",
              "      <td>0.463025</td>\n",
              "      <td>0.007146</td>\n",
              "      <td>-0.970956</td>\n",
              "      <td>-2.660038</td>\n",
              "      <td>4.442138</td>\n",
              "      <td>-0.873324</td>\n",
              "      <td>1.712502</td>\n",
              "      <td>-0.406247</td>\n",
              "      <td>2.717485</td>\n",
              "      <td>3.146441</td>\n",
              "      <td>1.102844</td>\n",
              "      <td>-2.202104</td>\n",
              "      <td>-2.516624</td>\n",
              "      <td>-0.038036</td>\n",
              "      <td>3.411603</td>\n",
              "      <td>-6.468085</td>\n",
              "      <td>2.748619</td>\n",
              "      <td>-1.591375</td>\n",
              "      <td>3.955458</td>\n",
              "      <td>0.775882</td>\n",
              "      <td>-3.501123</td>\n",
              "      <td>0.282825</td>\n",
              "      <td>-2.145495</td>\n",
              "      <td>2.123845</td>\n",
              "      <td>2.716302</td>\n",
              "      <td>2.679642</td>\n",
              "      <td>-1.774279</td>\n",
              "      <td>-0.410677</td>\n",
              "      <td>1.523367</td>\n",
              "      <td>-0.851353</td>\n",
              "      <td>0.775123</td>\n",
              "    </tr>\n",
              "    <tr>\n",
              "      <th>2</th>\n",
              "      <td>SPG</td>\n",
              "      <td>-0.905369</td>\n",
              "      <td>-0.308989</td>\n",
              "      <td>-1.208857</td>\n",
              "      <td>1.822976</td>\n",
              "      <td>0.435876</td>\n",
              "      <td>-1.074843</td>\n",
              "      <td>0.952685</td>\n",
              "      <td>-0.430258</td>\n",
              "      <td>-0.251471</td>\n",
              "      <td>-0.128218</td>\n",
              "      <td>-2.641558</td>\n",
              "      <td>1.212651</td>\n",
              "      <td>-0.183659</td>\n",
              "      <td>-1.754364</td>\n",
              "      <td>0.325166</td>\n",
              "      <td>1.316231</td>\n",
              "      <td>-0.745590</td>\n",
              "      <td>-0.165524</td>\n",
              "      <td>1.302487</td>\n",
              "      <td>-0.736708</td>\n",
              "      <td>0.814732</td>\n",
              "      <td>1.250324</td>\n",
              "      <td>0.060671</td>\n",
              "      <td>0.817414</td>\n",
              "      <td>-0.065847</td>\n",
              "      <td>1.028323</td>\n",
              "      <td>1.166379</td>\n",
              "      <td>2.080573</td>\n",
              "      <td>2.088042</td>\n",
              "      <td>0.133783</td>\n",
              "      <td>0.185683</td>\n",
              "      <td>0.506981</td>\n",
              "      <td>0.124357</td>\n",
              "      <td>0.396960</td>\n",
              "      <td>0.621757</td>\n",
              "      <td>-0.271907</td>\n",
              "      <td>0.496050</td>\n",
              "      <td>0.457276</td>\n",
              "      <td>2.233980</td>\n",
              "      <td>0.192430</td>\n",
              "      <td>0.285843</td>\n",
              "      <td>1.741282</td>\n",
              "      <td>-1.572048</td>\n",
              "      <td>-1.324564</td>\n",
              "      <td>-1.316493</td>\n",
              "      <td>0.009102</td>\n",
              "      <td>0.950724</td>\n",
              "      <td>1.652520</td>\n",
              "      <td>-1.571607</td>\n",
              "      <td>...</td>\n",
              "      <td>0.617790</td>\n",
              "      <td>-1.869228</td>\n",
              "      <td>-0.706727</td>\n",
              "      <td>-2.142147</td>\n",
              "      <td>0.884665</td>\n",
              "      <td>1.811015</td>\n",
              "      <td>1.926556</td>\n",
              "      <td>-0.613805</td>\n",
              "      <td>-3.246145</td>\n",
              "      <td>0.763917</td>\n",
              "      <td>-0.594039</td>\n",
              "      <td>1.060399</td>\n",
              "      <td>0.023558</td>\n",
              "      <td>0.225716</td>\n",
              "      <td>0.237846</td>\n",
              "      <td>-1.392041</td>\n",
              "      <td>-0.151585</td>\n",
              "      <td>-0.349129</td>\n",
              "      <td>0.396069</td>\n",
              "      <td>-0.373570</td>\n",
              "      <td>0.061017</td>\n",
              "      <td>-1.363445</td>\n",
              "      <td>-0.629769</td>\n",
              "      <td>-1.031694</td>\n",
              "      <td>1.077862</td>\n",
              "      <td>-1.542661</td>\n",
              "      <td>-0.753573</td>\n",
              "      <td>-0.434082</td>\n",
              "      <td>2.272252</td>\n",
              "      <td>-0.157143</td>\n",
              "      <td>-0.458252</td>\n",
              "      <td>0.728254</td>\n",
              "      <td>0.027548</td>\n",
              "      <td>-0.994019</td>\n",
              "      <td>-0.951395</td>\n",
              "      <td>1.764622</td>\n",
              "      <td>0.075112</td>\n",
              "      <td>0.845785</td>\n",
              "      <td>0.164905</td>\n",
              "      <td>-0.287887</td>\n",
              "      <td>-0.895544</td>\n",
              "      <td>0.613934</td>\n",
              "      <td>-0.628555</td>\n",
              "      <td>-2.496558</td>\n",
              "      <td>0.453206</td>\n",
              "      <td>-0.411603</td>\n",
              "      <td>0.209080</td>\n",
              "      <td>-1.190446</td>\n",
              "      <td>0.734186</td>\n",
              "      <td>-0.179891</td>\n",
              "    </tr>\n",
              "    <tr>\n",
              "      <th>3</th>\n",
              "      <td>XOM</td>\n",
              "      <td>0.406196</td>\n",
              "      <td>0.956807</td>\n",
              "      <td>4.362878</td>\n",
              "      <td>0.584403</td>\n",
              "      <td>0.590328</td>\n",
              "      <td>3.956650</td>\n",
              "      <td>0.525300</td>\n",
              "      <td>-1.685973</td>\n",
              "      <td>-3.690191</td>\n",
              "      <td>-1.152242</td>\n",
              "      <td>-3.267302</td>\n",
              "      <td>-2.122980</td>\n",
              "      <td>-1.278666</td>\n",
              "      <td>-1.093485</td>\n",
              "      <td>-1.758201</td>\n",
              "      <td>-1.992385</td>\n",
              "      <td>-2.164546</td>\n",
              "      <td>-2.273633</td>\n",
              "      <td>-1.359788</td>\n",
              "      <td>-1.497359</td>\n",
              "      <td>-1.231175</td>\n",
              "      <td>-0.776456</td>\n",
              "      <td>1.067042</td>\n",
              "      <td>0.971891</td>\n",
              "      <td>-0.622447</td>\n",
              "      <td>1.750792</td>\n",
              "      <td>-1.001954</td>\n",
              "      <td>3.574520</td>\n",
              "      <td>2.363664</td>\n",
              "      <td>-1.628032</td>\n",
              "      <td>-0.255936</td>\n",
              "      <td>0.883406</td>\n",
              "      <td>-2.590944</td>\n",
              "      <td>-3.325303</td>\n",
              "      <td>-0.244374</td>\n",
              "      <td>2.096876</td>\n",
              "      <td>2.216268</td>\n",
              "      <td>-1.724949</td>\n",
              "      <td>2.234206</td>\n",
              "      <td>-1.141690</td>\n",
              "      <td>-0.101727</td>\n",
              "      <td>3.873194</td>\n",
              "      <td>0.312559</td>\n",
              "      <td>2.478765</td>\n",
              "      <td>-0.599572</td>\n",
              "      <td>-2.062701</td>\n",
              "      <td>-2.280360</td>\n",
              "      <td>-2.022339</td>\n",
              "      <td>3.856195</td>\n",
              "      <td>...</td>\n",
              "      <td>-1.070247</td>\n",
              "      <td>-1.625412</td>\n",
              "      <td>-0.342858</td>\n",
              "      <td>-0.870991</td>\n",
              "      <td>-2.120183</td>\n",
              "      <td>1.010084</td>\n",
              "      <td>1.106946</td>\n",
              "      <td>-1.027689</td>\n",
              "      <td>-1.788003</td>\n",
              "      <td>-2.209626</td>\n",
              "      <td>0.226617</td>\n",
              "      <td>2.032626</td>\n",
              "      <td>1.577073</td>\n",
              "      <td>3.042961</td>\n",
              "      <td>0.846853</td>\n",
              "      <td>-0.921574</td>\n",
              "      <td>0.448396</td>\n",
              "      <td>-2.143201</td>\n",
              "      <td>-1.006290</td>\n",
              "      <td>-0.664726</td>\n",
              "      <td>2.772041</td>\n",
              "      <td>-0.046761</td>\n",
              "      <td>-0.089515</td>\n",
              "      <td>-0.724452</td>\n",
              "      <td>0.151583</td>\n",
              "      <td>-1.334546</td>\n",
              "      <td>1.758008</td>\n",
              "      <td>1.369570</td>\n",
              "      <td>3.163034</td>\n",
              "      <td>-0.823771</td>\n",
              "      <td>-1.201611</td>\n",
              "      <td>-3.098417</td>\n",
              "      <td>-3.038254</td>\n",
              "      <td>-1.697123</td>\n",
              "      <td>-1.572509</td>\n",
              "      <td>-1.472972</td>\n",
              "      <td>0.384895</td>\n",
              "      <td>-1.581620</td>\n",
              "      <td>2.376643</td>\n",
              "      <td>3.472495</td>\n",
              "      <td>1.051518</td>\n",
              "      <td>-1.488125</td>\n",
              "      <td>0.211130</td>\n",
              "      <td>-2.372892</td>\n",
              "      <td>1.410990</td>\n",
              "      <td>2.356109</td>\n",
              "      <td>-1.102087</td>\n",
              "      <td>-3.344417</td>\n",
              "      <td>-0.195823</td>\n",
              "      <td>-1.609385</td>\n",
              "    </tr>\n",
              "    <tr>\n",
              "      <th>4</th>\n",
              "      <td>AGN</td>\n",
              "      <td>-0.543017</td>\n",
              "      <td>1.381144</td>\n",
              "      <td>1.262614</td>\n",
              "      <td>0.715123</td>\n",
              "      <td>-0.264861</td>\n",
              "      <td>1.290325</td>\n",
              "      <td>1.975873</td>\n",
              "      <td>0.661182</td>\n",
              "      <td>-2.115392</td>\n",
              "      <td>-2.163345</td>\n",
              "      <td>-1.606874</td>\n",
              "      <td>0.194119</td>\n",
              "      <td>0.362644</td>\n",
              "      <td>-1.785662</td>\n",
              "      <td>-0.869627</td>\n",
              "      <td>0.367253</td>\n",
              "      <td>-3.185323</td>\n",
              "      <td>-0.605936</td>\n",
              "      <td>-1.664022</td>\n",
              "      <td>-1.620058</td>\n",
              "      <td>2.757838</td>\n",
              "      <td>-1.809263</td>\n",
              "      <td>1.992178</td>\n",
              "      <td>4.714747</td>\n",
              "      <td>-2.849300</td>\n",
              "      <td>1.754489</td>\n",
              "      <td>-0.446464</td>\n",
              "      <td>0.294545</td>\n",
              "      <td>0.473407</td>\n",
              "      <td>-3.031806</td>\n",
              "      <td>-0.328001</td>\n",
              "      <td>1.835402</td>\n",
              "      <td>-2.627015</td>\n",
              "      <td>-3.411539</td>\n",
              "      <td>2.427627</td>\n",
              "      <td>-1.253685</td>\n",
              "      <td>3.717214</td>\n",
              "      <td>1.236849</td>\n",
              "      <td>0.386002</td>\n",
              "      <td>-1.499237</td>\n",
              "      <td>-1.922083</td>\n",
              "      <td>2.357371</td>\n",
              "      <td>0.468699</td>\n",
              "      <td>1.169712</td>\n",
              "      <td>1.398124</td>\n",
              "      <td>-1.246552</td>\n",
              "      <td>3.218529</td>\n",
              "      <td>-1.020320</td>\n",
              "      <td>0.468594</td>\n",
              "      <td>...</td>\n",
              "      <td>0.092994</td>\n",
              "      <td>-0.264507</td>\n",
              "      <td>1.699630</td>\n",
              "      <td>0.057480</td>\n",
              "      <td>-4.720330</td>\n",
              "      <td>2.299277</td>\n",
              "      <td>2.049339</td>\n",
              "      <td>-3.214644</td>\n",
              "      <td>-1.289949</td>\n",
              "      <td>-3.908444</td>\n",
              "      <td>1.287353</td>\n",
              "      <td>2.237411</td>\n",
              "      <td>0.597709</td>\n",
              "      <td>3.287470</td>\n",
              "      <td>1.769610</td>\n",
              "      <td>-3.772229</td>\n",
              "      <td>-1.660268</td>\n",
              "      <td>-0.088326</td>\n",
              "      <td>-1.402821</td>\n",
              "      <td>2.906605</td>\n",
              "      <td>0.114356</td>\n",
              "      <td>0.266261</td>\n",
              "      <td>0.041356</td>\n",
              "      <td>-1.619242</td>\n",
              "      <td>-0.651772</td>\n",
              "      <td>0.370407</td>\n",
              "      <td>1.012739</td>\n",
              "      <td>-0.467196</td>\n",
              "      <td>0.444236</td>\n",
              "      <td>0.251230</td>\n",
              "      <td>0.414907</td>\n",
              "      <td>1.563577</td>\n",
              "      <td>-1.142417</td>\n",
              "      <td>-1.086293</td>\n",
              "      <td>-2.349078</td>\n",
              "      <td>0.562112</td>\n",
              "      <td>-1.545248</td>\n",
              "      <td>-1.424732</td>\n",
              "      <td>0.721239</td>\n",
              "      <td>1.819792</td>\n",
              "      <td>-2.429657</td>\n",
              "      <td>-1.523415</td>\n",
              "      <td>-0.617741</td>\n",
              "      <td>-3.399148</td>\n",
              "      <td>1.308806</td>\n",
              "      <td>0.451686</td>\n",
              "      <td>2.456748</td>\n",
              "      <td>-0.432998</td>\n",
              "      <td>0.357868</td>\n",
              "      <td>0.880303</td>\n",
              "    </tr>\n",
              "  </tbody>\n",
              "</table>\n",
              "<p>5 rows × 101 columns</p>\n",
              "</div>"
            ],
            "text/plain": [
              "  tickers         0         1         2         3         4         5  \\\n",
              "0    SPGI  0.584564  2.216319  1.935004  2.015835  2.368881  1.732645   \n",
              "1    TSLA -2.279429  2.454614 -0.762606  2.240674 -0.816147 -0.375941   \n",
              "2     SPG -0.905369 -0.308989 -1.208857  1.822976  0.435876 -1.074843   \n",
              "3     XOM  0.406196  0.956807  4.362878  0.584403  0.590328  3.956650   \n",
              "4     AGN -0.543017  1.381144  1.262614  0.715123 -0.264861  1.290325   \n",
              "\n",
              "          6         7         8         9        10        11        12  \\\n",
              "0  1.780420 -0.967393 -1.536189 -1.320857 -4.832930  0.718732 -1.224573   \n",
              "1 -0.886259  0.857278 -1.355634 -1.364968 -2.549090 -3.779485  0.240093   \n",
              "2  0.952685 -0.430258 -0.251471 -0.128218 -2.641558  1.212651 -0.183659   \n",
              "3  0.525300 -1.685973 -3.690191 -1.152242 -3.267302 -2.122980 -1.278666   \n",
              "4  1.975873  0.661182 -2.115392 -2.163345 -1.606874  0.194119  0.362644   \n",
              "\n",
              "         13        14        15        16        17        18        19  \\\n",
              "0 -2.717190  1.298834  0.869890 -2.762770 -1.240653 -0.645811  0.993639   \n",
              "1  3.138210  1.372476  3.989936  0.238906 -2.081098  1.168638 -0.118580   \n",
              "2 -1.754364  0.325166  1.316231 -0.745590 -0.165524  1.302487 -0.736708   \n",
              "3 -1.093485 -1.758201 -1.992385 -2.164546 -2.273633 -1.359788 -1.497359   \n",
              "4 -1.785662 -0.869627  0.367253 -3.185323 -0.605936 -1.664022 -1.620058   \n",
              "\n",
              "         20        21        22        23        24        25        26  \\\n",
              "0 -1.231071 -1.405677  2.234833  1.516477  0.872348 -2.004479  1.244900   \n",
              "1  2.381252  3.439993  3.739950 -2.855067 -0.741166  1.378477  0.901401   \n",
              "2  0.814732  1.250324  0.060671  0.817414 -0.065847  1.028323  1.166379   \n",
              "3 -1.231175 -0.776456  1.067042  0.971891 -0.622447  1.750792 -1.001954   \n",
              "4  2.757838 -1.809263  1.992178  4.714747 -2.849300  1.754489 -0.446464   \n",
              "\n",
              "         27        28        29        30        31        32        33  \\\n",
              "0  1.158597  0.289334  0.354488  1.198745  2.125031  1.043576 -0.796886   \n",
              "1  3.410915 -1.674394 -1.819856  1.124463 -3.328674 -1.807618 -3.831665   \n",
              "2  2.080573  2.088042  0.133783  0.185683  0.506981  0.124357  0.396960   \n",
              "3  3.574520  2.363664 -1.628032 -0.255936  0.883406 -2.590944 -3.325303   \n",
              "4  0.294545  0.473407 -3.031806 -0.328001  1.835402 -2.627015 -3.411539   \n",
              "\n",
              "         34        35        36        37        38        39        40  \\\n",
              "0  0.403814  0.994817 -0.949282 -2.968786 -1.378741 -0.574627 -1.912701   \n",
              "1 -0.162033  0.270124 -3.412543  4.953801  2.653123 -3.910193 -2.848558   \n",
              "2  0.621757 -0.271907  0.496050  0.457276  2.233980  0.192430  0.285843   \n",
              "3 -0.244374  2.096876  2.216268 -1.724949  2.234206 -1.141690 -0.101727   \n",
              "4  2.427627 -1.253685  3.717214  1.236849  0.386002 -1.499237 -1.922083   \n",
              "\n",
              "         41        42        43        44        45        46        47  \\\n",
              "0  3.636627  2.341389 -1.003874  1.629686 -3.092700 -0.730019 -0.534505   \n",
              "1 -1.741503  3.139614  0.295667  0.847659  2.499944 -0.634010  0.988983   \n",
              "2  1.741282 -1.572048 -1.324564 -1.316493  0.009102  0.950724  1.652520   \n",
              "3  3.873194  0.312559  2.478765 -0.599572 -2.062701 -2.280360 -2.022339   \n",
              "4  2.357371  0.468699  1.169712  1.398124 -1.246552  3.218529 -1.020320   \n",
              "\n",
              "         48  ...        50        51        52        53        54        55  \\\n",
              "0  1.480113  ...  1.830995 -3.118619  0.062808  2.648552 -1.610808  4.293792   \n",
              "1 -1.992059  ...  0.102597  3.249620 -0.383961 -0.519367 -1.043071  1.642625   \n",
              "2 -1.571607  ...  0.617790 -1.869228 -0.706727 -2.142147  0.884665  1.811015   \n",
              "3  3.856195  ... -1.070247 -1.625412 -0.342858 -0.870991 -2.120183  1.010084   \n",
              "4  0.468594  ...  0.092994 -0.264507  1.699630  0.057480 -4.720330  2.299277   \n",
              "\n",
              "         56        57        58        59        60        61        62  \\\n",
              "0  1.636358 -0.533970 -1.829359  0.868063 -3.431865 -0.156054  0.771195   \n",
              "1  1.006046  3.031872 -0.549446 -2.651946 -1.046821  0.864738  2.045406   \n",
              "2  1.926556 -0.613805 -3.246145  0.763917 -0.594039  1.060399  0.023558   \n",
              "3  1.106946 -1.027689 -1.788003 -2.209626  0.226617  2.032626  1.577073   \n",
              "4  2.049339 -3.214644 -1.289949 -3.908444  1.287353  2.237411  0.597709   \n",
              "\n",
              "         63        64        65        66        67        68        69  \\\n",
              "0  1.109036  1.128320 -1.111910 -0.329911  0.085003 -1.163452 -1.074318   \n",
              "1  0.299244  0.531395 -3.080444 -2.767721 -5.715636 -1.228449  0.463025   \n",
              "2  0.225716  0.237846 -1.392041 -0.151585 -0.349129  0.396069 -0.373570   \n",
              "3  3.042961  0.846853 -0.921574  0.448396 -2.143201 -1.006290 -0.664726   \n",
              "4  3.287470  1.769610 -3.772229 -1.660268 -0.088326 -1.402821  2.906605   \n",
              "\n",
              "         70        71        72        73        74        75        76  \\\n",
              "0 -1.312150  1.879428  3.196213 -3.716517  0.666764 -2.053659 -0.645031   \n",
              "1  0.007146 -0.970956 -2.660038  4.442138 -0.873324  1.712502 -0.406247   \n",
              "2  0.061017 -1.363445 -0.629769 -1.031694  1.077862 -1.542661 -0.753573   \n",
              "3  2.772041 -0.046761 -0.089515 -0.724452  0.151583 -1.334546  1.758008   \n",
              "4  0.114356  0.266261  0.041356 -1.619242 -0.651772  0.370407  1.012739   \n",
              "\n",
              "         77        78        79        80        81        82        83  \\\n",
              "0  1.246101  0.559775 -0.524007  0.991830 -0.619562 -2.440879 -5.236860   \n",
              "1  2.717485  3.146441  1.102844 -2.202104 -2.516624 -0.038036  3.411603   \n",
              "2 -0.434082  2.272252 -0.157143 -0.458252  0.728254  0.027548 -0.994019   \n",
              "3  1.369570  3.163034 -0.823771 -1.201611 -3.098417 -3.038254 -1.697123   \n",
              "4 -0.467196  0.444236  0.251230  0.414907  1.563577 -1.142417 -1.086293   \n",
              "\n",
              "         84        85        86        87        88        89        90  \\\n",
              "0 -5.136682  1.397233  1.067374 -0.994883  0.502498 -1.046842 -1.771040   \n",
              "1 -6.468085  2.748619 -1.591375  3.955458  0.775882 -3.501123  0.282825   \n",
              "2 -0.951395  1.764622  0.075112  0.845785  0.164905 -0.287887 -0.895544   \n",
              "3 -1.572509 -1.472972  0.384895 -1.581620  2.376643  3.472495  1.051518   \n",
              "4 -2.349078  0.562112 -1.545248 -1.424732  0.721239  1.819792 -2.429657   \n",
              "\n",
              "         91        92        93        94        95        96        97  \\\n",
              "0 -2.902447 -1.832420 -2.125515  1.426445  2.651506  0.517839  0.757128   \n",
              "1 -2.145495  2.123845  2.716302  2.679642 -1.774279 -0.410677  1.523367   \n",
              "2  0.613934 -0.628555 -2.496558  0.453206 -0.411603  0.209080 -1.190446   \n",
              "3 -1.488125  0.211130 -2.372892  1.410990  2.356109 -1.102087 -3.344417   \n",
              "4 -1.523415 -0.617741 -3.399148  1.308806  0.451686  2.456748 -0.432998   \n",
              "\n",
              "         98        99  \n",
              "0  2.551112  2.312111  \n",
              "1 -0.851353  0.775123  \n",
              "2  0.734186 -0.179891  \n",
              "3 -0.195823 -1.609385  \n",
              "4  0.357868  0.880303  \n",
              "\n",
              "[5 rows x 101 columns]"
            ]
          },
          "metadata": {},
          "execution_count": 158
        }
      ]
    },
    {
      "cell_type": "code",
      "metadata": {
        "colab": {
          "base_uri": "https://localhost:8080/"
        },
        "id": "2unH0c8YT5jX",
        "outputId": "391fe6fd-daa2-4008-b198-ad7859d61a1c"
      },
      "source": [
        "# Dataframe con embeddings\n",
        "X_ticker=df_ticker.copy().drop(['tickers'],axis=1)\n",
        "X_ticker.shape"
      ],
      "execution_count": 159,
      "outputs": [
        {
          "output_type": "execute_result",
          "data": {
            "text/plain": [
              "(378, 100)"
            ]
          },
          "metadata": {},
          "execution_count": 159
        }
      ]
    },
    {
      "cell_type": "markdown",
      "metadata": {
        "id": "_BAs4PLe774Z"
      },
      "source": [
        "Escalar valores"
      ]
    },
    {
      "cell_type": "code",
      "metadata": {
        "colab": {
          "base_uri": "https://localhost:8080/"
        },
        "id": "hLFMcFSuVYnU",
        "outputId": "578dfe87-3644-4c03-fc72-1b29f8ce1749"
      },
      "source": [
        "from sklearn import preprocessing\n",
        "import numpy as np\n",
        "\n",
        "scaler = preprocessing.StandardScaler().fit(X_ticker)\n",
        "X_scaled = scaler.transform(X_ticker)\n",
        "X_scaled.shape"
      ],
      "execution_count": 160,
      "outputs": [
        {
          "output_type": "execute_result",
          "data": {
            "text/plain": [
              "(378, 100)"
            ]
          },
          "metadata": {},
          "execution_count": 160
        }
      ]
    },
    {
      "cell_type": "markdown",
      "metadata": {
        "id": "6JcLx2wX8A7Z"
      },
      "source": [
        "Proyeccion al plano con t-SNE"
      ]
    },
    {
      "cell_type": "code",
      "metadata": {
        "id": "g5pey47UU2bg"
      },
      "source": [
        "from sklearn import (manifold, preprocessing, decomposition)\n",
        "import time"
      ],
      "execution_count": 161,
      "outputs": []
    },
    {
      "cell_type": "code",
      "metadata": {
        "colab": {
          "base_uri": "https://localhost:8080/"
        },
        "id": "AH-nr11-U-h3",
        "outputId": "3bd17c79-3544-4e44-dcf8-17f416900e0d"
      },
      "source": [
        "time_start = time.time()\n",
        "\n",
        "tsne = manifold.TSNE(n_components=2, verbose=1,perplexity=50, n_iter=5000)\n",
        "X_tsne = tsne.fit_transform(X_scaled)\n",
        "\n",
        "print ('t-SNE done! Time elapsed: {} seconds'.format(time.time()-time_start))"
      ],
      "execution_count": 162,
      "outputs": [
        {
          "output_type": "stream",
          "name": "stdout",
          "text": [
            "[t-SNE] Computing 151 nearest neighbors...\n",
            "[t-SNE] Indexed 378 samples in 0.004s...\n",
            "[t-SNE] Computed neighbors for 378 samples in 0.043s...\n",
            "[t-SNE] Computed conditional probabilities for sample 378 / 378\n",
            "[t-SNE] Mean sigma: 3.373401\n",
            "[t-SNE] KL divergence after 250 iterations with early exaggeration: 75.977058\n",
            "[t-SNE] KL divergence after 1350 iterations: 0.782076\n",
            "t-SNE done! Time elapsed: 3.5935423374176025 seconds\n"
          ]
        }
      ]
    },
    {
      "cell_type": "code",
      "metadata": {
        "colab": {
          "base_uri": "https://localhost:8080/"
        },
        "id": "tsvotK97VSaP",
        "outputId": "daabd868-7a67-4113-892d-16428c119dc1"
      },
      "source": [
        "X_tsne.shape"
      ],
      "execution_count": 163,
      "outputs": [
        {
          "output_type": "execute_result",
          "data": {
            "text/plain": [
              "(378, 2)"
            ]
          },
          "metadata": {},
          "execution_count": 163
        }
      ]
    },
    {
      "cell_type": "code",
      "metadata": {
        "colab": {
          "base_uri": "https://localhost:8080/",
          "height": 17
        },
        "id": "6N6WXufyY_tT",
        "outputId": "076e67b0-1510-442a-8e23-ae15d25caa7d"
      },
      "source": [
        "from plotly.offline import init_notebook_mode, plot,iplot\n",
        "import plotly.graph_objs as go\n",
        "init_notebook_mode(connected=True)\n",
        "import matplotlib.pyplot as plt\n",
        "import plotly.tools as tls#visualization\n",
        "import plotly.figure_factory as ff#visualization\n",
        "import seaborn as sns\n",
        " "
      ],
      "execution_count": 164,
      "outputs": [
        {
          "output_type": "display_data",
          "data": {
            "text/html": [
              "        <script type=\"text/javascript\">\n",
              "        window.PlotlyConfig = {MathJaxConfig: 'local'};\n",
              "        if (window.MathJax) {MathJax.Hub.Config({SVG: {font: \"STIX-Web\"}});}\n",
              "        if (typeof require !== 'undefined') {\n",
              "        require.undef(\"plotly\");\n",
              "        requirejs.config({\n",
              "            paths: {\n",
              "                'plotly': ['https://cdn.plot.ly/plotly-latest.min']\n",
              "            }\n",
              "        });\n",
              "        require(['plotly'], function(Plotly) {\n",
              "            window._Plotly = Plotly;\n",
              "        });\n",
              "        }\n",
              "        </script>\n",
              "        "
            ]
          },
          "metadata": {}
        }
      ]
    },
    {
      "cell_type": "markdown",
      "metadata": {
        "id": "31_l1E4P8K0I"
      },
      "source": [
        "Grafico con las proyecciones de tickers utilizando t-SNE"
      ]
    },
    {
      "cell_type": "code",
      "metadata": {
        "id": "Z_Yox2eOT4bQ"
      },
      "source": [
        "data=[]\n",
        "bool_crack=df_ticker[\"tickers\"].isin(ticker_top) #bool top tickers\n",
        "\n",
        "#graficamos los datos en el espacio transformado: las dos componentes tsne\n",
        "\n",
        "graf1 = go.Scatter(x=X_tsne[:,0], y=X_tsne[:,1],\n",
        "                           mode='markers',\n",
        "                        text=df_ticker.loc[:,'tickers'], #'Height', 'Weight', 'Club', 'Age', 'Name','Position'\n",
        "                           marker=dict(\n",
        "                                size=5)\n",
        "                           )\n",
        "\n",
        "crack =go.Scatter(x=X_tsne[bool_crack,0], y=X_tsne[bool_crack,1],name='Top tickers',\n",
        "                      text=df_ticker.loc[bool_crack,'tickers'],\n",
        "                      textfont=dict(family='sans serif',size=10,color='black'),\n",
        "                      opacity=0.9,mode='text')\n",
        "\n",
        "data=[graf1,crack]\n",
        "\n",
        "\n",
        "layout = go.Layout(title=\"Visualización de la base en el espacio tsne\",titlefont=dict(size=20),\n",
        "                xaxis=dict(title='componente 1'),\n",
        "                yaxis=dict(title='componente 2'),\n",
        "                autosize=False, width=1000,height=700)\n",
        "\n",
        "fig_1 = go.Figure(data=data, layout=layout)\n",
        "\n",
        "#iplot(fig)\n",
        "#plot(fig)"
      ],
      "execution_count": 165,
      "outputs": []
    },
    {
      "cell_type": "code",
      "metadata": {
        "colab": {
          "base_uri": "https://localhost:8080/",
          "height": 735
        },
        "id": "F216n6oaW0vi",
        "outputId": "f17e1fbf-16b9-499e-be0d-57b7f53d50b0"
      },
      "source": [
        "iplot(fig_1)\n",
        "plot(fig_1)"
      ],
      "execution_count": 215,
      "outputs": [
        {
          "output_type": "display_data",
          "data": {
            "text/html": [
              "<div>\n",
              "        \n",
              "        \n",
              "            <div id=\"07e282d3-6222-4fc8-8dd3-ecdd7dff93e1\" class=\"plotly-graph-div\" style=\"height:700px; width:1000px;\"></div>\n",
              "            <script type=\"text/javascript\">\n",
              "                require([\"plotly\"], function(Plotly) {\n",
              "                    window.PLOTLYENV=window.PLOTLYENV || {};\n",
              "                    \n",
              "                if (document.getElementById(\"07e282d3-6222-4fc8-8dd3-ecdd7dff93e1\")) {\n",
              "                    Plotly.newPlot(\n",
              "                        '07e282d3-6222-4fc8-8dd3-ecdd7dff93e1',\n",
              "                        [{\"marker\": {\"size\": 5}, \"mode\": \"markers\", \"text\": [\"SPGI\", \"TSLA\", \"SPG\", \"XOM\", \"AGN\", \"PXD\", \"APD\", \"AA\", \"NTRS\", \"PNW\", \"LB\", \"DDS\", \"NEM\", \"AVY\", \"WPM\", \"MTB\", \"MAS\", \"DXCM\", \"CNS\", \"ETR\", \"UBSG\", \"INTC\", \"BIDU\", \"BIIB\", \"XLNX\", \"NTAP\", \"EL\", \"AMP\", \"SCHW\", \"HOG\", \"WYND\", \"IP\", \"KO\", \"CSIQ\", \"ORCL\", \"STLD\", \"PBR\", \"COF\", \"UTX\", \"CBRL\", \"QCOM\", \"CNMD\", \"EXPD\", \"MAR\", \"AIZ\", \"CHEF\", \"AMD\", \"TROW\", \"NUE\", \"GT\", \"CASY\", \"CROX\", \"MSI\", \"CHTR\", \"IBM\", \"PFE\", \"BBY\", \"CDNS\", \"DHI\", \"LOW\", \"VIAC\", \"CRI\", \"CRUS\", \"STT\", \"TGT\", \"WMT\", \"CINF\", \"DXPE\", \"AAPL\", \"ANTM\", \"TAP\", \"CRAI\", \"MO\", \"MRK\", \"NVDA\", \"SSRM\", \"AKAM\", \"CBRE\", \"DTE\", \"TFC\", \"MET\", \"UNH\", \"OKE\", \"JPM\", \"ALGT\", \"MU\", \"PEP\", \"CSCO\", \"AMT\", \"ATVI\", \"RS\", \"DUK\", \"YNDX\", \"MUR\", \"FSLR\", \"CAJ\", \"DISCA\", \"MAT\", \"FLIR\", \"VRTX\", \"RTN\", \"ROP\", \"FISV\", \"SPAR\", \"J\", \"RGLD\", \"DNKN\", \"KLAC\", \"GIS\", \"RDY\", \"NS\", \"MCHP\", \"CME\", \"ROST\", \"ABMD\", \"IPGP\", \"NYT\", \"FLR\", \"EOG\", \"ADM\", \"STX\", \"MGA\", \"BJRI\", \"MCD\", \"PG\", \"RHI\", \"COP\", \"NRG\", \"CVS\", \"GL\", \"GOOGL\", \"KHC\", \"WDC\", \"DD\", \"K\", \"BDX\", \"SHW\", \"NEE\", \"PPG\", \"SNE\", \"HAIN\", \"GS\", \"CI\", \"JEF\", \"CIEN\", \"DELL\", \"MMM\", \"ANF\", \"ITRI\", \"CACC\", \"PRU\", \"BK\", \"TPR\", \"CVX\", \"VAR\", \"NOV\", \"CEF\", \"UPS\", \"UAA\", \"KSS\", \"PCAR\", \"VZ\", \"LRCX\", \"RCI\", \"AFL\", \"AON\", \"AZO\", \"ADI\", \"NWSA\", \"BLK\", \"CTAS\", \"NSC\", \"MDT\", \"LUV\", \"LEN\", \"AIG\", \"LBTYA\", \"GD\", \"UBER\", \"AMX\", \"HSIC\", \"MRVL\", \"SJM\", \"AVAV\", \"RL\", \"AVB\", \"CHN\", \"ATI\", \"BXP\", \"HAL\", \"JNJ\", \"DRI\", \"CLX\", \"KBH\", \"TTWO\", \"ARCH\", \"WBA\", \"CENT\", \"HMC\", \"CMCSA\", \"PAYX\", \"ACN\", \"MOS\", \"DISH\", \"RYAAY\", \"PLD\", \"LMT\", \"VLO\", \"TRV\", \"SBUX\", \"BAC\", \"DOV\", \"FLS\", \"TMO\", \"NBL\", \"STZ\", \"ADP\", \"INFY\", \"APA\", \"WMB\", \"AEIS\", \"LHX\", \"SRPT\", \"PKI\", \"CPB\", \"LH\", \"LNC\", \"BBBY\", \"PGR\", \"WU\", \"XRX\", \"ETFC\", \"ABC\", \"CB\", \"ALXN\", \"BMRN\", \"NTES\", \"DIS\", \"PCG\", \"WHR\", \"FMC\", \"HD\", \"COST\", \"NOC\", \"LAMR\", \"ICE\", \"EXPE\", \"HPQ\", \"TM\", \"AIMC\", \"GRMN\", \"HON\", \"ADSK\", \"TIF\", \"EBAY\", \"TXN\", \"SRE\", \"PH\", \"JWN\", \"ATGE\", \"MYL\", \"DAL\", \"TSN\", \"FTI\", \"THC\", \"OSK\", \"ANIK\", \"CRM\", \"GPS\", \"AMGN\", \"MCK\", \"ARGO\", \"OXY\", \"HUM\", \"AXP\", \"MPC\", \"ENGIE\", \"BMY\", \"ASML\", \"DLTR\", \"MS\", \"VMC\", \"MCO\", \"GPC\", \"BKR\", \"HRL\", \"CAT\", \"WFC\", \"BRKB\", \"EA\", \"CATM\", \"CMI\", \"CMG\", \"FDX\", \"GWW\", \"KMX\", \"L\", \"TEX\", \"XEL\", \"KMB\", \"LAZ\", \"NXPI\", \"INTU\", \"BHC\", \"FII\", \"CTL\", \"GILD\", \"CAG\", \"AMAT\", \"ORLY\", \"C\", \"ETN\", \"ABT\", \"KR\", \"VMW\", \"CF\", \"EFX\", \"ALGN\", \"AVGO\", \"MSFT\", \"CORT\", \"CHKP\", \"GE\", \"EQIX\", \"TTM\", \"DHR\", \"URBN\", \"GOLD\", \"UNP\", \"NLOK\", \"ILMN\", \"YUM\", \"POLYP\", \"SCCO\", \"AMZN\", \"MHO\", \"ALNY\", \"DVN\", \"HES\", \"PNC\", \"FCX\", \"EW\", \"TEVA\", \"DE\", \"IPG\", \"ADBE\", \"CSII\", \"ISRG\", \"BX\", \"V\", \"HRB\", \"AEM\", \"MKC\", \"BA\", \"PAAS\", \"AAXN\", \"CSX\", \"UAL\", \"WYNN\", \"NFLX\", \"PM\", \"CMTL\", \"HSY\", \"GM\", \"SLB\", \"NDAQ\", \"SYY\", \"LLY\", \"CMA\", \"NKE\", \"VALE\", \"BAX\", \"BKNG\", \"BIG\", \"AMED\", \"COLM\", \"JBLU\", \"COG\"], \"type\": \"scatter\", \"x\": [-4.0125579833984375, 10.280550003051758, 0.6718358993530273, -7.833770751953125, -5.70374059677124, -5.688475131988525, -0.9381119012832642, -2.8377721309661865, 4.196572303771973, -3.361246347427368, 0.7218829989433289, -0.39851856231689453, -2.338489532470703, -1.4657220840454102, 1.0840948820114136, -3.187035322189331, -0.904563307762146, 6.784023761749268, 1.8519220352172852, -3.4593772888183594, 2.017504930496216, 9.57638168334961, 9.006470680236816, 8.769601821899414, 7.384726047515869, 7.4892072677612305, -3.3692805767059326, 1.9647064208984375, -2.696117401123047, 0.7887670397758484, 1.258979082107544, 2.236388683319092, -3.376603126525879, 7.533966064453125, -3.389152765274048, 4.456843376159668, -6.425756454467773, 2.013625144958496, -6.9919328689575195, 5.527134895324707, 7.251311779022217, 4.530402660369873, 4.9125752449035645, 0.5290254950523376, -0.09009001404047012, 5.475585460662842, 8.873666763305664, 4.812137603759766, -2.599285840988159, 3.6245813369750977, 6.118808269500732, 6.485354423522949, -4.287159442901611, 4.101888179779053, -3.263068675994873, -5.697929859161377, -0.8757455348968506, 7.741471290588379, 1.606463074684143, 3.1796367168426514, 2.3722262382507324, 0.238873690366745, 6.9821672439575195, -3.363682746887207, -0.840178370475769, -1.3932509422302246, 3.6968865394592285, 3.9354841709136963, 10.35289478302002, -5.313894271850586, 2.199934244155884, 3.748499631881714, 0.3579723536968231, -5.635545253753662, 9.325989723205566, 4.377535343170166, 6.42968225479126, 0.47346949577331543, -4.62766170501709, 1.8477791547775269, 2.2909739017486572, -5.539137840270996, -4.375895023345947, -8.065841674804688, 5.528248310089111, 8.063963890075684, 7.5090012550354, 8.683724403381348, -2.5203588008880615, 8.949790000915527, 2.771655559539795, -4.405695915222168, 2.4569337368011475, -5.211635589599609, 7.887383937835693, 0.7915864586830139, 4.22147274017334, 8.878263473510742, 4.461212635040283, 7.820065021514893, -6.703470230102539, -0.9525828957557678, 7.043916702270508, 2.7851006984710693, -0.15064877271652222, 3.4444408416748047, 5.824504852294922, 7.100982189178467, -1.21078622341156, 0.7238088846206665, 1.3550528287887573, 6.598307132720947, 4.804779529571533, 6.832085609436035, 6.668054580688477, 3.0879812240600586, -0.12005153298377991, -2.7671210765838623, -5.709895610809326, -1.3108062744140625, 6.144796848297119, 0.2355620115995407, 5.6601080894470215, -2.501176118850708, -4.571056365966797, 0.041393447667360306, -6.925808429718018, -4.851194381713867, -5.045809268951416, 1.2869189977645874, 10.456110954284668, 7.092159748077393, 5.7124152183532715, -2.904689311981201, 1.8995543718338013, -1.4860221147537231, -1.523335576057434, -4.793056011199951, -1.0488489866256714, -3.878460645675659, 5.858778476715088, -8.192441940307617, -5.129417896270752, 1.5712310075759888, -2.05664324760437, -3.254868745803833, -3.754631519317627, -1.1704182624816895, 4.92875337600708, 3.1343588829040527, 2.0314700603485107, -3.1756513118743896, 0.5026298761367798, -7.802958011627197, -1.2724545001983643, 0.5250118374824524, 1.085168719291687, 1.0409300327301025, -1.3245869874954224, -0.9269802570343018, 4.013256549835205, -5.9073896408081055, 8.040276527404785, 0.21773694455623627, -0.19062425196170807, 2.5143332481384277, 0.18168462812900543, 7.084741592407227, 3.25769305229187, -1.976428508758545, 4.055418968200684, -2.989438533782959, -2.150589942932129, 4.885157108306885, 1.2020212411880493, 1.9616494178771973, 3.93021559715271, -6.122010707855225, 0.9479497671127319, 0.561616063117981, 5.325370788574219, 6.227851390838623, -0.7568221092224121, 4.9458160400390625, -1.064868450164795, 0.6731908321380615, 2.3157947063446045, -0.931820809841156, 0.6629543304443359, -7.600803852081299, -5.6529221534729, -0.1575331836938858, -1.9430921077728271, 1.0767009258270264, 8.966375350952148, 0.7489588856697083, 8.352139472961426, 3.722745418548584, 2.6173999309539795, 3.8559367656707764, 7.1453938484191895, -2.0994677543640137, -2.2649548053741455, 3.842832565307617, 5.363884925842285, 0.6147555708885193, -6.725935459136963, -5.530400276184082, -0.14986658096313477, 9.467758178710938, -8.082337379455566, -2.409879684448242, -0.8688156008720398, -1.3388179540634155, -4.893179416656494, 0.2587427794933319, 7.577429294586182, 1.1580910682678223, -6.125329494476318, -6.761200904846191, 3.317765712738037, 0.6151496171951294, 7.091512203216553, -1.2542394399642944, -1.9420876502990723, -0.6399421095848083, -0.6123986840248108, 7.467715740203857, -4.623292446136475, 0.47340214252471924, -3.5001485347747803, 4.794406890869141, 2.12310791015625, 1.5564148426055908, 7.954610824584961, 7.602927207946777, 6.083808898925781, -3.3323168754577637, -4.563516139984131, -2.5892908573150635, -5.187889099121094, 1.1915355920791626, 3.2138967514038086, -6.516488552093506, 5.301682949066162, -0.025138726457953453, 6.281188011169434, -3.846529960632324, 2.641188621520996, 3.5180017948150635, 6.126308441162109, -1.4736255407333374, 7.181766033172607, -1.371381163597107, 6.279175281524658, 7.585511684417725, -4.421895980834961, -0.2579137682914734, -0.7539470195770264, 1.0238354206085205, 8.897059440612793, 4.978339195251465, -1.1718138456344604, -1.371504783630371, -4.131548881530762, -2.0319628715515137, 4.262401103973389, -3.2113819122314453, -1.3182324171066284, 8.823824882507324, -3.9497945308685303, 1.6116582155227661, -6.01716423034668, -5.3219194412231445, -4.17415714263916, -6.322431564331055, 1.428244948387146, -5.190456390380859, 5.99944543838501, 7.127478122711182, -8.1941556930542, -1.469394326210022, -3.118398427963257, -1.4417463541030884, 1.2295129299163818, -1.8206844329833984, -3.141850709915161, -8.006375312805176, 0.5552067160606384, 8.993949890136719, 4.081978797912598, -1.006123661994934, -0.25482553243637085, -3.73927903175354, -0.37542790174484253, 0.2355220913887024, 3.735874891281128, -2.3517792224884033, 5.008909225463867, -2.2329366207122803, 1.1872427463531494, 6.3756303787231445, 7.456906795501709, 1.1096186637878418, 0.9273160696029663, -5.685511112213135, 8.723299980163574, -0.3303542733192444, 8.110426902770996, 6.056527137756348, -0.2544289231300354, 3.30704402923584, -2.136385202407837, -1.6453099250793457, -3.2547476291656494, -0.33965355157852173, -4.681878566741943, 7.011096477508545, 7.175724029541016, 10.007340431213379, 3.464038133621216, 5.686882972717285, -0.8126452565193176, 5.524406909942627, 6.86181640625, -3.4694807529449463, 6.840013027191162, 2.3272199630737305, -3.162337303161621, 2.3158655166625977, 7.994084358215332, 0.5186740756034851, 1.9319398403167725, 0.3244735896587372, 10.57091236114502, 0.08684315532445908, 6.902468204498291, -5.559090614318848, -5.572109699249268, 2.1376936435699463, -2.5960373878479004, -1.8122199773788452, 8.17687702178955, 0.6100987792015076, -1.3732695579528809, 8.432967185974121, 4.299275875091553, 8.343799591064453, -7.004058361053467, -0.39693379402160645, -0.5074024200439453, -1.8592040538787842, -1.2982882261276245, -3.908583164215088, 3.54764723777771, 4.7111711502075195, 5.470302581787109, 5.242114067077637, 6.336416721343994, 10.342805862426758, 1.7150485515594482, 3.188342332839966, -1.9054886102676392, 2.8356966972351074, -7.651055812835693, 5.197238922119141, -2.059722661972046, -5.325488090515137, 1.2060658931732178, -1.7789026498794556, -6.585990905761719, -1.533673882484436, 5.92832088470459, 2.7239887714385986, 5.628641605377197, 6.079154968261719, 5.488656997680664, -5.340238571166992], \"y\": [1.080394983291626, 2.0841314792633057, -2.6208860874176025, -0.5275784730911255, -6.4411773681640625, -2.2215991020202637, -2.025536298751831, -3.242123603820801, -0.3335716426372528, -0.6919581294059753, -5.65191650390625, -6.549338340759277, -2.202319383621216, -1.1590983867645264, -0.29940101504325867, 0.8553239703178406, -0.613953173160553, 1.4940646886825562, -1.6983301639556885, -0.7407952547073364, 0.1360602229833603, 4.3121442794799805, 2.2708098888397217, -0.7028184533119202, 4.537747383117676, 3.313105344772339, -8.716666221618652, -3.6832070350646973, 1.8873181343078613, -4.055675029754639, -0.39013469219207764, 2.2155280113220215, -6.063509464263916, 1.4175794124603271, 3.535073757171631, 2.3260152339935303, -0.5081486701965332, -4.318966865539551, 1.5100046396255493, 0.5890185236930847, 5.912320613861084, 0.5086390376091003, 1.079838752746582, 6.52457857131958, -1.771061658859253, -0.037495434284210205, 4.92560338973999, 2.638137102127075, -3.2224209308624268, 2.2329721450805664, 0.36614400148391724, 0.9625564217567444, 3.981267213821411, 5.403703212738037, 3.6199681758880615, -7.123072147369385, -7.177084922790527, 3.480468511581421, -6.8923773765563965, -1.4331928491592407, 0.05377138778567314, -1.4127460718154907, 4.012090682983398, 0.5633010268211365, -8.384012222290039, -8.055642127990723, -0.19310146570205688, 1.1783684492111206, 2.3457884788513184, -4.184380531311035, -0.7909227609634399, 0.7769788503646851, -3.096292734146118, -7.1555070877075195, 4.5363006591796875, 1.6960707902908325, 3.8023786544799805, 0.9308375120162964, -0.07256545126438141, -0.23923566937446594, -0.9159642457962036, -4.354525089263916, -0.7337426543235779, -5.1898369789123535, -2.224151611328125, 4.473735809326172, -2.1745970249176025, 3.3288936614990234, -0.39180174469947815, 6.081117630004883, -1.9216448068618774, -0.6296210885047913, 1.8160172700881958, -1.2154910564422607, 1.465597152709961, -0.7382466793060303, 5.3002848625183105, 1.064287543296814, -1.0385551452636719, -0.5483604669570923, 1.319788932800293, -1.4217194318771362, 2.54581880569458, 0.7654728293418884, -4.312933444976807, 2.8355813026428223, 0.20059888064861298, 4.4685492515563965, -5.240533351898193, -0.6610267758369446, 2.6307175159454346, 4.2884111404418945, 3.2805898189544678, 0.3291970193386078, 1.4738683700561523, 0.5275207161903381, 2.3498566150665283, -1.0575770139694214, -1.9192432165145874, -3.7085683345794678, 4.731509208679199, -1.1827757358551025, 0.4969039559364319, -6.914843559265137, -2.1746671199798584, -0.878960907459259, -1.2066096067428589, 0.03847157955169678, -4.22910213470459, -0.4111872613430023, 2.760996103286743, -1.7939472198486328, 4.9889397621154785, -5.081644058227539, 0.6621811389923096, -0.4225960373878479, -3.1163346767425537, -0.034469448029994965, -1.9846247434616089, 2.0114803314208984, -0.8244163393974304, -4.647181510925293, -4.010687351226807, -0.29541563987731934, -0.6704747676849365, 4.646031379699707, -6.286736488342285, -6.507289409637451, 1.6333317756652832, -0.0960366278886795, -3.3456640243530273, 0.8102872967720032, -1.6030473709106445, -0.5361148118972778, 0.10537702590227127, 6.526231288909912, 0.4607347846031189, 1.9105647802352905, -7.201850414276123, -7.8253912925720215, 2.19132399559021, 3.3999240398406982, 4.54666805267334, 0.2595750093460083, -2.8005497455596924, -2.866995334625244, -6.825709819793701, 3.7485973834991455, 4.556502342224121, 3.6529181003570557, 0.05838208273053169, -1.2593079805374146, 1.0098947286605835, -5.311169624328613, -7.639030933380127, -2.5583269596099854, 3.6539220809936523, 1.3128952980041504, 3.1301963329315186, 0.06022254005074501, 0.9775032997131348, 4.285438060760498, -4.371837615966797, 1.2464028596878052, -6.556924343109131, -2.2587432861328125, 1.2212157249450684, -1.8988518714904785, -1.9694409370422363, -1.7509976625442505, -6.701867580413818, -6.172550678253174, -4.570521354675293, -7.644513130187988, 6.174732685089111, 4.157968521118164, 0.1149883046746254, -1.9226258993148804, -5.742164611816406, 5.6031317710876465, 2.4834346771240234, 2.452773332595825, -3.2140750885009766, 5.620985507965088, -2.3752195835113525, -2.6241977214813232, 1.3682292699813843, -1.083130121231079, -3.2202179431915283, 0.4509652554988861, -5.082900524139404, -1.471775770187378, -0.8105511665344238, 0.11654899269342422, -0.8915500640869141, -5.652862071990967, 2.335831642150879, 2.213869333267212, -0.8504794239997864, -2.5237085819244385, 1.2318222522735596, -0.06855432689189911, -0.7736974358558655, -0.18359847366809845, -5.20905876159668, -0.2686762809753418, -1.097907543182373, 0.5203344225883484, -3.3175859451293945, 1.8670527935028076, -2.3982019424438477, -0.24943464994430542, 4.598806858062744, -2.173602342605591, -0.48733919858932495, -0.6095943450927734, 2.3461952209472656, -6.3994951248168945, -1.8750336170196533, -4.3576250076293945, 1.1099811792373657, -8.000931739807129, -0.952992856502533, 1.2761070728302002, -0.8096291422843933, 2.6950297355651855, 2.1633753776550293, 3.7542645931243896, -5.766938209533691, 0.7672615647315979, 3.6389825344085693, 1.2286136150360107, 3.256436586380005, -6.439387321472168, 2.5543675422668457, 4.91677188873291, -0.5291574597358704, 1.2138324975967407, -7.753660678863525, -0.4000130295753479, -1.091125249862671, -5.247678279876709, -4.8186116218566895, 2.401587724685669, -3.17678165435791, -1.1812800168991089, 0.6113691329956055, 3.599012613296509, 4.915616512298584, -0.674876868724823, -3.138418674468994, 0.7132031917572021, -1.286908745765686, -4.220315933227539, -5.945990085601807, -1.7596104145050049, 1.1385533809661865, -6.431063175201416, 5.808755874633789, 0.4785495400428772, -4.612723350524902, -2.686777114868164, 0.014839587733149529, -3.232010841369629, -0.3062814176082611, -4.086174964904785, -4.283697605133057, -5.242572784423828, -0.7453418374061584, 6.1675004959106445, 1.0312219858169556, -2.905369997024536, -7.319817066192627, -4.710587501525879, -2.124009609222412, -6.748074531555176, -3.823688268661499, -1.4436007738113403, 1.6961627006530762, -4.296393394470215, -1.894431471824646, 5.498936653137207, 2.851971387863159, -1.0018173456192017, -1.9235076904296875, 3.2828118801116943, -0.6256282925605774, -4.812205791473389, 4.469245433807373, 1.2191132307052612, 0.5990419387817383, -2.8971595764160156, 0.8774048686027527, -6.048336982727051, 3.4832680225372314, 4.306739807128906, 2.7188963890075684, 4.037369728088379, 5.725597858428955, 3.8890106678009033, 0.45341622829437256, 3.9093775749206543, 3.3651323318481445, 2.0901830196380615, -4.313509941101074, -2.4197263717651367, 0.5767791271209717, 3.4608399868011475, -1.4462554454803467, -0.0057148695923388, 0.46192458271980286, -5.577570915222168, -0.07559257000684738, -0.3249260187149048, 2.685363292694092, -1.4884289503097534, -0.5062363147735596, -1.18821382522583, -1.136303186416626, -3.9376606941223145, -2.497016429901123, 0.03757348656654358, -3.0112013816833496, 1.1451058387756348, 2.1856300830841064, 3.285562753677368, 0.7464187741279602, 1.9102870225906372, -3.859992027282715, 1.4859262704849243, 0.40023061633110046, -2.231170177459717, -4.457154750823975, -6.809134006500244, 3.0293776988983154, 1.8447575569152832, -3.5416901111602783, -4.839334487915039, -1.2752512693405151, 2.3324334621429443, -1.2233808040618896, 1.496325969696045, -4.928337574005127, -5.659843444824219, -1.7587807178497314, 2.808131217956543, -4.358081817626953, -6.503938674926758, -3.1470279693603516, -7.701105117797852, -0.12573835253715515, 0.5914561748504639, 2.0393004417419434, -0.6476914882659912, 1.0622133016586304, -0.3177177906036377, -3.0934600830078125, -1.3453692197799683]}, {\"mode\": \"text\", \"name\": \"Top tickers\", \"opacity\": 0.9, \"text\": [\"TSLA\", \"XOM\", \"AGN\", \"AA\", \"INTC\", \"KO\", \"IBM\", \"TGT\", \"WMT\", \"AAPL\", \"JPM\", \"MU\", \"CME\", \"GOOGL\", \"GS\", \"CVX\", \"VZ\", \"NWSA\", \"BLK\", \"UBER\", \"LMT\", \"SBUX\", \"BAC\", \"WMB\", \"DIS\", \"TM\", \"MS\", \"BKR\", \"CAT\", \"WFC\", \"CMG\", \"C\", \"EFX\", \"MSFT\", \"GE\", \"AMZN\", \"BA\", \"NFLX\", \"GM\"], \"textfont\": {\"color\": \"black\", \"family\": \"sans serif\", \"size\": 10}, \"type\": \"scatter\", \"x\": [10.280550003051758, -7.833770751953125, -5.70374059677124, -2.8377721309661865, 9.57638168334961, -3.376603126525879, -3.263068675994873, -0.840178370475769, -1.3932509422302246, 10.35289478302002, -8.065841674804688, 8.063963890075684, 4.804779529571533, 10.456110954284668, -8.192441940307617, -7.802958011627197, -5.9073896408081055, 3.25769305229187, -1.976428508758545, 0.9479497671127319, -6.725935459136963, 9.467758178710938, -8.082337379455566, -6.761200904846191, -3.3323168754577637, 2.641188621520996, -8.1941556930542, 1.2295129299163818, -3.141850709915161, -8.006375312805176, -0.25482553243637085, -0.2544289231300354, -4.681878566741943, 10.007340431213379, -0.8126452565193176, 10.57091236114502, -3.908583164215088, 10.342805862426758, 2.8356966972351074], \"y\": [2.0841314792633057, -0.5275784730911255, -6.4411773681640625, -3.242123603820801, 4.3121442794799805, -6.063509464263916, 3.6199681758880615, -8.384012222290039, -8.055642127990723, 2.3457884788513184, -5.1898369789123535, 4.473735809326172, 3.2805898189544678, 2.760996103286743, -4.647181510925293, -0.5361148118972778, 3.3999240398406982, 4.556502342224121, 3.6529181003570557, 3.1301963329315186, 1.3682292699813843, 0.4509652554988861, -5.082900524139404, -2.5237085819244385, -6.3994951248168945, -5.766938209533691, -4.612723350524902, -0.3062814176082611, -4.283697605133057, -5.242572784423828, -7.319817066192627, 0.5990419387817383, 2.7188963890075684, 3.8890106678009033, 3.3651323318481445, 2.685363292694092, -6.809134006500244, 2.3324334621429443, -5.659843444824219]}],\n",
              "                        {\"autosize\": false, \"height\": 700, \"template\": {\"data\": {\"bar\": [{\"error_x\": {\"color\": \"#2a3f5f\"}, \"error_y\": {\"color\": \"#2a3f5f\"}, \"marker\": {\"line\": {\"color\": \"#E5ECF6\", \"width\": 0.5}}, \"type\": \"bar\"}], \"barpolar\": [{\"marker\": {\"line\": {\"color\": \"#E5ECF6\", \"width\": 0.5}}, \"type\": \"barpolar\"}], \"carpet\": [{\"aaxis\": {\"endlinecolor\": \"#2a3f5f\", \"gridcolor\": \"white\", \"linecolor\": \"white\", \"minorgridcolor\": \"white\", \"startlinecolor\": \"#2a3f5f\"}, \"baxis\": {\"endlinecolor\": \"#2a3f5f\", \"gridcolor\": \"white\", \"linecolor\": \"white\", \"minorgridcolor\": \"white\", \"startlinecolor\": \"#2a3f5f\"}, \"type\": \"carpet\"}], \"choropleth\": [{\"colorbar\": {\"outlinewidth\": 0, \"ticks\": \"\"}, \"type\": \"choropleth\"}], \"contour\": [{\"colorbar\": {\"outlinewidth\": 0, \"ticks\": \"\"}, \"colorscale\": [[0.0, \"#0d0887\"], [0.1111111111111111, \"#46039f\"], [0.2222222222222222, \"#7201a8\"], [0.3333333333333333, \"#9c179e\"], [0.4444444444444444, \"#bd3786\"], [0.5555555555555556, \"#d8576b\"], [0.6666666666666666, \"#ed7953\"], [0.7777777777777778, \"#fb9f3a\"], [0.8888888888888888, \"#fdca26\"], [1.0, \"#f0f921\"]], \"type\": \"contour\"}], \"contourcarpet\": [{\"colorbar\": {\"outlinewidth\": 0, \"ticks\": \"\"}, \"type\": \"contourcarpet\"}], \"heatmap\": [{\"colorbar\": {\"outlinewidth\": 0, \"ticks\": \"\"}, \"colorscale\": [[0.0, \"#0d0887\"], [0.1111111111111111, \"#46039f\"], [0.2222222222222222, \"#7201a8\"], [0.3333333333333333, \"#9c179e\"], [0.4444444444444444, \"#bd3786\"], [0.5555555555555556, \"#d8576b\"], [0.6666666666666666, \"#ed7953\"], [0.7777777777777778, \"#fb9f3a\"], [0.8888888888888888, \"#fdca26\"], [1.0, \"#f0f921\"]], \"type\": \"heatmap\"}], \"heatmapgl\": [{\"colorbar\": {\"outlinewidth\": 0, \"ticks\": \"\"}, \"colorscale\": [[0.0, \"#0d0887\"], [0.1111111111111111, \"#46039f\"], [0.2222222222222222, \"#7201a8\"], [0.3333333333333333, \"#9c179e\"], [0.4444444444444444, \"#bd3786\"], [0.5555555555555556, \"#d8576b\"], [0.6666666666666666, \"#ed7953\"], [0.7777777777777778, \"#fb9f3a\"], [0.8888888888888888, \"#fdca26\"], [1.0, \"#f0f921\"]], \"type\": \"heatmapgl\"}], \"histogram\": [{\"marker\": {\"colorbar\": {\"outlinewidth\": 0, \"ticks\": \"\"}}, \"type\": \"histogram\"}], \"histogram2d\": [{\"colorbar\": {\"outlinewidth\": 0, \"ticks\": \"\"}, \"colorscale\": [[0.0, \"#0d0887\"], [0.1111111111111111, \"#46039f\"], [0.2222222222222222, \"#7201a8\"], [0.3333333333333333, \"#9c179e\"], [0.4444444444444444, \"#bd3786\"], [0.5555555555555556, \"#d8576b\"], [0.6666666666666666, \"#ed7953\"], [0.7777777777777778, \"#fb9f3a\"], [0.8888888888888888, \"#fdca26\"], [1.0, \"#f0f921\"]], \"type\": \"histogram2d\"}], \"histogram2dcontour\": [{\"colorbar\": {\"outlinewidth\": 0, \"ticks\": \"\"}, \"colorscale\": [[0.0, \"#0d0887\"], [0.1111111111111111, \"#46039f\"], [0.2222222222222222, \"#7201a8\"], [0.3333333333333333, \"#9c179e\"], [0.4444444444444444, \"#bd3786\"], [0.5555555555555556, \"#d8576b\"], [0.6666666666666666, \"#ed7953\"], [0.7777777777777778, \"#fb9f3a\"], [0.8888888888888888, \"#fdca26\"], [1.0, \"#f0f921\"]], \"type\": \"histogram2dcontour\"}], \"mesh3d\": [{\"colorbar\": {\"outlinewidth\": 0, \"ticks\": \"\"}, \"type\": \"mesh3d\"}], \"parcoords\": [{\"line\": {\"colorbar\": {\"outlinewidth\": 0, \"ticks\": \"\"}}, \"type\": \"parcoords\"}], \"pie\": [{\"automargin\": true, \"type\": \"pie\"}], \"scatter\": [{\"marker\": {\"colorbar\": {\"outlinewidth\": 0, \"ticks\": \"\"}}, \"type\": \"scatter\"}], \"scatter3d\": [{\"line\": {\"colorbar\": {\"outlinewidth\": 0, \"ticks\": \"\"}}, \"marker\": {\"colorbar\": {\"outlinewidth\": 0, \"ticks\": \"\"}}, \"type\": \"scatter3d\"}], \"scattercarpet\": [{\"marker\": {\"colorbar\": {\"outlinewidth\": 0, \"ticks\": \"\"}}, \"type\": \"scattercarpet\"}], \"scattergeo\": [{\"marker\": {\"colorbar\": {\"outlinewidth\": 0, \"ticks\": \"\"}}, \"type\": \"scattergeo\"}], \"scattergl\": [{\"marker\": {\"colorbar\": {\"outlinewidth\": 0, \"ticks\": \"\"}}, \"type\": \"scattergl\"}], \"scattermapbox\": [{\"marker\": {\"colorbar\": {\"outlinewidth\": 0, \"ticks\": \"\"}}, \"type\": \"scattermapbox\"}], \"scatterpolar\": [{\"marker\": {\"colorbar\": {\"outlinewidth\": 0, \"ticks\": \"\"}}, \"type\": \"scatterpolar\"}], \"scatterpolargl\": [{\"marker\": {\"colorbar\": {\"outlinewidth\": 0, \"ticks\": \"\"}}, \"type\": \"scatterpolargl\"}], \"scatterternary\": [{\"marker\": {\"colorbar\": {\"outlinewidth\": 0, \"ticks\": \"\"}}, \"type\": \"scatterternary\"}], \"surface\": [{\"colorbar\": {\"outlinewidth\": 0, \"ticks\": \"\"}, \"colorscale\": [[0.0, \"#0d0887\"], [0.1111111111111111, \"#46039f\"], [0.2222222222222222, \"#7201a8\"], [0.3333333333333333, \"#9c179e\"], [0.4444444444444444, \"#bd3786\"], [0.5555555555555556, \"#d8576b\"], [0.6666666666666666, \"#ed7953\"], [0.7777777777777778, \"#fb9f3a\"], [0.8888888888888888, \"#fdca26\"], [1.0, \"#f0f921\"]], \"type\": \"surface\"}], \"table\": [{\"cells\": {\"fill\": {\"color\": \"#EBF0F8\"}, \"line\": {\"color\": \"white\"}}, \"header\": {\"fill\": {\"color\": \"#C8D4E3\"}, \"line\": {\"color\": \"white\"}}, \"type\": \"table\"}]}, \"layout\": {\"annotationdefaults\": {\"arrowcolor\": \"#2a3f5f\", \"arrowhead\": 0, \"arrowwidth\": 1}, \"coloraxis\": {\"colorbar\": {\"outlinewidth\": 0, \"ticks\": \"\"}}, \"colorscale\": {\"diverging\": [[0, \"#8e0152\"], [0.1, \"#c51b7d\"], [0.2, \"#de77ae\"], [0.3, \"#f1b6da\"], [0.4, \"#fde0ef\"], [0.5, \"#f7f7f7\"], [0.6, \"#e6f5d0\"], [0.7, \"#b8e186\"], [0.8, \"#7fbc41\"], [0.9, \"#4d9221\"], [1, \"#276419\"]], \"sequential\": [[0.0, \"#0d0887\"], [0.1111111111111111, \"#46039f\"], [0.2222222222222222, \"#7201a8\"], [0.3333333333333333, \"#9c179e\"], [0.4444444444444444, \"#bd3786\"], [0.5555555555555556, \"#d8576b\"], [0.6666666666666666, \"#ed7953\"], [0.7777777777777778, \"#fb9f3a\"], [0.8888888888888888, \"#fdca26\"], [1.0, \"#f0f921\"]], \"sequentialminus\": [[0.0, \"#0d0887\"], [0.1111111111111111, \"#46039f\"], [0.2222222222222222, \"#7201a8\"], [0.3333333333333333, \"#9c179e\"], [0.4444444444444444, \"#bd3786\"], [0.5555555555555556, \"#d8576b\"], [0.6666666666666666, \"#ed7953\"], [0.7777777777777778, \"#fb9f3a\"], [0.8888888888888888, \"#fdca26\"], [1.0, \"#f0f921\"]]}, \"colorway\": [\"#636efa\", \"#EF553B\", \"#00cc96\", \"#ab63fa\", \"#FFA15A\", \"#19d3f3\", \"#FF6692\", \"#B6E880\", \"#FF97FF\", \"#FECB52\"], \"font\": {\"color\": \"#2a3f5f\"}, \"geo\": {\"bgcolor\": \"white\", \"lakecolor\": \"white\", \"landcolor\": \"#E5ECF6\", \"showlakes\": true, \"showland\": true, \"subunitcolor\": \"white\"}, \"hoverlabel\": {\"align\": \"left\"}, \"hovermode\": \"closest\", \"mapbox\": {\"style\": \"light\"}, \"paper_bgcolor\": \"white\", \"plot_bgcolor\": \"#E5ECF6\", \"polar\": {\"angularaxis\": {\"gridcolor\": \"white\", \"linecolor\": \"white\", \"ticks\": \"\"}, \"bgcolor\": \"#E5ECF6\", \"radialaxis\": {\"gridcolor\": \"white\", \"linecolor\": \"white\", \"ticks\": \"\"}}, \"scene\": {\"xaxis\": {\"backgroundcolor\": \"#E5ECF6\", \"gridcolor\": \"white\", \"gridwidth\": 2, \"linecolor\": \"white\", \"showbackground\": true, \"ticks\": \"\", \"zerolinecolor\": \"white\"}, \"yaxis\": {\"backgroundcolor\": \"#E5ECF6\", \"gridcolor\": \"white\", \"gridwidth\": 2, \"linecolor\": \"white\", \"showbackground\": true, \"ticks\": \"\", \"zerolinecolor\": \"white\"}, \"zaxis\": {\"backgroundcolor\": \"#E5ECF6\", \"gridcolor\": \"white\", \"gridwidth\": 2, \"linecolor\": \"white\", \"showbackground\": true, \"ticks\": \"\", \"zerolinecolor\": \"white\"}}, \"shapedefaults\": {\"line\": {\"color\": \"#2a3f5f\"}}, \"ternary\": {\"aaxis\": {\"gridcolor\": \"white\", \"linecolor\": \"white\", \"ticks\": \"\"}, \"baxis\": {\"gridcolor\": \"white\", \"linecolor\": \"white\", \"ticks\": \"\"}, \"bgcolor\": \"#E5ECF6\", \"caxis\": {\"gridcolor\": \"white\", \"linecolor\": \"white\", \"ticks\": \"\"}}, \"title\": {\"x\": 0.05}, \"xaxis\": {\"automargin\": true, \"gridcolor\": \"white\", \"linecolor\": \"white\", \"ticks\": \"\", \"title\": {\"standoff\": 15}, \"zerolinecolor\": \"white\", \"zerolinewidth\": 2}, \"yaxis\": {\"automargin\": true, \"gridcolor\": \"white\", \"linecolor\": \"white\", \"ticks\": \"\", \"title\": {\"standoff\": 15}, \"zerolinecolor\": \"white\", \"zerolinewidth\": 2}}}, \"title\": {\"font\": {\"size\": 20}, \"text\": \"Visualizaci\\u00f3n de la base en el espacio tsne\"}, \"width\": 1000, \"xaxis\": {\"title\": {\"text\": \"componente 1\"}}, \"yaxis\": {\"title\": {\"text\": \"componente 2\"}}},\n",
              "                        {\"responsive\": true}\n",
              "                    ).then(function(){\n",
              "                            \n",
              "var gd = document.getElementById('07e282d3-6222-4fc8-8dd3-ecdd7dff93e1');\n",
              "var x = new MutationObserver(function (mutations, observer) {{\n",
              "        var display = window.getComputedStyle(gd).display;\n",
              "        if (!display || display === 'none') {{\n",
              "            console.log([gd, 'removed!']);\n",
              "            Plotly.purge(gd);\n",
              "            observer.disconnect();\n",
              "        }}\n",
              "}});\n",
              "\n",
              "// Listen for the removal of the full notebook cells\n",
              "var notebookContainer = gd.closest('#notebook-container');\n",
              "if (notebookContainer) {{\n",
              "    x.observe(notebookContainer, {childList: true});\n",
              "}}\n",
              "\n",
              "// Listen for the clearing of the current output cell\n",
              "var outputEl = gd.closest('.output');\n",
              "if (outputEl) {{\n",
              "    x.observe(outputEl, {childList: true});\n",
              "}}\n",
              "\n",
              "                        })\n",
              "                };\n",
              "                });\n",
              "            </script>\n",
              "        </div>"
            ],
            "application/vnd.plotly.v1+json": {
              "data": [
                {
                  "text": [
                    "SPGI",
                    "TSLA",
                    "SPG",
                    "XOM",
                    "AGN",
                    "PXD",
                    "APD",
                    "AA",
                    "NTRS",
                    "PNW",
                    "LB",
                    "DDS",
                    "NEM",
                    "AVY",
                    "WPM",
                    "MTB",
                    "MAS",
                    "DXCM",
                    "CNS",
                    "ETR",
                    "UBSG",
                    "INTC",
                    "BIDU",
                    "BIIB",
                    "XLNX",
                    "NTAP",
                    "EL",
                    "AMP",
                    "SCHW",
                    "HOG",
                    "WYND",
                    "IP",
                    "KO",
                    "CSIQ",
                    "ORCL",
                    "STLD",
                    "PBR",
                    "COF",
                    "UTX",
                    "CBRL",
                    "QCOM",
                    "CNMD",
                    "EXPD",
                    "MAR",
                    "AIZ",
                    "CHEF",
                    "AMD",
                    "TROW",
                    "NUE",
                    "GT",
                    "CASY",
                    "CROX",
                    "MSI",
                    "CHTR",
                    "IBM",
                    "PFE",
                    "BBY",
                    "CDNS",
                    "DHI",
                    "LOW",
                    "VIAC",
                    "CRI",
                    "CRUS",
                    "STT",
                    "TGT",
                    "WMT",
                    "CINF",
                    "DXPE",
                    "AAPL",
                    "ANTM",
                    "TAP",
                    "CRAI",
                    "MO",
                    "MRK",
                    "NVDA",
                    "SSRM",
                    "AKAM",
                    "CBRE",
                    "DTE",
                    "TFC",
                    "MET",
                    "UNH",
                    "OKE",
                    "JPM",
                    "ALGT",
                    "MU",
                    "PEP",
                    "CSCO",
                    "AMT",
                    "ATVI",
                    "RS",
                    "DUK",
                    "YNDX",
                    "MUR",
                    "FSLR",
                    "CAJ",
                    "DISCA",
                    "MAT",
                    "FLIR",
                    "VRTX",
                    "RTN",
                    "ROP",
                    "FISV",
                    "SPAR",
                    "J",
                    "RGLD",
                    "DNKN",
                    "KLAC",
                    "GIS",
                    "RDY",
                    "NS",
                    "MCHP",
                    "CME",
                    "ROST",
                    "ABMD",
                    "IPGP",
                    "NYT",
                    "FLR",
                    "EOG",
                    "ADM",
                    "STX",
                    "MGA",
                    "BJRI",
                    "MCD",
                    "PG",
                    "RHI",
                    "COP",
                    "NRG",
                    "CVS",
                    "GL",
                    "GOOGL",
                    "KHC",
                    "WDC",
                    "DD",
                    "K",
                    "BDX",
                    "SHW",
                    "NEE",
                    "PPG",
                    "SNE",
                    "HAIN",
                    "GS",
                    "CI",
                    "JEF",
                    "CIEN",
                    "DELL",
                    "MMM",
                    "ANF",
                    "ITRI",
                    "CACC",
                    "PRU",
                    "BK",
                    "TPR",
                    "CVX",
                    "VAR",
                    "NOV",
                    "CEF",
                    "UPS",
                    "UAA",
                    "KSS",
                    "PCAR",
                    "VZ",
                    "LRCX",
                    "RCI",
                    "AFL",
                    "AON",
                    "AZO",
                    "ADI",
                    "NWSA",
                    "BLK",
                    "CTAS",
                    "NSC",
                    "MDT",
                    "LUV",
                    "LEN",
                    "AIG",
                    "LBTYA",
                    "GD",
                    "UBER",
                    "AMX",
                    "HSIC",
                    "MRVL",
                    "SJM",
                    "AVAV",
                    "RL",
                    "AVB",
                    "CHN",
                    "ATI",
                    "BXP",
                    "HAL",
                    "JNJ",
                    "DRI",
                    "CLX",
                    "KBH",
                    "TTWO",
                    "ARCH",
                    "WBA",
                    "CENT",
                    "HMC",
                    "CMCSA",
                    "PAYX",
                    "ACN",
                    "MOS",
                    "DISH",
                    "RYAAY",
                    "PLD",
                    "LMT",
                    "VLO",
                    "TRV",
                    "SBUX",
                    "BAC",
                    "DOV",
                    "FLS",
                    "TMO",
                    "NBL",
                    "STZ",
                    "ADP",
                    "INFY",
                    "APA",
                    "WMB",
                    "AEIS",
                    "LHX",
                    "SRPT",
                    "PKI",
                    "CPB",
                    "LH",
                    "LNC",
                    "BBBY",
                    "PGR",
                    "WU",
                    "XRX",
                    "ETFC",
                    "ABC",
                    "CB",
                    "ALXN",
                    "BMRN",
                    "NTES",
                    "DIS",
                    "PCG",
                    "WHR",
                    "FMC",
                    "HD",
                    "COST",
                    "NOC",
                    "LAMR",
                    "ICE",
                    "EXPE",
                    "HPQ",
                    "TM",
                    "AIMC",
                    "GRMN",
                    "HON",
                    "ADSK",
                    "TIF",
                    "EBAY",
                    "TXN",
                    "SRE",
                    "PH",
                    "JWN",
                    "ATGE",
                    "MYL",
                    "DAL",
                    "TSN",
                    "FTI",
                    "THC",
                    "OSK",
                    "ANIK",
                    "CRM",
                    "GPS",
                    "AMGN",
                    "MCK",
                    "ARGO",
                    "OXY",
                    "HUM",
                    "AXP",
                    "MPC",
                    "ENGIE",
                    "BMY",
                    "ASML",
                    "DLTR",
                    "MS",
                    "VMC",
                    "MCO",
                    "GPC",
                    "BKR",
                    "HRL",
                    "CAT",
                    "WFC",
                    "BRKB",
                    "EA",
                    "CATM",
                    "CMI",
                    "CMG",
                    "FDX",
                    "GWW",
                    "KMX",
                    "L",
                    "TEX",
                    "XEL",
                    "KMB",
                    "LAZ",
                    "NXPI",
                    "INTU",
                    "BHC",
                    "FII",
                    "CTL",
                    "GILD",
                    "CAG",
                    "AMAT",
                    "ORLY",
                    "C",
                    "ETN",
                    "ABT",
                    "KR",
                    "VMW",
                    "CF",
                    "EFX",
                    "ALGN",
                    "AVGO",
                    "MSFT",
                    "CORT",
                    "CHKP",
                    "GE",
                    "EQIX",
                    "TTM",
                    "DHR",
                    "URBN",
                    "GOLD",
                    "UNP",
                    "NLOK",
                    "ILMN",
                    "YUM",
                    "POLYP",
                    "SCCO",
                    "AMZN",
                    "MHO",
                    "ALNY",
                    "DVN",
                    "HES",
                    "PNC",
                    "FCX",
                    "EW",
                    "TEVA",
                    "DE",
                    "IPG",
                    "ADBE",
                    "CSII",
                    "ISRG",
                    "BX",
                    "V",
                    "HRB",
                    "AEM",
                    "MKC",
                    "BA",
                    "PAAS",
                    "AAXN",
                    "CSX",
                    "UAL",
                    "WYNN",
                    "NFLX",
                    "PM",
                    "CMTL",
                    "HSY",
                    "GM",
                    "SLB",
                    "NDAQ",
                    "SYY",
                    "LLY",
                    "CMA",
                    "NKE",
                    "VALE",
                    "BAX",
                    "BKNG",
                    "BIG",
                    "AMED",
                    "COLM",
                    "JBLU",
                    "COG"
                  ],
                  "y": [
                    1.080394983291626,
                    2.0841314792633057,
                    -2.6208860874176025,
                    -0.5275784730911255,
                    -6.4411773681640625,
                    -2.2215991020202637,
                    -2.025536298751831,
                    -3.242123603820801,
                    -0.3335716426372528,
                    -0.6919581294059753,
                    -5.65191650390625,
                    -6.549338340759277,
                    -2.202319383621216,
                    -1.1590983867645264,
                    -0.29940101504325867,
                    0.8553239703178406,
                    -0.613953173160553,
                    1.4940646886825562,
                    -1.6983301639556885,
                    -0.7407952547073364,
                    0.1360602229833603,
                    4.3121442794799805,
                    2.2708098888397217,
                    -0.7028184533119202,
                    4.537747383117676,
                    3.313105344772339,
                    -8.716666221618652,
                    -3.6832070350646973,
                    1.8873181343078613,
                    -4.055675029754639,
                    -0.39013469219207764,
                    2.2155280113220215,
                    -6.063509464263916,
                    1.4175794124603271,
                    3.535073757171631,
                    2.3260152339935303,
                    -0.5081486701965332,
                    -4.318966865539551,
                    1.5100046396255493,
                    0.5890185236930847,
                    5.912320613861084,
                    0.5086390376091003,
                    1.079838752746582,
                    6.52457857131958,
                    -1.771061658859253,
                    -0.037495434284210205,
                    4.92560338973999,
                    2.638137102127075,
                    -3.2224209308624268,
                    2.2329721450805664,
                    0.36614400148391724,
                    0.9625564217567444,
                    3.981267213821411,
                    5.403703212738037,
                    3.6199681758880615,
                    -7.123072147369385,
                    -7.177084922790527,
                    3.480468511581421,
                    -6.8923773765563965,
                    -1.4331928491592407,
                    0.05377138778567314,
                    -1.4127460718154907,
                    4.012090682983398,
                    0.5633010268211365,
                    -8.384012222290039,
                    -8.055642127990723,
                    -0.19310146570205688,
                    1.1783684492111206,
                    2.3457884788513184,
                    -4.184380531311035,
                    -0.7909227609634399,
                    0.7769788503646851,
                    -3.096292734146118,
                    -7.1555070877075195,
                    4.5363006591796875,
                    1.6960707902908325,
                    3.8023786544799805,
                    0.9308375120162964,
                    -0.07256545126438141,
                    -0.23923566937446594,
                    -0.9159642457962036,
                    -4.354525089263916,
                    -0.7337426543235779,
                    -5.1898369789123535,
                    -2.224151611328125,
                    4.473735809326172,
                    -2.1745970249176025,
                    3.3288936614990234,
                    -0.39180174469947815,
                    6.081117630004883,
                    -1.9216448068618774,
                    -0.6296210885047913,
                    1.8160172700881958,
                    -1.2154910564422607,
                    1.465597152709961,
                    -0.7382466793060303,
                    5.3002848625183105,
                    1.064287543296814,
                    -1.0385551452636719,
                    -0.5483604669570923,
                    1.319788932800293,
                    -1.4217194318771362,
                    2.54581880569458,
                    0.7654728293418884,
                    -4.312933444976807,
                    2.8355813026428223,
                    0.20059888064861298,
                    4.4685492515563965,
                    -5.240533351898193,
                    -0.6610267758369446,
                    2.6307175159454346,
                    4.2884111404418945,
                    3.2805898189544678,
                    0.3291970193386078,
                    1.4738683700561523,
                    0.5275207161903381,
                    2.3498566150665283,
                    -1.0575770139694214,
                    -1.9192432165145874,
                    -3.7085683345794678,
                    4.731509208679199,
                    -1.1827757358551025,
                    0.4969039559364319,
                    -6.914843559265137,
                    -2.1746671199798584,
                    -0.878960907459259,
                    -1.2066096067428589,
                    0.03847157955169678,
                    -4.22910213470459,
                    -0.4111872613430023,
                    2.760996103286743,
                    -1.7939472198486328,
                    4.9889397621154785,
                    -5.081644058227539,
                    0.6621811389923096,
                    -0.4225960373878479,
                    -3.1163346767425537,
                    -0.034469448029994965,
                    -1.9846247434616089,
                    2.0114803314208984,
                    -0.8244163393974304,
                    -4.647181510925293,
                    -4.010687351226807,
                    -0.29541563987731934,
                    -0.6704747676849365,
                    4.646031379699707,
                    -6.286736488342285,
                    -6.507289409637451,
                    1.6333317756652832,
                    -0.0960366278886795,
                    -3.3456640243530273,
                    0.8102872967720032,
                    -1.6030473709106445,
                    -0.5361148118972778,
                    0.10537702590227127,
                    6.526231288909912,
                    0.4607347846031189,
                    1.9105647802352905,
                    -7.201850414276123,
                    -7.8253912925720215,
                    2.19132399559021,
                    3.3999240398406982,
                    4.54666805267334,
                    0.2595750093460083,
                    -2.8005497455596924,
                    -2.866995334625244,
                    -6.825709819793701,
                    3.7485973834991455,
                    4.556502342224121,
                    3.6529181003570557,
                    0.05838208273053169,
                    -1.2593079805374146,
                    1.0098947286605835,
                    -5.311169624328613,
                    -7.639030933380127,
                    -2.5583269596099854,
                    3.6539220809936523,
                    1.3128952980041504,
                    3.1301963329315186,
                    0.06022254005074501,
                    0.9775032997131348,
                    4.285438060760498,
                    -4.371837615966797,
                    1.2464028596878052,
                    -6.556924343109131,
                    -2.2587432861328125,
                    1.2212157249450684,
                    -1.8988518714904785,
                    -1.9694409370422363,
                    -1.7509976625442505,
                    -6.701867580413818,
                    -6.172550678253174,
                    -4.570521354675293,
                    -7.644513130187988,
                    6.174732685089111,
                    4.157968521118164,
                    0.1149883046746254,
                    -1.9226258993148804,
                    -5.742164611816406,
                    5.6031317710876465,
                    2.4834346771240234,
                    2.452773332595825,
                    -3.2140750885009766,
                    5.620985507965088,
                    -2.3752195835113525,
                    -2.6241977214813232,
                    1.3682292699813843,
                    -1.083130121231079,
                    -3.2202179431915283,
                    0.4509652554988861,
                    -5.082900524139404,
                    -1.471775770187378,
                    -0.8105511665344238,
                    0.11654899269342422,
                    -0.8915500640869141,
                    -5.652862071990967,
                    2.335831642150879,
                    2.213869333267212,
                    -0.8504794239997864,
                    -2.5237085819244385,
                    1.2318222522735596,
                    -0.06855432689189911,
                    -0.7736974358558655,
                    -0.18359847366809845,
                    -5.20905876159668,
                    -0.2686762809753418,
                    -1.097907543182373,
                    0.5203344225883484,
                    -3.3175859451293945,
                    1.8670527935028076,
                    -2.3982019424438477,
                    -0.24943464994430542,
                    4.598806858062744,
                    -2.173602342605591,
                    -0.48733919858932495,
                    -0.6095943450927734,
                    2.3461952209472656,
                    -6.3994951248168945,
                    -1.8750336170196533,
                    -4.3576250076293945,
                    1.1099811792373657,
                    -8.000931739807129,
                    -0.952992856502533,
                    1.2761070728302002,
                    -0.8096291422843933,
                    2.6950297355651855,
                    2.1633753776550293,
                    3.7542645931243896,
                    -5.766938209533691,
                    0.7672615647315979,
                    3.6389825344085693,
                    1.2286136150360107,
                    3.256436586380005,
                    -6.439387321472168,
                    2.5543675422668457,
                    4.91677188873291,
                    -0.5291574597358704,
                    1.2138324975967407,
                    -7.753660678863525,
                    -0.4000130295753479,
                    -1.091125249862671,
                    -5.247678279876709,
                    -4.8186116218566895,
                    2.401587724685669,
                    -3.17678165435791,
                    -1.1812800168991089,
                    0.6113691329956055,
                    3.599012613296509,
                    4.915616512298584,
                    -0.674876868724823,
                    -3.138418674468994,
                    0.7132031917572021,
                    -1.286908745765686,
                    -4.220315933227539,
                    -5.945990085601807,
                    -1.7596104145050049,
                    1.1385533809661865,
                    -6.431063175201416,
                    5.808755874633789,
                    0.4785495400428772,
                    -4.612723350524902,
                    -2.686777114868164,
                    0.014839587733149529,
                    -3.232010841369629,
                    -0.3062814176082611,
                    -4.086174964904785,
                    -4.283697605133057,
                    -5.242572784423828,
                    -0.7453418374061584,
                    6.1675004959106445,
                    1.0312219858169556,
                    -2.905369997024536,
                    -7.319817066192627,
                    -4.710587501525879,
                    -2.124009609222412,
                    -6.748074531555176,
                    -3.823688268661499,
                    -1.4436007738113403,
                    1.6961627006530762,
                    -4.296393394470215,
                    -1.894431471824646,
                    5.498936653137207,
                    2.851971387863159,
                    -1.0018173456192017,
                    -1.9235076904296875,
                    3.2828118801116943,
                    -0.6256282925605774,
                    -4.812205791473389,
                    4.469245433807373,
                    1.2191132307052612,
                    0.5990419387817383,
                    -2.8971595764160156,
                    0.8774048686027527,
                    -6.048336982727051,
                    3.4832680225372314,
                    4.306739807128906,
                    2.7188963890075684,
                    4.037369728088379,
                    5.725597858428955,
                    3.8890106678009033,
                    0.45341622829437256,
                    3.9093775749206543,
                    3.3651323318481445,
                    2.0901830196380615,
                    -4.313509941101074,
                    -2.4197263717651367,
                    0.5767791271209717,
                    3.4608399868011475,
                    -1.4462554454803467,
                    -0.0057148695923388,
                    0.46192458271980286,
                    -5.577570915222168,
                    -0.07559257000684738,
                    -0.3249260187149048,
                    2.685363292694092,
                    -1.4884289503097534,
                    -0.5062363147735596,
                    -1.18821382522583,
                    -1.136303186416626,
                    -3.9376606941223145,
                    -2.497016429901123,
                    0.03757348656654358,
                    -3.0112013816833496,
                    1.1451058387756348,
                    2.1856300830841064,
                    3.285562753677368,
                    0.7464187741279602,
                    1.9102870225906372,
                    -3.859992027282715,
                    1.4859262704849243,
                    0.40023061633110046,
                    -2.231170177459717,
                    -4.457154750823975,
                    -6.809134006500244,
                    3.0293776988983154,
                    1.8447575569152832,
                    -3.5416901111602783,
                    -4.839334487915039,
                    -1.2752512693405151,
                    2.3324334621429443,
                    -1.2233808040618896,
                    1.496325969696045,
                    -4.928337574005127,
                    -5.659843444824219,
                    -1.7587807178497314,
                    2.808131217956543,
                    -4.358081817626953,
                    -6.503938674926758,
                    -3.1470279693603516,
                    -7.701105117797852,
                    -0.12573835253715515,
                    0.5914561748504639,
                    2.0393004417419434,
                    -0.6476914882659912,
                    1.0622133016586304,
                    -0.3177177906036377,
                    -3.0934600830078125,
                    -1.3453692197799683
                  ],
                  "mode": "markers",
                  "marker": {
                    "size": 5
                  },
                  "x": [
                    -4.0125579833984375,
                    10.280550003051758,
                    0.6718358993530273,
                    -7.833770751953125,
                    -5.70374059677124,
                    -5.688475131988525,
                    -0.9381119012832642,
                    -2.8377721309661865,
                    4.196572303771973,
                    -3.361246347427368,
                    0.7218829989433289,
                    -0.39851856231689453,
                    -2.338489532470703,
                    -1.4657220840454102,
                    1.0840948820114136,
                    -3.187035322189331,
                    -0.904563307762146,
                    6.784023761749268,
                    1.8519220352172852,
                    -3.4593772888183594,
                    2.017504930496216,
                    9.57638168334961,
                    9.006470680236816,
                    8.769601821899414,
                    7.384726047515869,
                    7.4892072677612305,
                    -3.3692805767059326,
                    1.9647064208984375,
                    -2.696117401123047,
                    0.7887670397758484,
                    1.258979082107544,
                    2.236388683319092,
                    -3.376603126525879,
                    7.533966064453125,
                    -3.389152765274048,
                    4.456843376159668,
                    -6.425756454467773,
                    2.013625144958496,
                    -6.9919328689575195,
                    5.527134895324707,
                    7.251311779022217,
                    4.530402660369873,
                    4.9125752449035645,
                    0.5290254950523376,
                    -0.09009001404047012,
                    5.475585460662842,
                    8.873666763305664,
                    4.812137603759766,
                    -2.599285840988159,
                    3.6245813369750977,
                    6.118808269500732,
                    6.485354423522949,
                    -4.287159442901611,
                    4.101888179779053,
                    -3.263068675994873,
                    -5.697929859161377,
                    -0.8757455348968506,
                    7.741471290588379,
                    1.606463074684143,
                    3.1796367168426514,
                    2.3722262382507324,
                    0.238873690366745,
                    6.9821672439575195,
                    -3.363682746887207,
                    -0.840178370475769,
                    -1.3932509422302246,
                    3.6968865394592285,
                    3.9354841709136963,
                    10.35289478302002,
                    -5.313894271850586,
                    2.199934244155884,
                    3.748499631881714,
                    0.3579723536968231,
                    -5.635545253753662,
                    9.325989723205566,
                    4.377535343170166,
                    6.42968225479126,
                    0.47346949577331543,
                    -4.62766170501709,
                    1.8477791547775269,
                    2.2909739017486572,
                    -5.539137840270996,
                    -4.375895023345947,
                    -8.065841674804688,
                    5.528248310089111,
                    8.063963890075684,
                    7.5090012550354,
                    8.683724403381348,
                    -2.5203588008880615,
                    8.949790000915527,
                    2.771655559539795,
                    -4.405695915222168,
                    2.4569337368011475,
                    -5.211635589599609,
                    7.887383937835693,
                    0.7915864586830139,
                    4.22147274017334,
                    8.878263473510742,
                    4.461212635040283,
                    7.820065021514893,
                    -6.703470230102539,
                    -0.9525828957557678,
                    7.043916702270508,
                    2.7851006984710693,
                    -0.15064877271652222,
                    3.4444408416748047,
                    5.824504852294922,
                    7.100982189178467,
                    -1.21078622341156,
                    0.7238088846206665,
                    1.3550528287887573,
                    6.598307132720947,
                    4.804779529571533,
                    6.832085609436035,
                    6.668054580688477,
                    3.0879812240600586,
                    -0.12005153298377991,
                    -2.7671210765838623,
                    -5.709895610809326,
                    -1.3108062744140625,
                    6.144796848297119,
                    0.2355620115995407,
                    5.6601080894470215,
                    -2.501176118850708,
                    -4.571056365966797,
                    0.041393447667360306,
                    -6.925808429718018,
                    -4.851194381713867,
                    -5.045809268951416,
                    1.2869189977645874,
                    10.456110954284668,
                    7.092159748077393,
                    5.7124152183532715,
                    -2.904689311981201,
                    1.8995543718338013,
                    -1.4860221147537231,
                    -1.523335576057434,
                    -4.793056011199951,
                    -1.0488489866256714,
                    -3.878460645675659,
                    5.858778476715088,
                    -8.192441940307617,
                    -5.129417896270752,
                    1.5712310075759888,
                    -2.05664324760437,
                    -3.254868745803833,
                    -3.754631519317627,
                    -1.1704182624816895,
                    4.92875337600708,
                    3.1343588829040527,
                    2.0314700603485107,
                    -3.1756513118743896,
                    0.5026298761367798,
                    -7.802958011627197,
                    -1.2724545001983643,
                    0.5250118374824524,
                    1.085168719291687,
                    1.0409300327301025,
                    -1.3245869874954224,
                    -0.9269802570343018,
                    4.013256549835205,
                    -5.9073896408081055,
                    8.040276527404785,
                    0.21773694455623627,
                    -0.19062425196170807,
                    2.5143332481384277,
                    0.18168462812900543,
                    7.084741592407227,
                    3.25769305229187,
                    -1.976428508758545,
                    4.055418968200684,
                    -2.989438533782959,
                    -2.150589942932129,
                    4.885157108306885,
                    1.2020212411880493,
                    1.9616494178771973,
                    3.93021559715271,
                    -6.122010707855225,
                    0.9479497671127319,
                    0.561616063117981,
                    5.325370788574219,
                    6.227851390838623,
                    -0.7568221092224121,
                    4.9458160400390625,
                    -1.064868450164795,
                    0.6731908321380615,
                    2.3157947063446045,
                    -0.931820809841156,
                    0.6629543304443359,
                    -7.600803852081299,
                    -5.6529221534729,
                    -0.1575331836938858,
                    -1.9430921077728271,
                    1.0767009258270264,
                    8.966375350952148,
                    0.7489588856697083,
                    8.352139472961426,
                    3.722745418548584,
                    2.6173999309539795,
                    3.8559367656707764,
                    7.1453938484191895,
                    -2.0994677543640137,
                    -2.2649548053741455,
                    3.842832565307617,
                    5.363884925842285,
                    0.6147555708885193,
                    -6.725935459136963,
                    -5.530400276184082,
                    -0.14986658096313477,
                    9.467758178710938,
                    -8.082337379455566,
                    -2.409879684448242,
                    -0.8688156008720398,
                    -1.3388179540634155,
                    -4.893179416656494,
                    0.2587427794933319,
                    7.577429294586182,
                    1.1580910682678223,
                    -6.125329494476318,
                    -6.761200904846191,
                    3.317765712738037,
                    0.6151496171951294,
                    7.091512203216553,
                    -1.2542394399642944,
                    -1.9420876502990723,
                    -0.6399421095848083,
                    -0.6123986840248108,
                    7.467715740203857,
                    -4.623292446136475,
                    0.47340214252471924,
                    -3.5001485347747803,
                    4.794406890869141,
                    2.12310791015625,
                    1.5564148426055908,
                    7.954610824584961,
                    7.602927207946777,
                    6.083808898925781,
                    -3.3323168754577637,
                    -4.563516139984131,
                    -2.5892908573150635,
                    -5.187889099121094,
                    1.1915355920791626,
                    3.2138967514038086,
                    -6.516488552093506,
                    5.301682949066162,
                    -0.025138726457953453,
                    6.281188011169434,
                    -3.846529960632324,
                    2.641188621520996,
                    3.5180017948150635,
                    6.126308441162109,
                    -1.4736255407333374,
                    7.181766033172607,
                    -1.371381163597107,
                    6.279175281524658,
                    7.585511684417725,
                    -4.421895980834961,
                    -0.2579137682914734,
                    -0.7539470195770264,
                    1.0238354206085205,
                    8.897059440612793,
                    4.978339195251465,
                    -1.1718138456344604,
                    -1.371504783630371,
                    -4.131548881530762,
                    -2.0319628715515137,
                    4.262401103973389,
                    -3.2113819122314453,
                    -1.3182324171066284,
                    8.823824882507324,
                    -3.9497945308685303,
                    1.6116582155227661,
                    -6.01716423034668,
                    -5.3219194412231445,
                    -4.17415714263916,
                    -6.322431564331055,
                    1.428244948387146,
                    -5.190456390380859,
                    5.99944543838501,
                    7.127478122711182,
                    -8.1941556930542,
                    -1.469394326210022,
                    -3.118398427963257,
                    -1.4417463541030884,
                    1.2295129299163818,
                    -1.8206844329833984,
                    -3.141850709915161,
                    -8.006375312805176,
                    0.5552067160606384,
                    8.993949890136719,
                    4.081978797912598,
                    -1.006123661994934,
                    -0.25482553243637085,
                    -3.73927903175354,
                    -0.37542790174484253,
                    0.2355220913887024,
                    3.735874891281128,
                    -2.3517792224884033,
                    5.008909225463867,
                    -2.2329366207122803,
                    1.1872427463531494,
                    6.3756303787231445,
                    7.456906795501709,
                    1.1096186637878418,
                    0.9273160696029663,
                    -5.685511112213135,
                    8.723299980163574,
                    -0.3303542733192444,
                    8.110426902770996,
                    6.056527137756348,
                    -0.2544289231300354,
                    3.30704402923584,
                    -2.136385202407837,
                    -1.6453099250793457,
                    -3.2547476291656494,
                    -0.33965355157852173,
                    -4.681878566741943,
                    7.011096477508545,
                    7.175724029541016,
                    10.007340431213379,
                    3.464038133621216,
                    5.686882972717285,
                    -0.8126452565193176,
                    5.524406909942627,
                    6.86181640625,
                    -3.4694807529449463,
                    6.840013027191162,
                    2.3272199630737305,
                    -3.162337303161621,
                    2.3158655166625977,
                    7.994084358215332,
                    0.5186740756034851,
                    1.9319398403167725,
                    0.3244735896587372,
                    10.57091236114502,
                    0.08684315532445908,
                    6.902468204498291,
                    -5.559090614318848,
                    -5.572109699249268,
                    2.1376936435699463,
                    -2.5960373878479004,
                    -1.8122199773788452,
                    8.17687702178955,
                    0.6100987792015076,
                    -1.3732695579528809,
                    8.432967185974121,
                    4.299275875091553,
                    8.343799591064453,
                    -7.004058361053467,
                    -0.39693379402160645,
                    -0.5074024200439453,
                    -1.8592040538787842,
                    -1.2982882261276245,
                    -3.908583164215088,
                    3.54764723777771,
                    4.7111711502075195,
                    5.470302581787109,
                    5.242114067077637,
                    6.336416721343994,
                    10.342805862426758,
                    1.7150485515594482,
                    3.188342332839966,
                    -1.9054886102676392,
                    2.8356966972351074,
                    -7.651055812835693,
                    5.197238922119141,
                    -2.059722661972046,
                    -5.325488090515137,
                    1.2060658931732178,
                    -1.7789026498794556,
                    -6.585990905761719,
                    -1.533673882484436,
                    5.92832088470459,
                    2.7239887714385986,
                    5.628641605377197,
                    6.079154968261719,
                    5.488656997680664,
                    -5.340238571166992
                  ],
                  "type": "scatter"
                },
                {
                  "opacity": 0.9,
                  "textfont": {
                    "color": "black",
                    "family": "sans serif",
                    "size": 10
                  },
                  "name": "Top tickers",
                  "text": [
                    "TSLA",
                    "XOM",
                    "AGN",
                    "AA",
                    "INTC",
                    "KO",
                    "IBM",
                    "TGT",
                    "WMT",
                    "AAPL",
                    "JPM",
                    "MU",
                    "CME",
                    "GOOGL",
                    "GS",
                    "CVX",
                    "VZ",
                    "NWSA",
                    "BLK",
                    "UBER",
                    "LMT",
                    "SBUX",
                    "BAC",
                    "WMB",
                    "DIS",
                    "TM",
                    "MS",
                    "BKR",
                    "CAT",
                    "WFC",
                    "CMG",
                    "C",
                    "EFX",
                    "MSFT",
                    "GE",
                    "AMZN",
                    "BA",
                    "NFLX",
                    "GM"
                  ],
                  "mode": "text",
                  "y": [
                    2.0841314792633057,
                    -0.5275784730911255,
                    -6.4411773681640625,
                    -3.242123603820801,
                    4.3121442794799805,
                    -6.063509464263916,
                    3.6199681758880615,
                    -8.384012222290039,
                    -8.055642127990723,
                    2.3457884788513184,
                    -5.1898369789123535,
                    4.473735809326172,
                    3.2805898189544678,
                    2.760996103286743,
                    -4.647181510925293,
                    -0.5361148118972778,
                    3.3999240398406982,
                    4.556502342224121,
                    3.6529181003570557,
                    3.1301963329315186,
                    1.3682292699813843,
                    0.4509652554988861,
                    -5.082900524139404,
                    -2.5237085819244385,
                    -6.3994951248168945,
                    -5.766938209533691,
                    -4.612723350524902,
                    -0.3062814176082611,
                    -4.283697605133057,
                    -5.242572784423828,
                    -7.319817066192627,
                    0.5990419387817383,
                    2.7188963890075684,
                    3.8890106678009033,
                    3.3651323318481445,
                    2.685363292694092,
                    -6.809134006500244,
                    2.3324334621429443,
                    -5.659843444824219
                  ],
                  "x": [
                    10.280550003051758,
                    -7.833770751953125,
                    -5.70374059677124,
                    -2.8377721309661865,
                    9.57638168334961,
                    -3.376603126525879,
                    -3.263068675994873,
                    -0.840178370475769,
                    -1.3932509422302246,
                    10.35289478302002,
                    -8.065841674804688,
                    8.063963890075684,
                    4.804779529571533,
                    10.456110954284668,
                    -8.192441940307617,
                    -7.802958011627197,
                    -5.9073896408081055,
                    3.25769305229187,
                    -1.976428508758545,
                    0.9479497671127319,
                    -6.725935459136963,
                    9.467758178710938,
                    -8.082337379455566,
                    -6.761200904846191,
                    -3.3323168754577637,
                    2.641188621520996,
                    -8.1941556930542,
                    1.2295129299163818,
                    -3.141850709915161,
                    -8.006375312805176,
                    -0.25482553243637085,
                    -0.2544289231300354,
                    -4.681878566741943,
                    10.007340431213379,
                    -0.8126452565193176,
                    10.57091236114502,
                    -3.908583164215088,
                    10.342805862426758,
                    2.8356966972351074
                  ],
                  "type": "scatter"
                }
              ],
              "config": {
                "plotlyServerURL": "https://plot.ly",
                "linkText": "Export to plot.ly",
                "showLink": false
              },
              "layout": {
                "autosize": false,
                "template": {
                  "layout": {
                    "shapedefaults": {
                      "line": {
                        "color": "#2a3f5f"
                      }
                    },
                    "polar": {
                      "radialaxis": {
                        "ticks": "",
                        "gridcolor": "white",
                        "linecolor": "white"
                      },
                      "bgcolor": "#E5ECF6",
                      "angularaxis": {
                        "ticks": "",
                        "gridcolor": "white",
                        "linecolor": "white"
                      }
                    },
                    "colorway": [
                      "#636efa",
                      "#EF553B",
                      "#00cc96",
                      "#ab63fa",
                      "#FFA15A",
                      "#19d3f3",
                      "#FF6692",
                      "#B6E880",
                      "#FF97FF",
                      "#FECB52"
                    ],
                    "xaxis": {
                      "automargin": true,
                      "title": {
                        "standoff": 15
                      },
                      "zerolinewidth": 2,
                      "ticks": "",
                      "zerolinecolor": "white",
                      "gridcolor": "white",
                      "linecolor": "white"
                    },
                    "colorscale": {
                      "diverging": [
                        [
                          0,
                          "#8e0152"
                        ],
                        [
                          0.1,
                          "#c51b7d"
                        ],
                        [
                          0.2,
                          "#de77ae"
                        ],
                        [
                          0.3,
                          "#f1b6da"
                        ],
                        [
                          0.4,
                          "#fde0ef"
                        ],
                        [
                          0.5,
                          "#f7f7f7"
                        ],
                        [
                          0.6,
                          "#e6f5d0"
                        ],
                        [
                          0.7,
                          "#b8e186"
                        ],
                        [
                          0.8,
                          "#7fbc41"
                        ],
                        [
                          0.9,
                          "#4d9221"
                        ],
                        [
                          1,
                          "#276419"
                        ]
                      ],
                      "sequential": [
                        [
                          0,
                          "#0d0887"
                        ],
                        [
                          0.1111111111111111,
                          "#46039f"
                        ],
                        [
                          0.2222222222222222,
                          "#7201a8"
                        ],
                        [
                          0.3333333333333333,
                          "#9c179e"
                        ],
                        [
                          0.4444444444444444,
                          "#bd3786"
                        ],
                        [
                          0.5555555555555556,
                          "#d8576b"
                        ],
                        [
                          0.6666666666666666,
                          "#ed7953"
                        ],
                        [
                          0.7777777777777778,
                          "#fb9f3a"
                        ],
                        [
                          0.8888888888888888,
                          "#fdca26"
                        ],
                        [
                          1,
                          "#f0f921"
                        ]
                      ],
                      "sequentialminus": [
                        [
                          0,
                          "#0d0887"
                        ],
                        [
                          0.1111111111111111,
                          "#46039f"
                        ],
                        [
                          0.2222222222222222,
                          "#7201a8"
                        ],
                        [
                          0.3333333333333333,
                          "#9c179e"
                        ],
                        [
                          0.4444444444444444,
                          "#bd3786"
                        ],
                        [
                          0.5555555555555556,
                          "#d8576b"
                        ],
                        [
                          0.6666666666666666,
                          "#ed7953"
                        ],
                        [
                          0.7777777777777778,
                          "#fb9f3a"
                        ],
                        [
                          0.8888888888888888,
                          "#fdca26"
                        ],
                        [
                          1,
                          "#f0f921"
                        ]
                      ]
                    },
                    "paper_bgcolor": "white",
                    "plot_bgcolor": "#E5ECF6",
                    "title": {
                      "x": 0.05
                    },
                    "scene": {
                      "zaxis": {
                        "backgroundcolor": "#E5ECF6",
                        "ticks": "",
                        "gridwidth": 2,
                        "showbackground": true,
                        "zerolinecolor": "white",
                        "gridcolor": "white",
                        "linecolor": "white"
                      },
                      "xaxis": {
                        "backgroundcolor": "#E5ECF6",
                        "ticks": "",
                        "gridwidth": 2,
                        "showbackground": true,
                        "zerolinecolor": "white",
                        "gridcolor": "white",
                        "linecolor": "white"
                      },
                      "yaxis": {
                        "backgroundcolor": "#E5ECF6",
                        "ticks": "",
                        "gridwidth": 2,
                        "showbackground": true,
                        "zerolinecolor": "white",
                        "gridcolor": "white",
                        "linecolor": "white"
                      }
                    },
                    "yaxis": {
                      "automargin": true,
                      "title": {
                        "standoff": 15
                      },
                      "zerolinewidth": 2,
                      "ticks": "",
                      "zerolinecolor": "white",
                      "gridcolor": "white",
                      "linecolor": "white"
                    },
                    "annotationdefaults": {
                      "arrowwidth": 1,
                      "arrowhead": 0,
                      "arrowcolor": "#2a3f5f"
                    },
                    "hoverlabel": {
                      "align": "left"
                    },
                    "ternary": {
                      "bgcolor": "#E5ECF6",
                      "baxis": {
                        "ticks": "",
                        "gridcolor": "white",
                        "linecolor": "white"
                      },
                      "caxis": {
                        "ticks": "",
                        "gridcolor": "white",
                        "linecolor": "white"
                      },
                      "aaxis": {
                        "ticks": "",
                        "gridcolor": "white",
                        "linecolor": "white"
                      }
                    },
                    "mapbox": {
                      "style": "light"
                    },
                    "hovermode": "closest",
                    "font": {
                      "color": "#2a3f5f"
                    },
                    "geo": {
                      "showland": true,
                      "landcolor": "#E5ECF6",
                      "showlakes": true,
                      "bgcolor": "white",
                      "subunitcolor": "white",
                      "lakecolor": "white"
                    },
                    "coloraxis": {
                      "colorbar": {
                        "outlinewidth": 0,
                        "ticks": ""
                      }
                    }
                  },
                  "data": {
                    "mesh3d": [
                      {
                        "colorbar": {
                          "outlinewidth": 0,
                          "ticks": ""
                        },
                        "type": "mesh3d"
                      }
                    ],
                    "scattercarpet": [
                      {
                        "marker": {
                          "colorbar": {
                            "outlinewidth": 0,
                            "ticks": ""
                          }
                        },
                        "type": "scattercarpet"
                      }
                    ],
                    "pie": [
                      {
                        "automargin": true,
                        "type": "pie"
                      }
                    ],
                    "surface": [
                      {
                        "colorbar": {
                          "outlinewidth": 0,
                          "ticks": ""
                        },
                        "type": "surface",
                        "colorscale": [
                          [
                            0,
                            "#0d0887"
                          ],
                          [
                            0.1111111111111111,
                            "#46039f"
                          ],
                          [
                            0.2222222222222222,
                            "#7201a8"
                          ],
                          [
                            0.3333333333333333,
                            "#9c179e"
                          ],
                          [
                            0.4444444444444444,
                            "#bd3786"
                          ],
                          [
                            0.5555555555555556,
                            "#d8576b"
                          ],
                          [
                            0.6666666666666666,
                            "#ed7953"
                          ],
                          [
                            0.7777777777777778,
                            "#fb9f3a"
                          ],
                          [
                            0.8888888888888888,
                            "#fdca26"
                          ],
                          [
                            1,
                            "#f0f921"
                          ]
                        ]
                      }
                    ],
                    "table": [
                      {
                        "header": {
                          "line": {
                            "color": "white"
                          },
                          "fill": {
                            "color": "#C8D4E3"
                          }
                        },
                        "cells": {
                          "line": {
                            "color": "white"
                          },
                          "fill": {
                            "color": "#EBF0F8"
                          }
                        },
                        "type": "table"
                      }
                    ],
                    "scatterpolargl": [
                      {
                        "marker": {
                          "colorbar": {
                            "outlinewidth": 0,
                            "ticks": ""
                          }
                        },
                        "type": "scatterpolargl"
                      }
                    ],
                    "contour": [
                      {
                        "colorbar": {
                          "outlinewidth": 0,
                          "ticks": ""
                        },
                        "type": "contour",
                        "colorscale": [
                          [
                            0,
                            "#0d0887"
                          ],
                          [
                            0.1111111111111111,
                            "#46039f"
                          ],
                          [
                            0.2222222222222222,
                            "#7201a8"
                          ],
                          [
                            0.3333333333333333,
                            "#9c179e"
                          ],
                          [
                            0.4444444444444444,
                            "#bd3786"
                          ],
                          [
                            0.5555555555555556,
                            "#d8576b"
                          ],
                          [
                            0.6666666666666666,
                            "#ed7953"
                          ],
                          [
                            0.7777777777777778,
                            "#fb9f3a"
                          ],
                          [
                            0.8888888888888888,
                            "#fdca26"
                          ],
                          [
                            1,
                            "#f0f921"
                          ]
                        ]
                      }
                    ],
                    "carpet": [
                      {
                        "type": "carpet",
                        "baxis": {
                          "minorgridcolor": "white",
                          "gridcolor": "white",
                          "linecolor": "white",
                          "endlinecolor": "#2a3f5f",
                          "startlinecolor": "#2a3f5f"
                        },
                        "aaxis": {
                          "minorgridcolor": "white",
                          "gridcolor": "white",
                          "linecolor": "white",
                          "endlinecolor": "#2a3f5f",
                          "startlinecolor": "#2a3f5f"
                        }
                      }
                    ],
                    "contourcarpet": [
                      {
                        "colorbar": {
                          "outlinewidth": 0,
                          "ticks": ""
                        },
                        "type": "contourcarpet"
                      }
                    ],
                    "heatmap": [
                      {
                        "colorbar": {
                          "outlinewidth": 0,
                          "ticks": ""
                        },
                        "type": "heatmap",
                        "colorscale": [
                          [
                            0,
                            "#0d0887"
                          ],
                          [
                            0.1111111111111111,
                            "#46039f"
                          ],
                          [
                            0.2222222222222222,
                            "#7201a8"
                          ],
                          [
                            0.3333333333333333,
                            "#9c179e"
                          ],
                          [
                            0.4444444444444444,
                            "#bd3786"
                          ],
                          [
                            0.5555555555555556,
                            "#d8576b"
                          ],
                          [
                            0.6666666666666666,
                            "#ed7953"
                          ],
                          [
                            0.7777777777777778,
                            "#fb9f3a"
                          ],
                          [
                            0.8888888888888888,
                            "#fdca26"
                          ],
                          [
                            1,
                            "#f0f921"
                          ]
                        ]
                      }
                    ],
                    "scattermapbox": [
                      {
                        "marker": {
                          "colorbar": {
                            "outlinewidth": 0,
                            "ticks": ""
                          }
                        },
                        "type": "scattermapbox"
                      }
                    ],
                    "scatter3d": [
                      {
                        "marker": {
                          "colorbar": {
                            "outlinewidth": 0,
                            "ticks": ""
                          }
                        },
                        "line": {
                          "colorbar": {
                            "outlinewidth": 0,
                            "ticks": ""
                          }
                        },
                        "type": "scatter3d"
                      }
                    ],
                    "scattergl": [
                      {
                        "marker": {
                          "colorbar": {
                            "outlinewidth": 0,
                            "ticks": ""
                          }
                        },
                        "type": "scattergl"
                      }
                    ],
                    "scatterternary": [
                      {
                        "marker": {
                          "colorbar": {
                            "outlinewidth": 0,
                            "ticks": ""
                          }
                        },
                        "type": "scatterternary"
                      }
                    ],
                    "histogram": [
                      {
                        "marker": {
                          "colorbar": {
                            "outlinewidth": 0,
                            "ticks": ""
                          }
                        },
                        "type": "histogram"
                      }
                    ],
                    "heatmapgl": [
                      {
                        "colorbar": {
                          "outlinewidth": 0,
                          "ticks": ""
                        },
                        "type": "heatmapgl",
                        "colorscale": [
                          [
                            0,
                            "#0d0887"
                          ],
                          [
                            0.1111111111111111,
                            "#46039f"
                          ],
                          [
                            0.2222222222222222,
                            "#7201a8"
                          ],
                          [
                            0.3333333333333333,
                            "#9c179e"
                          ],
                          [
                            0.4444444444444444,
                            "#bd3786"
                          ],
                          [
                            0.5555555555555556,
                            "#d8576b"
                          ],
                          [
                            0.6666666666666666,
                            "#ed7953"
                          ],
                          [
                            0.7777777777777778,
                            "#fb9f3a"
                          ],
                          [
                            0.8888888888888888,
                            "#fdca26"
                          ],
                          [
                            1,
                            "#f0f921"
                          ]
                        ]
                      }
                    ],
                    "scatterpolar": [
                      {
                        "marker": {
                          "colorbar": {
                            "outlinewidth": 0,
                            "ticks": ""
                          }
                        },
                        "type": "scatterpolar"
                      }
                    ],
                    "histogram2d": [
                      {
                        "colorbar": {
                          "outlinewidth": 0,
                          "ticks": ""
                        },
                        "type": "histogram2d",
                        "colorscale": [
                          [
                            0,
                            "#0d0887"
                          ],
                          [
                            0.1111111111111111,
                            "#46039f"
                          ],
                          [
                            0.2222222222222222,
                            "#7201a8"
                          ],
                          [
                            0.3333333333333333,
                            "#9c179e"
                          ],
                          [
                            0.4444444444444444,
                            "#bd3786"
                          ],
                          [
                            0.5555555555555556,
                            "#d8576b"
                          ],
                          [
                            0.6666666666666666,
                            "#ed7953"
                          ],
                          [
                            0.7777777777777778,
                            "#fb9f3a"
                          ],
                          [
                            0.8888888888888888,
                            "#fdca26"
                          ],
                          [
                            1,
                            "#f0f921"
                          ]
                        ]
                      }
                    ],
                    "scattergeo": [
                      {
                        "marker": {
                          "colorbar": {
                            "outlinewidth": 0,
                            "ticks": ""
                          }
                        },
                        "type": "scattergeo"
                      }
                    ],
                    "bar": [
                      {
                        "marker": {
                          "line": {
                            "color": "#E5ECF6",
                            "width": 0.5
                          }
                        },
                        "type": "bar",
                        "error_x": {
                          "color": "#2a3f5f"
                        },
                        "error_y": {
                          "color": "#2a3f5f"
                        }
                      }
                    ],
                    "choropleth": [
                      {
                        "colorbar": {
                          "outlinewidth": 0,
                          "ticks": ""
                        },
                        "type": "choropleth"
                      }
                    ],
                    "parcoords": [
                      {
                        "line": {
                          "colorbar": {
                            "outlinewidth": 0,
                            "ticks": ""
                          }
                        },
                        "type": "parcoords"
                      }
                    ],
                    "barpolar": [
                      {
                        "marker": {
                          "line": {
                            "color": "#E5ECF6",
                            "width": 0.5
                          }
                        },
                        "type": "barpolar"
                      }
                    ],
                    "histogram2dcontour": [
                      {
                        "colorbar": {
                          "outlinewidth": 0,
                          "ticks": ""
                        },
                        "type": "histogram2dcontour",
                        "colorscale": [
                          [
                            0,
                            "#0d0887"
                          ],
                          [
                            0.1111111111111111,
                            "#46039f"
                          ],
                          [
                            0.2222222222222222,
                            "#7201a8"
                          ],
                          [
                            0.3333333333333333,
                            "#9c179e"
                          ],
                          [
                            0.4444444444444444,
                            "#bd3786"
                          ],
                          [
                            0.5555555555555556,
                            "#d8576b"
                          ],
                          [
                            0.6666666666666666,
                            "#ed7953"
                          ],
                          [
                            0.7777777777777778,
                            "#fb9f3a"
                          ],
                          [
                            0.8888888888888888,
                            "#fdca26"
                          ],
                          [
                            1,
                            "#f0f921"
                          ]
                        ]
                      }
                    ],
                    "scatter": [
                      {
                        "marker": {
                          "colorbar": {
                            "outlinewidth": 0,
                            "ticks": ""
                          }
                        },
                        "type": "scatter"
                      }
                    ]
                  }
                },
                "title": {
                  "text": "Visualización de la base en el espacio tsne",
                  "font": {
                    "size": 20
                  }
                },
                "yaxis": {
                  "title": {
                    "text": "componente 2"
                  }
                },
                "height": 700,
                "width": 1000,
                "xaxis": {
                  "title": {
                    "text": "componente 1"
                  }
                }
              }
            }
          },
          "metadata": {}
        },
        {
          "output_type": "execute_result",
          "data": {
            "application/vnd.google.colaboratory.intrinsic+json": {
              "type": "string"
            },
            "text/plain": [
              "'temp-plot.html'"
            ]
          },
          "metadata": {},
          "execution_count": 215
        }
      ]
    },
    {
      "cell_type": "code",
      "metadata": {
        "colab": {
          "base_uri": "https://localhost:8080/",
          "height": 717
        },
        "id": "FJGfCC1FZPCi",
        "outputId": "665382fe-bdc3-4c06-a2d0-aeea6f630f69"
      },
      "source": [
        "#En Colab\n",
        "fig_1.show(renderer=\"colab\")"
      ],
      "execution_count": 166,
      "outputs": [
        {
          "output_type": "display_data",
          "data": {
            "text/html": [
              "<html>\n",
              "<head><meta charset=\"utf-8\" /></head>\n",
              "<body>\n",
              "    <div>\n",
              "            <script src=\"https://cdnjs.cloudflare.com/ajax/libs/mathjax/2.7.5/MathJax.js?config=TeX-AMS-MML_SVG\"></script><script type=\"text/javascript\">if (window.MathJax) {MathJax.Hub.Config({SVG: {font: \"STIX-Web\"}});}</script>\n",
              "                <script type=\"text/javascript\">window.PlotlyConfig = {MathJaxConfig: 'local'};</script>\n",
              "        <script src=\"https://cdn.plot.ly/plotly-latest.min.js\"></script>    \n",
              "            <div id=\"bd38a51f-d279-4287-9192-1ebadc8a5051\" class=\"plotly-graph-div\" style=\"height:700px; width:1000px;\"></div>\n",
              "            <script type=\"text/javascript\">\n",
              "                \n",
              "                    window.PLOTLYENV=window.PLOTLYENV || {};\n",
              "                    \n",
              "                if (document.getElementById(\"bd38a51f-d279-4287-9192-1ebadc8a5051\")) {\n",
              "                    Plotly.newPlot(\n",
              "                        'bd38a51f-d279-4287-9192-1ebadc8a5051',\n",
              "                        [{\"marker\": {\"size\": 5}, \"mode\": \"markers\", \"text\": [\"SPGI\", \"TSLA\", \"SPG\", \"XOM\", \"AGN\", \"PXD\", \"APD\", \"AA\", \"NTRS\", \"PNW\", \"LB\", \"DDS\", \"NEM\", \"AVY\", \"WPM\", \"MTB\", \"MAS\", \"DXCM\", \"CNS\", \"ETR\", \"UBSG\", \"INTC\", \"BIDU\", \"BIIB\", \"XLNX\", \"NTAP\", \"EL\", \"AMP\", \"SCHW\", \"HOG\", \"WYND\", \"IP\", \"KO\", \"CSIQ\", \"ORCL\", \"STLD\", \"PBR\", \"COF\", \"UTX\", \"CBRL\", \"QCOM\", \"CNMD\", \"EXPD\", \"MAR\", \"AIZ\", \"CHEF\", \"AMD\", \"TROW\", \"NUE\", \"GT\", \"CASY\", \"CROX\", \"MSI\", \"CHTR\", \"IBM\", \"PFE\", \"BBY\", \"CDNS\", \"DHI\", \"LOW\", \"VIAC\", \"CRI\", \"CRUS\", \"STT\", \"TGT\", \"WMT\", \"CINF\", \"DXPE\", \"AAPL\", \"ANTM\", \"TAP\", \"CRAI\", \"MO\", \"MRK\", \"NVDA\", \"SSRM\", \"AKAM\", \"CBRE\", \"DTE\", \"TFC\", \"MET\", \"UNH\", \"OKE\", \"JPM\", \"ALGT\", \"MU\", \"PEP\", \"CSCO\", \"AMT\", \"ATVI\", \"RS\", \"DUK\", \"YNDX\", \"MUR\", \"FSLR\", \"CAJ\", \"DISCA\", \"MAT\", \"FLIR\", \"VRTX\", \"RTN\", \"ROP\", \"FISV\", \"SPAR\", \"J\", \"RGLD\", \"DNKN\", \"KLAC\", \"GIS\", \"RDY\", \"NS\", \"MCHP\", \"CME\", \"ROST\", \"ABMD\", \"IPGP\", \"NYT\", \"FLR\", \"EOG\", \"ADM\", \"STX\", \"MGA\", \"BJRI\", \"MCD\", \"PG\", \"RHI\", \"COP\", \"NRG\", \"CVS\", \"GL\", \"GOOGL\", \"KHC\", \"WDC\", \"DD\", \"K\", \"BDX\", \"SHW\", \"NEE\", \"PPG\", \"SNE\", \"HAIN\", \"GS\", \"CI\", \"JEF\", \"CIEN\", \"DELL\", \"MMM\", \"ANF\", \"ITRI\", \"CACC\", \"PRU\", \"BK\", \"TPR\", \"CVX\", \"VAR\", \"NOV\", \"CEF\", \"UPS\", \"UAA\", \"KSS\", \"PCAR\", \"VZ\", \"LRCX\", \"RCI\", \"AFL\", \"AON\", \"AZO\", \"ADI\", \"NWSA\", \"BLK\", \"CTAS\", \"NSC\", \"MDT\", \"LUV\", \"LEN\", \"AIG\", \"LBTYA\", \"GD\", \"UBER\", \"AMX\", \"HSIC\", \"MRVL\", \"SJM\", \"AVAV\", \"RL\", \"AVB\", \"CHN\", \"ATI\", \"BXP\", \"HAL\", \"JNJ\", \"DRI\", \"CLX\", \"KBH\", \"TTWO\", \"ARCH\", \"WBA\", \"CENT\", \"HMC\", \"CMCSA\", \"PAYX\", \"ACN\", \"MOS\", \"DISH\", \"RYAAY\", \"PLD\", \"LMT\", \"VLO\", \"TRV\", \"SBUX\", \"BAC\", \"DOV\", \"FLS\", \"TMO\", \"NBL\", \"STZ\", \"ADP\", \"INFY\", \"APA\", \"WMB\", \"AEIS\", \"LHX\", \"SRPT\", \"PKI\", \"CPB\", \"LH\", \"LNC\", \"BBBY\", \"PGR\", \"WU\", \"XRX\", \"ETFC\", \"ABC\", \"CB\", \"ALXN\", \"BMRN\", \"NTES\", \"DIS\", \"PCG\", \"WHR\", \"FMC\", \"HD\", \"COST\", \"NOC\", \"LAMR\", \"ICE\", \"EXPE\", \"HPQ\", \"TM\", \"AIMC\", \"GRMN\", \"HON\", \"ADSK\", \"TIF\", \"EBAY\", \"TXN\", \"SRE\", \"PH\", \"JWN\", \"ATGE\", \"MYL\", \"DAL\", \"TSN\", \"FTI\", \"THC\", \"OSK\", \"ANIK\", \"CRM\", \"GPS\", \"AMGN\", \"MCK\", \"ARGO\", \"OXY\", \"HUM\", \"AXP\", \"MPC\", \"ENGIE\", \"BMY\", \"ASML\", \"DLTR\", \"MS\", \"VMC\", \"MCO\", \"GPC\", \"BKR\", \"HRL\", \"CAT\", \"WFC\", \"BRKB\", \"EA\", \"CATM\", \"CMI\", \"CMG\", \"FDX\", \"GWW\", \"KMX\", \"L\", \"TEX\", \"XEL\", \"KMB\", \"LAZ\", \"NXPI\", \"INTU\", \"BHC\", \"FII\", \"CTL\", \"GILD\", \"CAG\", \"AMAT\", \"ORLY\", \"C\", \"ETN\", \"ABT\", \"KR\", \"VMW\", \"CF\", \"EFX\", \"ALGN\", \"AVGO\", \"MSFT\", \"CORT\", \"CHKP\", \"GE\", \"EQIX\", \"TTM\", \"DHR\", \"URBN\", \"GOLD\", \"UNP\", \"NLOK\", \"ILMN\", \"YUM\", \"POLYP\", \"SCCO\", \"AMZN\", \"MHO\", \"ALNY\", \"DVN\", \"HES\", \"PNC\", \"FCX\", \"EW\", \"TEVA\", \"DE\", \"IPG\", \"ADBE\", \"CSII\", \"ISRG\", \"BX\", \"V\", \"HRB\", \"AEM\", \"MKC\", \"BA\", \"PAAS\", \"AAXN\", \"CSX\", \"UAL\", \"WYNN\", \"NFLX\", \"PM\", \"CMTL\", \"HSY\", \"GM\", \"SLB\", \"NDAQ\", \"SYY\", \"LLY\", \"CMA\", \"NKE\", \"VALE\", \"BAX\", \"BKNG\", \"BIG\", \"AMED\", \"COLM\", \"JBLU\", \"COG\"], \"type\": \"scatter\", \"x\": [-4.0125579833984375, 10.280550003051758, 0.6718358993530273, -7.833770751953125, -5.70374059677124, -5.688475131988525, -0.9381119012832642, -2.8377721309661865, 4.196572303771973, -3.361246347427368, 0.7218829989433289, -0.39851856231689453, -2.338489532470703, -1.4657220840454102, 1.0840948820114136, -3.187035322189331, -0.904563307762146, 6.784023761749268, 1.8519220352172852, -3.4593772888183594, 2.017504930496216, 9.57638168334961, 9.006470680236816, 8.769601821899414, 7.384726047515869, 7.4892072677612305, -3.3692805767059326, 1.9647064208984375, -2.696117401123047, 0.7887670397758484, 1.258979082107544, 2.236388683319092, -3.376603126525879, 7.533966064453125, -3.389152765274048, 4.456843376159668, -6.425756454467773, 2.013625144958496, -6.9919328689575195, 5.527134895324707, 7.251311779022217, 4.530402660369873, 4.9125752449035645, 0.5290254950523376, -0.09009001404047012, 5.475585460662842, 8.873666763305664, 4.812137603759766, -2.599285840988159, 3.6245813369750977, 6.118808269500732, 6.485354423522949, -4.287159442901611, 4.101888179779053, -3.263068675994873, -5.697929859161377, -0.8757455348968506, 7.741471290588379, 1.606463074684143, 3.1796367168426514, 2.3722262382507324, 0.238873690366745, 6.9821672439575195, -3.363682746887207, -0.840178370475769, -1.3932509422302246, 3.6968865394592285, 3.9354841709136963, 10.35289478302002, -5.313894271850586, 2.199934244155884, 3.748499631881714, 0.3579723536968231, -5.635545253753662, 9.325989723205566, 4.377535343170166, 6.42968225479126, 0.47346949577331543, -4.62766170501709, 1.8477791547775269, 2.2909739017486572, -5.539137840270996, -4.375895023345947, -8.065841674804688, 5.528248310089111, 8.063963890075684, 7.5090012550354, 8.683724403381348, -2.5203588008880615, 8.949790000915527, 2.771655559539795, -4.405695915222168, 2.4569337368011475, -5.211635589599609, 7.887383937835693, 0.7915864586830139, 4.22147274017334, 8.878263473510742, 4.461212635040283, 7.820065021514893, -6.703470230102539, -0.9525828957557678, 7.043916702270508, 2.7851006984710693, -0.15064877271652222, 3.4444408416748047, 5.824504852294922, 7.100982189178467, -1.21078622341156, 0.7238088846206665, 1.3550528287887573, 6.598307132720947, 4.804779529571533, 6.832085609436035, 6.668054580688477, 3.0879812240600586, -0.12005153298377991, -2.7671210765838623, -5.709895610809326, -1.3108062744140625, 6.144796848297119, 0.2355620115995407, 5.6601080894470215, -2.501176118850708, -4.571056365966797, 0.041393447667360306, -6.925808429718018, -4.851194381713867, -5.045809268951416, 1.2869189977645874, 10.456110954284668, 7.092159748077393, 5.7124152183532715, -2.904689311981201, 1.8995543718338013, -1.4860221147537231, -1.523335576057434, -4.793056011199951, -1.0488489866256714, -3.878460645675659, 5.858778476715088, -8.192441940307617, -5.129417896270752, 1.5712310075759888, -2.05664324760437, -3.254868745803833, -3.754631519317627, -1.1704182624816895, 4.92875337600708, 3.1343588829040527, 2.0314700603485107, -3.1756513118743896, 0.5026298761367798, -7.802958011627197, -1.2724545001983643, 0.5250118374824524, 1.085168719291687, 1.0409300327301025, -1.3245869874954224, -0.9269802570343018, 4.013256549835205, -5.9073896408081055, 8.040276527404785, 0.21773694455623627, -0.19062425196170807, 2.5143332481384277, 0.18168462812900543, 7.084741592407227, 3.25769305229187, -1.976428508758545, 4.055418968200684, -2.989438533782959, -2.150589942932129, 4.885157108306885, 1.2020212411880493, 1.9616494178771973, 3.93021559715271, -6.122010707855225, 0.9479497671127319, 0.561616063117981, 5.325370788574219, 6.227851390838623, -0.7568221092224121, 4.9458160400390625, -1.064868450164795, 0.6731908321380615, 2.3157947063446045, -0.931820809841156, 0.6629543304443359, -7.600803852081299, -5.6529221534729, -0.1575331836938858, -1.9430921077728271, 1.0767009258270264, 8.966375350952148, 0.7489588856697083, 8.352139472961426, 3.722745418548584, 2.6173999309539795, 3.8559367656707764, 7.1453938484191895, -2.0994677543640137, -2.2649548053741455, 3.842832565307617, 5.363884925842285, 0.6147555708885193, -6.725935459136963, -5.530400276184082, -0.14986658096313477, 9.467758178710938, -8.082337379455566, -2.409879684448242, -0.8688156008720398, -1.3388179540634155, -4.893179416656494, 0.2587427794933319, 7.577429294586182, 1.1580910682678223, -6.125329494476318, -6.761200904846191, 3.317765712738037, 0.6151496171951294, 7.091512203216553, -1.2542394399642944, -1.9420876502990723, -0.6399421095848083, -0.6123986840248108, 7.467715740203857, -4.623292446136475, 0.47340214252471924, -3.5001485347747803, 4.794406890869141, 2.12310791015625, 1.5564148426055908, 7.954610824584961, 7.602927207946777, 6.083808898925781, -3.3323168754577637, -4.563516139984131, -2.5892908573150635, -5.187889099121094, 1.1915355920791626, 3.2138967514038086, -6.516488552093506, 5.301682949066162, -0.025138726457953453, 6.281188011169434, -3.846529960632324, 2.641188621520996, 3.5180017948150635, 6.126308441162109, -1.4736255407333374, 7.181766033172607, -1.371381163597107, 6.279175281524658, 7.585511684417725, -4.421895980834961, -0.2579137682914734, -0.7539470195770264, 1.0238354206085205, 8.897059440612793, 4.978339195251465, -1.1718138456344604, -1.371504783630371, -4.131548881530762, -2.0319628715515137, 4.262401103973389, -3.2113819122314453, -1.3182324171066284, 8.823824882507324, -3.9497945308685303, 1.6116582155227661, -6.01716423034668, -5.3219194412231445, -4.17415714263916, -6.322431564331055, 1.428244948387146, -5.190456390380859, 5.99944543838501, 7.127478122711182, -8.1941556930542, -1.469394326210022, -3.118398427963257, -1.4417463541030884, 1.2295129299163818, -1.8206844329833984, -3.141850709915161, -8.006375312805176, 0.5552067160606384, 8.993949890136719, 4.081978797912598, -1.006123661994934, -0.25482553243637085, -3.73927903175354, -0.37542790174484253, 0.2355220913887024, 3.735874891281128, -2.3517792224884033, 5.008909225463867, -2.2329366207122803, 1.1872427463531494, 6.3756303787231445, 7.456906795501709, 1.1096186637878418, 0.9273160696029663, -5.685511112213135, 8.723299980163574, -0.3303542733192444, 8.110426902770996, 6.056527137756348, -0.2544289231300354, 3.30704402923584, -2.136385202407837, -1.6453099250793457, -3.2547476291656494, -0.33965355157852173, -4.681878566741943, 7.011096477508545, 7.175724029541016, 10.007340431213379, 3.464038133621216, 5.686882972717285, -0.8126452565193176, 5.524406909942627, 6.86181640625, -3.4694807529449463, 6.840013027191162, 2.3272199630737305, -3.162337303161621, 2.3158655166625977, 7.994084358215332, 0.5186740756034851, 1.9319398403167725, 0.3244735896587372, 10.57091236114502, 0.08684315532445908, 6.902468204498291, -5.559090614318848, -5.572109699249268, 2.1376936435699463, -2.5960373878479004, -1.8122199773788452, 8.17687702178955, 0.6100987792015076, -1.3732695579528809, 8.432967185974121, 4.299275875091553, 8.343799591064453, -7.004058361053467, -0.39693379402160645, -0.5074024200439453, -1.8592040538787842, -1.2982882261276245, -3.908583164215088, 3.54764723777771, 4.7111711502075195, 5.470302581787109, 5.242114067077637, 6.336416721343994, 10.342805862426758, 1.7150485515594482, 3.188342332839966, -1.9054886102676392, 2.8356966972351074, -7.651055812835693, 5.197238922119141, -2.059722661972046, -5.325488090515137, 1.2060658931732178, -1.7789026498794556, -6.585990905761719, -1.533673882484436, 5.92832088470459, 2.7239887714385986, 5.628641605377197, 6.079154968261719, 5.488656997680664, -5.340238571166992], \"y\": [1.080394983291626, 2.0841314792633057, -2.6208860874176025, -0.5275784730911255, -6.4411773681640625, -2.2215991020202637, -2.025536298751831, -3.242123603820801, -0.3335716426372528, -0.6919581294059753, -5.65191650390625, -6.549338340759277, -2.202319383621216, -1.1590983867645264, -0.29940101504325867, 0.8553239703178406, -0.613953173160553, 1.4940646886825562, -1.6983301639556885, -0.7407952547073364, 0.1360602229833603, 4.3121442794799805, 2.2708098888397217, -0.7028184533119202, 4.537747383117676, 3.313105344772339, -8.716666221618652, -3.6832070350646973, 1.8873181343078613, -4.055675029754639, -0.39013469219207764, 2.2155280113220215, -6.063509464263916, 1.4175794124603271, 3.535073757171631, 2.3260152339935303, -0.5081486701965332, -4.318966865539551, 1.5100046396255493, 0.5890185236930847, 5.912320613861084, 0.5086390376091003, 1.079838752746582, 6.52457857131958, -1.771061658859253, -0.037495434284210205, 4.92560338973999, 2.638137102127075, -3.2224209308624268, 2.2329721450805664, 0.36614400148391724, 0.9625564217567444, 3.981267213821411, 5.403703212738037, 3.6199681758880615, -7.123072147369385, -7.177084922790527, 3.480468511581421, -6.8923773765563965, -1.4331928491592407, 0.05377138778567314, -1.4127460718154907, 4.012090682983398, 0.5633010268211365, -8.384012222290039, -8.055642127990723, -0.19310146570205688, 1.1783684492111206, 2.3457884788513184, -4.184380531311035, -0.7909227609634399, 0.7769788503646851, -3.096292734146118, -7.1555070877075195, 4.5363006591796875, 1.6960707902908325, 3.8023786544799805, 0.9308375120162964, -0.07256545126438141, -0.23923566937446594, -0.9159642457962036, -4.354525089263916, -0.7337426543235779, -5.1898369789123535, -2.224151611328125, 4.473735809326172, -2.1745970249176025, 3.3288936614990234, -0.39180174469947815, 6.081117630004883, -1.9216448068618774, -0.6296210885047913, 1.8160172700881958, -1.2154910564422607, 1.465597152709961, -0.7382466793060303, 5.3002848625183105, 1.064287543296814, -1.0385551452636719, -0.5483604669570923, 1.319788932800293, -1.4217194318771362, 2.54581880569458, 0.7654728293418884, -4.312933444976807, 2.8355813026428223, 0.20059888064861298, 4.4685492515563965, -5.240533351898193, -0.6610267758369446, 2.6307175159454346, 4.2884111404418945, 3.2805898189544678, 0.3291970193386078, 1.4738683700561523, 0.5275207161903381, 2.3498566150665283, -1.0575770139694214, -1.9192432165145874, -3.7085683345794678, 4.731509208679199, -1.1827757358551025, 0.4969039559364319, -6.914843559265137, -2.1746671199798584, -0.878960907459259, -1.2066096067428589, 0.03847157955169678, -4.22910213470459, -0.4111872613430023, 2.760996103286743, -1.7939472198486328, 4.9889397621154785, -5.081644058227539, 0.6621811389923096, -0.4225960373878479, -3.1163346767425537, -0.034469448029994965, -1.9846247434616089, 2.0114803314208984, -0.8244163393974304, -4.647181510925293, -4.010687351226807, -0.29541563987731934, -0.6704747676849365, 4.646031379699707, -6.286736488342285, -6.507289409637451, 1.6333317756652832, -0.0960366278886795, -3.3456640243530273, 0.8102872967720032, -1.6030473709106445, -0.5361148118972778, 0.10537702590227127, 6.526231288909912, 0.4607347846031189, 1.9105647802352905, -7.201850414276123, -7.8253912925720215, 2.19132399559021, 3.3999240398406982, 4.54666805267334, 0.2595750093460083, -2.8005497455596924, -2.866995334625244, -6.825709819793701, 3.7485973834991455, 4.556502342224121, 3.6529181003570557, 0.05838208273053169, -1.2593079805374146, 1.0098947286605835, -5.311169624328613, -7.639030933380127, -2.5583269596099854, 3.6539220809936523, 1.3128952980041504, 3.1301963329315186, 0.06022254005074501, 0.9775032997131348, 4.285438060760498, -4.371837615966797, 1.2464028596878052, -6.556924343109131, -2.2587432861328125, 1.2212157249450684, -1.8988518714904785, -1.9694409370422363, -1.7509976625442505, -6.701867580413818, -6.172550678253174, -4.570521354675293, -7.644513130187988, 6.174732685089111, 4.157968521118164, 0.1149883046746254, -1.9226258993148804, -5.742164611816406, 5.6031317710876465, 2.4834346771240234, 2.452773332595825, -3.2140750885009766, 5.620985507965088, -2.3752195835113525, -2.6241977214813232, 1.3682292699813843, -1.083130121231079, -3.2202179431915283, 0.4509652554988861, -5.082900524139404, -1.471775770187378, -0.8105511665344238, 0.11654899269342422, -0.8915500640869141, -5.652862071990967, 2.335831642150879, 2.213869333267212, -0.8504794239997864, -2.5237085819244385, 1.2318222522735596, -0.06855432689189911, -0.7736974358558655, -0.18359847366809845, -5.20905876159668, -0.2686762809753418, -1.097907543182373, 0.5203344225883484, -3.3175859451293945, 1.8670527935028076, -2.3982019424438477, -0.24943464994430542, 4.598806858062744, -2.173602342605591, -0.48733919858932495, -0.6095943450927734, 2.3461952209472656, -6.3994951248168945, -1.8750336170196533, -4.3576250076293945, 1.1099811792373657, -8.000931739807129, -0.952992856502533, 1.2761070728302002, -0.8096291422843933, 2.6950297355651855, 2.1633753776550293, 3.7542645931243896, -5.766938209533691, 0.7672615647315979, 3.6389825344085693, 1.2286136150360107, 3.256436586380005, -6.439387321472168, 2.5543675422668457, 4.91677188873291, -0.5291574597358704, 1.2138324975967407, -7.753660678863525, -0.4000130295753479, -1.091125249862671, -5.247678279876709, -4.8186116218566895, 2.401587724685669, -3.17678165435791, -1.1812800168991089, 0.6113691329956055, 3.599012613296509, 4.915616512298584, -0.674876868724823, -3.138418674468994, 0.7132031917572021, -1.286908745765686, -4.220315933227539, -5.945990085601807, -1.7596104145050049, 1.1385533809661865, -6.431063175201416, 5.808755874633789, 0.4785495400428772, -4.612723350524902, -2.686777114868164, 0.014839587733149529, -3.232010841369629, -0.3062814176082611, -4.086174964904785, -4.283697605133057, -5.242572784423828, -0.7453418374061584, 6.1675004959106445, 1.0312219858169556, -2.905369997024536, -7.319817066192627, -4.710587501525879, -2.124009609222412, -6.748074531555176, -3.823688268661499, -1.4436007738113403, 1.6961627006530762, -4.296393394470215, -1.894431471824646, 5.498936653137207, 2.851971387863159, -1.0018173456192017, -1.9235076904296875, 3.2828118801116943, -0.6256282925605774, -4.812205791473389, 4.469245433807373, 1.2191132307052612, 0.5990419387817383, -2.8971595764160156, 0.8774048686027527, -6.048336982727051, 3.4832680225372314, 4.306739807128906, 2.7188963890075684, 4.037369728088379, 5.725597858428955, 3.8890106678009033, 0.45341622829437256, 3.9093775749206543, 3.3651323318481445, 2.0901830196380615, -4.313509941101074, -2.4197263717651367, 0.5767791271209717, 3.4608399868011475, -1.4462554454803467, -0.0057148695923388, 0.46192458271980286, -5.577570915222168, -0.07559257000684738, -0.3249260187149048, 2.685363292694092, -1.4884289503097534, -0.5062363147735596, -1.18821382522583, -1.136303186416626, -3.9376606941223145, -2.497016429901123, 0.03757348656654358, -3.0112013816833496, 1.1451058387756348, 2.1856300830841064, 3.285562753677368, 0.7464187741279602, 1.9102870225906372, -3.859992027282715, 1.4859262704849243, 0.40023061633110046, -2.231170177459717, -4.457154750823975, -6.809134006500244, 3.0293776988983154, 1.8447575569152832, -3.5416901111602783, -4.839334487915039, -1.2752512693405151, 2.3324334621429443, -1.2233808040618896, 1.496325969696045, -4.928337574005127, -5.659843444824219, -1.7587807178497314, 2.808131217956543, -4.358081817626953, -6.503938674926758, -3.1470279693603516, -7.701105117797852, -0.12573835253715515, 0.5914561748504639, 2.0393004417419434, -0.6476914882659912, 1.0622133016586304, -0.3177177906036377, -3.0934600830078125, -1.3453692197799683]}, {\"mode\": \"text\", \"name\": \"Top tickers\", \"opacity\": 0.9, \"text\": [\"TSLA\", \"XOM\", \"AGN\", \"AA\", \"INTC\", \"KO\", \"IBM\", \"TGT\", \"WMT\", \"AAPL\", \"JPM\", \"MU\", \"CME\", \"GOOGL\", \"GS\", \"CVX\", \"VZ\", \"NWSA\", \"BLK\", \"UBER\", \"LMT\", \"SBUX\", \"BAC\", \"WMB\", \"DIS\", \"TM\", \"MS\", \"BKR\", \"CAT\", \"WFC\", \"CMG\", \"C\", \"EFX\", \"MSFT\", \"GE\", \"AMZN\", \"BA\", \"NFLX\", \"GM\"], \"textfont\": {\"color\": \"black\", \"family\": \"sans serif\", \"size\": 10}, \"type\": \"scatter\", \"x\": [10.280550003051758, -7.833770751953125, -5.70374059677124, -2.8377721309661865, 9.57638168334961, -3.376603126525879, -3.263068675994873, -0.840178370475769, -1.3932509422302246, 10.35289478302002, -8.065841674804688, 8.063963890075684, 4.804779529571533, 10.456110954284668, -8.192441940307617, -7.802958011627197, -5.9073896408081055, 3.25769305229187, -1.976428508758545, 0.9479497671127319, -6.725935459136963, 9.467758178710938, -8.082337379455566, -6.761200904846191, -3.3323168754577637, 2.641188621520996, -8.1941556930542, 1.2295129299163818, -3.141850709915161, -8.006375312805176, -0.25482553243637085, -0.2544289231300354, -4.681878566741943, 10.007340431213379, -0.8126452565193176, 10.57091236114502, -3.908583164215088, 10.342805862426758, 2.8356966972351074], \"y\": [2.0841314792633057, -0.5275784730911255, -6.4411773681640625, -3.242123603820801, 4.3121442794799805, -6.063509464263916, 3.6199681758880615, -8.384012222290039, -8.055642127990723, 2.3457884788513184, -5.1898369789123535, 4.473735809326172, 3.2805898189544678, 2.760996103286743, -4.647181510925293, -0.5361148118972778, 3.3999240398406982, 4.556502342224121, 3.6529181003570557, 3.1301963329315186, 1.3682292699813843, 0.4509652554988861, -5.082900524139404, -2.5237085819244385, -6.3994951248168945, -5.766938209533691, -4.612723350524902, -0.3062814176082611, -4.283697605133057, -5.242572784423828, -7.319817066192627, 0.5990419387817383, 2.7188963890075684, 3.8890106678009033, 3.3651323318481445, 2.685363292694092, -6.809134006500244, 2.3324334621429443, -5.659843444824219]}],\n",
              "                        {\"autosize\": false, \"height\": 700, \"template\": {\"data\": {\"bar\": [{\"error_x\": {\"color\": \"#2a3f5f\"}, \"error_y\": {\"color\": \"#2a3f5f\"}, \"marker\": {\"line\": {\"color\": \"#E5ECF6\", \"width\": 0.5}}, \"type\": \"bar\"}], \"barpolar\": [{\"marker\": {\"line\": {\"color\": \"#E5ECF6\", \"width\": 0.5}}, \"type\": \"barpolar\"}], \"carpet\": [{\"aaxis\": {\"endlinecolor\": \"#2a3f5f\", \"gridcolor\": \"white\", \"linecolor\": \"white\", \"minorgridcolor\": \"white\", \"startlinecolor\": \"#2a3f5f\"}, \"baxis\": {\"endlinecolor\": \"#2a3f5f\", \"gridcolor\": \"white\", \"linecolor\": \"white\", \"minorgridcolor\": \"white\", \"startlinecolor\": \"#2a3f5f\"}, \"type\": \"carpet\"}], \"choropleth\": [{\"colorbar\": {\"outlinewidth\": 0, \"ticks\": \"\"}, \"type\": \"choropleth\"}], \"contour\": [{\"colorbar\": {\"outlinewidth\": 0, \"ticks\": \"\"}, \"colorscale\": [[0.0, \"#0d0887\"], [0.1111111111111111, \"#46039f\"], [0.2222222222222222, \"#7201a8\"], [0.3333333333333333, \"#9c179e\"], [0.4444444444444444, \"#bd3786\"], [0.5555555555555556, \"#d8576b\"], [0.6666666666666666, \"#ed7953\"], [0.7777777777777778, \"#fb9f3a\"], [0.8888888888888888, \"#fdca26\"], [1.0, \"#f0f921\"]], \"type\": \"contour\"}], \"contourcarpet\": [{\"colorbar\": {\"outlinewidth\": 0, \"ticks\": \"\"}, \"type\": \"contourcarpet\"}], \"heatmap\": [{\"colorbar\": {\"outlinewidth\": 0, \"ticks\": \"\"}, \"colorscale\": [[0.0, \"#0d0887\"], [0.1111111111111111, \"#46039f\"], [0.2222222222222222, \"#7201a8\"], [0.3333333333333333, \"#9c179e\"], [0.4444444444444444, \"#bd3786\"], [0.5555555555555556, \"#d8576b\"], [0.6666666666666666, \"#ed7953\"], [0.7777777777777778, \"#fb9f3a\"], [0.8888888888888888, \"#fdca26\"], [1.0, \"#f0f921\"]], \"type\": \"heatmap\"}], \"heatmapgl\": [{\"colorbar\": {\"outlinewidth\": 0, \"ticks\": \"\"}, \"colorscale\": [[0.0, \"#0d0887\"], [0.1111111111111111, \"#46039f\"], [0.2222222222222222, \"#7201a8\"], [0.3333333333333333, \"#9c179e\"], [0.4444444444444444, \"#bd3786\"], [0.5555555555555556, \"#d8576b\"], [0.6666666666666666, \"#ed7953\"], [0.7777777777777778, \"#fb9f3a\"], [0.8888888888888888, \"#fdca26\"], [1.0, \"#f0f921\"]], \"type\": \"heatmapgl\"}], \"histogram\": [{\"marker\": {\"colorbar\": {\"outlinewidth\": 0, \"ticks\": \"\"}}, \"type\": \"histogram\"}], \"histogram2d\": [{\"colorbar\": {\"outlinewidth\": 0, \"ticks\": \"\"}, \"colorscale\": [[0.0, \"#0d0887\"], [0.1111111111111111, \"#46039f\"], [0.2222222222222222, \"#7201a8\"], [0.3333333333333333, \"#9c179e\"], [0.4444444444444444, \"#bd3786\"], [0.5555555555555556, \"#d8576b\"], [0.6666666666666666, \"#ed7953\"], [0.7777777777777778, \"#fb9f3a\"], [0.8888888888888888, \"#fdca26\"], [1.0, \"#f0f921\"]], \"type\": \"histogram2d\"}], \"histogram2dcontour\": [{\"colorbar\": {\"outlinewidth\": 0, \"ticks\": \"\"}, \"colorscale\": [[0.0, \"#0d0887\"], [0.1111111111111111, \"#46039f\"], [0.2222222222222222, \"#7201a8\"], [0.3333333333333333, \"#9c179e\"], [0.4444444444444444, \"#bd3786\"], [0.5555555555555556, \"#d8576b\"], [0.6666666666666666, \"#ed7953\"], [0.7777777777777778, \"#fb9f3a\"], [0.8888888888888888, \"#fdca26\"], [1.0, \"#f0f921\"]], \"type\": \"histogram2dcontour\"}], \"mesh3d\": [{\"colorbar\": {\"outlinewidth\": 0, \"ticks\": \"\"}, \"type\": \"mesh3d\"}], \"parcoords\": [{\"line\": {\"colorbar\": {\"outlinewidth\": 0, \"ticks\": \"\"}}, \"type\": \"parcoords\"}], \"pie\": [{\"automargin\": true, \"type\": \"pie\"}], \"scatter\": [{\"marker\": {\"colorbar\": {\"outlinewidth\": 0, \"ticks\": \"\"}}, \"type\": \"scatter\"}], \"scatter3d\": [{\"line\": {\"colorbar\": {\"outlinewidth\": 0, \"ticks\": \"\"}}, \"marker\": {\"colorbar\": {\"outlinewidth\": 0, \"ticks\": \"\"}}, \"type\": \"scatter3d\"}], \"scattercarpet\": [{\"marker\": {\"colorbar\": {\"outlinewidth\": 0, \"ticks\": \"\"}}, \"type\": \"scattercarpet\"}], \"scattergeo\": [{\"marker\": {\"colorbar\": {\"outlinewidth\": 0, \"ticks\": \"\"}}, \"type\": \"scattergeo\"}], \"scattergl\": [{\"marker\": {\"colorbar\": {\"outlinewidth\": 0, \"ticks\": \"\"}}, \"type\": \"scattergl\"}], \"scattermapbox\": [{\"marker\": {\"colorbar\": {\"outlinewidth\": 0, \"ticks\": \"\"}}, \"type\": \"scattermapbox\"}], \"scatterpolar\": [{\"marker\": {\"colorbar\": {\"outlinewidth\": 0, \"ticks\": \"\"}}, \"type\": \"scatterpolar\"}], \"scatterpolargl\": [{\"marker\": {\"colorbar\": {\"outlinewidth\": 0, \"ticks\": \"\"}}, \"type\": \"scatterpolargl\"}], \"scatterternary\": [{\"marker\": {\"colorbar\": {\"outlinewidth\": 0, \"ticks\": \"\"}}, \"type\": \"scatterternary\"}], \"surface\": [{\"colorbar\": {\"outlinewidth\": 0, \"ticks\": \"\"}, \"colorscale\": [[0.0, \"#0d0887\"], [0.1111111111111111, \"#46039f\"], [0.2222222222222222, \"#7201a8\"], [0.3333333333333333, \"#9c179e\"], [0.4444444444444444, \"#bd3786\"], [0.5555555555555556, \"#d8576b\"], [0.6666666666666666, \"#ed7953\"], [0.7777777777777778, \"#fb9f3a\"], [0.8888888888888888, \"#fdca26\"], [1.0, \"#f0f921\"]], \"type\": \"surface\"}], \"table\": [{\"cells\": {\"fill\": {\"color\": \"#EBF0F8\"}, \"line\": {\"color\": \"white\"}}, \"header\": {\"fill\": {\"color\": \"#C8D4E3\"}, \"line\": {\"color\": \"white\"}}, \"type\": \"table\"}]}, \"layout\": {\"annotationdefaults\": {\"arrowcolor\": \"#2a3f5f\", \"arrowhead\": 0, \"arrowwidth\": 1}, \"coloraxis\": {\"colorbar\": {\"outlinewidth\": 0, \"ticks\": \"\"}}, \"colorscale\": {\"diverging\": [[0, \"#8e0152\"], [0.1, \"#c51b7d\"], [0.2, \"#de77ae\"], [0.3, \"#f1b6da\"], [0.4, \"#fde0ef\"], [0.5, \"#f7f7f7\"], [0.6, \"#e6f5d0\"], [0.7, \"#b8e186\"], [0.8, \"#7fbc41\"], [0.9, \"#4d9221\"], [1, \"#276419\"]], \"sequential\": [[0.0, \"#0d0887\"], [0.1111111111111111, \"#46039f\"], [0.2222222222222222, \"#7201a8\"], [0.3333333333333333, \"#9c179e\"], [0.4444444444444444, \"#bd3786\"], [0.5555555555555556, \"#d8576b\"], [0.6666666666666666, \"#ed7953\"], [0.7777777777777778, \"#fb9f3a\"], [0.8888888888888888, \"#fdca26\"], [1.0, \"#f0f921\"]], \"sequentialminus\": [[0.0, \"#0d0887\"], [0.1111111111111111, \"#46039f\"], [0.2222222222222222, \"#7201a8\"], [0.3333333333333333, \"#9c179e\"], [0.4444444444444444, \"#bd3786\"], [0.5555555555555556, \"#d8576b\"], [0.6666666666666666, \"#ed7953\"], [0.7777777777777778, \"#fb9f3a\"], [0.8888888888888888, \"#fdca26\"], [1.0, \"#f0f921\"]]}, \"colorway\": [\"#636efa\", \"#EF553B\", \"#00cc96\", \"#ab63fa\", \"#FFA15A\", \"#19d3f3\", \"#FF6692\", \"#B6E880\", \"#FF97FF\", \"#FECB52\"], \"font\": {\"color\": \"#2a3f5f\"}, \"geo\": {\"bgcolor\": \"white\", \"lakecolor\": \"white\", \"landcolor\": \"#E5ECF6\", \"showlakes\": true, \"showland\": true, \"subunitcolor\": \"white\"}, \"hoverlabel\": {\"align\": \"left\"}, \"hovermode\": \"closest\", \"mapbox\": {\"style\": \"light\"}, \"paper_bgcolor\": \"white\", \"plot_bgcolor\": \"#E5ECF6\", \"polar\": {\"angularaxis\": {\"gridcolor\": \"white\", \"linecolor\": \"white\", \"ticks\": \"\"}, \"bgcolor\": \"#E5ECF6\", \"radialaxis\": {\"gridcolor\": \"white\", \"linecolor\": \"white\", \"ticks\": \"\"}}, \"scene\": {\"xaxis\": {\"backgroundcolor\": \"#E5ECF6\", \"gridcolor\": \"white\", \"gridwidth\": 2, \"linecolor\": \"white\", \"showbackground\": true, \"ticks\": \"\", \"zerolinecolor\": \"white\"}, \"yaxis\": {\"backgroundcolor\": \"#E5ECF6\", \"gridcolor\": \"white\", \"gridwidth\": 2, \"linecolor\": \"white\", \"showbackground\": true, \"ticks\": \"\", \"zerolinecolor\": \"white\"}, \"zaxis\": {\"backgroundcolor\": \"#E5ECF6\", \"gridcolor\": \"white\", \"gridwidth\": 2, \"linecolor\": \"white\", \"showbackground\": true, \"ticks\": \"\", \"zerolinecolor\": \"white\"}}, \"shapedefaults\": {\"line\": {\"color\": \"#2a3f5f\"}}, \"ternary\": {\"aaxis\": {\"gridcolor\": \"white\", \"linecolor\": \"white\", \"ticks\": \"\"}, \"baxis\": {\"gridcolor\": \"white\", \"linecolor\": \"white\", \"ticks\": \"\"}, \"bgcolor\": \"#E5ECF6\", \"caxis\": {\"gridcolor\": \"white\", \"linecolor\": \"white\", \"ticks\": \"\"}}, \"title\": {\"x\": 0.05}, \"xaxis\": {\"automargin\": true, \"gridcolor\": \"white\", \"linecolor\": \"white\", \"ticks\": \"\", \"title\": {\"standoff\": 15}, \"zerolinecolor\": \"white\", \"zerolinewidth\": 2}, \"yaxis\": {\"automargin\": true, \"gridcolor\": \"white\", \"linecolor\": \"white\", \"ticks\": \"\", \"title\": {\"standoff\": 15}, \"zerolinecolor\": \"white\", \"zerolinewidth\": 2}}}, \"title\": {\"font\": {\"size\": 20}, \"text\": \"Visualizaci\\u00f3n de la base en el espacio tsne\"}, \"width\": 1000, \"xaxis\": {\"title\": {\"text\": \"componente 1\"}}, \"yaxis\": {\"title\": {\"text\": \"componente 2\"}}},\n",
              "                        {\"responsive\": true}\n",
              "                    ).then(function(){\n",
              "                            \n",
              "var gd = document.getElementById('bd38a51f-d279-4287-9192-1ebadc8a5051');\n",
              "var x = new MutationObserver(function (mutations, observer) {{\n",
              "        var display = window.getComputedStyle(gd).display;\n",
              "        if (!display || display === 'none') {{\n",
              "            console.log([gd, 'removed!']);\n",
              "            Plotly.purge(gd);\n",
              "            observer.disconnect();\n",
              "        }}\n",
              "}});\n",
              "\n",
              "// Listen for the removal of the full notebook cells\n",
              "var notebookContainer = gd.closest('#notebook-container');\n",
              "if (notebookContainer) {{\n",
              "    x.observe(notebookContainer, {childList: true});\n",
              "}}\n",
              "\n",
              "// Listen for the clearing of the current output cell\n",
              "var outputEl = gd.closest('.output');\n",
              "if (outputEl) {{\n",
              "    x.observe(outputEl, {childList: true});\n",
              "}}\n",
              "\n",
              "                        })\n",
              "                };\n",
              "                \n",
              "            </script>\n",
              "        </div>\n",
              "</body>\n",
              "</html>"
            ]
          },
          "metadata": {}
        }
      ]
    },
    {
      "cell_type": "markdown",
      "metadata": {
        "id": "0wOxLMfr8pQ0"
      },
      "source": [
        "### Sectores"
      ]
    },
    {
      "cell_type": "markdown",
      "metadata": {
        "id": "iQa2lzjNejxb"
      },
      "source": [
        "¿Tienen relacion estos agrupamientos con el sector al cual pertenecen las compañias?"
      ]
    },
    {
      "cell_type": "code",
      "metadata": {
        "id": "OiP1ZWHu8t01"
      },
      "source": [
        "url='/content/drive/MyDrive/Mentoria/dict_tick_sector.json'"
      ],
      "execution_count": 167,
      "outputs": []
    },
    {
      "cell_type": "code",
      "metadata": {
        "id": "vEA3fIa1zJ2P"
      },
      "source": [
        "import json\n",
        "with open(url) as file:\n",
        "    data_sector = json.load(file)"
      ],
      "execution_count": 168,
      "outputs": []
    },
    {
      "cell_type": "code",
      "metadata": {
        "id": "U9szfaNN-feE"
      },
      "source": [
        "def sector(ticker):\n",
        "  try:\n",
        "    return data_sector[ticker.lower()]\n",
        "  except:\n",
        "    return 'nan'"
      ],
      "execution_count": 169,
      "outputs": []
    },
    {
      "cell_type": "code",
      "metadata": {
        "colab": {
          "base_uri": "https://localhost:8080/"
        },
        "id": "ZyjjtE4Pf5M6",
        "outputId": "5d836d42-e582-43f6-f7d8-44762aae2d47"
      },
      "source": [
        "df_ticker[\"Sector\"]=df_ticker[\"tickers\"].apply(lambda x: sector(x.lower()))\n",
        "\n",
        "df_ticker[\"Sector\"].value_counts()"
      ],
      "execution_count": 170,
      "outputs": [
        {
          "output_type": "execute_result",
          "data": {
            "text/plain": [
              "consumer cyclical         59\n",
              "technology                58\n",
              "industrials               52\n",
              "healthcare                47\n",
              "financial services        43\n",
              "consumer defensive        33\n",
              "energy                    22\n",
              "basic materials           22\n",
              "nan                       18\n",
              "communication services     9\n",
              "utilities                  9\n",
              "real estate                6\n",
              "Name: Sector, dtype: int64"
            ]
          },
          "metadata": {},
          "execution_count": 170
        }
      ]
    },
    {
      "cell_type": "code",
      "metadata": {
        "id": "hYFNkBFBIzWB"
      },
      "source": [
        "palette=['navy','red','yellow','orange','green','brown','blue','magenta','goldenrod','black','gray','pink'] "
      ],
      "execution_count": 171,
      "outputs": []
    },
    {
      "cell_type": "code",
      "metadata": {
        "id": "mwcDwsoiT4bs"
      },
      "source": [
        "bool_technology= df_ticker[\"Sector\"] == 'technology'\n",
        "bool_financial= df_ticker[\"Sector\"] == 'financial services'\n",
        "bool_industrials= df_ticker[\"Sector\"] == 'industrials'\n",
        "bool_healthcare= df_ticker[\"Sector\"] == 'healthcare'\n",
        "bool_consumer_cyclical= df_ticker[\"Sector\"] == 'consumer cyclical'\n",
        "bool_consumer_defensive= df_ticker[\"Sector\"] == 'consumer defensive'\n",
        "bool_energy= df_ticker[\"Sector\"] == 'energy'\n",
        "bool_basic_materials= df_ticker[\"Sector\"] == 'basic materials'\n",
        "bool_communication= df_ticker[\"Sector\"] == 'communication services'\n",
        "bool_utilities= df_ticker[\"Sector\"] == 'utilities'\n",
        "bool_real= df_ticker[\"Sector\"] == 'real estate'\n",
        "\n",
        "\n",
        "bool_crack=df_ticker[\"tickers\"].isin(ticker_top)\n",
        "\n",
        "#palette=['navy','red','#A2D5F2','orange','green','pink']  \n",
        "data=[]\n",
        "\n",
        "technology =go.Scatter(x=X_tsne[bool_technology,0], y=X_tsne[bool_technology,1],name='technology',\n",
        "                      text=df_ticker.loc[bool_technology,'tickers'],\n",
        "                      opacity=0.9,marker=dict(color=palette[2],size=5),mode='markers')\n",
        "\n",
        "financial =go.Scatter(x=X_tsne[bool_financial,0], y=X_tsne[bool_financial,1],name='financial',\n",
        "                      text=df_ticker.loc[bool_financial,'tickers'],\n",
        "                      opacity=0.6,marker=dict(color=palette[1],size=5),mode='markers')\n",
        "\n",
        "industrials =go.Scatter(x=X_tsne[bool_industrials,0], y=X_tsne[bool_industrials,1],name='industrials',\n",
        "                      text=df_ticker.loc[bool_industrials,'tickers'],\n",
        "                      opacity=0.7,marker=dict(color=palette[3],size=5),mode='markers')\n",
        "\n",
        "healthcare =go.Scatter(x=X_tsne[bool_healthcare,0], y=X_tsne[bool_healthcare,1],name='healthcare',\n",
        "                      text=df_ticker.loc[bool_healthcare,'tickers'],\n",
        "                      opacity=0.4,marker=dict(color=palette[5],size=5),mode='markers')\n",
        "\n",
        "consumer_cyclical =go.Scatter(x=X_tsne[bool_consumer_cyclical,0], y=X_tsne[bool_consumer_cyclical,1],name='consumer cyclical',\n",
        "                      text=df_ticker.loc[bool_consumer_cyclical,'tickers'],\n",
        "                      opacity=0.9,marker=dict(color=palette[6],size=5),mode='markers')\n",
        "\n",
        "consumer_defensive =go.Scatter(x=X_tsne[bool_consumer_defensive,0], y=X_tsne[bool_consumer_defensive,1],name='consumer defensive',\n",
        "                      text=df_ticker.loc[bool_consumer_defensive,'tickers'],\n",
        "                      opacity=0.9,marker=dict(color=palette[7],size=5),mode='markers')\n",
        "\n",
        "energy =go.Scatter(x=X_tsne[bool_energy,0], y=X_tsne[bool_energy,1],name='energy',\n",
        "                      text=df_ticker.loc[bool_energy,'tickers'],\n",
        "                      opacity=0.9,marker=dict(color=palette[8],size=5),mode='markers')\n",
        "\n",
        "basic_materials =go.Scatter(x=X_tsne[bool_basic_materials,0], y=X_tsne[bool_basic_materials,1],name='basic materials',\n",
        "                      text=df_ticker.loc[bool_basic_materials,'tickers'],\n",
        "                      opacity=0.9,marker=dict(color=palette[0],size=5),mode='markers')\n",
        "\n",
        "\n",
        "communication =go.Scatter(x=X_tsne[bool_communication,0], y=X_tsne[bool_communication,1],name='communication services',\n",
        "                      text=df_ticker.loc[bool_communication,'tickers'],\n",
        "                      opacity=0.9,marker=dict(color=palette[9],size=5),mode='markers')\n",
        "\n",
        "\n",
        "utilities =go.Scatter(x=X_tsne[bool_utilities,0], y=X_tsne[bool_utilities,1],name='utilities',\n",
        "                      text=df_ticker.loc[bool_utilities,'tickers'],\n",
        "                      opacity=0.9,marker=dict(color=palette[10],size=5),mode='markers')\n",
        "\n",
        "\n",
        "real =go.Scatter(x=X_tsne[bool_real,0], y=X_tsne[bool_real,1],name='real estate',\n",
        "                      text=df_ticker.loc[bool_real,'tickers'],\n",
        "                      opacity=0.9,marker=dict(color=palette[11],size=5),mode='markers')\n",
        "\n",
        "crack =go.Scatter(x=X_tsne[bool_crack,0], y=X_tsne[bool_crack,1],name='Top',\n",
        "                      text=df_ticker.loc[bool_crack,'tickers'],\n",
        "                      textfont=dict(family='sans serif',size=10,color='black'),\n",
        "                      opacity=0.9,mode='text')\n",
        "\n",
        "data=[technology,financial,industrials,healthcare,consumer_cyclical,consumer_defensive,energy,basic_materials,crack]\n",
        "\n",
        "layout = go.Layout(title=\"t-SNE - Tickers News\",titlefont=dict(size=20),\n",
        "                autosize=False, width=1150,height=750)\n",
        "\n",
        "fig_1_sector = go.Figure(data=data, layout=layout)\n",
        "\n",
        "#iplot(fig)\n",
        "#plot(fig)"
      ],
      "execution_count": 172,
      "outputs": []
    },
    {
      "cell_type": "code",
      "metadata": {
        "colab": {
          "base_uri": "https://localhost:8080/",
          "height": 785
        },
        "id": "DzrduKhbWozr",
        "outputId": "7fa79100-a480-4e2a-d05f-60700da61bcd"
      },
      "source": [
        "iplot(fig_1_sector)\n",
        "plot(fig_1_sector)"
      ],
      "execution_count": 214,
      "outputs": [
        {
          "output_type": "display_data",
          "data": {
            "text/html": [
              "<div>\n",
              "        \n",
              "        \n",
              "            <div id=\"f77f9d24-15fe-42b6-8ba7-0c19a9b10c0f\" class=\"plotly-graph-div\" style=\"height:750px; width:1150px;\"></div>\n",
              "            <script type=\"text/javascript\">\n",
              "                require([\"plotly\"], function(Plotly) {\n",
              "                    window.PLOTLYENV=window.PLOTLYENV || {};\n",
              "                    \n",
              "                if (document.getElementById(\"f77f9d24-15fe-42b6-8ba7-0c19a9b10c0f\")) {\n",
              "                    Plotly.newPlot(\n",
              "                        'f77f9d24-15fe-42b6-8ba7-0c19a9b10c0f',\n",
              "                        [{\"marker\": {\"color\": \"yellow\", \"size\": 5}, \"mode\": \"markers\", \"name\": \"technology\", \"opacity\": 0.9, \"text\": [\"INTC\", \"BIDU\", \"XLNX\", \"NTAP\", \"CSIQ\", \"ORCL\", \"QCOM\", \"AMD\", \"MSI\", \"IBM\", \"CDNS\", \"CRUS\", \"AAPL\", \"NVDA\", \"AKAM\", \"MU\", \"CSCO\", \"ATVI\", \"YNDX\", \"FSLR\", \"FLIR\", \"KLAC\", \"MCHP\", \"IPGP\", \"STX\", \"GOOGL\", \"WDC\", \"SNE\", \"CIEN\", \"ITRI\", \"LRCX\", \"ADI\", \"MRVL\", \"TTWO\", \"ACN\", \"INFY\", \"AEIS\", \"XRX\", \"NTES\", \"WHR\", \"HPQ\", \"GRMN\", \"ADSK\", \"TXN\", \"CRM\", \"ASML\", \"EA\", \"NXPI\", \"INTU\", \"AMAT\", \"VMW\", \"AVGO\", \"MSFT\", \"CHKP\", \"EQIX\", \"AMZN\", \"ADBE\", \"CMTL\"], \"type\": \"scatter\", \"x\": [9.57638168334961, 9.006470680236816, 7.384726047515869, 7.4892072677612305, 7.533966064453125, -3.389152765274048, 7.251311779022217, 8.873666763305664, -4.287159442901611, -3.263068675994873, 7.741471290588379, 6.9821672439575195, 10.35289478302002, 9.325989723205566, 6.42968225479126, 8.063963890075684, 8.683724403381348, 8.949790000915527, 2.4569337368011475, 7.887383937835693, 4.461212635040283, 7.100982189178467, 6.598307132720947, 3.0879812240600586, 6.144796848297119, 10.456110954284668, 5.7124152183532715, -3.878460645675659, -2.05664324760437, 4.92875337600708, 8.040276527404785, 7.084741592407227, 6.227851390838623, 8.966375350952148, -2.0994677543640137, 1.1580910682678223, 3.317765712738037, -3.5001485347747803, 6.083808898925781, -2.5892908573150635, -3.846529960632324, 6.126308441162109, 7.181766033172607, 7.585511684417725, -3.2113819122314453, 5.99944543838501, 8.993949890136719, 6.3756303787231445, 7.456906795501709, 8.110426902770996, -3.2547476291656494, 7.175724029541016, 10.007340431213379, 5.686882972717285, 5.524406909942627, 10.57091236114502, 8.432967185974121, 3.188342332839966], \"y\": [4.3121442794799805, 2.2708098888397217, 4.537747383117676, 3.313105344772339, 1.4175794124603271, 3.535073757171631, 5.912320613861084, 4.92560338973999, 3.981267213821411, 3.6199681758880615, 3.480468511581421, 4.012090682983398, 2.3457884788513184, 4.5363006591796875, 3.8023786544799805, 4.473735809326172, 3.3288936614990234, 6.081117630004883, 1.8160172700881958, 1.465597152709961, -1.0385551452636719, 4.4685492515563965, 4.2884111404418945, 0.5275207161903381, 4.731509208679199, 2.760996103286743, 4.9889397621154785, 2.0114803314208984, -0.6704747676849365, 1.6333317756652832, 4.54666805267334, 3.7485973834991455, 4.285438060760498, 6.174732685089111, 2.452773332595825, 2.213869333267212, 1.2318222522735596, -2.3982019424438477, 2.3461952209472656, -4.3576250076293945, 3.7542645931243896, 3.6389825344085693, 3.256436586380005, 4.91677188873291, 3.599012613296509, 5.808755874633789, 6.1675004959106445, 5.498936653137207, 2.851971387863159, 4.469245433807373, 3.4832680225372314, 5.725597858428955, 3.8890106678009033, 3.9093775749206543, 2.0901830196380615, 2.685363292694092, 3.285562753677368, 1.496325969696045]}, {\"marker\": {\"color\": \"red\", \"size\": 5}, \"mode\": \"markers\", \"name\": \"financial\", \"opacity\": 0.6, \"text\": [\"NTRS\", \"MTB\", \"CNS\", \"AMP\", \"SCHW\", \"COF\", \"AIZ\", \"TROW\", \"STT\", \"CINF\", \"MET\", \"JPM\", \"CME\", \"GS\", \"CACC\", \"PRU\", \"BK\", \"CEF\", \"AFL\", \"AON\", \"BLK\", \"AIG\", \"CHN\", \"TRV\", \"BAC\", \"LNC\", \"PGR\", \"WU\", \"ETFC\", \"CB\", \"ICE\", \"AXP\", \"MS\", \"WFC\", \"L\", \"LAZ\", \"FII\", \"C\", \"PNC\", \"BX\", \"V\", \"NDAQ\", \"CMA\"], \"type\": \"scatter\", \"x\": [4.196572303771973, -3.187035322189331, 1.8519220352172852, 1.9647064208984375, -2.696117401123047, 2.013625144958496, -0.09009001404047012, 4.812137603759766, -3.363682746887207, 3.6968865394592285, 2.2909739017486572, -8.065841674804688, 4.804779529571533, -8.192441940307617, 3.1343588829040527, 2.0314700603485107, -3.1756513118743896, 1.085168719291687, -0.19062425196170807, 2.5143332481384277, -1.976428508758545, 1.9616494178771973, 2.3157947063446045, -0.14986658096313477, -8.082337379455566, -0.6123986840248108, -4.623292446136475, 0.47340214252471924, 4.794406890869141, 1.5564148426055908, -0.025138726457953453, -4.17415714263916, -8.1941556930542, -8.006375312805176, 3.735874891281128, 1.1872427463531494, 0.9273160696029663, -0.2544289231300354, 2.1376936435699463, -7.004058361053467, -0.39693379402160645, 5.197238922119141, 1.2060658931732178], \"y\": [-0.3335716426372528, 0.8553239703178406, -1.6983301639556885, -3.6832070350646973, 1.8873181343078613, -4.318966865539551, -1.771061658859253, 2.638137102127075, 0.5633010268211365, -0.19310146570205688, -0.9159642457962036, -5.1898369789123535, 3.2805898189544678, -4.647181510925293, -0.0960366278886795, -3.3456640243530273, 0.8102872967720032, 0.4607347846031189, -2.8005497455596924, -2.866995334625244, 3.6529181003570557, -2.5583269596099854, 1.2212157249450684, -3.2202179431915283, -5.082900524139404, -1.097907543182373, -3.3175859451293945, 1.8670527935028076, -0.24943464994430542, -2.173602342605591, 2.6950297355651855, -5.945990085601807, -4.612723350524902, -5.242572784423828, -3.823688268661499, -1.894431471824646, -1.9235076904296875, 0.5990419387817383, -3.9376606941223145, -3.859992027282715, 1.4859262704849243, 2.808131217956543, -3.1470279693603516]}, {\"marker\": {\"color\": \"orange\", \"size\": 5}, \"mode\": \"markers\", \"name\": \"industrials\", \"opacity\": 0.7, \"text\": [\"SPGI\", \"AVY\", \"UTX\", \"EXPD\", \"DXPE\", \"CRAI\", \"ALGT\", \"RS\", \"CAJ\", \"RTN\", \"ROP\", \"FISV\", \"SPAR\", \"FLR\", \"RHI\", \"MMM\", \"UPS\", \"PCAR\", \"NSC\", \"LUV\", \"GD\", \"AVAV\", \"ATI\", \"PAYX\", \"RYAAY\", \"LMT\", \"DOV\", \"FLS\", \"ADP\", \"NOC\", \"AIMC\", \"HON\", \"PH\", \"DAL\", \"OSK\", \"MCO\", \"CAT\", \"CATM\", \"CMI\", \"FDX\", \"GWW\", \"TEX\", \"ETN\", \"EFX\", \"GE\", \"UNP\", \"DE\", \"BA\", \"AAXN\", \"CSX\", \"UAL\", \"JBLU\"], \"type\": \"scatter\", \"x\": [-4.0125579833984375, -1.4657220840454102, -6.9919328689575195, 4.9125752449035645, 3.9354841709136963, 3.748499631881714, 5.528248310089111, 2.771655559539795, 0.7915864586830139, -6.703470230102539, -0.9525828957557678, 7.043916702270508, 2.7851006984710693, -2.7671210765838623, 0.041393447667360306, -3.754631519317627, 1.0409300327301025, 4.013256549835205, -2.989438533782959, 4.885157108306885, -6.122010707855225, 4.9458160400390625, -0.931820809841156, 7.1453938484191895, 5.363884925842285, -6.725935459136963, -2.409879684448242, -0.8688156008720398, 7.577429294586182, -6.516488552093506, 3.5180017948150635, -1.4736255407333374, -0.2579137682914734, 4.978339195251465, -2.0319628715515137, -3.118398427963257, -3.141850709915161, 4.081978797912598, -1.006123661994934, -3.73927903175354, -0.37542790174484253, -2.3517792224884033, 3.30704402923584, -4.681878566741943, -0.8126452565193176, -3.162337303161621, 0.6100987792015076, -3.908583164215088, 4.7111711502075195, 5.470302581787109, 5.242114067077637, 5.488656997680664], \"y\": [1.080394983291626, -1.1590983867645264, 1.5100046396255493, 1.079838752746582, 1.1783684492111206, 0.7769788503646851, -2.224151611328125, -1.9216448068618774, -0.7382466793060303, 1.319788932800293, -1.4217194318771362, 2.54581880569458, 0.7654728293418884, -1.0575770139694214, -0.878960907459259, -6.286736488342285, 1.9105647802352905, 2.19132399559021, -1.2593079805374146, -5.311169624328613, 1.3128952980041504, 1.2464028596878052, -1.8988518714904785, 2.4834346771240234, -2.3752195835113525, 1.3682292699813843, -1.471775770187378, -0.8105511665344238, 2.335831642150879, 1.2761070728302002, 0.7672615647315979, 1.2286136150360107, 1.2138324975967407, -5.247678279876709, -1.1812800168991089, 0.014839587733149529, -4.283697605133057, 1.0312219858169556, -2.905369997024536, -4.710587501525879, -2.124009609222412, -1.4436007738113403, -2.8971595764160156, 2.7188963890075684, 3.3651323318481445, -1.4462554454803467, 1.1451058387756348, -6.809134006500244, 1.8447575569152832, -3.5416901111602783, -4.839334487915039, -3.0934600830078125]}, {\"marker\": {\"color\": \"brown\", \"size\": 5}, \"mode\": \"markers\", \"name\": \"healthcare\", \"opacity\": 0.4, \"text\": [\"AGN\", \"DXCM\", \"BIIB\", \"CNMD\", \"PFE\", \"ANTM\", \"MRK\", \"UNH\", \"VRTX\", \"RDY\", \"ABMD\", \"CVS\", \"BDX\", \"CI\", \"VAR\", \"MDT\", \"HSIC\", \"JNJ\", \"WBA\", \"TMO\", \"SRPT\", \"PKI\", \"LH\", \"ABC\", \"ALXN\", \"BMRN\", \"MYL\", \"THC\", \"ANIK\", \"AMGN\", \"MCK\", \"HUM\", \"BMY\", \"GILD\", \"ABT\", \"ALGN\", \"CORT\", \"DHR\", \"ILMN\", \"ALNY\", \"EW\", \"TEVA\", \"CSII\", \"ISRG\", \"LLY\", \"BAX\", \"AMED\"], \"type\": \"scatter\", \"x\": [-5.70374059677124, 6.784023761749268, 8.769601821899414, 4.530402660369873, -5.697929859161377, -5.313894271850586, -5.635545253753662, -5.539137840270996, 7.820065021514893, 0.7238088846206665, 6.668054580688477, -5.045809268951416, -1.4860221147537231, -5.129417896270752, -1.2724545001983643, -2.150589942932129, 5.325370788574219, -5.6529221534729, 8.352139472961426, -1.3388179540634155, 7.091512203216553, -1.2542394399642944, -0.6399421095848083, 2.12310791015625, 7.954610824584961, 7.602927207946777, 8.897059440612793, -4.131548881530762, 4.262401103973389, 8.823824882507324, -3.9497945308685303, -5.3219194412231445, -5.190456390380859, 8.723299980163574, -2.136385202407837, 7.011096477508545, 3.464038133621216, -3.4694807529449463, 7.994084358215332, 6.902468204498291, -1.8122199773788452, 8.17687702178955, 4.299275875091553, 8.343799591064453, -5.325488090515137, -1.533673882484436, 5.628641605377197], \"y\": [-6.4411773681640625, 1.4940646886825562, -0.7028184533119202, 0.5086390376091003, -7.123072147369385, -4.184380531311035, -7.1555070877075195, -4.354525089263916, -0.5483604669570923, -0.6610267758369446, 1.4738683700561523, -4.22910213470459, -0.4225960373878479, -4.010687351226807, 0.10537702590227127, 1.0098947286605835, 0.9775032997131348, -6.701867580413818, 0.1149883046746254, 0.11654899269342422, -0.7736974358558655, -0.18359847366809845, -0.2686762809753418, 4.598806858062744, -0.48733919858932495, -0.6095943450927734, -1.091125249862671, -3.17678165435791, 0.6113691329956055, -0.674876868724823, -3.138418674468994, -4.220315933227539, -6.431063175201416, -0.6256282925605774, 0.8774048686027527, 4.037369728088379, 0.45341622829437256, -2.4197263717651367, 0.46192458271980286, -0.5062363147735596, 0.03757348656654358, -3.0112013816833496, 0.7464187741279602, 1.9102870225906372, -6.503938674926758, 0.5914561748504639, 1.0622133016586304]}, {\"marker\": {\"color\": \"blue\", \"size\": 5}, \"mode\": \"markers\", \"name\": \"consumer cyclical\", \"opacity\": 0.9, \"text\": [\"TSLA\", \"LB\", \"DDS\", \"HOG\", \"IP\", \"CBRL\", \"MAR\", \"GT\", \"CROX\", \"BBY\", \"DHI\", \"LOW\", \"CRI\", \"DISCA\", \"MAT\", \"DNKN\", \"ROST\", \"NYT\", \"MGA\", \"BJRI\", \"MCD\", \"ANF\", \"TPR\", \"UAA\", \"KSS\", \"AZO\", \"NWSA\", \"CTAS\", \"LEN\", \"RL\", \"DRI\", \"KBH\", \"HMC\", \"CMCSA\", \"SBUX\", \"BBBY\", \"DIS\", \"HD\", \"EXPE\", \"TM\", \"TIF\", \"EBAY\", \"JWN\", \"GPS\", \"GPC\", \"CMG\", \"KMX\", \"ORLY\", \"TTM\", \"URBN\", \"YUM\", \"MHO\", \"IPG\", \"HRB\", \"WYNN\", \"GM\", \"NKE\", \"BKNG\", \"COLM\"], \"type\": \"scatter\", \"x\": [10.280550003051758, 0.7218829989433289, -0.39851856231689453, 0.7887670397758484, 2.236388683319092, 5.527134895324707, 0.5290254950523376, 3.6245813369750977, 6.485354423522949, -0.8757455348968506, 1.606463074684143, 3.1796367168426514, 0.238873690366745, 4.22147274017334, 8.878263473510742, 5.824504852294922, 6.832085609436035, -0.12005153298377991, 0.2355620115995407, 5.6601080894470215, -2.501176118850708, -1.1704182624816895, 0.5026298761367798, -1.3245869874954224, -0.9269802570343018, 0.18168462812900543, 3.25769305229187, 4.055418968200684, 1.2020212411880493, -1.064868450164795, -0.1575331836938858, 1.0767009258270264, 2.6173999309539795, 3.8559367656707764, 9.467758178710938, 7.467715740203857, -3.3323168754577637, 1.1915355920791626, 6.281188011169434, 2.641188621520996, -1.371381163597107, 6.279175281524658, -0.7539470195770264, -1.3182324171066284, -1.4417463541030884, -0.25482553243637085, 0.2355220913887024, 6.056527137756348, 6.86181640625, 6.840013027191162, 0.5186740756034851, 0.08684315532445908, -1.3732695579528809, -0.5074024200439453, 6.336416721343994, 2.8356966972351074, -1.7789026498794556, 5.92832088470459, 6.079154968261719], \"y\": [2.0841314792633057, -5.65191650390625, -6.549338340759277, -4.055675029754639, 2.2155280113220215, 0.5890185236930847, 6.52457857131958, 2.2329721450805664, 0.9625564217567444, -7.177084922790527, -6.8923773765563965, -1.4331928491592407, -1.4127460718154907, 5.3002848625183105, 1.064287543296814, 0.20059888064861298, 0.3291970193386078, 2.3498566150665283, -1.1827757358551025, 0.4969039559364319, -6.914843559265137, -6.507289409637451, -1.6030473709106445, -7.201850414276123, -7.8253912925720215, -6.825709819793701, 4.556502342224121, 0.05838208273053169, -7.639030933380127, -6.556924343109131, -6.172550678253174, -7.644513130187988, -5.742164611816406, 5.6031317710876465, 0.4509652554988861, 0.5203344225883484, -6.3994951248168945, -8.000931739807129, 2.1633753776550293, -5.766938209533691, -6.439387321472168, 2.5543675422668457, -7.753660678863525, 4.915616512298584, -3.232010841369629, -7.319817066192627, -6.748074531555176, 1.2191132307052612, -4.313509941101074, 0.5767791271209717, -5.577570915222168, -1.4884289503097534, 2.1856300830841064, 0.40023061633110046, -1.2752512693405151, -5.659843444824219, -7.701105117797852, 2.0393004417419434, -0.3177177906036377]}, {\"marker\": {\"color\": \"magenta\", \"size\": 5}, \"mode\": \"markers\", \"name\": \"consumer defensive\", \"opacity\": 0.9, \"text\": [\"EL\", \"KO\", \"CHEF\", \"CASY\", \"TGT\", \"WMT\", \"TAP\", \"MO\", \"PEP\", \"GIS\", \"ADM\", \"PG\", \"KHC\", \"K\", \"HAIN\", \"SJM\", \"CLX\", \"CENT\", \"STZ\", \"CPB\", \"COST\", \"ATGE\", \"TSN\", \"DLTR\", \"HRL\", \"KMB\", \"CAG\", \"KR\", \"MKC\", \"PM\", \"HSY\", \"SYY\", \"BIG\"], \"type\": \"scatter\", \"x\": [-3.3692805767059326, -3.376603126525879, 5.475585460662842, 6.118808269500732, -0.840178370475769, -1.3932509422302246, 2.199934244155884, 0.3579723536968231, 7.5090012550354, -1.21078622341156, -1.3108062744140625, -4.571056365966797, 7.092159748077393, 1.8995543718338013, 5.858778476715088, -0.7568221092224121, -1.9430921077728271, 3.722745418548584, 0.2587427794933319, -1.9420876502990723, 3.2138967514038086, 1.0238354206085205, -1.1718138456344604, 7.127478122711182, -1.8206844329833984, -2.2329366207122803, -0.3303542733192444, -1.6453099250793457, -1.2982882261276245, 1.7150485515594482, -1.9054886102676392, -2.059722661972046, 2.7239887714385986], \"y\": [-8.716666221618652, -6.063509464263916, -0.037495434284210205, 0.36614400148391724, -8.384012222290039, -8.055642127990723, -0.7909227609634399, -3.096292734146118, -2.1745970249176025, -5.240533351898193, -3.7085683345794678, -2.1746671199798584, -1.7939472198486328, 0.6621811389923096, -0.8244163393974304, -4.371837615966797, -4.570521354675293, -1.9226258993148804, -5.652862071990967, -5.20905876159668, -0.952992856502533, -0.4000130295753479, -4.8186116218566895, 0.4785495400428772, -4.086174964904785, -4.296393394470215, -4.812205791473389, -6.048336982727051, -4.457154750823975, -1.2233808040618896, -4.928337574005127, -4.358081817626953, -0.6476914882659912]}, {\"marker\": {\"color\": \"goldenrod\", \"size\": 5}, \"mode\": \"markers\", \"name\": \"energy\", \"opacity\": 0.9, \"text\": [\"XOM\", \"PXD\", \"PBR\", \"OKE\", \"MUR\", \"NS\", \"EOG\", \"COP\", \"CVX\", \"NOV\", \"HAL\", \"VLO\", \"NBL\", \"APA\", \"WMB\", \"FTI\", \"OXY\", \"MPC\", \"DVN\", \"HES\", \"SLB\", \"COG\"], \"type\": \"scatter\", \"x\": [-7.833770751953125, -5.688475131988525, -6.425756454467773, -4.375895023345947, -5.211635589599609, 1.3550528287887573, -5.709895610809326, -6.925808429718018, -7.802958011627197, 0.5250118374824524, -7.600803852081299, -5.530400276184082, -4.893179416656494, -6.125329494476318, -6.761200904846191, -1.371504783630371, -6.01716423034668, -6.322431564331055, -5.559090614318848, -5.572109699249268, -7.651055812835693, -5.340238571166992], \"y\": [-0.5275784730911255, -2.2215991020202637, -0.5081486701965332, -0.7337426543235779, -1.2154910564422607, 2.6307175159454346, -1.9192432165145874, -1.2066096067428589, -0.5361148118972778, 6.526231288909912, -1.7509976625442505, -1.083130121231079, -0.8915500640869141, -0.8504794239997864, -2.5237085819244385, 2.401587724685669, -1.286908745765686, -1.7596104145050049, -1.18821382522583, -1.136303186416626, -1.7587807178497314, -1.3453692197799683]}, {\"marker\": {\"color\": \"navy\", \"size\": 5}, \"mode\": \"markers\", \"name\": \"basic materials\", \"opacity\": 0.9, \"text\": [\"APD\", \"AA\", \"NEM\", \"WPM\", \"MAS\", \"STLD\", \"NUE\", \"SSRM\", \"RGLD\", \"SHW\", \"PPG\", \"ARCH\", \"MOS\", \"FMC\", \"VMC\", \"CF\", \"GOLD\", \"SCCO\", \"FCX\", \"AEM\", \"PAAS\", \"VALE\"], \"type\": \"scatter\", \"x\": [-0.9381119012832642, -2.8377721309661865, -2.338489532470703, 1.0840948820114136, -0.904563307762146, 4.456843376159668, -2.599285840988159, 4.377535343170166, 3.4444408416748047, -1.523335576057434, -1.0488489866256714, 0.7489588856697083, -2.2649548053741455, -5.187889099121094, -1.469394326210022, -0.33965355157852173, 2.3272199630737305, 0.3244735896587372, -2.5960373878479004, -1.8592040538787842, 3.54764723777771, -6.585990905761719], \"y\": [-2.025536298751831, -3.242123603820801, -2.202319383621216, -0.29940101504325867, -0.613953173160553, 2.3260152339935303, -3.2224209308624268, 1.6960707902908325, 2.8355813026428223, -3.1163346767425537, -1.9846247434616089, 4.157968521118164, -3.2140750885009766, 1.1099811792373657, -2.686777114868164, 4.306739807128906, 3.4608399868011475, -0.3249260187149048, -2.497016429901123, -2.231170177459717, 3.0293776988983154, -0.12573835253715515]}, {\"mode\": \"text\", \"name\": \"Top\", \"opacity\": 0.9, \"text\": [\"TSLA\", \"XOM\", \"AGN\", \"AA\", \"INTC\", \"KO\", \"IBM\", \"TGT\", \"WMT\", \"AAPL\", \"JPM\", \"MU\", \"CME\", \"GOOGL\", \"GS\", \"CVX\", \"VZ\", \"NWSA\", \"BLK\", \"UBER\", \"LMT\", \"SBUX\", \"BAC\", \"WMB\", \"DIS\", \"TM\", \"MS\", \"BKR\", \"CAT\", \"WFC\", \"CMG\", \"C\", \"EFX\", \"MSFT\", \"GE\", \"AMZN\", \"BA\", \"NFLX\", \"GM\"], \"textfont\": {\"color\": \"black\", \"family\": \"sans serif\", \"size\": 10}, \"type\": \"scatter\", \"x\": [10.280550003051758, -7.833770751953125, -5.70374059677124, -2.8377721309661865, 9.57638168334961, -3.376603126525879, -3.263068675994873, -0.840178370475769, -1.3932509422302246, 10.35289478302002, -8.065841674804688, 8.063963890075684, 4.804779529571533, 10.456110954284668, -8.192441940307617, -7.802958011627197, -5.9073896408081055, 3.25769305229187, -1.976428508758545, 0.9479497671127319, -6.725935459136963, 9.467758178710938, -8.082337379455566, -6.761200904846191, -3.3323168754577637, 2.641188621520996, -8.1941556930542, 1.2295129299163818, -3.141850709915161, -8.006375312805176, -0.25482553243637085, -0.2544289231300354, -4.681878566741943, 10.007340431213379, -0.8126452565193176, 10.57091236114502, -3.908583164215088, 10.342805862426758, 2.8356966972351074], \"y\": [2.0841314792633057, -0.5275784730911255, -6.4411773681640625, -3.242123603820801, 4.3121442794799805, -6.063509464263916, 3.6199681758880615, -8.384012222290039, -8.055642127990723, 2.3457884788513184, -5.1898369789123535, 4.473735809326172, 3.2805898189544678, 2.760996103286743, -4.647181510925293, -0.5361148118972778, 3.3999240398406982, 4.556502342224121, 3.6529181003570557, 3.1301963329315186, 1.3682292699813843, 0.4509652554988861, -5.082900524139404, -2.5237085819244385, -6.3994951248168945, -5.766938209533691, -4.612723350524902, -0.3062814176082611, -4.283697605133057, -5.242572784423828, -7.319817066192627, 0.5990419387817383, 2.7188963890075684, 3.8890106678009033, 3.3651323318481445, 2.685363292694092, -6.809134006500244, 2.3324334621429443, -5.659843444824219]}],\n",
              "                        {\"autosize\": false, \"height\": 750, \"template\": {\"data\": {\"bar\": [{\"error_x\": {\"color\": \"#2a3f5f\"}, \"error_y\": {\"color\": \"#2a3f5f\"}, \"marker\": {\"line\": {\"color\": \"#E5ECF6\", \"width\": 0.5}}, \"type\": \"bar\"}], \"barpolar\": [{\"marker\": {\"line\": {\"color\": \"#E5ECF6\", \"width\": 0.5}}, \"type\": \"barpolar\"}], \"carpet\": [{\"aaxis\": {\"endlinecolor\": \"#2a3f5f\", \"gridcolor\": \"white\", \"linecolor\": \"white\", \"minorgridcolor\": \"white\", \"startlinecolor\": \"#2a3f5f\"}, \"baxis\": {\"endlinecolor\": \"#2a3f5f\", \"gridcolor\": \"white\", \"linecolor\": \"white\", \"minorgridcolor\": \"white\", \"startlinecolor\": \"#2a3f5f\"}, \"type\": \"carpet\"}], \"choropleth\": [{\"colorbar\": {\"outlinewidth\": 0, \"ticks\": \"\"}, \"type\": \"choropleth\"}], \"contour\": [{\"colorbar\": {\"outlinewidth\": 0, \"ticks\": \"\"}, \"colorscale\": [[0.0, \"#0d0887\"], [0.1111111111111111, \"#46039f\"], [0.2222222222222222, \"#7201a8\"], [0.3333333333333333, \"#9c179e\"], [0.4444444444444444, \"#bd3786\"], [0.5555555555555556, \"#d8576b\"], [0.6666666666666666, \"#ed7953\"], [0.7777777777777778, \"#fb9f3a\"], [0.8888888888888888, \"#fdca26\"], [1.0, \"#f0f921\"]], \"type\": \"contour\"}], \"contourcarpet\": [{\"colorbar\": {\"outlinewidth\": 0, \"ticks\": \"\"}, \"type\": \"contourcarpet\"}], \"heatmap\": [{\"colorbar\": {\"outlinewidth\": 0, \"ticks\": \"\"}, \"colorscale\": [[0.0, \"#0d0887\"], [0.1111111111111111, \"#46039f\"], [0.2222222222222222, \"#7201a8\"], [0.3333333333333333, \"#9c179e\"], [0.4444444444444444, \"#bd3786\"], [0.5555555555555556, \"#d8576b\"], [0.6666666666666666, \"#ed7953\"], [0.7777777777777778, \"#fb9f3a\"], [0.8888888888888888, \"#fdca26\"], [1.0, \"#f0f921\"]], \"type\": \"heatmap\"}], \"heatmapgl\": [{\"colorbar\": {\"outlinewidth\": 0, \"ticks\": \"\"}, \"colorscale\": [[0.0, \"#0d0887\"], [0.1111111111111111, \"#46039f\"], [0.2222222222222222, \"#7201a8\"], [0.3333333333333333, \"#9c179e\"], [0.4444444444444444, \"#bd3786\"], [0.5555555555555556, \"#d8576b\"], [0.6666666666666666, \"#ed7953\"], [0.7777777777777778, \"#fb9f3a\"], [0.8888888888888888, \"#fdca26\"], [1.0, \"#f0f921\"]], \"type\": \"heatmapgl\"}], \"histogram\": [{\"marker\": {\"colorbar\": {\"outlinewidth\": 0, \"ticks\": \"\"}}, \"type\": \"histogram\"}], \"histogram2d\": [{\"colorbar\": {\"outlinewidth\": 0, \"ticks\": \"\"}, \"colorscale\": [[0.0, \"#0d0887\"], [0.1111111111111111, \"#46039f\"], [0.2222222222222222, \"#7201a8\"], [0.3333333333333333, \"#9c179e\"], [0.4444444444444444, \"#bd3786\"], [0.5555555555555556, \"#d8576b\"], [0.6666666666666666, \"#ed7953\"], [0.7777777777777778, \"#fb9f3a\"], [0.8888888888888888, \"#fdca26\"], [1.0, \"#f0f921\"]], \"type\": \"histogram2d\"}], \"histogram2dcontour\": [{\"colorbar\": {\"outlinewidth\": 0, \"ticks\": \"\"}, \"colorscale\": [[0.0, \"#0d0887\"], [0.1111111111111111, \"#46039f\"], [0.2222222222222222, \"#7201a8\"], [0.3333333333333333, \"#9c179e\"], [0.4444444444444444, \"#bd3786\"], [0.5555555555555556, \"#d8576b\"], [0.6666666666666666, \"#ed7953\"], [0.7777777777777778, \"#fb9f3a\"], [0.8888888888888888, \"#fdca26\"], [1.0, \"#f0f921\"]], \"type\": \"histogram2dcontour\"}], \"mesh3d\": [{\"colorbar\": {\"outlinewidth\": 0, \"ticks\": \"\"}, \"type\": \"mesh3d\"}], \"parcoords\": [{\"line\": {\"colorbar\": {\"outlinewidth\": 0, \"ticks\": \"\"}}, \"type\": \"parcoords\"}], \"pie\": [{\"automargin\": true, \"type\": \"pie\"}], \"scatter\": [{\"marker\": {\"colorbar\": {\"outlinewidth\": 0, \"ticks\": \"\"}}, \"type\": \"scatter\"}], \"scatter3d\": [{\"line\": {\"colorbar\": {\"outlinewidth\": 0, \"ticks\": \"\"}}, \"marker\": {\"colorbar\": {\"outlinewidth\": 0, \"ticks\": \"\"}}, \"type\": \"scatter3d\"}], \"scattercarpet\": [{\"marker\": {\"colorbar\": {\"outlinewidth\": 0, \"ticks\": \"\"}}, \"type\": \"scattercarpet\"}], \"scattergeo\": [{\"marker\": {\"colorbar\": {\"outlinewidth\": 0, \"ticks\": \"\"}}, \"type\": \"scattergeo\"}], \"scattergl\": [{\"marker\": {\"colorbar\": {\"outlinewidth\": 0, \"ticks\": \"\"}}, \"type\": \"scattergl\"}], \"scattermapbox\": [{\"marker\": {\"colorbar\": {\"outlinewidth\": 0, \"ticks\": \"\"}}, \"type\": \"scattermapbox\"}], \"scatterpolar\": [{\"marker\": {\"colorbar\": {\"outlinewidth\": 0, \"ticks\": \"\"}}, \"type\": \"scatterpolar\"}], \"scatterpolargl\": [{\"marker\": {\"colorbar\": {\"outlinewidth\": 0, \"ticks\": \"\"}}, \"type\": \"scatterpolargl\"}], \"scatterternary\": [{\"marker\": {\"colorbar\": {\"outlinewidth\": 0, \"ticks\": \"\"}}, \"type\": \"scatterternary\"}], \"surface\": [{\"colorbar\": {\"outlinewidth\": 0, \"ticks\": \"\"}, \"colorscale\": [[0.0, \"#0d0887\"], [0.1111111111111111, \"#46039f\"], [0.2222222222222222, \"#7201a8\"], [0.3333333333333333, \"#9c179e\"], [0.4444444444444444, \"#bd3786\"], [0.5555555555555556, \"#d8576b\"], [0.6666666666666666, \"#ed7953\"], [0.7777777777777778, \"#fb9f3a\"], [0.8888888888888888, \"#fdca26\"], [1.0, \"#f0f921\"]], \"type\": \"surface\"}], \"table\": [{\"cells\": {\"fill\": {\"color\": \"#EBF0F8\"}, \"line\": {\"color\": \"white\"}}, \"header\": {\"fill\": {\"color\": \"#C8D4E3\"}, \"line\": {\"color\": \"white\"}}, \"type\": \"table\"}]}, \"layout\": {\"annotationdefaults\": {\"arrowcolor\": \"#2a3f5f\", \"arrowhead\": 0, \"arrowwidth\": 1}, \"coloraxis\": {\"colorbar\": {\"outlinewidth\": 0, \"ticks\": \"\"}}, \"colorscale\": {\"diverging\": [[0, \"#8e0152\"], [0.1, \"#c51b7d\"], [0.2, \"#de77ae\"], [0.3, \"#f1b6da\"], [0.4, \"#fde0ef\"], [0.5, \"#f7f7f7\"], [0.6, \"#e6f5d0\"], [0.7, \"#b8e186\"], [0.8, \"#7fbc41\"], [0.9, \"#4d9221\"], [1, \"#276419\"]], \"sequential\": [[0.0, \"#0d0887\"], [0.1111111111111111, \"#46039f\"], [0.2222222222222222, \"#7201a8\"], [0.3333333333333333, \"#9c179e\"], [0.4444444444444444, \"#bd3786\"], [0.5555555555555556, \"#d8576b\"], [0.6666666666666666, \"#ed7953\"], [0.7777777777777778, \"#fb9f3a\"], [0.8888888888888888, \"#fdca26\"], [1.0, \"#f0f921\"]], \"sequentialminus\": [[0.0, \"#0d0887\"], [0.1111111111111111, \"#46039f\"], [0.2222222222222222, \"#7201a8\"], [0.3333333333333333, \"#9c179e\"], [0.4444444444444444, \"#bd3786\"], [0.5555555555555556, \"#d8576b\"], [0.6666666666666666, \"#ed7953\"], [0.7777777777777778, \"#fb9f3a\"], [0.8888888888888888, \"#fdca26\"], [1.0, \"#f0f921\"]]}, \"colorway\": [\"#636efa\", \"#EF553B\", \"#00cc96\", \"#ab63fa\", \"#FFA15A\", \"#19d3f3\", \"#FF6692\", \"#B6E880\", \"#FF97FF\", \"#FECB52\"], \"font\": {\"color\": \"#2a3f5f\"}, \"geo\": {\"bgcolor\": \"white\", \"lakecolor\": \"white\", \"landcolor\": \"#E5ECF6\", \"showlakes\": true, \"showland\": true, \"subunitcolor\": \"white\"}, \"hoverlabel\": {\"align\": \"left\"}, \"hovermode\": \"closest\", \"mapbox\": {\"style\": \"light\"}, \"paper_bgcolor\": \"white\", \"plot_bgcolor\": \"#E5ECF6\", \"polar\": {\"angularaxis\": {\"gridcolor\": \"white\", \"linecolor\": \"white\", \"ticks\": \"\"}, \"bgcolor\": \"#E5ECF6\", \"radialaxis\": {\"gridcolor\": \"white\", \"linecolor\": \"white\", \"ticks\": \"\"}}, \"scene\": {\"xaxis\": {\"backgroundcolor\": \"#E5ECF6\", \"gridcolor\": \"white\", \"gridwidth\": 2, \"linecolor\": \"white\", \"showbackground\": true, \"ticks\": \"\", \"zerolinecolor\": \"white\"}, \"yaxis\": {\"backgroundcolor\": \"#E5ECF6\", \"gridcolor\": \"white\", \"gridwidth\": 2, \"linecolor\": \"white\", \"showbackground\": true, \"ticks\": \"\", \"zerolinecolor\": \"white\"}, \"zaxis\": {\"backgroundcolor\": \"#E5ECF6\", \"gridcolor\": \"white\", \"gridwidth\": 2, \"linecolor\": \"white\", \"showbackground\": true, \"ticks\": \"\", \"zerolinecolor\": \"white\"}}, \"shapedefaults\": {\"line\": {\"color\": \"#2a3f5f\"}}, \"ternary\": {\"aaxis\": {\"gridcolor\": \"white\", \"linecolor\": \"white\", \"ticks\": \"\"}, \"baxis\": {\"gridcolor\": \"white\", \"linecolor\": \"white\", \"ticks\": \"\"}, \"bgcolor\": \"#E5ECF6\", \"caxis\": {\"gridcolor\": \"white\", \"linecolor\": \"white\", \"ticks\": \"\"}}, \"title\": {\"x\": 0.05}, \"xaxis\": {\"automargin\": true, \"gridcolor\": \"white\", \"linecolor\": \"white\", \"ticks\": \"\", \"title\": {\"standoff\": 15}, \"zerolinecolor\": \"white\", \"zerolinewidth\": 2}, \"yaxis\": {\"automargin\": true, \"gridcolor\": \"white\", \"linecolor\": \"white\", \"ticks\": \"\", \"title\": {\"standoff\": 15}, \"zerolinecolor\": \"white\", \"zerolinewidth\": 2}}}, \"title\": {\"font\": {\"size\": 20}, \"text\": \"t-SNE - Tickers News\"}, \"width\": 1150},\n",
              "                        {\"responsive\": true}\n",
              "                    ).then(function(){\n",
              "                            \n",
              "var gd = document.getElementById('f77f9d24-15fe-42b6-8ba7-0c19a9b10c0f');\n",
              "var x = new MutationObserver(function (mutations, observer) {{\n",
              "        var display = window.getComputedStyle(gd).display;\n",
              "        if (!display || display === 'none') {{\n",
              "            console.log([gd, 'removed!']);\n",
              "            Plotly.purge(gd);\n",
              "            observer.disconnect();\n",
              "        }}\n",
              "}});\n",
              "\n",
              "// Listen for the removal of the full notebook cells\n",
              "var notebookContainer = gd.closest('#notebook-container');\n",
              "if (notebookContainer) {{\n",
              "    x.observe(notebookContainer, {childList: true});\n",
              "}}\n",
              "\n",
              "// Listen for the clearing of the current output cell\n",
              "var outputEl = gd.closest('.output');\n",
              "if (outputEl) {{\n",
              "    x.observe(outputEl, {childList: true});\n",
              "}}\n",
              "\n",
              "                        })\n",
              "                };\n",
              "                });\n",
              "            </script>\n",
              "        </div>"
            ],
            "application/vnd.plotly.v1+json": {
              "data": [
                {
                  "opacity": 0.9,
                  "name": "technology",
                  "text": [
                    "INTC",
                    "BIDU",
                    "XLNX",
                    "NTAP",
                    "CSIQ",
                    "ORCL",
                    "QCOM",
                    "AMD",
                    "MSI",
                    "IBM",
                    "CDNS",
                    "CRUS",
                    "AAPL",
                    "NVDA",
                    "AKAM",
                    "MU",
                    "CSCO",
                    "ATVI",
                    "YNDX",
                    "FSLR",
                    "FLIR",
                    "KLAC",
                    "MCHP",
                    "IPGP",
                    "STX",
                    "GOOGL",
                    "WDC",
                    "SNE",
                    "CIEN",
                    "ITRI",
                    "LRCX",
                    "ADI",
                    "MRVL",
                    "TTWO",
                    "ACN",
                    "INFY",
                    "AEIS",
                    "XRX",
                    "NTES",
                    "WHR",
                    "HPQ",
                    "GRMN",
                    "ADSK",
                    "TXN",
                    "CRM",
                    "ASML",
                    "EA",
                    "NXPI",
                    "INTU",
                    "AMAT",
                    "VMW",
                    "AVGO",
                    "MSFT",
                    "CHKP",
                    "EQIX",
                    "AMZN",
                    "ADBE",
                    "CMTL"
                  ],
                  "y": [
                    4.3121442794799805,
                    2.2708098888397217,
                    4.537747383117676,
                    3.313105344772339,
                    1.4175794124603271,
                    3.535073757171631,
                    5.912320613861084,
                    4.92560338973999,
                    3.981267213821411,
                    3.6199681758880615,
                    3.480468511581421,
                    4.012090682983398,
                    2.3457884788513184,
                    4.5363006591796875,
                    3.8023786544799805,
                    4.473735809326172,
                    3.3288936614990234,
                    6.081117630004883,
                    1.8160172700881958,
                    1.465597152709961,
                    -1.0385551452636719,
                    4.4685492515563965,
                    4.2884111404418945,
                    0.5275207161903381,
                    4.731509208679199,
                    2.760996103286743,
                    4.9889397621154785,
                    2.0114803314208984,
                    -0.6704747676849365,
                    1.6333317756652832,
                    4.54666805267334,
                    3.7485973834991455,
                    4.285438060760498,
                    6.174732685089111,
                    2.452773332595825,
                    2.213869333267212,
                    1.2318222522735596,
                    -2.3982019424438477,
                    2.3461952209472656,
                    -4.3576250076293945,
                    3.7542645931243896,
                    3.6389825344085693,
                    3.256436586380005,
                    4.91677188873291,
                    3.599012613296509,
                    5.808755874633789,
                    6.1675004959106445,
                    5.498936653137207,
                    2.851971387863159,
                    4.469245433807373,
                    3.4832680225372314,
                    5.725597858428955,
                    3.8890106678009033,
                    3.9093775749206543,
                    2.0901830196380615,
                    2.685363292694092,
                    3.285562753677368,
                    1.496325969696045
                  ],
                  "mode": "markers",
                  "marker": {
                    "color": "yellow",
                    "size": 5
                  },
                  "x": [
                    9.57638168334961,
                    9.006470680236816,
                    7.384726047515869,
                    7.4892072677612305,
                    7.533966064453125,
                    -3.389152765274048,
                    7.251311779022217,
                    8.873666763305664,
                    -4.287159442901611,
                    -3.263068675994873,
                    7.741471290588379,
                    6.9821672439575195,
                    10.35289478302002,
                    9.325989723205566,
                    6.42968225479126,
                    8.063963890075684,
                    8.683724403381348,
                    8.949790000915527,
                    2.4569337368011475,
                    7.887383937835693,
                    4.461212635040283,
                    7.100982189178467,
                    6.598307132720947,
                    3.0879812240600586,
                    6.144796848297119,
                    10.456110954284668,
                    5.7124152183532715,
                    -3.878460645675659,
                    -2.05664324760437,
                    4.92875337600708,
                    8.040276527404785,
                    7.084741592407227,
                    6.227851390838623,
                    8.966375350952148,
                    -2.0994677543640137,
                    1.1580910682678223,
                    3.317765712738037,
                    -3.5001485347747803,
                    6.083808898925781,
                    -2.5892908573150635,
                    -3.846529960632324,
                    6.126308441162109,
                    7.181766033172607,
                    7.585511684417725,
                    -3.2113819122314453,
                    5.99944543838501,
                    8.993949890136719,
                    6.3756303787231445,
                    7.456906795501709,
                    8.110426902770996,
                    -3.2547476291656494,
                    7.175724029541016,
                    10.007340431213379,
                    5.686882972717285,
                    5.524406909942627,
                    10.57091236114502,
                    8.432967185974121,
                    3.188342332839966
                  ],
                  "type": "scatter"
                },
                {
                  "opacity": 0.6,
                  "name": "financial",
                  "text": [
                    "NTRS",
                    "MTB",
                    "CNS",
                    "AMP",
                    "SCHW",
                    "COF",
                    "AIZ",
                    "TROW",
                    "STT",
                    "CINF",
                    "MET",
                    "JPM",
                    "CME",
                    "GS",
                    "CACC",
                    "PRU",
                    "BK",
                    "CEF",
                    "AFL",
                    "AON",
                    "BLK",
                    "AIG",
                    "CHN",
                    "TRV",
                    "BAC",
                    "LNC",
                    "PGR",
                    "WU",
                    "ETFC",
                    "CB",
                    "ICE",
                    "AXP",
                    "MS",
                    "WFC",
                    "L",
                    "LAZ",
                    "FII",
                    "C",
                    "PNC",
                    "BX",
                    "V",
                    "NDAQ",
                    "CMA"
                  ],
                  "y": [
                    -0.3335716426372528,
                    0.8553239703178406,
                    -1.6983301639556885,
                    -3.6832070350646973,
                    1.8873181343078613,
                    -4.318966865539551,
                    -1.771061658859253,
                    2.638137102127075,
                    0.5633010268211365,
                    -0.19310146570205688,
                    -0.9159642457962036,
                    -5.1898369789123535,
                    3.2805898189544678,
                    -4.647181510925293,
                    -0.0960366278886795,
                    -3.3456640243530273,
                    0.8102872967720032,
                    0.4607347846031189,
                    -2.8005497455596924,
                    -2.866995334625244,
                    3.6529181003570557,
                    -2.5583269596099854,
                    1.2212157249450684,
                    -3.2202179431915283,
                    -5.082900524139404,
                    -1.097907543182373,
                    -3.3175859451293945,
                    1.8670527935028076,
                    -0.24943464994430542,
                    -2.173602342605591,
                    2.6950297355651855,
                    -5.945990085601807,
                    -4.612723350524902,
                    -5.242572784423828,
                    -3.823688268661499,
                    -1.894431471824646,
                    -1.9235076904296875,
                    0.5990419387817383,
                    -3.9376606941223145,
                    -3.859992027282715,
                    1.4859262704849243,
                    2.808131217956543,
                    -3.1470279693603516
                  ],
                  "mode": "markers",
                  "marker": {
                    "color": "red",
                    "size": 5
                  },
                  "x": [
                    4.196572303771973,
                    -3.187035322189331,
                    1.8519220352172852,
                    1.9647064208984375,
                    -2.696117401123047,
                    2.013625144958496,
                    -0.09009001404047012,
                    4.812137603759766,
                    -3.363682746887207,
                    3.6968865394592285,
                    2.2909739017486572,
                    -8.065841674804688,
                    4.804779529571533,
                    -8.192441940307617,
                    3.1343588829040527,
                    2.0314700603485107,
                    -3.1756513118743896,
                    1.085168719291687,
                    -0.19062425196170807,
                    2.5143332481384277,
                    -1.976428508758545,
                    1.9616494178771973,
                    2.3157947063446045,
                    -0.14986658096313477,
                    -8.082337379455566,
                    -0.6123986840248108,
                    -4.623292446136475,
                    0.47340214252471924,
                    4.794406890869141,
                    1.5564148426055908,
                    -0.025138726457953453,
                    -4.17415714263916,
                    -8.1941556930542,
                    -8.006375312805176,
                    3.735874891281128,
                    1.1872427463531494,
                    0.9273160696029663,
                    -0.2544289231300354,
                    2.1376936435699463,
                    -7.004058361053467,
                    -0.39693379402160645,
                    5.197238922119141,
                    1.2060658931732178
                  ],
                  "type": "scatter"
                },
                {
                  "opacity": 0.7,
                  "name": "industrials",
                  "text": [
                    "SPGI",
                    "AVY",
                    "UTX",
                    "EXPD",
                    "DXPE",
                    "CRAI",
                    "ALGT",
                    "RS",
                    "CAJ",
                    "RTN",
                    "ROP",
                    "FISV",
                    "SPAR",
                    "FLR",
                    "RHI",
                    "MMM",
                    "UPS",
                    "PCAR",
                    "NSC",
                    "LUV",
                    "GD",
                    "AVAV",
                    "ATI",
                    "PAYX",
                    "RYAAY",
                    "LMT",
                    "DOV",
                    "FLS",
                    "ADP",
                    "NOC",
                    "AIMC",
                    "HON",
                    "PH",
                    "DAL",
                    "OSK",
                    "MCO",
                    "CAT",
                    "CATM",
                    "CMI",
                    "FDX",
                    "GWW",
                    "TEX",
                    "ETN",
                    "EFX",
                    "GE",
                    "UNP",
                    "DE",
                    "BA",
                    "AAXN",
                    "CSX",
                    "UAL",
                    "JBLU"
                  ],
                  "y": [
                    1.080394983291626,
                    -1.1590983867645264,
                    1.5100046396255493,
                    1.079838752746582,
                    1.1783684492111206,
                    0.7769788503646851,
                    -2.224151611328125,
                    -1.9216448068618774,
                    -0.7382466793060303,
                    1.319788932800293,
                    -1.4217194318771362,
                    2.54581880569458,
                    0.7654728293418884,
                    -1.0575770139694214,
                    -0.878960907459259,
                    -6.286736488342285,
                    1.9105647802352905,
                    2.19132399559021,
                    -1.2593079805374146,
                    -5.311169624328613,
                    1.3128952980041504,
                    1.2464028596878052,
                    -1.8988518714904785,
                    2.4834346771240234,
                    -2.3752195835113525,
                    1.3682292699813843,
                    -1.471775770187378,
                    -0.8105511665344238,
                    2.335831642150879,
                    1.2761070728302002,
                    0.7672615647315979,
                    1.2286136150360107,
                    1.2138324975967407,
                    -5.247678279876709,
                    -1.1812800168991089,
                    0.014839587733149529,
                    -4.283697605133057,
                    1.0312219858169556,
                    -2.905369997024536,
                    -4.710587501525879,
                    -2.124009609222412,
                    -1.4436007738113403,
                    -2.8971595764160156,
                    2.7188963890075684,
                    3.3651323318481445,
                    -1.4462554454803467,
                    1.1451058387756348,
                    -6.809134006500244,
                    1.8447575569152832,
                    -3.5416901111602783,
                    -4.839334487915039,
                    -3.0934600830078125
                  ],
                  "mode": "markers",
                  "marker": {
                    "color": "orange",
                    "size": 5
                  },
                  "x": [
                    -4.0125579833984375,
                    -1.4657220840454102,
                    -6.9919328689575195,
                    4.9125752449035645,
                    3.9354841709136963,
                    3.748499631881714,
                    5.528248310089111,
                    2.771655559539795,
                    0.7915864586830139,
                    -6.703470230102539,
                    -0.9525828957557678,
                    7.043916702270508,
                    2.7851006984710693,
                    -2.7671210765838623,
                    0.041393447667360306,
                    -3.754631519317627,
                    1.0409300327301025,
                    4.013256549835205,
                    -2.989438533782959,
                    4.885157108306885,
                    -6.122010707855225,
                    4.9458160400390625,
                    -0.931820809841156,
                    7.1453938484191895,
                    5.363884925842285,
                    -6.725935459136963,
                    -2.409879684448242,
                    -0.8688156008720398,
                    7.577429294586182,
                    -6.516488552093506,
                    3.5180017948150635,
                    -1.4736255407333374,
                    -0.2579137682914734,
                    4.978339195251465,
                    -2.0319628715515137,
                    -3.118398427963257,
                    -3.141850709915161,
                    4.081978797912598,
                    -1.006123661994934,
                    -3.73927903175354,
                    -0.37542790174484253,
                    -2.3517792224884033,
                    3.30704402923584,
                    -4.681878566741943,
                    -0.8126452565193176,
                    -3.162337303161621,
                    0.6100987792015076,
                    -3.908583164215088,
                    4.7111711502075195,
                    5.470302581787109,
                    5.242114067077637,
                    5.488656997680664
                  ],
                  "type": "scatter"
                },
                {
                  "opacity": 0.4,
                  "name": "healthcare",
                  "text": [
                    "AGN",
                    "DXCM",
                    "BIIB",
                    "CNMD",
                    "PFE",
                    "ANTM",
                    "MRK",
                    "UNH",
                    "VRTX",
                    "RDY",
                    "ABMD",
                    "CVS",
                    "BDX",
                    "CI",
                    "VAR",
                    "MDT",
                    "HSIC",
                    "JNJ",
                    "WBA",
                    "TMO",
                    "SRPT",
                    "PKI",
                    "LH",
                    "ABC",
                    "ALXN",
                    "BMRN",
                    "MYL",
                    "THC",
                    "ANIK",
                    "AMGN",
                    "MCK",
                    "HUM",
                    "BMY",
                    "GILD",
                    "ABT",
                    "ALGN",
                    "CORT",
                    "DHR",
                    "ILMN",
                    "ALNY",
                    "EW",
                    "TEVA",
                    "CSII",
                    "ISRG",
                    "LLY",
                    "BAX",
                    "AMED"
                  ],
                  "y": [
                    -6.4411773681640625,
                    1.4940646886825562,
                    -0.7028184533119202,
                    0.5086390376091003,
                    -7.123072147369385,
                    -4.184380531311035,
                    -7.1555070877075195,
                    -4.354525089263916,
                    -0.5483604669570923,
                    -0.6610267758369446,
                    1.4738683700561523,
                    -4.22910213470459,
                    -0.4225960373878479,
                    -4.010687351226807,
                    0.10537702590227127,
                    1.0098947286605835,
                    0.9775032997131348,
                    -6.701867580413818,
                    0.1149883046746254,
                    0.11654899269342422,
                    -0.7736974358558655,
                    -0.18359847366809845,
                    -0.2686762809753418,
                    4.598806858062744,
                    -0.48733919858932495,
                    -0.6095943450927734,
                    -1.091125249862671,
                    -3.17678165435791,
                    0.6113691329956055,
                    -0.674876868724823,
                    -3.138418674468994,
                    -4.220315933227539,
                    -6.431063175201416,
                    -0.6256282925605774,
                    0.8774048686027527,
                    4.037369728088379,
                    0.45341622829437256,
                    -2.4197263717651367,
                    0.46192458271980286,
                    -0.5062363147735596,
                    0.03757348656654358,
                    -3.0112013816833496,
                    0.7464187741279602,
                    1.9102870225906372,
                    -6.503938674926758,
                    0.5914561748504639,
                    1.0622133016586304
                  ],
                  "mode": "markers",
                  "marker": {
                    "color": "brown",
                    "size": 5
                  },
                  "x": [
                    -5.70374059677124,
                    6.784023761749268,
                    8.769601821899414,
                    4.530402660369873,
                    -5.697929859161377,
                    -5.313894271850586,
                    -5.635545253753662,
                    -5.539137840270996,
                    7.820065021514893,
                    0.7238088846206665,
                    6.668054580688477,
                    -5.045809268951416,
                    -1.4860221147537231,
                    -5.129417896270752,
                    -1.2724545001983643,
                    -2.150589942932129,
                    5.325370788574219,
                    -5.6529221534729,
                    8.352139472961426,
                    -1.3388179540634155,
                    7.091512203216553,
                    -1.2542394399642944,
                    -0.6399421095848083,
                    2.12310791015625,
                    7.954610824584961,
                    7.602927207946777,
                    8.897059440612793,
                    -4.131548881530762,
                    4.262401103973389,
                    8.823824882507324,
                    -3.9497945308685303,
                    -5.3219194412231445,
                    -5.190456390380859,
                    8.723299980163574,
                    -2.136385202407837,
                    7.011096477508545,
                    3.464038133621216,
                    -3.4694807529449463,
                    7.994084358215332,
                    6.902468204498291,
                    -1.8122199773788452,
                    8.17687702178955,
                    4.299275875091553,
                    8.343799591064453,
                    -5.325488090515137,
                    -1.533673882484436,
                    5.628641605377197
                  ],
                  "type": "scatter"
                },
                {
                  "opacity": 0.9,
                  "name": "consumer cyclical",
                  "text": [
                    "TSLA",
                    "LB",
                    "DDS",
                    "HOG",
                    "IP",
                    "CBRL",
                    "MAR",
                    "GT",
                    "CROX",
                    "BBY",
                    "DHI",
                    "LOW",
                    "CRI",
                    "DISCA",
                    "MAT",
                    "DNKN",
                    "ROST",
                    "NYT",
                    "MGA",
                    "BJRI",
                    "MCD",
                    "ANF",
                    "TPR",
                    "UAA",
                    "KSS",
                    "AZO",
                    "NWSA",
                    "CTAS",
                    "LEN",
                    "RL",
                    "DRI",
                    "KBH",
                    "HMC",
                    "CMCSA",
                    "SBUX",
                    "BBBY",
                    "DIS",
                    "HD",
                    "EXPE",
                    "TM",
                    "TIF",
                    "EBAY",
                    "JWN",
                    "GPS",
                    "GPC",
                    "CMG",
                    "KMX",
                    "ORLY",
                    "TTM",
                    "URBN",
                    "YUM",
                    "MHO",
                    "IPG",
                    "HRB",
                    "WYNN",
                    "GM",
                    "NKE",
                    "BKNG",
                    "COLM"
                  ],
                  "y": [
                    2.0841314792633057,
                    -5.65191650390625,
                    -6.549338340759277,
                    -4.055675029754639,
                    2.2155280113220215,
                    0.5890185236930847,
                    6.52457857131958,
                    2.2329721450805664,
                    0.9625564217567444,
                    -7.177084922790527,
                    -6.8923773765563965,
                    -1.4331928491592407,
                    -1.4127460718154907,
                    5.3002848625183105,
                    1.064287543296814,
                    0.20059888064861298,
                    0.3291970193386078,
                    2.3498566150665283,
                    -1.1827757358551025,
                    0.4969039559364319,
                    -6.914843559265137,
                    -6.507289409637451,
                    -1.6030473709106445,
                    -7.201850414276123,
                    -7.8253912925720215,
                    -6.825709819793701,
                    4.556502342224121,
                    0.05838208273053169,
                    -7.639030933380127,
                    -6.556924343109131,
                    -6.172550678253174,
                    -7.644513130187988,
                    -5.742164611816406,
                    5.6031317710876465,
                    0.4509652554988861,
                    0.5203344225883484,
                    -6.3994951248168945,
                    -8.000931739807129,
                    2.1633753776550293,
                    -5.766938209533691,
                    -6.439387321472168,
                    2.5543675422668457,
                    -7.753660678863525,
                    4.915616512298584,
                    -3.232010841369629,
                    -7.319817066192627,
                    -6.748074531555176,
                    1.2191132307052612,
                    -4.313509941101074,
                    0.5767791271209717,
                    -5.577570915222168,
                    -1.4884289503097534,
                    2.1856300830841064,
                    0.40023061633110046,
                    -1.2752512693405151,
                    -5.659843444824219,
                    -7.701105117797852,
                    2.0393004417419434,
                    -0.3177177906036377
                  ],
                  "mode": "markers",
                  "marker": {
                    "color": "blue",
                    "size": 5
                  },
                  "x": [
                    10.280550003051758,
                    0.7218829989433289,
                    -0.39851856231689453,
                    0.7887670397758484,
                    2.236388683319092,
                    5.527134895324707,
                    0.5290254950523376,
                    3.6245813369750977,
                    6.485354423522949,
                    -0.8757455348968506,
                    1.606463074684143,
                    3.1796367168426514,
                    0.238873690366745,
                    4.22147274017334,
                    8.878263473510742,
                    5.824504852294922,
                    6.832085609436035,
                    -0.12005153298377991,
                    0.2355620115995407,
                    5.6601080894470215,
                    -2.501176118850708,
                    -1.1704182624816895,
                    0.5026298761367798,
                    -1.3245869874954224,
                    -0.9269802570343018,
                    0.18168462812900543,
                    3.25769305229187,
                    4.055418968200684,
                    1.2020212411880493,
                    -1.064868450164795,
                    -0.1575331836938858,
                    1.0767009258270264,
                    2.6173999309539795,
                    3.8559367656707764,
                    9.467758178710938,
                    7.467715740203857,
                    -3.3323168754577637,
                    1.1915355920791626,
                    6.281188011169434,
                    2.641188621520996,
                    -1.371381163597107,
                    6.279175281524658,
                    -0.7539470195770264,
                    -1.3182324171066284,
                    -1.4417463541030884,
                    -0.25482553243637085,
                    0.2355220913887024,
                    6.056527137756348,
                    6.86181640625,
                    6.840013027191162,
                    0.5186740756034851,
                    0.08684315532445908,
                    -1.3732695579528809,
                    -0.5074024200439453,
                    6.336416721343994,
                    2.8356966972351074,
                    -1.7789026498794556,
                    5.92832088470459,
                    6.079154968261719
                  ],
                  "type": "scatter"
                },
                {
                  "opacity": 0.9,
                  "name": "consumer defensive",
                  "text": [
                    "EL",
                    "KO",
                    "CHEF",
                    "CASY",
                    "TGT",
                    "WMT",
                    "TAP",
                    "MO",
                    "PEP",
                    "GIS",
                    "ADM",
                    "PG",
                    "KHC",
                    "K",
                    "HAIN",
                    "SJM",
                    "CLX",
                    "CENT",
                    "STZ",
                    "CPB",
                    "COST",
                    "ATGE",
                    "TSN",
                    "DLTR",
                    "HRL",
                    "KMB",
                    "CAG",
                    "KR",
                    "MKC",
                    "PM",
                    "HSY",
                    "SYY",
                    "BIG"
                  ],
                  "y": [
                    -8.716666221618652,
                    -6.063509464263916,
                    -0.037495434284210205,
                    0.36614400148391724,
                    -8.384012222290039,
                    -8.055642127990723,
                    -0.7909227609634399,
                    -3.096292734146118,
                    -2.1745970249176025,
                    -5.240533351898193,
                    -3.7085683345794678,
                    -2.1746671199798584,
                    -1.7939472198486328,
                    0.6621811389923096,
                    -0.8244163393974304,
                    -4.371837615966797,
                    -4.570521354675293,
                    -1.9226258993148804,
                    -5.652862071990967,
                    -5.20905876159668,
                    -0.952992856502533,
                    -0.4000130295753479,
                    -4.8186116218566895,
                    0.4785495400428772,
                    -4.086174964904785,
                    -4.296393394470215,
                    -4.812205791473389,
                    -6.048336982727051,
                    -4.457154750823975,
                    -1.2233808040618896,
                    -4.928337574005127,
                    -4.358081817626953,
                    -0.6476914882659912
                  ],
                  "mode": "markers",
                  "marker": {
                    "color": "magenta",
                    "size": 5
                  },
                  "x": [
                    -3.3692805767059326,
                    -3.376603126525879,
                    5.475585460662842,
                    6.118808269500732,
                    -0.840178370475769,
                    -1.3932509422302246,
                    2.199934244155884,
                    0.3579723536968231,
                    7.5090012550354,
                    -1.21078622341156,
                    -1.3108062744140625,
                    -4.571056365966797,
                    7.092159748077393,
                    1.8995543718338013,
                    5.858778476715088,
                    -0.7568221092224121,
                    -1.9430921077728271,
                    3.722745418548584,
                    0.2587427794933319,
                    -1.9420876502990723,
                    3.2138967514038086,
                    1.0238354206085205,
                    -1.1718138456344604,
                    7.127478122711182,
                    -1.8206844329833984,
                    -2.2329366207122803,
                    -0.3303542733192444,
                    -1.6453099250793457,
                    -1.2982882261276245,
                    1.7150485515594482,
                    -1.9054886102676392,
                    -2.059722661972046,
                    2.7239887714385986
                  ],
                  "type": "scatter"
                },
                {
                  "opacity": 0.9,
                  "name": "energy",
                  "text": [
                    "XOM",
                    "PXD",
                    "PBR",
                    "OKE",
                    "MUR",
                    "NS",
                    "EOG",
                    "COP",
                    "CVX",
                    "NOV",
                    "HAL",
                    "VLO",
                    "NBL",
                    "APA",
                    "WMB",
                    "FTI",
                    "OXY",
                    "MPC",
                    "DVN",
                    "HES",
                    "SLB",
                    "COG"
                  ],
                  "y": [
                    -0.5275784730911255,
                    -2.2215991020202637,
                    -0.5081486701965332,
                    -0.7337426543235779,
                    -1.2154910564422607,
                    2.6307175159454346,
                    -1.9192432165145874,
                    -1.2066096067428589,
                    -0.5361148118972778,
                    6.526231288909912,
                    -1.7509976625442505,
                    -1.083130121231079,
                    -0.8915500640869141,
                    -0.8504794239997864,
                    -2.5237085819244385,
                    2.401587724685669,
                    -1.286908745765686,
                    -1.7596104145050049,
                    -1.18821382522583,
                    -1.136303186416626,
                    -1.7587807178497314,
                    -1.3453692197799683
                  ],
                  "mode": "markers",
                  "marker": {
                    "color": "goldenrod",
                    "size": 5
                  },
                  "x": [
                    -7.833770751953125,
                    -5.688475131988525,
                    -6.425756454467773,
                    -4.375895023345947,
                    -5.211635589599609,
                    1.3550528287887573,
                    -5.709895610809326,
                    -6.925808429718018,
                    -7.802958011627197,
                    0.5250118374824524,
                    -7.600803852081299,
                    -5.530400276184082,
                    -4.893179416656494,
                    -6.125329494476318,
                    -6.761200904846191,
                    -1.371504783630371,
                    -6.01716423034668,
                    -6.322431564331055,
                    -5.559090614318848,
                    -5.572109699249268,
                    -7.651055812835693,
                    -5.340238571166992
                  ],
                  "type": "scatter"
                },
                {
                  "opacity": 0.9,
                  "name": "basic materials",
                  "text": [
                    "APD",
                    "AA",
                    "NEM",
                    "WPM",
                    "MAS",
                    "STLD",
                    "NUE",
                    "SSRM",
                    "RGLD",
                    "SHW",
                    "PPG",
                    "ARCH",
                    "MOS",
                    "FMC",
                    "VMC",
                    "CF",
                    "GOLD",
                    "SCCO",
                    "FCX",
                    "AEM",
                    "PAAS",
                    "VALE"
                  ],
                  "y": [
                    -2.025536298751831,
                    -3.242123603820801,
                    -2.202319383621216,
                    -0.29940101504325867,
                    -0.613953173160553,
                    2.3260152339935303,
                    -3.2224209308624268,
                    1.6960707902908325,
                    2.8355813026428223,
                    -3.1163346767425537,
                    -1.9846247434616089,
                    4.157968521118164,
                    -3.2140750885009766,
                    1.1099811792373657,
                    -2.686777114868164,
                    4.306739807128906,
                    3.4608399868011475,
                    -0.3249260187149048,
                    -2.497016429901123,
                    -2.231170177459717,
                    3.0293776988983154,
                    -0.12573835253715515
                  ],
                  "mode": "markers",
                  "marker": {
                    "color": "navy",
                    "size": 5
                  },
                  "x": [
                    -0.9381119012832642,
                    -2.8377721309661865,
                    -2.338489532470703,
                    1.0840948820114136,
                    -0.904563307762146,
                    4.456843376159668,
                    -2.599285840988159,
                    4.377535343170166,
                    3.4444408416748047,
                    -1.523335576057434,
                    -1.0488489866256714,
                    0.7489588856697083,
                    -2.2649548053741455,
                    -5.187889099121094,
                    -1.469394326210022,
                    -0.33965355157852173,
                    2.3272199630737305,
                    0.3244735896587372,
                    -2.5960373878479004,
                    -1.8592040538787842,
                    3.54764723777771,
                    -6.585990905761719
                  ],
                  "type": "scatter"
                },
                {
                  "opacity": 0.9,
                  "textfont": {
                    "color": "black",
                    "family": "sans serif",
                    "size": 10
                  },
                  "name": "Top",
                  "text": [
                    "TSLA",
                    "XOM",
                    "AGN",
                    "AA",
                    "INTC",
                    "KO",
                    "IBM",
                    "TGT",
                    "WMT",
                    "AAPL",
                    "JPM",
                    "MU",
                    "CME",
                    "GOOGL",
                    "GS",
                    "CVX",
                    "VZ",
                    "NWSA",
                    "BLK",
                    "UBER",
                    "LMT",
                    "SBUX",
                    "BAC",
                    "WMB",
                    "DIS",
                    "TM",
                    "MS",
                    "BKR",
                    "CAT",
                    "WFC",
                    "CMG",
                    "C",
                    "EFX",
                    "MSFT",
                    "GE",
                    "AMZN",
                    "BA",
                    "NFLX",
                    "GM"
                  ],
                  "mode": "text",
                  "y": [
                    2.0841314792633057,
                    -0.5275784730911255,
                    -6.4411773681640625,
                    -3.242123603820801,
                    4.3121442794799805,
                    -6.063509464263916,
                    3.6199681758880615,
                    -8.384012222290039,
                    -8.055642127990723,
                    2.3457884788513184,
                    -5.1898369789123535,
                    4.473735809326172,
                    3.2805898189544678,
                    2.760996103286743,
                    -4.647181510925293,
                    -0.5361148118972778,
                    3.3999240398406982,
                    4.556502342224121,
                    3.6529181003570557,
                    3.1301963329315186,
                    1.3682292699813843,
                    0.4509652554988861,
                    -5.082900524139404,
                    -2.5237085819244385,
                    -6.3994951248168945,
                    -5.766938209533691,
                    -4.612723350524902,
                    -0.3062814176082611,
                    -4.283697605133057,
                    -5.242572784423828,
                    -7.319817066192627,
                    0.5990419387817383,
                    2.7188963890075684,
                    3.8890106678009033,
                    3.3651323318481445,
                    2.685363292694092,
                    -6.809134006500244,
                    2.3324334621429443,
                    -5.659843444824219
                  ],
                  "x": [
                    10.280550003051758,
                    -7.833770751953125,
                    -5.70374059677124,
                    -2.8377721309661865,
                    9.57638168334961,
                    -3.376603126525879,
                    -3.263068675994873,
                    -0.840178370475769,
                    -1.3932509422302246,
                    10.35289478302002,
                    -8.065841674804688,
                    8.063963890075684,
                    4.804779529571533,
                    10.456110954284668,
                    -8.192441940307617,
                    -7.802958011627197,
                    -5.9073896408081055,
                    3.25769305229187,
                    -1.976428508758545,
                    0.9479497671127319,
                    -6.725935459136963,
                    9.467758178710938,
                    -8.082337379455566,
                    -6.761200904846191,
                    -3.3323168754577637,
                    2.641188621520996,
                    -8.1941556930542,
                    1.2295129299163818,
                    -3.141850709915161,
                    -8.006375312805176,
                    -0.25482553243637085,
                    -0.2544289231300354,
                    -4.681878566741943,
                    10.007340431213379,
                    -0.8126452565193176,
                    10.57091236114502,
                    -3.908583164215088,
                    10.342805862426758,
                    2.8356966972351074
                  ],
                  "type": "scatter"
                }
              ],
              "config": {
                "plotlyServerURL": "https://plot.ly",
                "linkText": "Export to plot.ly",
                "showLink": false
              },
              "layout": {
                "width": 1150,
                "autosize": false,
                "title": {
                  "text": "t-SNE - Tickers News",
                  "font": {
                    "size": 20
                  }
                },
                "template": {
                  "layout": {
                    "shapedefaults": {
                      "line": {
                        "color": "#2a3f5f"
                      }
                    },
                    "polar": {
                      "radialaxis": {
                        "ticks": "",
                        "gridcolor": "white",
                        "linecolor": "white"
                      },
                      "bgcolor": "#E5ECF6",
                      "angularaxis": {
                        "ticks": "",
                        "gridcolor": "white",
                        "linecolor": "white"
                      }
                    },
                    "colorway": [
                      "#636efa",
                      "#EF553B",
                      "#00cc96",
                      "#ab63fa",
                      "#FFA15A",
                      "#19d3f3",
                      "#FF6692",
                      "#B6E880",
                      "#FF97FF",
                      "#FECB52"
                    ],
                    "xaxis": {
                      "automargin": true,
                      "title": {
                        "standoff": 15
                      },
                      "zerolinewidth": 2,
                      "ticks": "",
                      "zerolinecolor": "white",
                      "gridcolor": "white",
                      "linecolor": "white"
                    },
                    "colorscale": {
                      "diverging": [
                        [
                          0,
                          "#8e0152"
                        ],
                        [
                          0.1,
                          "#c51b7d"
                        ],
                        [
                          0.2,
                          "#de77ae"
                        ],
                        [
                          0.3,
                          "#f1b6da"
                        ],
                        [
                          0.4,
                          "#fde0ef"
                        ],
                        [
                          0.5,
                          "#f7f7f7"
                        ],
                        [
                          0.6,
                          "#e6f5d0"
                        ],
                        [
                          0.7,
                          "#b8e186"
                        ],
                        [
                          0.8,
                          "#7fbc41"
                        ],
                        [
                          0.9,
                          "#4d9221"
                        ],
                        [
                          1,
                          "#276419"
                        ]
                      ],
                      "sequential": [
                        [
                          0,
                          "#0d0887"
                        ],
                        [
                          0.1111111111111111,
                          "#46039f"
                        ],
                        [
                          0.2222222222222222,
                          "#7201a8"
                        ],
                        [
                          0.3333333333333333,
                          "#9c179e"
                        ],
                        [
                          0.4444444444444444,
                          "#bd3786"
                        ],
                        [
                          0.5555555555555556,
                          "#d8576b"
                        ],
                        [
                          0.6666666666666666,
                          "#ed7953"
                        ],
                        [
                          0.7777777777777778,
                          "#fb9f3a"
                        ],
                        [
                          0.8888888888888888,
                          "#fdca26"
                        ],
                        [
                          1,
                          "#f0f921"
                        ]
                      ],
                      "sequentialminus": [
                        [
                          0,
                          "#0d0887"
                        ],
                        [
                          0.1111111111111111,
                          "#46039f"
                        ],
                        [
                          0.2222222222222222,
                          "#7201a8"
                        ],
                        [
                          0.3333333333333333,
                          "#9c179e"
                        ],
                        [
                          0.4444444444444444,
                          "#bd3786"
                        ],
                        [
                          0.5555555555555556,
                          "#d8576b"
                        ],
                        [
                          0.6666666666666666,
                          "#ed7953"
                        ],
                        [
                          0.7777777777777778,
                          "#fb9f3a"
                        ],
                        [
                          0.8888888888888888,
                          "#fdca26"
                        ],
                        [
                          1,
                          "#f0f921"
                        ]
                      ]
                    },
                    "paper_bgcolor": "white",
                    "plot_bgcolor": "#E5ECF6",
                    "title": {
                      "x": 0.05
                    },
                    "scene": {
                      "zaxis": {
                        "backgroundcolor": "#E5ECF6",
                        "ticks": "",
                        "gridwidth": 2,
                        "showbackground": true,
                        "zerolinecolor": "white",
                        "gridcolor": "white",
                        "linecolor": "white"
                      },
                      "xaxis": {
                        "backgroundcolor": "#E5ECF6",
                        "ticks": "",
                        "gridwidth": 2,
                        "showbackground": true,
                        "zerolinecolor": "white",
                        "gridcolor": "white",
                        "linecolor": "white"
                      },
                      "yaxis": {
                        "backgroundcolor": "#E5ECF6",
                        "ticks": "",
                        "gridwidth": 2,
                        "showbackground": true,
                        "zerolinecolor": "white",
                        "gridcolor": "white",
                        "linecolor": "white"
                      }
                    },
                    "yaxis": {
                      "automargin": true,
                      "title": {
                        "standoff": 15
                      },
                      "zerolinewidth": 2,
                      "ticks": "",
                      "zerolinecolor": "white",
                      "gridcolor": "white",
                      "linecolor": "white"
                    },
                    "annotationdefaults": {
                      "arrowwidth": 1,
                      "arrowhead": 0,
                      "arrowcolor": "#2a3f5f"
                    },
                    "hoverlabel": {
                      "align": "left"
                    },
                    "ternary": {
                      "bgcolor": "#E5ECF6",
                      "baxis": {
                        "ticks": "",
                        "gridcolor": "white",
                        "linecolor": "white"
                      },
                      "caxis": {
                        "ticks": "",
                        "gridcolor": "white",
                        "linecolor": "white"
                      },
                      "aaxis": {
                        "ticks": "",
                        "gridcolor": "white",
                        "linecolor": "white"
                      }
                    },
                    "mapbox": {
                      "style": "light"
                    },
                    "hovermode": "closest",
                    "font": {
                      "color": "#2a3f5f"
                    },
                    "geo": {
                      "showland": true,
                      "landcolor": "#E5ECF6",
                      "showlakes": true,
                      "bgcolor": "white",
                      "subunitcolor": "white",
                      "lakecolor": "white"
                    },
                    "coloraxis": {
                      "colorbar": {
                        "outlinewidth": 0,
                        "ticks": ""
                      }
                    }
                  },
                  "data": {
                    "mesh3d": [
                      {
                        "colorbar": {
                          "outlinewidth": 0,
                          "ticks": ""
                        },
                        "type": "mesh3d"
                      }
                    ],
                    "scattercarpet": [
                      {
                        "marker": {
                          "colorbar": {
                            "outlinewidth": 0,
                            "ticks": ""
                          }
                        },
                        "type": "scattercarpet"
                      }
                    ],
                    "pie": [
                      {
                        "automargin": true,
                        "type": "pie"
                      }
                    ],
                    "surface": [
                      {
                        "colorbar": {
                          "outlinewidth": 0,
                          "ticks": ""
                        },
                        "type": "surface",
                        "colorscale": [
                          [
                            0,
                            "#0d0887"
                          ],
                          [
                            0.1111111111111111,
                            "#46039f"
                          ],
                          [
                            0.2222222222222222,
                            "#7201a8"
                          ],
                          [
                            0.3333333333333333,
                            "#9c179e"
                          ],
                          [
                            0.4444444444444444,
                            "#bd3786"
                          ],
                          [
                            0.5555555555555556,
                            "#d8576b"
                          ],
                          [
                            0.6666666666666666,
                            "#ed7953"
                          ],
                          [
                            0.7777777777777778,
                            "#fb9f3a"
                          ],
                          [
                            0.8888888888888888,
                            "#fdca26"
                          ],
                          [
                            1,
                            "#f0f921"
                          ]
                        ]
                      }
                    ],
                    "table": [
                      {
                        "header": {
                          "line": {
                            "color": "white"
                          },
                          "fill": {
                            "color": "#C8D4E3"
                          }
                        },
                        "cells": {
                          "line": {
                            "color": "white"
                          },
                          "fill": {
                            "color": "#EBF0F8"
                          }
                        },
                        "type": "table"
                      }
                    ],
                    "scatterpolargl": [
                      {
                        "marker": {
                          "colorbar": {
                            "outlinewidth": 0,
                            "ticks": ""
                          }
                        },
                        "type": "scatterpolargl"
                      }
                    ],
                    "contour": [
                      {
                        "colorbar": {
                          "outlinewidth": 0,
                          "ticks": ""
                        },
                        "type": "contour",
                        "colorscale": [
                          [
                            0,
                            "#0d0887"
                          ],
                          [
                            0.1111111111111111,
                            "#46039f"
                          ],
                          [
                            0.2222222222222222,
                            "#7201a8"
                          ],
                          [
                            0.3333333333333333,
                            "#9c179e"
                          ],
                          [
                            0.4444444444444444,
                            "#bd3786"
                          ],
                          [
                            0.5555555555555556,
                            "#d8576b"
                          ],
                          [
                            0.6666666666666666,
                            "#ed7953"
                          ],
                          [
                            0.7777777777777778,
                            "#fb9f3a"
                          ],
                          [
                            0.8888888888888888,
                            "#fdca26"
                          ],
                          [
                            1,
                            "#f0f921"
                          ]
                        ]
                      }
                    ],
                    "carpet": [
                      {
                        "type": "carpet",
                        "baxis": {
                          "minorgridcolor": "white",
                          "gridcolor": "white",
                          "linecolor": "white",
                          "endlinecolor": "#2a3f5f",
                          "startlinecolor": "#2a3f5f"
                        },
                        "aaxis": {
                          "minorgridcolor": "white",
                          "gridcolor": "white",
                          "linecolor": "white",
                          "endlinecolor": "#2a3f5f",
                          "startlinecolor": "#2a3f5f"
                        }
                      }
                    ],
                    "contourcarpet": [
                      {
                        "colorbar": {
                          "outlinewidth": 0,
                          "ticks": ""
                        },
                        "type": "contourcarpet"
                      }
                    ],
                    "heatmap": [
                      {
                        "colorbar": {
                          "outlinewidth": 0,
                          "ticks": ""
                        },
                        "type": "heatmap",
                        "colorscale": [
                          [
                            0,
                            "#0d0887"
                          ],
                          [
                            0.1111111111111111,
                            "#46039f"
                          ],
                          [
                            0.2222222222222222,
                            "#7201a8"
                          ],
                          [
                            0.3333333333333333,
                            "#9c179e"
                          ],
                          [
                            0.4444444444444444,
                            "#bd3786"
                          ],
                          [
                            0.5555555555555556,
                            "#d8576b"
                          ],
                          [
                            0.6666666666666666,
                            "#ed7953"
                          ],
                          [
                            0.7777777777777778,
                            "#fb9f3a"
                          ],
                          [
                            0.8888888888888888,
                            "#fdca26"
                          ],
                          [
                            1,
                            "#f0f921"
                          ]
                        ]
                      }
                    ],
                    "scattermapbox": [
                      {
                        "marker": {
                          "colorbar": {
                            "outlinewidth": 0,
                            "ticks": ""
                          }
                        },
                        "type": "scattermapbox"
                      }
                    ],
                    "scatter3d": [
                      {
                        "marker": {
                          "colorbar": {
                            "outlinewidth": 0,
                            "ticks": ""
                          }
                        },
                        "line": {
                          "colorbar": {
                            "outlinewidth": 0,
                            "ticks": ""
                          }
                        },
                        "type": "scatter3d"
                      }
                    ],
                    "scattergl": [
                      {
                        "marker": {
                          "colorbar": {
                            "outlinewidth": 0,
                            "ticks": ""
                          }
                        },
                        "type": "scattergl"
                      }
                    ],
                    "scatterternary": [
                      {
                        "marker": {
                          "colorbar": {
                            "outlinewidth": 0,
                            "ticks": ""
                          }
                        },
                        "type": "scatterternary"
                      }
                    ],
                    "histogram": [
                      {
                        "marker": {
                          "colorbar": {
                            "outlinewidth": 0,
                            "ticks": ""
                          }
                        },
                        "type": "histogram"
                      }
                    ],
                    "heatmapgl": [
                      {
                        "colorbar": {
                          "outlinewidth": 0,
                          "ticks": ""
                        },
                        "type": "heatmapgl",
                        "colorscale": [
                          [
                            0,
                            "#0d0887"
                          ],
                          [
                            0.1111111111111111,
                            "#46039f"
                          ],
                          [
                            0.2222222222222222,
                            "#7201a8"
                          ],
                          [
                            0.3333333333333333,
                            "#9c179e"
                          ],
                          [
                            0.4444444444444444,
                            "#bd3786"
                          ],
                          [
                            0.5555555555555556,
                            "#d8576b"
                          ],
                          [
                            0.6666666666666666,
                            "#ed7953"
                          ],
                          [
                            0.7777777777777778,
                            "#fb9f3a"
                          ],
                          [
                            0.8888888888888888,
                            "#fdca26"
                          ],
                          [
                            1,
                            "#f0f921"
                          ]
                        ]
                      }
                    ],
                    "scatterpolar": [
                      {
                        "marker": {
                          "colorbar": {
                            "outlinewidth": 0,
                            "ticks": ""
                          }
                        },
                        "type": "scatterpolar"
                      }
                    ],
                    "histogram2d": [
                      {
                        "colorbar": {
                          "outlinewidth": 0,
                          "ticks": ""
                        },
                        "type": "histogram2d",
                        "colorscale": [
                          [
                            0,
                            "#0d0887"
                          ],
                          [
                            0.1111111111111111,
                            "#46039f"
                          ],
                          [
                            0.2222222222222222,
                            "#7201a8"
                          ],
                          [
                            0.3333333333333333,
                            "#9c179e"
                          ],
                          [
                            0.4444444444444444,
                            "#bd3786"
                          ],
                          [
                            0.5555555555555556,
                            "#d8576b"
                          ],
                          [
                            0.6666666666666666,
                            "#ed7953"
                          ],
                          [
                            0.7777777777777778,
                            "#fb9f3a"
                          ],
                          [
                            0.8888888888888888,
                            "#fdca26"
                          ],
                          [
                            1,
                            "#f0f921"
                          ]
                        ]
                      }
                    ],
                    "scattergeo": [
                      {
                        "marker": {
                          "colorbar": {
                            "outlinewidth": 0,
                            "ticks": ""
                          }
                        },
                        "type": "scattergeo"
                      }
                    ],
                    "bar": [
                      {
                        "marker": {
                          "line": {
                            "color": "#E5ECF6",
                            "width": 0.5
                          }
                        },
                        "type": "bar",
                        "error_x": {
                          "color": "#2a3f5f"
                        },
                        "error_y": {
                          "color": "#2a3f5f"
                        }
                      }
                    ],
                    "choropleth": [
                      {
                        "colorbar": {
                          "outlinewidth": 0,
                          "ticks": ""
                        },
                        "type": "choropleth"
                      }
                    ],
                    "parcoords": [
                      {
                        "line": {
                          "colorbar": {
                            "outlinewidth": 0,
                            "ticks": ""
                          }
                        },
                        "type": "parcoords"
                      }
                    ],
                    "barpolar": [
                      {
                        "marker": {
                          "line": {
                            "color": "#E5ECF6",
                            "width": 0.5
                          }
                        },
                        "type": "barpolar"
                      }
                    ],
                    "histogram2dcontour": [
                      {
                        "colorbar": {
                          "outlinewidth": 0,
                          "ticks": ""
                        },
                        "type": "histogram2dcontour",
                        "colorscale": [
                          [
                            0,
                            "#0d0887"
                          ],
                          [
                            0.1111111111111111,
                            "#46039f"
                          ],
                          [
                            0.2222222222222222,
                            "#7201a8"
                          ],
                          [
                            0.3333333333333333,
                            "#9c179e"
                          ],
                          [
                            0.4444444444444444,
                            "#bd3786"
                          ],
                          [
                            0.5555555555555556,
                            "#d8576b"
                          ],
                          [
                            0.6666666666666666,
                            "#ed7953"
                          ],
                          [
                            0.7777777777777778,
                            "#fb9f3a"
                          ],
                          [
                            0.8888888888888888,
                            "#fdca26"
                          ],
                          [
                            1,
                            "#f0f921"
                          ]
                        ]
                      }
                    ],
                    "scatter": [
                      {
                        "marker": {
                          "colorbar": {
                            "outlinewidth": 0,
                            "ticks": ""
                          }
                        },
                        "type": "scatter"
                      }
                    ]
                  }
                },
                "height": 750
              }
            }
          },
          "metadata": {}
        },
        {
          "output_type": "execute_result",
          "data": {
            "application/vnd.google.colaboratory.intrinsic+json": {
              "type": "string"
            },
            "text/plain": [
              "'temp-plot.html'"
            ]
          },
          "metadata": {},
          "execution_count": 214
        }
      ]
    },
    {
      "cell_type": "code",
      "metadata": {
        "colab": {
          "base_uri": "https://localhost:8080/",
          "height": 767
        },
        "id": "w7IGPwhX9CRw",
        "outputId": "cbf806e4-9f3a-4eec-bc2e-72dba326fca7"
      },
      "source": [
        "#En Colab\n",
        "fig_1_sector.show(renderer=\"colab\")"
      ],
      "execution_count": 173,
      "outputs": [
        {
          "output_type": "display_data",
          "data": {
            "text/html": [
              "<html>\n",
              "<head><meta charset=\"utf-8\" /></head>\n",
              "<body>\n",
              "    <div>\n",
              "            <script src=\"https://cdnjs.cloudflare.com/ajax/libs/mathjax/2.7.5/MathJax.js?config=TeX-AMS-MML_SVG\"></script><script type=\"text/javascript\">if (window.MathJax) {MathJax.Hub.Config({SVG: {font: \"STIX-Web\"}});}</script>\n",
              "                <script type=\"text/javascript\">window.PlotlyConfig = {MathJaxConfig: 'local'};</script>\n",
              "        <script src=\"https://cdn.plot.ly/plotly-latest.min.js\"></script>    \n",
              "            <div id=\"4d86a55c-e764-495a-b1e8-d6d67e8bd2b6\" class=\"plotly-graph-div\" style=\"height:750px; width:1150px;\"></div>\n",
              "            <script type=\"text/javascript\">\n",
              "                \n",
              "                    window.PLOTLYENV=window.PLOTLYENV || {};\n",
              "                    \n",
              "                if (document.getElementById(\"4d86a55c-e764-495a-b1e8-d6d67e8bd2b6\")) {\n",
              "                    Plotly.newPlot(\n",
              "                        '4d86a55c-e764-495a-b1e8-d6d67e8bd2b6',\n",
              "                        [{\"marker\": {\"color\": \"yellow\", \"size\": 5}, \"mode\": \"markers\", \"name\": \"technology\", \"opacity\": 0.9, \"text\": [\"INTC\", \"BIDU\", \"XLNX\", \"NTAP\", \"CSIQ\", \"ORCL\", \"QCOM\", \"AMD\", \"MSI\", \"IBM\", \"CDNS\", \"CRUS\", \"AAPL\", \"NVDA\", \"AKAM\", \"MU\", \"CSCO\", \"ATVI\", \"YNDX\", \"FSLR\", \"FLIR\", \"KLAC\", \"MCHP\", \"IPGP\", \"STX\", \"GOOGL\", \"WDC\", \"SNE\", \"CIEN\", \"ITRI\", \"LRCX\", \"ADI\", \"MRVL\", \"TTWO\", \"ACN\", \"INFY\", \"AEIS\", \"XRX\", \"NTES\", \"WHR\", \"HPQ\", \"GRMN\", \"ADSK\", \"TXN\", \"CRM\", \"ASML\", \"EA\", \"NXPI\", \"INTU\", \"AMAT\", \"VMW\", \"AVGO\", \"MSFT\", \"CHKP\", \"EQIX\", \"AMZN\", \"ADBE\", \"CMTL\"], \"type\": \"scatter\", \"x\": [9.57638168334961, 9.006470680236816, 7.384726047515869, 7.4892072677612305, 7.533966064453125, -3.389152765274048, 7.251311779022217, 8.873666763305664, -4.287159442901611, -3.263068675994873, 7.741471290588379, 6.9821672439575195, 10.35289478302002, 9.325989723205566, 6.42968225479126, 8.063963890075684, 8.683724403381348, 8.949790000915527, 2.4569337368011475, 7.887383937835693, 4.461212635040283, 7.100982189178467, 6.598307132720947, 3.0879812240600586, 6.144796848297119, 10.456110954284668, 5.7124152183532715, -3.878460645675659, -2.05664324760437, 4.92875337600708, 8.040276527404785, 7.084741592407227, 6.227851390838623, 8.966375350952148, -2.0994677543640137, 1.1580910682678223, 3.317765712738037, -3.5001485347747803, 6.083808898925781, -2.5892908573150635, -3.846529960632324, 6.126308441162109, 7.181766033172607, 7.585511684417725, -3.2113819122314453, 5.99944543838501, 8.993949890136719, 6.3756303787231445, 7.456906795501709, 8.110426902770996, -3.2547476291656494, 7.175724029541016, 10.007340431213379, 5.686882972717285, 5.524406909942627, 10.57091236114502, 8.432967185974121, 3.188342332839966], \"y\": [4.3121442794799805, 2.2708098888397217, 4.537747383117676, 3.313105344772339, 1.4175794124603271, 3.535073757171631, 5.912320613861084, 4.92560338973999, 3.981267213821411, 3.6199681758880615, 3.480468511581421, 4.012090682983398, 2.3457884788513184, 4.5363006591796875, 3.8023786544799805, 4.473735809326172, 3.3288936614990234, 6.081117630004883, 1.8160172700881958, 1.465597152709961, -1.0385551452636719, 4.4685492515563965, 4.2884111404418945, 0.5275207161903381, 4.731509208679199, 2.760996103286743, 4.9889397621154785, 2.0114803314208984, -0.6704747676849365, 1.6333317756652832, 4.54666805267334, 3.7485973834991455, 4.285438060760498, 6.174732685089111, 2.452773332595825, 2.213869333267212, 1.2318222522735596, -2.3982019424438477, 2.3461952209472656, -4.3576250076293945, 3.7542645931243896, 3.6389825344085693, 3.256436586380005, 4.91677188873291, 3.599012613296509, 5.808755874633789, 6.1675004959106445, 5.498936653137207, 2.851971387863159, 4.469245433807373, 3.4832680225372314, 5.725597858428955, 3.8890106678009033, 3.9093775749206543, 2.0901830196380615, 2.685363292694092, 3.285562753677368, 1.496325969696045]}, {\"marker\": {\"color\": \"red\", \"size\": 5}, \"mode\": \"markers\", \"name\": \"financial\", \"opacity\": 0.6, \"text\": [\"NTRS\", \"MTB\", \"CNS\", \"AMP\", \"SCHW\", \"COF\", \"AIZ\", \"TROW\", \"STT\", \"CINF\", \"MET\", \"JPM\", \"CME\", \"GS\", \"CACC\", \"PRU\", \"BK\", \"CEF\", \"AFL\", \"AON\", \"BLK\", \"AIG\", \"CHN\", \"TRV\", \"BAC\", \"LNC\", \"PGR\", \"WU\", \"ETFC\", \"CB\", \"ICE\", \"AXP\", \"MS\", \"WFC\", \"L\", \"LAZ\", \"FII\", \"C\", \"PNC\", \"BX\", \"V\", \"NDAQ\", \"CMA\"], \"type\": \"scatter\", \"x\": [4.196572303771973, -3.187035322189331, 1.8519220352172852, 1.9647064208984375, -2.696117401123047, 2.013625144958496, -0.09009001404047012, 4.812137603759766, -3.363682746887207, 3.6968865394592285, 2.2909739017486572, -8.065841674804688, 4.804779529571533, -8.192441940307617, 3.1343588829040527, 2.0314700603485107, -3.1756513118743896, 1.085168719291687, -0.19062425196170807, 2.5143332481384277, -1.976428508758545, 1.9616494178771973, 2.3157947063446045, -0.14986658096313477, -8.082337379455566, -0.6123986840248108, -4.623292446136475, 0.47340214252471924, 4.794406890869141, 1.5564148426055908, -0.025138726457953453, -4.17415714263916, -8.1941556930542, -8.006375312805176, 3.735874891281128, 1.1872427463531494, 0.9273160696029663, -0.2544289231300354, 2.1376936435699463, -7.004058361053467, -0.39693379402160645, 5.197238922119141, 1.2060658931732178], \"y\": [-0.3335716426372528, 0.8553239703178406, -1.6983301639556885, -3.6832070350646973, 1.8873181343078613, -4.318966865539551, -1.771061658859253, 2.638137102127075, 0.5633010268211365, -0.19310146570205688, -0.9159642457962036, -5.1898369789123535, 3.2805898189544678, -4.647181510925293, -0.0960366278886795, -3.3456640243530273, 0.8102872967720032, 0.4607347846031189, -2.8005497455596924, -2.866995334625244, 3.6529181003570557, -2.5583269596099854, 1.2212157249450684, -3.2202179431915283, -5.082900524139404, -1.097907543182373, -3.3175859451293945, 1.8670527935028076, -0.24943464994430542, -2.173602342605591, 2.6950297355651855, -5.945990085601807, -4.612723350524902, -5.242572784423828, -3.823688268661499, -1.894431471824646, -1.9235076904296875, 0.5990419387817383, -3.9376606941223145, -3.859992027282715, 1.4859262704849243, 2.808131217956543, -3.1470279693603516]}, {\"marker\": {\"color\": \"orange\", \"size\": 5}, \"mode\": \"markers\", \"name\": \"industrials\", \"opacity\": 0.7, \"text\": [\"SPGI\", \"AVY\", \"UTX\", \"EXPD\", \"DXPE\", \"CRAI\", \"ALGT\", \"RS\", \"CAJ\", \"RTN\", \"ROP\", \"FISV\", \"SPAR\", \"FLR\", \"RHI\", \"MMM\", \"UPS\", \"PCAR\", \"NSC\", \"LUV\", \"GD\", \"AVAV\", \"ATI\", \"PAYX\", \"RYAAY\", \"LMT\", \"DOV\", \"FLS\", \"ADP\", \"NOC\", \"AIMC\", \"HON\", \"PH\", \"DAL\", \"OSK\", \"MCO\", \"CAT\", \"CATM\", \"CMI\", \"FDX\", \"GWW\", \"TEX\", \"ETN\", \"EFX\", \"GE\", \"UNP\", \"DE\", \"BA\", \"AAXN\", \"CSX\", \"UAL\", \"JBLU\"], \"type\": \"scatter\", \"x\": [-4.0125579833984375, -1.4657220840454102, -6.9919328689575195, 4.9125752449035645, 3.9354841709136963, 3.748499631881714, 5.528248310089111, 2.771655559539795, 0.7915864586830139, -6.703470230102539, -0.9525828957557678, 7.043916702270508, 2.7851006984710693, -2.7671210765838623, 0.041393447667360306, -3.754631519317627, 1.0409300327301025, 4.013256549835205, -2.989438533782959, 4.885157108306885, -6.122010707855225, 4.9458160400390625, -0.931820809841156, 7.1453938484191895, 5.363884925842285, -6.725935459136963, -2.409879684448242, -0.8688156008720398, 7.577429294586182, -6.516488552093506, 3.5180017948150635, -1.4736255407333374, -0.2579137682914734, 4.978339195251465, -2.0319628715515137, -3.118398427963257, -3.141850709915161, 4.081978797912598, -1.006123661994934, -3.73927903175354, -0.37542790174484253, -2.3517792224884033, 3.30704402923584, -4.681878566741943, -0.8126452565193176, -3.162337303161621, 0.6100987792015076, -3.908583164215088, 4.7111711502075195, 5.470302581787109, 5.242114067077637, 5.488656997680664], \"y\": [1.080394983291626, -1.1590983867645264, 1.5100046396255493, 1.079838752746582, 1.1783684492111206, 0.7769788503646851, -2.224151611328125, -1.9216448068618774, -0.7382466793060303, 1.319788932800293, -1.4217194318771362, 2.54581880569458, 0.7654728293418884, -1.0575770139694214, -0.878960907459259, -6.286736488342285, 1.9105647802352905, 2.19132399559021, -1.2593079805374146, -5.311169624328613, 1.3128952980041504, 1.2464028596878052, -1.8988518714904785, 2.4834346771240234, -2.3752195835113525, 1.3682292699813843, -1.471775770187378, -0.8105511665344238, 2.335831642150879, 1.2761070728302002, 0.7672615647315979, 1.2286136150360107, 1.2138324975967407, -5.247678279876709, -1.1812800168991089, 0.014839587733149529, -4.283697605133057, 1.0312219858169556, -2.905369997024536, -4.710587501525879, -2.124009609222412, -1.4436007738113403, -2.8971595764160156, 2.7188963890075684, 3.3651323318481445, -1.4462554454803467, 1.1451058387756348, -6.809134006500244, 1.8447575569152832, -3.5416901111602783, -4.839334487915039, -3.0934600830078125]}, {\"marker\": {\"color\": \"brown\", \"size\": 5}, \"mode\": \"markers\", \"name\": \"healthcare\", \"opacity\": 0.4, \"text\": [\"AGN\", \"DXCM\", \"BIIB\", \"CNMD\", \"PFE\", \"ANTM\", \"MRK\", \"UNH\", \"VRTX\", \"RDY\", \"ABMD\", \"CVS\", \"BDX\", \"CI\", \"VAR\", \"MDT\", \"HSIC\", \"JNJ\", \"WBA\", \"TMO\", \"SRPT\", \"PKI\", \"LH\", \"ABC\", \"ALXN\", \"BMRN\", \"MYL\", \"THC\", \"ANIK\", \"AMGN\", \"MCK\", \"HUM\", \"BMY\", \"GILD\", \"ABT\", \"ALGN\", \"CORT\", \"DHR\", \"ILMN\", \"ALNY\", \"EW\", \"TEVA\", \"CSII\", \"ISRG\", \"LLY\", \"BAX\", \"AMED\"], \"type\": \"scatter\", \"x\": [-5.70374059677124, 6.784023761749268, 8.769601821899414, 4.530402660369873, -5.697929859161377, -5.313894271850586, -5.635545253753662, -5.539137840270996, 7.820065021514893, 0.7238088846206665, 6.668054580688477, -5.045809268951416, -1.4860221147537231, -5.129417896270752, -1.2724545001983643, -2.150589942932129, 5.325370788574219, -5.6529221534729, 8.352139472961426, -1.3388179540634155, 7.091512203216553, -1.2542394399642944, -0.6399421095848083, 2.12310791015625, 7.954610824584961, 7.602927207946777, 8.897059440612793, -4.131548881530762, 4.262401103973389, 8.823824882507324, -3.9497945308685303, -5.3219194412231445, -5.190456390380859, 8.723299980163574, -2.136385202407837, 7.011096477508545, 3.464038133621216, -3.4694807529449463, 7.994084358215332, 6.902468204498291, -1.8122199773788452, 8.17687702178955, 4.299275875091553, 8.343799591064453, -5.325488090515137, -1.533673882484436, 5.628641605377197], \"y\": [-6.4411773681640625, 1.4940646886825562, -0.7028184533119202, 0.5086390376091003, -7.123072147369385, -4.184380531311035, -7.1555070877075195, -4.354525089263916, -0.5483604669570923, -0.6610267758369446, 1.4738683700561523, -4.22910213470459, -0.4225960373878479, -4.010687351226807, 0.10537702590227127, 1.0098947286605835, 0.9775032997131348, -6.701867580413818, 0.1149883046746254, 0.11654899269342422, -0.7736974358558655, -0.18359847366809845, -0.2686762809753418, 4.598806858062744, -0.48733919858932495, -0.6095943450927734, -1.091125249862671, -3.17678165435791, 0.6113691329956055, -0.674876868724823, -3.138418674468994, -4.220315933227539, -6.431063175201416, -0.6256282925605774, 0.8774048686027527, 4.037369728088379, 0.45341622829437256, -2.4197263717651367, 0.46192458271980286, -0.5062363147735596, 0.03757348656654358, -3.0112013816833496, 0.7464187741279602, 1.9102870225906372, -6.503938674926758, 0.5914561748504639, 1.0622133016586304]}, {\"marker\": {\"color\": \"blue\", \"size\": 5}, \"mode\": \"markers\", \"name\": \"consumer cyclical\", \"opacity\": 0.9, \"text\": [\"TSLA\", \"LB\", \"DDS\", \"HOG\", \"IP\", \"CBRL\", \"MAR\", \"GT\", \"CROX\", \"BBY\", \"DHI\", \"LOW\", \"CRI\", \"DISCA\", \"MAT\", \"DNKN\", \"ROST\", \"NYT\", \"MGA\", \"BJRI\", \"MCD\", \"ANF\", \"TPR\", \"UAA\", \"KSS\", \"AZO\", \"NWSA\", \"CTAS\", \"LEN\", \"RL\", \"DRI\", \"KBH\", \"HMC\", \"CMCSA\", \"SBUX\", \"BBBY\", \"DIS\", \"HD\", \"EXPE\", \"TM\", \"TIF\", \"EBAY\", \"JWN\", \"GPS\", \"GPC\", \"CMG\", \"KMX\", \"ORLY\", \"TTM\", \"URBN\", \"YUM\", \"MHO\", \"IPG\", \"HRB\", \"WYNN\", \"GM\", \"NKE\", \"BKNG\", \"COLM\"], \"type\": \"scatter\", \"x\": [10.280550003051758, 0.7218829989433289, -0.39851856231689453, 0.7887670397758484, 2.236388683319092, 5.527134895324707, 0.5290254950523376, 3.6245813369750977, 6.485354423522949, -0.8757455348968506, 1.606463074684143, 3.1796367168426514, 0.238873690366745, 4.22147274017334, 8.878263473510742, 5.824504852294922, 6.832085609436035, -0.12005153298377991, 0.2355620115995407, 5.6601080894470215, -2.501176118850708, -1.1704182624816895, 0.5026298761367798, -1.3245869874954224, -0.9269802570343018, 0.18168462812900543, 3.25769305229187, 4.055418968200684, 1.2020212411880493, -1.064868450164795, -0.1575331836938858, 1.0767009258270264, 2.6173999309539795, 3.8559367656707764, 9.467758178710938, 7.467715740203857, -3.3323168754577637, 1.1915355920791626, 6.281188011169434, 2.641188621520996, -1.371381163597107, 6.279175281524658, -0.7539470195770264, -1.3182324171066284, -1.4417463541030884, -0.25482553243637085, 0.2355220913887024, 6.056527137756348, 6.86181640625, 6.840013027191162, 0.5186740756034851, 0.08684315532445908, -1.3732695579528809, -0.5074024200439453, 6.336416721343994, 2.8356966972351074, -1.7789026498794556, 5.92832088470459, 6.079154968261719], \"y\": [2.0841314792633057, -5.65191650390625, -6.549338340759277, -4.055675029754639, 2.2155280113220215, 0.5890185236930847, 6.52457857131958, 2.2329721450805664, 0.9625564217567444, -7.177084922790527, -6.8923773765563965, -1.4331928491592407, -1.4127460718154907, 5.3002848625183105, 1.064287543296814, 0.20059888064861298, 0.3291970193386078, 2.3498566150665283, -1.1827757358551025, 0.4969039559364319, -6.914843559265137, -6.507289409637451, -1.6030473709106445, -7.201850414276123, -7.8253912925720215, -6.825709819793701, 4.556502342224121, 0.05838208273053169, -7.639030933380127, -6.556924343109131, -6.172550678253174, -7.644513130187988, -5.742164611816406, 5.6031317710876465, 0.4509652554988861, 0.5203344225883484, -6.3994951248168945, -8.000931739807129, 2.1633753776550293, -5.766938209533691, -6.439387321472168, 2.5543675422668457, -7.753660678863525, 4.915616512298584, -3.232010841369629, -7.319817066192627, -6.748074531555176, 1.2191132307052612, -4.313509941101074, 0.5767791271209717, -5.577570915222168, -1.4884289503097534, 2.1856300830841064, 0.40023061633110046, -1.2752512693405151, -5.659843444824219, -7.701105117797852, 2.0393004417419434, -0.3177177906036377]}, {\"marker\": {\"color\": \"magenta\", \"size\": 5}, \"mode\": \"markers\", \"name\": \"consumer defensive\", \"opacity\": 0.9, \"text\": [\"EL\", \"KO\", \"CHEF\", \"CASY\", \"TGT\", \"WMT\", \"TAP\", \"MO\", \"PEP\", \"GIS\", \"ADM\", \"PG\", \"KHC\", \"K\", \"HAIN\", \"SJM\", \"CLX\", \"CENT\", \"STZ\", \"CPB\", \"COST\", \"ATGE\", \"TSN\", \"DLTR\", \"HRL\", \"KMB\", \"CAG\", \"KR\", \"MKC\", \"PM\", \"HSY\", \"SYY\", \"BIG\"], \"type\": \"scatter\", \"x\": [-3.3692805767059326, -3.376603126525879, 5.475585460662842, 6.118808269500732, -0.840178370475769, -1.3932509422302246, 2.199934244155884, 0.3579723536968231, 7.5090012550354, -1.21078622341156, -1.3108062744140625, -4.571056365966797, 7.092159748077393, 1.8995543718338013, 5.858778476715088, -0.7568221092224121, -1.9430921077728271, 3.722745418548584, 0.2587427794933319, -1.9420876502990723, 3.2138967514038086, 1.0238354206085205, -1.1718138456344604, 7.127478122711182, -1.8206844329833984, -2.2329366207122803, -0.3303542733192444, -1.6453099250793457, -1.2982882261276245, 1.7150485515594482, -1.9054886102676392, -2.059722661972046, 2.7239887714385986], \"y\": [-8.716666221618652, -6.063509464263916, -0.037495434284210205, 0.36614400148391724, -8.384012222290039, -8.055642127990723, -0.7909227609634399, -3.096292734146118, -2.1745970249176025, -5.240533351898193, -3.7085683345794678, -2.1746671199798584, -1.7939472198486328, 0.6621811389923096, -0.8244163393974304, -4.371837615966797, -4.570521354675293, -1.9226258993148804, -5.652862071990967, -5.20905876159668, -0.952992856502533, -0.4000130295753479, -4.8186116218566895, 0.4785495400428772, -4.086174964904785, -4.296393394470215, -4.812205791473389, -6.048336982727051, -4.457154750823975, -1.2233808040618896, -4.928337574005127, -4.358081817626953, -0.6476914882659912]}, {\"marker\": {\"color\": \"goldenrod\", \"size\": 5}, \"mode\": \"markers\", \"name\": \"energy\", \"opacity\": 0.9, \"text\": [\"XOM\", \"PXD\", \"PBR\", \"OKE\", \"MUR\", \"NS\", \"EOG\", \"COP\", \"CVX\", \"NOV\", \"HAL\", \"VLO\", \"NBL\", \"APA\", \"WMB\", \"FTI\", \"OXY\", \"MPC\", \"DVN\", \"HES\", \"SLB\", \"COG\"], \"type\": \"scatter\", \"x\": [-7.833770751953125, -5.688475131988525, -6.425756454467773, -4.375895023345947, -5.211635589599609, 1.3550528287887573, -5.709895610809326, -6.925808429718018, -7.802958011627197, 0.5250118374824524, -7.600803852081299, -5.530400276184082, -4.893179416656494, -6.125329494476318, -6.761200904846191, -1.371504783630371, -6.01716423034668, -6.322431564331055, -5.559090614318848, -5.572109699249268, -7.651055812835693, -5.340238571166992], \"y\": [-0.5275784730911255, -2.2215991020202637, -0.5081486701965332, -0.7337426543235779, -1.2154910564422607, 2.6307175159454346, -1.9192432165145874, -1.2066096067428589, -0.5361148118972778, 6.526231288909912, -1.7509976625442505, -1.083130121231079, -0.8915500640869141, -0.8504794239997864, -2.5237085819244385, 2.401587724685669, -1.286908745765686, -1.7596104145050049, -1.18821382522583, -1.136303186416626, -1.7587807178497314, -1.3453692197799683]}, {\"marker\": {\"color\": \"navy\", \"size\": 5}, \"mode\": \"markers\", \"name\": \"basic materials\", \"opacity\": 0.9, \"text\": [\"APD\", \"AA\", \"NEM\", \"WPM\", \"MAS\", \"STLD\", \"NUE\", \"SSRM\", \"RGLD\", \"SHW\", \"PPG\", \"ARCH\", \"MOS\", \"FMC\", \"VMC\", \"CF\", \"GOLD\", \"SCCO\", \"FCX\", \"AEM\", \"PAAS\", \"VALE\"], \"type\": \"scatter\", \"x\": [-0.9381119012832642, -2.8377721309661865, -2.338489532470703, 1.0840948820114136, -0.904563307762146, 4.456843376159668, -2.599285840988159, 4.377535343170166, 3.4444408416748047, -1.523335576057434, -1.0488489866256714, 0.7489588856697083, -2.2649548053741455, -5.187889099121094, -1.469394326210022, -0.33965355157852173, 2.3272199630737305, 0.3244735896587372, -2.5960373878479004, -1.8592040538787842, 3.54764723777771, -6.585990905761719], \"y\": [-2.025536298751831, -3.242123603820801, -2.202319383621216, -0.29940101504325867, -0.613953173160553, 2.3260152339935303, -3.2224209308624268, 1.6960707902908325, 2.8355813026428223, -3.1163346767425537, -1.9846247434616089, 4.157968521118164, -3.2140750885009766, 1.1099811792373657, -2.686777114868164, 4.306739807128906, 3.4608399868011475, -0.3249260187149048, -2.497016429901123, -2.231170177459717, 3.0293776988983154, -0.12573835253715515]}, {\"mode\": \"text\", \"name\": \"Top\", \"opacity\": 0.9, \"text\": [\"TSLA\", \"XOM\", \"AGN\", \"AA\", \"INTC\", \"KO\", \"IBM\", \"TGT\", \"WMT\", \"AAPL\", \"JPM\", \"MU\", \"CME\", \"GOOGL\", \"GS\", \"CVX\", \"VZ\", \"NWSA\", \"BLK\", \"UBER\", \"LMT\", \"SBUX\", \"BAC\", \"WMB\", \"DIS\", \"TM\", \"MS\", \"BKR\", \"CAT\", \"WFC\", \"CMG\", \"C\", \"EFX\", \"MSFT\", \"GE\", \"AMZN\", \"BA\", \"NFLX\", \"GM\"], \"textfont\": {\"color\": \"black\", \"family\": \"sans serif\", \"size\": 10}, \"type\": \"scatter\", \"x\": [10.280550003051758, -7.833770751953125, -5.70374059677124, -2.8377721309661865, 9.57638168334961, -3.376603126525879, -3.263068675994873, -0.840178370475769, -1.3932509422302246, 10.35289478302002, -8.065841674804688, 8.063963890075684, 4.804779529571533, 10.456110954284668, -8.192441940307617, -7.802958011627197, -5.9073896408081055, 3.25769305229187, -1.976428508758545, 0.9479497671127319, -6.725935459136963, 9.467758178710938, -8.082337379455566, -6.761200904846191, -3.3323168754577637, 2.641188621520996, -8.1941556930542, 1.2295129299163818, -3.141850709915161, -8.006375312805176, -0.25482553243637085, -0.2544289231300354, -4.681878566741943, 10.007340431213379, -0.8126452565193176, 10.57091236114502, -3.908583164215088, 10.342805862426758, 2.8356966972351074], \"y\": [2.0841314792633057, -0.5275784730911255, -6.4411773681640625, -3.242123603820801, 4.3121442794799805, -6.063509464263916, 3.6199681758880615, -8.384012222290039, -8.055642127990723, 2.3457884788513184, -5.1898369789123535, 4.473735809326172, 3.2805898189544678, 2.760996103286743, -4.647181510925293, -0.5361148118972778, 3.3999240398406982, 4.556502342224121, 3.6529181003570557, 3.1301963329315186, 1.3682292699813843, 0.4509652554988861, -5.082900524139404, -2.5237085819244385, -6.3994951248168945, -5.766938209533691, -4.612723350524902, -0.3062814176082611, -4.283697605133057, -5.242572784423828, -7.319817066192627, 0.5990419387817383, 2.7188963890075684, 3.8890106678009033, 3.3651323318481445, 2.685363292694092, -6.809134006500244, 2.3324334621429443, -5.659843444824219]}],\n",
              "                        {\"autosize\": false, \"height\": 750, \"template\": {\"data\": {\"bar\": [{\"error_x\": {\"color\": \"#2a3f5f\"}, \"error_y\": {\"color\": \"#2a3f5f\"}, \"marker\": {\"line\": {\"color\": \"#E5ECF6\", \"width\": 0.5}}, \"type\": \"bar\"}], \"barpolar\": [{\"marker\": {\"line\": {\"color\": \"#E5ECF6\", \"width\": 0.5}}, \"type\": \"barpolar\"}], \"carpet\": [{\"aaxis\": {\"endlinecolor\": \"#2a3f5f\", \"gridcolor\": \"white\", \"linecolor\": \"white\", \"minorgridcolor\": \"white\", \"startlinecolor\": \"#2a3f5f\"}, \"baxis\": {\"endlinecolor\": \"#2a3f5f\", \"gridcolor\": \"white\", \"linecolor\": \"white\", \"minorgridcolor\": \"white\", \"startlinecolor\": \"#2a3f5f\"}, \"type\": \"carpet\"}], \"choropleth\": [{\"colorbar\": {\"outlinewidth\": 0, \"ticks\": \"\"}, \"type\": \"choropleth\"}], \"contour\": [{\"colorbar\": {\"outlinewidth\": 0, \"ticks\": \"\"}, \"colorscale\": [[0.0, \"#0d0887\"], [0.1111111111111111, \"#46039f\"], [0.2222222222222222, \"#7201a8\"], [0.3333333333333333, \"#9c179e\"], [0.4444444444444444, \"#bd3786\"], [0.5555555555555556, \"#d8576b\"], [0.6666666666666666, \"#ed7953\"], [0.7777777777777778, \"#fb9f3a\"], [0.8888888888888888, \"#fdca26\"], [1.0, \"#f0f921\"]], \"type\": \"contour\"}], \"contourcarpet\": [{\"colorbar\": {\"outlinewidth\": 0, \"ticks\": \"\"}, \"type\": \"contourcarpet\"}], \"heatmap\": [{\"colorbar\": {\"outlinewidth\": 0, \"ticks\": \"\"}, \"colorscale\": [[0.0, \"#0d0887\"], [0.1111111111111111, \"#46039f\"], [0.2222222222222222, \"#7201a8\"], [0.3333333333333333, \"#9c179e\"], [0.4444444444444444, \"#bd3786\"], [0.5555555555555556, \"#d8576b\"], [0.6666666666666666, \"#ed7953\"], [0.7777777777777778, \"#fb9f3a\"], [0.8888888888888888, \"#fdca26\"], [1.0, \"#f0f921\"]], \"type\": \"heatmap\"}], \"heatmapgl\": [{\"colorbar\": {\"outlinewidth\": 0, \"ticks\": \"\"}, \"colorscale\": [[0.0, \"#0d0887\"], [0.1111111111111111, \"#46039f\"], [0.2222222222222222, \"#7201a8\"], [0.3333333333333333, \"#9c179e\"], [0.4444444444444444, \"#bd3786\"], [0.5555555555555556, \"#d8576b\"], [0.6666666666666666, \"#ed7953\"], [0.7777777777777778, \"#fb9f3a\"], [0.8888888888888888, \"#fdca26\"], [1.0, \"#f0f921\"]], \"type\": \"heatmapgl\"}], \"histogram\": [{\"marker\": {\"colorbar\": {\"outlinewidth\": 0, \"ticks\": \"\"}}, \"type\": \"histogram\"}], \"histogram2d\": [{\"colorbar\": {\"outlinewidth\": 0, \"ticks\": \"\"}, \"colorscale\": [[0.0, \"#0d0887\"], [0.1111111111111111, \"#46039f\"], [0.2222222222222222, \"#7201a8\"], [0.3333333333333333, \"#9c179e\"], [0.4444444444444444, \"#bd3786\"], [0.5555555555555556, \"#d8576b\"], [0.6666666666666666, \"#ed7953\"], [0.7777777777777778, \"#fb9f3a\"], [0.8888888888888888, \"#fdca26\"], [1.0, \"#f0f921\"]], \"type\": \"histogram2d\"}], \"histogram2dcontour\": [{\"colorbar\": {\"outlinewidth\": 0, \"ticks\": \"\"}, \"colorscale\": [[0.0, \"#0d0887\"], [0.1111111111111111, \"#46039f\"], [0.2222222222222222, \"#7201a8\"], [0.3333333333333333, \"#9c179e\"], [0.4444444444444444, \"#bd3786\"], [0.5555555555555556, \"#d8576b\"], [0.6666666666666666, \"#ed7953\"], [0.7777777777777778, \"#fb9f3a\"], [0.8888888888888888, \"#fdca26\"], [1.0, \"#f0f921\"]], \"type\": \"histogram2dcontour\"}], \"mesh3d\": [{\"colorbar\": {\"outlinewidth\": 0, \"ticks\": \"\"}, \"type\": \"mesh3d\"}], \"parcoords\": [{\"line\": {\"colorbar\": {\"outlinewidth\": 0, \"ticks\": \"\"}}, \"type\": \"parcoords\"}], \"pie\": [{\"automargin\": true, \"type\": \"pie\"}], \"scatter\": [{\"marker\": {\"colorbar\": {\"outlinewidth\": 0, \"ticks\": \"\"}}, \"type\": \"scatter\"}], \"scatter3d\": [{\"line\": {\"colorbar\": {\"outlinewidth\": 0, \"ticks\": \"\"}}, \"marker\": {\"colorbar\": {\"outlinewidth\": 0, \"ticks\": \"\"}}, \"type\": \"scatter3d\"}], \"scattercarpet\": [{\"marker\": {\"colorbar\": {\"outlinewidth\": 0, \"ticks\": \"\"}}, \"type\": \"scattercarpet\"}], \"scattergeo\": [{\"marker\": {\"colorbar\": {\"outlinewidth\": 0, \"ticks\": \"\"}}, \"type\": \"scattergeo\"}], \"scattergl\": [{\"marker\": {\"colorbar\": {\"outlinewidth\": 0, \"ticks\": \"\"}}, \"type\": \"scattergl\"}], \"scattermapbox\": [{\"marker\": {\"colorbar\": {\"outlinewidth\": 0, \"ticks\": \"\"}}, \"type\": \"scattermapbox\"}], \"scatterpolar\": [{\"marker\": {\"colorbar\": {\"outlinewidth\": 0, \"ticks\": \"\"}}, \"type\": \"scatterpolar\"}], \"scatterpolargl\": [{\"marker\": {\"colorbar\": {\"outlinewidth\": 0, \"ticks\": \"\"}}, \"type\": \"scatterpolargl\"}], \"scatterternary\": [{\"marker\": {\"colorbar\": {\"outlinewidth\": 0, \"ticks\": \"\"}}, \"type\": \"scatterternary\"}], \"surface\": [{\"colorbar\": {\"outlinewidth\": 0, \"ticks\": \"\"}, \"colorscale\": [[0.0, \"#0d0887\"], [0.1111111111111111, \"#46039f\"], [0.2222222222222222, \"#7201a8\"], [0.3333333333333333, \"#9c179e\"], [0.4444444444444444, \"#bd3786\"], [0.5555555555555556, \"#d8576b\"], [0.6666666666666666, \"#ed7953\"], [0.7777777777777778, \"#fb9f3a\"], [0.8888888888888888, \"#fdca26\"], [1.0, \"#f0f921\"]], \"type\": \"surface\"}], \"table\": [{\"cells\": {\"fill\": {\"color\": \"#EBF0F8\"}, \"line\": {\"color\": \"white\"}}, \"header\": {\"fill\": {\"color\": \"#C8D4E3\"}, \"line\": {\"color\": \"white\"}}, \"type\": \"table\"}]}, \"layout\": {\"annotationdefaults\": {\"arrowcolor\": \"#2a3f5f\", \"arrowhead\": 0, \"arrowwidth\": 1}, \"coloraxis\": {\"colorbar\": {\"outlinewidth\": 0, \"ticks\": \"\"}}, \"colorscale\": {\"diverging\": [[0, \"#8e0152\"], [0.1, \"#c51b7d\"], [0.2, \"#de77ae\"], [0.3, \"#f1b6da\"], [0.4, \"#fde0ef\"], [0.5, \"#f7f7f7\"], [0.6, \"#e6f5d0\"], [0.7, \"#b8e186\"], [0.8, \"#7fbc41\"], [0.9, \"#4d9221\"], [1, \"#276419\"]], \"sequential\": [[0.0, \"#0d0887\"], [0.1111111111111111, \"#46039f\"], [0.2222222222222222, \"#7201a8\"], [0.3333333333333333, \"#9c179e\"], [0.4444444444444444, \"#bd3786\"], [0.5555555555555556, \"#d8576b\"], [0.6666666666666666, \"#ed7953\"], [0.7777777777777778, \"#fb9f3a\"], [0.8888888888888888, \"#fdca26\"], [1.0, \"#f0f921\"]], \"sequentialminus\": [[0.0, \"#0d0887\"], [0.1111111111111111, \"#46039f\"], [0.2222222222222222, \"#7201a8\"], [0.3333333333333333, \"#9c179e\"], [0.4444444444444444, \"#bd3786\"], [0.5555555555555556, \"#d8576b\"], [0.6666666666666666, \"#ed7953\"], [0.7777777777777778, \"#fb9f3a\"], [0.8888888888888888, \"#fdca26\"], [1.0, \"#f0f921\"]]}, \"colorway\": [\"#636efa\", \"#EF553B\", \"#00cc96\", \"#ab63fa\", \"#FFA15A\", \"#19d3f3\", \"#FF6692\", \"#B6E880\", \"#FF97FF\", \"#FECB52\"], \"font\": {\"color\": \"#2a3f5f\"}, \"geo\": {\"bgcolor\": \"white\", \"lakecolor\": \"white\", \"landcolor\": \"#E5ECF6\", \"showlakes\": true, \"showland\": true, \"subunitcolor\": \"white\"}, \"hoverlabel\": {\"align\": \"left\"}, \"hovermode\": \"closest\", \"mapbox\": {\"style\": \"light\"}, \"paper_bgcolor\": \"white\", \"plot_bgcolor\": \"#E5ECF6\", \"polar\": {\"angularaxis\": {\"gridcolor\": \"white\", \"linecolor\": \"white\", \"ticks\": \"\"}, \"bgcolor\": \"#E5ECF6\", \"radialaxis\": {\"gridcolor\": \"white\", \"linecolor\": \"white\", \"ticks\": \"\"}}, \"scene\": {\"xaxis\": {\"backgroundcolor\": \"#E5ECF6\", \"gridcolor\": \"white\", \"gridwidth\": 2, \"linecolor\": \"white\", \"showbackground\": true, \"ticks\": \"\", \"zerolinecolor\": \"white\"}, \"yaxis\": {\"backgroundcolor\": \"#E5ECF6\", \"gridcolor\": \"white\", \"gridwidth\": 2, \"linecolor\": \"white\", \"showbackground\": true, \"ticks\": \"\", \"zerolinecolor\": \"white\"}, \"zaxis\": {\"backgroundcolor\": \"#E5ECF6\", \"gridcolor\": \"white\", \"gridwidth\": 2, \"linecolor\": \"white\", \"showbackground\": true, \"ticks\": \"\", \"zerolinecolor\": \"white\"}}, \"shapedefaults\": {\"line\": {\"color\": \"#2a3f5f\"}}, \"ternary\": {\"aaxis\": {\"gridcolor\": \"white\", \"linecolor\": \"white\", \"ticks\": \"\"}, \"baxis\": {\"gridcolor\": \"white\", \"linecolor\": \"white\", \"ticks\": \"\"}, \"bgcolor\": \"#E5ECF6\", \"caxis\": {\"gridcolor\": \"white\", \"linecolor\": \"white\", \"ticks\": \"\"}}, \"title\": {\"x\": 0.05}, \"xaxis\": {\"automargin\": true, \"gridcolor\": \"white\", \"linecolor\": \"white\", \"ticks\": \"\", \"title\": {\"standoff\": 15}, \"zerolinecolor\": \"white\", \"zerolinewidth\": 2}, \"yaxis\": {\"automargin\": true, \"gridcolor\": \"white\", \"linecolor\": \"white\", \"ticks\": \"\", \"title\": {\"standoff\": 15}, \"zerolinecolor\": \"white\", \"zerolinewidth\": 2}}}, \"title\": {\"font\": {\"size\": 20}, \"text\": \"t-SNE - Tickers News\"}, \"width\": 1150},\n",
              "                        {\"responsive\": true}\n",
              "                    ).then(function(){\n",
              "                            \n",
              "var gd = document.getElementById('4d86a55c-e764-495a-b1e8-d6d67e8bd2b6');\n",
              "var x = new MutationObserver(function (mutations, observer) {{\n",
              "        var display = window.getComputedStyle(gd).display;\n",
              "        if (!display || display === 'none') {{\n",
              "            console.log([gd, 'removed!']);\n",
              "            Plotly.purge(gd);\n",
              "            observer.disconnect();\n",
              "        }}\n",
              "}});\n",
              "\n",
              "// Listen for the removal of the full notebook cells\n",
              "var notebookContainer = gd.closest('#notebook-container');\n",
              "if (notebookContainer) {{\n",
              "    x.observe(notebookContainer, {childList: true});\n",
              "}}\n",
              "\n",
              "// Listen for the clearing of the current output cell\n",
              "var outputEl = gd.closest('.output');\n",
              "if (outputEl) {{\n",
              "    x.observe(outputEl, {childList: true});\n",
              "}}\n",
              "\n",
              "                        })\n",
              "                };\n",
              "                \n",
              "            </script>\n",
              "        </div>\n",
              "</body>\n",
              "</html>"
            ]
          },
          "metadata": {}
        }
      ]
    },
    {
      "cell_type": "markdown",
      "metadata": {
        "id": "6ypA5KI7Qawy"
      },
      "source": [
        "## TSNE agregando a cada ticker el nombre de la compañia"
      ]
    },
    {
      "cell_type": "markdown",
      "metadata": {
        "id": "FgoRqEbbddq8"
      },
      "source": [
        "Agregar a cada ticker el vector que corresponde al nombre de la compañia,hacer un promedio de estos vectores, para ver si de esta forma se obtiene otra representacion que contenga mas informacion sobre cada ticker.\n"
      ]
    },
    {
      "cell_type": "code",
      "metadata": {
        "id": "-KBt8YPCQhfN"
      },
      "source": [
        "url= '/content/drive/MyDrive/Mentoria/symbols_tickers.json' #'Datasets/symbols_tickers.json'"
      ],
      "execution_count": 174,
      "outputs": []
    },
    {
      "cell_type": "code",
      "metadata": {
        "id": "ZeGb1WRrQkKi"
      },
      "source": [
        "# Archivo json con nombre de compañias segun tickers\n",
        "import json\n",
        "with open(url) as file:\n",
        "    data = json.load(file)"
      ],
      "execution_count": 175,
      "outputs": []
    },
    {
      "cell_type": "code",
      "metadata": {
        "colab": {
          "base_uri": "https://localhost:8080/",
          "height": 35
        },
        "id": "RYz9TDkLPMY1",
        "outputId": "e1369490-7f1b-48cc-904b-3d96a0a97b6c"
      },
      "source": [
        "def name_ticker(ticker):\n",
        "    for i in range(len(data)):\n",
        "        if (data[i]['symbol']==ticker):\n",
        "            return(data[i]['name'])\n",
        "       \n",
        "    return -1\n",
        "    \n",
        "name_ticker('EL')"
      ],
      "execution_count": 176,
      "outputs": [
        {
          "output_type": "execute_result",
          "data": {
            "application/vnd.google.colaboratory.intrinsic+json": {
              "type": "string"
            },
            "text/plain": [
              "'ESTEE LAUDER COMPANIES-CL A'"
            ]
          },
          "metadata": {},
          "execution_count": 176
        }
      ]
    },
    {
      "cell_type": "code",
      "metadata": {
        "id": "6jSqKWSvXLJe"
      },
      "source": [
        "# Terminos que podria usar, o no, para limpiar nombres\n",
        "names_clean=['inc','corp' ,'co' ,'ltd','group' ,'cl' ,'co-cl','plc-class','&' ,'company' ,'plc','pcl' ,'in' ]"
      ],
      "execution_count": 177,
      "outputs": []
    },
    {
      "cell_type": "code",
      "metadata": {
        "id": "CbOo7SdpDjcB"
      },
      "source": [
        "names_clean_in_emb=[]\n",
        "for word in names_clean:\n",
        "  #print(word)\n",
        "  try:\n",
        "    embeddings[word]\n",
        "    names_clean_in_emb.append(word)\n",
        "    #print(word, 'esta')\n",
        "  except:\n",
        "    #print(word, 'No esta')\n",
        "    continue"
      ],
      "execution_count": 178,
      "outputs": []
    },
    {
      "cell_type": "code",
      "metadata": {
        "colab": {
          "base_uri": "https://localhost:8080/"
        },
        "id": "NbvozsJQam21",
        "outputId": "8826973f-cee4-4e09-cad2-ab3d4c3255be"
      },
      "source": [
        "names_clean_in_emb"
      ],
      "execution_count": 179,
      "outputs": [
        {
          "output_type": "execute_result",
          "data": {
            "text/plain": [
              "['inc', 'corp', 'co', 'ltd', 'group', 'cl', 'company', 'plc', 'pcl']"
            ]
          },
          "metadata": {},
          "execution_count": 179
        }
      ]
    },
    {
      "cell_type": "code",
      "metadata": {
        "id": "614qZZ-hQxjk"
      },
      "source": [
        "# Crear lista de ticker y nombres de compañias\n",
        "dict_ticker_company={}\n",
        "list_no_company=[]\n",
        "count=0\n",
        "for ticker in ticker_list:\n",
        "    #list_ticker_company.append(ticker.lower())\n",
        "    company_name=name_ticker(ticker)\n",
        "    if (company_name!=-1):\n",
        "        company_name_list=company_name\n",
        "        dict_ticker_company[ticker.lower()]=company_name_list.lower()+' '+ ticker.lower()\n",
        "        #for word in company_name_list:\n",
        "        #     dict_ticker_company.append(word.lower())\n",
        "            #dict_ticker_company.append(word)\n",
        "            #dict_ticker_company.append(primer_mayuscula(loword))\n",
        "    else:\n",
        "        dict_ticker_company[ticker.lower()]=ticker.lower()\n",
        "        list_no_company.append(ticker)\n",
        "        count+=1"
      ],
      "execution_count": 180,
      "outputs": []
    },
    {
      "cell_type": "code",
      "metadata": {
        "id": "TwY0t0RgdthP"
      },
      "source": [
        "#dict_ticker_company"
      ],
      "execution_count": 181,
      "outputs": []
    },
    {
      "cell_type": "code",
      "metadata": {
        "colab": {
          "base_uri": "https://localhost:8080/"
        },
        "id": "CAFDlZPXRM_Z",
        "outputId": "955fe327-91a8-4c95-8aee-27d431366c6a"
      },
      "source": [
        "len(dict_ticker_company) , len(ticker_list)"
      ],
      "execution_count": 182,
      "outputs": [
        {
          "output_type": "execute_result",
          "data": {
            "text/plain": [
              "(388, 388)"
            ]
          },
          "metadata": {},
          "execution_count": 182
        }
      ]
    },
    {
      "cell_type": "code",
      "metadata": {
        "colab": {
          "base_uri": "https://localhost:8080/"
        },
        "id": "VNDnLUw6LEw3",
        "outputId": "82cf87e6-1bb0-47ec-f78e-7f452b66121a"
      },
      "source": [
        "# Crear diccionario con vectores que forman el nombre de compania\n",
        "emb_tick_with_comp_names= {}\n",
        "list_no_encn=[]\n",
        "count_no_encn=0\n",
        "count_encn=0\n",
        "\n",
        "for tick in ticker_low_list:\n",
        "  \n",
        "    dict_content= list(set(dict_ticker_company[tick].split())-set(set(dict_ticker_company[tick].split())&set(names_clean_in_emb)))\n",
        "    temp_array=[]\n",
        "    #print(dict_content)\n",
        "    for word in dict_content:\n",
        "      try:\n",
        "        temp_array.append(embeddings[word])\n",
        "        #print(temp_array)\n",
        "        count_encn+=1\n",
        "      except:\n",
        "        list_no_encn.append(word)\n",
        "        count_no_encn+=1\n",
        "      #print(len(temp_array))\n",
        "    if (len(temp_array)!=0):\n",
        "      temp_array_np=np.array(temp_array)      \n",
        "      emb_tick_with_comp_names[tick.upper()]=np.average(temp_array_np,axis=0) # Suma, promedio ?\n",
        "    \n",
        "   \n",
        "print(count_no_encn)\n",
        "print(count_encn)"
      ],
      "execution_count": 199,
      "outputs": [
        {
          "output_type": "stream",
          "name": "stdout",
          "text": [
            "149\n",
            "965\n"
          ]
        }
      ]
    },
    {
      "cell_type": "code",
      "metadata": {
        "colab": {
          "base_uri": "https://localhost:8080/"
        },
        "id": "X448wSG9a8An",
        "outputId": "363fb99c-87e9-490b-c564-1d1b6fa77a40"
      },
      "source": [
        "# ticker no encontrados en embedding\n",
        "len(set(list_no_encn) & set(ticker_low_list))"
      ],
      "execution_count": 200,
      "outputs": [
        {
          "output_type": "execute_result",
          "data": {
            "text/plain": [
              "10"
            ]
          },
          "metadata": {},
          "execution_count": 200
        }
      ]
    },
    {
      "cell_type": "code",
      "metadata": {
        "colab": {
          "base_uri": "https://localhost:8080/"
        },
        "id": "uKYL8TYuWovw",
        "outputId": "f3698005-0381-4b20-c83e-24002e3e9116"
      },
      "source": [
        "len(emb_tick_with_comp_names)"
      ],
      "execution_count": 201,
      "outputs": [
        {
          "output_type": "execute_result",
          "data": {
            "text/plain": [
              "383"
            ]
          },
          "metadata": {},
          "execution_count": 201
        }
      ]
    },
    {
      "cell_type": "code",
      "metadata": {
        "colab": {
          "base_uri": "https://localhost:8080/"
        },
        "id": "IfyzdFRuWrzi",
        "outputId": "83564801-161e-4d94-c377-d1b13475f6bf"
      },
      "source": [
        "embeddings.similar_by_vector(emb_tick_with_comp_names['GOLD'])"
      ],
      "execution_count": 202,
      "outputs": [
        {
          "output_type": "execute_result",
          "data": {
            "text/plain": [
              "[('gold', 0.9077646732330322),\n",
              " ('silver', 0.8692494630813599),\n",
              " ('barrick', 0.8040914535522461),\n",
              " ('abx', 0.757229208946228),\n",
              " ('mag', 0.7350956797599792),\n",
              " ('copper', 0.7165840864181519),\n",
              " ('yamana', 0.7070299983024597),\n",
              " ('newmont', 0.6987410187721252),\n",
              " ('osisko', 0.692679762840271),\n",
              " ('asanko', 0.6890450716018677)]"
            ]
          },
          "metadata": {},
          "execution_count": 202
        }
      ]
    },
    {
      "cell_type": "code",
      "metadata": {
        "colab": {
          "base_uri": "https://localhost:8080/",
          "height": 252
        },
        "id": "PTyYxb3yeFZQ",
        "outputId": "74933ed6-af67-4099-9ffd-189081967470"
      },
      "source": [
        "# Df con vectores para tickers\n",
        "df_ticker_with_name= (pd.DataFrame(emb_tick_with_comp_names)).T.reset_index().rename(columns={'index':'tickers'})\n",
        "df_ticker_with_name.head()"
      ],
      "execution_count": 203,
      "outputs": [
        {
          "output_type": "execute_result",
          "data": {
            "text/html": [
              "<div>\n",
              "<style scoped>\n",
              "    .dataframe tbody tr th:only-of-type {\n",
              "        vertical-align: middle;\n",
              "    }\n",
              "\n",
              "    .dataframe tbody tr th {\n",
              "        vertical-align: top;\n",
              "    }\n",
              "\n",
              "    .dataframe thead th {\n",
              "        text-align: right;\n",
              "    }\n",
              "</style>\n",
              "<table border=\"1\" class=\"dataframe\">\n",
              "  <thead>\n",
              "    <tr style=\"text-align: right;\">\n",
              "      <th></th>\n",
              "      <th>tickers</th>\n",
              "      <th>0</th>\n",
              "      <th>1</th>\n",
              "      <th>2</th>\n",
              "      <th>3</th>\n",
              "      <th>4</th>\n",
              "      <th>5</th>\n",
              "      <th>6</th>\n",
              "      <th>7</th>\n",
              "      <th>8</th>\n",
              "      <th>9</th>\n",
              "      <th>10</th>\n",
              "      <th>11</th>\n",
              "      <th>12</th>\n",
              "      <th>13</th>\n",
              "      <th>14</th>\n",
              "      <th>15</th>\n",
              "      <th>16</th>\n",
              "      <th>17</th>\n",
              "      <th>18</th>\n",
              "      <th>19</th>\n",
              "      <th>20</th>\n",
              "      <th>21</th>\n",
              "      <th>22</th>\n",
              "      <th>23</th>\n",
              "      <th>24</th>\n",
              "      <th>25</th>\n",
              "      <th>26</th>\n",
              "      <th>27</th>\n",
              "      <th>28</th>\n",
              "      <th>29</th>\n",
              "      <th>30</th>\n",
              "      <th>31</th>\n",
              "      <th>32</th>\n",
              "      <th>33</th>\n",
              "      <th>34</th>\n",
              "      <th>35</th>\n",
              "      <th>36</th>\n",
              "      <th>37</th>\n",
              "      <th>38</th>\n",
              "      <th>39</th>\n",
              "      <th>40</th>\n",
              "      <th>41</th>\n",
              "      <th>42</th>\n",
              "      <th>43</th>\n",
              "      <th>44</th>\n",
              "      <th>45</th>\n",
              "      <th>46</th>\n",
              "      <th>47</th>\n",
              "      <th>48</th>\n",
              "      <th>...</th>\n",
              "      <th>50</th>\n",
              "      <th>51</th>\n",
              "      <th>52</th>\n",
              "      <th>53</th>\n",
              "      <th>54</th>\n",
              "      <th>55</th>\n",
              "      <th>56</th>\n",
              "      <th>57</th>\n",
              "      <th>58</th>\n",
              "      <th>59</th>\n",
              "      <th>60</th>\n",
              "      <th>61</th>\n",
              "      <th>62</th>\n",
              "      <th>63</th>\n",
              "      <th>64</th>\n",
              "      <th>65</th>\n",
              "      <th>66</th>\n",
              "      <th>67</th>\n",
              "      <th>68</th>\n",
              "      <th>69</th>\n",
              "      <th>70</th>\n",
              "      <th>71</th>\n",
              "      <th>72</th>\n",
              "      <th>73</th>\n",
              "      <th>74</th>\n",
              "      <th>75</th>\n",
              "      <th>76</th>\n",
              "      <th>77</th>\n",
              "      <th>78</th>\n",
              "      <th>79</th>\n",
              "      <th>80</th>\n",
              "      <th>81</th>\n",
              "      <th>82</th>\n",
              "      <th>83</th>\n",
              "      <th>84</th>\n",
              "      <th>85</th>\n",
              "      <th>86</th>\n",
              "      <th>87</th>\n",
              "      <th>88</th>\n",
              "      <th>89</th>\n",
              "      <th>90</th>\n",
              "      <th>91</th>\n",
              "      <th>92</th>\n",
              "      <th>93</th>\n",
              "      <th>94</th>\n",
              "      <th>95</th>\n",
              "      <th>96</th>\n",
              "      <th>97</th>\n",
              "      <th>98</th>\n",
              "      <th>99</th>\n",
              "    </tr>\n",
              "  </thead>\n",
              "  <tbody>\n",
              "    <tr>\n",
              "      <th>0</th>\n",
              "      <td>SPGI</td>\n",
              "      <td>2.563143</td>\n",
              "      <td>1.365254</td>\n",
              "      <td>1.112893</td>\n",
              "      <td>0.482195</td>\n",
              "      <td>0.607864</td>\n",
              "      <td>2.266586</td>\n",
              "      <td>1.934914</td>\n",
              "      <td>-2.301006</td>\n",
              "      <td>-0.549139</td>\n",
              "      <td>-0.782721</td>\n",
              "      <td>-2.855089</td>\n",
              "      <td>0.580298</td>\n",
              "      <td>-0.671509</td>\n",
              "      <td>-0.297220</td>\n",
              "      <td>1.388119</td>\n",
              "      <td>-1.260170</td>\n",
              "      <td>-1.707758</td>\n",
              "      <td>-0.566863</td>\n",
              "      <td>-1.021444</td>\n",
              "      <td>0.991938</td>\n",
              "      <td>0.083334</td>\n",
              "      <td>-0.493793</td>\n",
              "      <td>1.285335</td>\n",
              "      <td>-0.971600</td>\n",
              "      <td>2.484224</td>\n",
              "      <td>-0.546765</td>\n",
              "      <td>2.034072</td>\n",
              "      <td>0.678233</td>\n",
              "      <td>-0.529299</td>\n",
              "      <td>1.031429</td>\n",
              "      <td>0.622428</td>\n",
              "      <td>0.963141</td>\n",
              "      <td>1.564303</td>\n",
              "      <td>0.072136</td>\n",
              "      <td>0.229229</td>\n",
              "      <td>-0.922197</td>\n",
              "      <td>-1.053265</td>\n",
              "      <td>-1.273172</td>\n",
              "      <td>-3.855770</td>\n",
              "      <td>0.483685</td>\n",
              "      <td>-2.811294</td>\n",
              "      <td>2.984292</td>\n",
              "      <td>1.563438</td>\n",
              "      <td>-0.794764</td>\n",
              "      <td>0.451676</td>\n",
              "      <td>-2.839190</td>\n",
              "      <td>-0.922183</td>\n",
              "      <td>-0.588937</td>\n",
              "      <td>0.124389</td>\n",
              "      <td>...</td>\n",
              "      <td>2.212307</td>\n",
              "      <td>-1.373652</td>\n",
              "      <td>-1.151628</td>\n",
              "      <td>1.233082</td>\n",
              "      <td>-0.114739</td>\n",
              "      <td>0.355403</td>\n",
              "      <td>-0.222574</td>\n",
              "      <td>-0.024164</td>\n",
              "      <td>0.186288</td>\n",
              "      <td>0.312657</td>\n",
              "      <td>-2.103112</td>\n",
              "      <td>-0.771567</td>\n",
              "      <td>-0.795334</td>\n",
              "      <td>0.670436</td>\n",
              "      <td>0.906847</td>\n",
              "      <td>-0.556761</td>\n",
              "      <td>0.320276</td>\n",
              "      <td>-0.397227</td>\n",
              "      <td>-0.685960</td>\n",
              "      <td>0.072995</td>\n",
              "      <td>-0.722636</td>\n",
              "      <td>1.684687</td>\n",
              "      <td>1.527135</td>\n",
              "      <td>-2.895229</td>\n",
              "      <td>-0.952046</td>\n",
              "      <td>-1.625690</td>\n",
              "      <td>-0.077400</td>\n",
              "      <td>0.343466</td>\n",
              "      <td>-0.827054</td>\n",
              "      <td>-0.101974</td>\n",
              "      <td>-0.986857</td>\n",
              "      <td>0.275838</td>\n",
              "      <td>-0.638694</td>\n",
              "      <td>-3.272548</td>\n",
              "      <td>-2.409031</td>\n",
              "      <td>0.718897</td>\n",
              "      <td>-0.527748</td>\n",
              "      <td>-0.067337</td>\n",
              "      <td>-1.780519</td>\n",
              "      <td>-0.882830</td>\n",
              "      <td>-1.632579</td>\n",
              "      <td>-2.657023</td>\n",
              "      <td>-2.129220</td>\n",
              "      <td>-0.115562</td>\n",
              "      <td>1.324161</td>\n",
              "      <td>0.519318</td>\n",
              "      <td>-1.152068</td>\n",
              "      <td>-0.380904</td>\n",
              "      <td>3.038339</td>\n",
              "      <td>0.526232</td>\n",
              "    </tr>\n",
              "    <tr>\n",
              "      <th>1</th>\n",
              "      <td>TSLA</td>\n",
              "      <td>-2.006270</td>\n",
              "      <td>1.535045</td>\n",
              "      <td>-1.276422</td>\n",
              "      <td>2.253911</td>\n",
              "      <td>-1.281605</td>\n",
              "      <td>-0.170470</td>\n",
              "      <td>-0.618417</td>\n",
              "      <td>0.629589</td>\n",
              "      <td>-1.184561</td>\n",
              "      <td>-0.704891</td>\n",
              "      <td>-1.520849</td>\n",
              "      <td>-1.792868</td>\n",
              "      <td>-0.692392</td>\n",
              "      <td>2.243218</td>\n",
              "      <td>0.866788</td>\n",
              "      <td>2.172557</td>\n",
              "      <td>1.277642</td>\n",
              "      <td>-1.638835</td>\n",
              "      <td>0.348648</td>\n",
              "      <td>2.151544</td>\n",
              "      <td>1.861925</td>\n",
              "      <td>2.886126</td>\n",
              "      <td>2.660352</td>\n",
              "      <td>-1.536158</td>\n",
              "      <td>-0.842763</td>\n",
              "      <td>1.544363</td>\n",
              "      <td>0.778875</td>\n",
              "      <td>3.608381</td>\n",
              "      <td>-1.977650</td>\n",
              "      <td>-1.690201</td>\n",
              "      <td>1.120518</td>\n",
              "      <td>-3.466712</td>\n",
              "      <td>-1.741359</td>\n",
              "      <td>-3.111041</td>\n",
              "      <td>-1.273530</td>\n",
              "      <td>0.209606</td>\n",
              "      <td>-2.188210</td>\n",
              "      <td>3.417231</td>\n",
              "      <td>2.698741</td>\n",
              "      <td>-3.866396</td>\n",
              "      <td>-1.357196</td>\n",
              "      <td>-1.541459</td>\n",
              "      <td>2.314307</td>\n",
              "      <td>0.428093</td>\n",
              "      <td>0.162664</td>\n",
              "      <td>1.642685</td>\n",
              "      <td>-0.839555</td>\n",
              "      <td>0.334394</td>\n",
              "      <td>-0.236176</td>\n",
              "      <td>...</td>\n",
              "      <td>-0.861562</td>\n",
              "      <td>3.052371</td>\n",
              "      <td>-1.081948</td>\n",
              "      <td>-0.050591</td>\n",
              "      <td>-0.999002</td>\n",
              "      <td>1.286380</td>\n",
              "      <td>1.511587</td>\n",
              "      <td>2.777957</td>\n",
              "      <td>-0.820142</td>\n",
              "      <td>-1.556509</td>\n",
              "      <td>0.206523</td>\n",
              "      <td>0.437074</td>\n",
              "      <td>1.488777</td>\n",
              "      <td>0.608497</td>\n",
              "      <td>0.024010</td>\n",
              "      <td>-3.042209</td>\n",
              "      <td>-3.219231</td>\n",
              "      <td>-4.476652</td>\n",
              "      <td>-1.376558</td>\n",
              "      <td>-0.748353</td>\n",
              "      <td>0.574541</td>\n",
              "      <td>-1.057215</td>\n",
              "      <td>-1.328849</td>\n",
              "      <td>2.984276</td>\n",
              "      <td>-1.021179</td>\n",
              "      <td>1.553032</td>\n",
              "      <td>-0.144159</td>\n",
              "      <td>3.502051</td>\n",
              "      <td>1.707364</td>\n",
              "      <td>0.913523</td>\n",
              "      <td>-1.849349</td>\n",
              "      <td>-0.877244</td>\n",
              "      <td>-0.427580</td>\n",
              "      <td>2.878382</td>\n",
              "      <td>-4.701870</td>\n",
              "      <td>2.158471</td>\n",
              "      <td>-1.405676</td>\n",
              "      <td>3.185790</td>\n",
              "      <td>0.158512</td>\n",
              "      <td>-2.890890</td>\n",
              "      <td>0.355220</td>\n",
              "      <td>-1.208598</td>\n",
              "      <td>2.342035</td>\n",
              "      <td>2.049306</td>\n",
              "      <td>2.368890</td>\n",
              "      <td>-0.401143</td>\n",
              "      <td>-0.147195</td>\n",
              "      <td>0.874461</td>\n",
              "      <td>-0.836338</td>\n",
              "      <td>1.511108</td>\n",
              "    </tr>\n",
              "    <tr>\n",
              "      <th>2</th>\n",
              "      <td>SPG</td>\n",
              "      <td>-0.186339</td>\n",
              "      <td>0.432199</td>\n",
              "      <td>-2.382167</td>\n",
              "      <td>1.464005</td>\n",
              "      <td>-0.498271</td>\n",
              "      <td>-2.232544</td>\n",
              "      <td>0.705194</td>\n",
              "      <td>-0.440873</td>\n",
              "      <td>0.414185</td>\n",
              "      <td>0.229355</td>\n",
              "      <td>-1.657238</td>\n",
              "      <td>1.956500</td>\n",
              "      <td>-0.936880</td>\n",
              "      <td>-0.249881</td>\n",
              "      <td>1.009666</td>\n",
              "      <td>1.545670</td>\n",
              "      <td>0.356428</td>\n",
              "      <td>1.262355</td>\n",
              "      <td>1.255779</td>\n",
              "      <td>0.118968</td>\n",
              "      <td>1.350170</td>\n",
              "      <td>1.588106</td>\n",
              "      <td>-0.774770</td>\n",
              "      <td>-0.184118</td>\n",
              "      <td>0.739551</td>\n",
              "      <td>-0.226639</td>\n",
              "      <td>1.564503</td>\n",
              "      <td>2.049575</td>\n",
              "      <td>2.719796</td>\n",
              "      <td>1.337711</td>\n",
              "      <td>-0.409861</td>\n",
              "      <td>0.258635</td>\n",
              "      <td>0.423452</td>\n",
              "      <td>2.122319</td>\n",
              "      <td>-0.189819</td>\n",
              "      <td>-0.666852</td>\n",
              "      <td>1.398204</td>\n",
              "      <td>1.616932</td>\n",
              "      <td>2.961853</td>\n",
              "      <td>0.214020</td>\n",
              "      <td>-0.612610</td>\n",
              "      <td>1.164698</td>\n",
              "      <td>-1.542820</td>\n",
              "      <td>-1.773820</td>\n",
              "      <td>-1.163510</td>\n",
              "      <td>0.494149</td>\n",
              "      <td>0.786239</td>\n",
              "      <td>2.534072</td>\n",
              "      <td>-1.081004</td>\n",
              "      <td>...</td>\n",
              "      <td>0.228059</td>\n",
              "      <td>-0.222501</td>\n",
              "      <td>-1.273461</td>\n",
              "      <td>-2.174260</td>\n",
              "      <td>1.661662</td>\n",
              "      <td>1.489016</td>\n",
              "      <td>1.663661</td>\n",
              "      <td>-0.615389</td>\n",
              "      <td>-3.350063</td>\n",
              "      <td>1.573433</td>\n",
              "      <td>-1.215588</td>\n",
              "      <td>-0.283187</td>\n",
              "      <td>-0.595150</td>\n",
              "      <td>-0.775193</td>\n",
              "      <td>0.073516</td>\n",
              "      <td>-0.055402</td>\n",
              "      <td>-0.330044</td>\n",
              "      <td>-0.043083</td>\n",
              "      <td>-0.068008</td>\n",
              "      <td>-0.167921</td>\n",
              "      <td>0.012010</td>\n",
              "      <td>-2.808956</td>\n",
              "      <td>-0.979884</td>\n",
              "      <td>-2.480236</td>\n",
              "      <td>0.220134</td>\n",
              "      <td>-1.080997</td>\n",
              "      <td>-0.693541</td>\n",
              "      <td>0.094829</td>\n",
              "      <td>2.029643</td>\n",
              "      <td>0.152247</td>\n",
              "      <td>-1.094119</td>\n",
              "      <td>0.584320</td>\n",
              "      <td>0.135645</td>\n",
              "      <td>-0.690106</td>\n",
              "      <td>0.049924</td>\n",
              "      <td>0.892750</td>\n",
              "      <td>-1.240909</td>\n",
              "      <td>0.469891</td>\n",
              "      <td>-0.016474</td>\n",
              "      <td>0.788988</td>\n",
              "      <td>0.470190</td>\n",
              "      <td>0.800081</td>\n",
              "      <td>-0.855973</td>\n",
              "      <td>-2.182016</td>\n",
              "      <td>-0.092814</td>\n",
              "      <td>-0.339801</td>\n",
              "      <td>-1.131242</td>\n",
              "      <td>-2.170830</td>\n",
              "      <td>1.973664</td>\n",
              "      <td>0.079429</td>\n",
              "    </tr>\n",
              "    <tr>\n",
              "      <th>3</th>\n",
              "      <td>XOM</td>\n",
              "      <td>0.549840</td>\n",
              "      <td>1.472050</td>\n",
              "      <td>3.649642</td>\n",
              "      <td>0.517277</td>\n",
              "      <td>1.131789</td>\n",
              "      <td>4.100861</td>\n",
              "      <td>-0.433317</td>\n",
              "      <td>-3.080845</td>\n",
              "      <td>-2.163394</td>\n",
              "      <td>-1.008068</td>\n",
              "      <td>-2.526573</td>\n",
              "      <td>-2.262453</td>\n",
              "      <td>-1.840403</td>\n",
              "      <td>-0.610588</td>\n",
              "      <td>-1.403553</td>\n",
              "      <td>-1.775790</td>\n",
              "      <td>-1.862253</td>\n",
              "      <td>-1.899588</td>\n",
              "      <td>-1.620691</td>\n",
              "      <td>-1.274856</td>\n",
              "      <td>-1.258902</td>\n",
              "      <td>-0.468510</td>\n",
              "      <td>0.746549</td>\n",
              "      <td>0.366422</td>\n",
              "      <td>-0.667172</td>\n",
              "      <td>1.052715</td>\n",
              "      <td>-0.972872</td>\n",
              "      <td>3.536357</td>\n",
              "      <td>1.048322</td>\n",
              "      <td>-1.568869</td>\n",
              "      <td>0.217750</td>\n",
              "      <td>1.065026</td>\n",
              "      <td>-1.604079</td>\n",
              "      <td>-2.695091</td>\n",
              "      <td>0.480879</td>\n",
              "      <td>1.741626</td>\n",
              "      <td>2.788656</td>\n",
              "      <td>-1.173283</td>\n",
              "      <td>1.820558</td>\n",
              "      <td>-1.176862</td>\n",
              "      <td>0.303164</td>\n",
              "      <td>1.628694</td>\n",
              "      <td>0.413759</td>\n",
              "      <td>2.874446</td>\n",
              "      <td>0.008407</td>\n",
              "      <td>-1.722086</td>\n",
              "      <td>-1.681245</td>\n",
              "      <td>-1.788172</td>\n",
              "      <td>4.214243</td>\n",
              "      <td>...</td>\n",
              "      <td>-1.074535</td>\n",
              "      <td>-0.498597</td>\n",
              "      <td>0.174571</td>\n",
              "      <td>-1.332097</td>\n",
              "      <td>-1.967473</td>\n",
              "      <td>0.808376</td>\n",
              "      <td>0.397472</td>\n",
              "      <td>-0.770224</td>\n",
              "      <td>-0.247794</td>\n",
              "      <td>-2.771660</td>\n",
              "      <td>0.372336</td>\n",
              "      <td>1.294655</td>\n",
              "      <td>0.889683</td>\n",
              "      <td>3.081977</td>\n",
              "      <td>0.633862</td>\n",
              "      <td>-0.286723</td>\n",
              "      <td>0.883439</td>\n",
              "      <td>-2.192332</td>\n",
              "      <td>-0.745756</td>\n",
              "      <td>-1.289132</td>\n",
              "      <td>2.709081</td>\n",
              "      <td>0.024834</td>\n",
              "      <td>-0.871629</td>\n",
              "      <td>-0.706097</td>\n",
              "      <td>-0.066508</td>\n",
              "      <td>-1.204489</td>\n",
              "      <td>1.841466</td>\n",
              "      <td>1.079788</td>\n",
              "      <td>3.248893</td>\n",
              "      <td>-0.424479</td>\n",
              "      <td>-2.591975</td>\n",
              "      <td>-3.782728</td>\n",
              "      <td>-2.426746</td>\n",
              "      <td>-0.563153</td>\n",
              "      <td>-1.211615</td>\n",
              "      <td>-1.394256</td>\n",
              "      <td>0.269004</td>\n",
              "      <td>-1.367368</td>\n",
              "      <td>1.257225</td>\n",
              "      <td>2.586693</td>\n",
              "      <td>2.686269</td>\n",
              "      <td>-1.543267</td>\n",
              "      <td>1.060993</td>\n",
              "      <td>-1.420402</td>\n",
              "      <td>1.012125</td>\n",
              "      <td>1.677259</td>\n",
              "      <td>-0.453754</td>\n",
              "      <td>-3.375469</td>\n",
              "      <td>-0.425989</td>\n",
              "      <td>-1.091656</td>\n",
              "    </tr>\n",
              "    <tr>\n",
              "      <th>4</th>\n",
              "      <td>AGN</td>\n",
              "      <td>-0.543017</td>\n",
              "      <td>1.381144</td>\n",
              "      <td>1.262614</td>\n",
              "      <td>0.715123</td>\n",
              "      <td>-0.264861</td>\n",
              "      <td>1.290325</td>\n",
              "      <td>1.975873</td>\n",
              "      <td>0.661182</td>\n",
              "      <td>-2.115392</td>\n",
              "      <td>-2.163345</td>\n",
              "      <td>-1.606874</td>\n",
              "      <td>0.194119</td>\n",
              "      <td>0.362644</td>\n",
              "      <td>-1.785662</td>\n",
              "      <td>-0.869627</td>\n",
              "      <td>0.367253</td>\n",
              "      <td>-3.185323</td>\n",
              "      <td>-0.605936</td>\n",
              "      <td>-1.664022</td>\n",
              "      <td>-1.620058</td>\n",
              "      <td>2.757838</td>\n",
              "      <td>-1.809263</td>\n",
              "      <td>1.992178</td>\n",
              "      <td>4.714747</td>\n",
              "      <td>-2.849300</td>\n",
              "      <td>1.754489</td>\n",
              "      <td>-0.446464</td>\n",
              "      <td>0.294545</td>\n",
              "      <td>0.473407</td>\n",
              "      <td>-3.031806</td>\n",
              "      <td>-0.328001</td>\n",
              "      <td>1.835402</td>\n",
              "      <td>-2.627015</td>\n",
              "      <td>-3.411539</td>\n",
              "      <td>2.427627</td>\n",
              "      <td>-1.253685</td>\n",
              "      <td>3.717214</td>\n",
              "      <td>1.236849</td>\n",
              "      <td>0.386002</td>\n",
              "      <td>-1.499237</td>\n",
              "      <td>-1.922083</td>\n",
              "      <td>2.357371</td>\n",
              "      <td>0.468699</td>\n",
              "      <td>1.169712</td>\n",
              "      <td>1.398124</td>\n",
              "      <td>-1.246552</td>\n",
              "      <td>3.218529</td>\n",
              "      <td>-1.020320</td>\n",
              "      <td>0.468594</td>\n",
              "      <td>...</td>\n",
              "      <td>0.092994</td>\n",
              "      <td>-0.264507</td>\n",
              "      <td>1.699630</td>\n",
              "      <td>0.057480</td>\n",
              "      <td>-4.720330</td>\n",
              "      <td>2.299277</td>\n",
              "      <td>2.049339</td>\n",
              "      <td>-3.214644</td>\n",
              "      <td>-1.289949</td>\n",
              "      <td>-3.908444</td>\n",
              "      <td>1.287353</td>\n",
              "      <td>2.237411</td>\n",
              "      <td>0.597709</td>\n",
              "      <td>3.287470</td>\n",
              "      <td>1.769610</td>\n",
              "      <td>-3.772229</td>\n",
              "      <td>-1.660268</td>\n",
              "      <td>-0.088326</td>\n",
              "      <td>-1.402821</td>\n",
              "      <td>2.906605</td>\n",
              "      <td>0.114356</td>\n",
              "      <td>0.266261</td>\n",
              "      <td>0.041356</td>\n",
              "      <td>-1.619242</td>\n",
              "      <td>-0.651772</td>\n",
              "      <td>0.370407</td>\n",
              "      <td>1.012739</td>\n",
              "      <td>-0.467196</td>\n",
              "      <td>0.444236</td>\n",
              "      <td>0.251230</td>\n",
              "      <td>0.414907</td>\n",
              "      <td>1.563577</td>\n",
              "      <td>-1.142417</td>\n",
              "      <td>-1.086293</td>\n",
              "      <td>-2.349078</td>\n",
              "      <td>0.562112</td>\n",
              "      <td>-1.545248</td>\n",
              "      <td>-1.424732</td>\n",
              "      <td>0.721239</td>\n",
              "      <td>1.819792</td>\n",
              "      <td>-2.429657</td>\n",
              "      <td>-1.523415</td>\n",
              "      <td>-0.617741</td>\n",
              "      <td>-3.399148</td>\n",
              "      <td>1.308806</td>\n",
              "      <td>0.451686</td>\n",
              "      <td>2.456748</td>\n",
              "      <td>-0.432998</td>\n",
              "      <td>0.357868</td>\n",
              "      <td>0.880303</td>\n",
              "    </tr>\n",
              "  </tbody>\n",
              "</table>\n",
              "<p>5 rows × 101 columns</p>\n",
              "</div>"
            ],
            "text/plain": [
              "  tickers         0         1         2         3         4         5  \\\n",
              "0    SPGI  2.563143  1.365254  1.112893  0.482195  0.607864  2.266586   \n",
              "1    TSLA -2.006270  1.535045 -1.276422  2.253911 -1.281605 -0.170470   \n",
              "2     SPG -0.186339  0.432199 -2.382167  1.464005 -0.498271 -2.232544   \n",
              "3     XOM  0.549840  1.472050  3.649642  0.517277  1.131789  4.100861   \n",
              "4     AGN -0.543017  1.381144  1.262614  0.715123 -0.264861  1.290325   \n",
              "\n",
              "          6         7         8         9        10        11        12  \\\n",
              "0  1.934914 -2.301006 -0.549139 -0.782721 -2.855089  0.580298 -0.671509   \n",
              "1 -0.618417  0.629589 -1.184561 -0.704891 -1.520849 -1.792868 -0.692392   \n",
              "2  0.705194 -0.440873  0.414185  0.229355 -1.657238  1.956500 -0.936880   \n",
              "3 -0.433317 -3.080845 -2.163394 -1.008068 -2.526573 -2.262453 -1.840403   \n",
              "4  1.975873  0.661182 -2.115392 -2.163345 -1.606874  0.194119  0.362644   \n",
              "\n",
              "         13        14        15        16        17        18        19  \\\n",
              "0 -0.297220  1.388119 -1.260170 -1.707758 -0.566863 -1.021444  0.991938   \n",
              "1  2.243218  0.866788  2.172557  1.277642 -1.638835  0.348648  2.151544   \n",
              "2 -0.249881  1.009666  1.545670  0.356428  1.262355  1.255779  0.118968   \n",
              "3 -0.610588 -1.403553 -1.775790 -1.862253 -1.899588 -1.620691 -1.274856   \n",
              "4 -1.785662 -0.869627  0.367253 -3.185323 -0.605936 -1.664022 -1.620058   \n",
              "\n",
              "         20        21        22        23        24        25        26  \\\n",
              "0  0.083334 -0.493793  1.285335 -0.971600  2.484224 -0.546765  2.034072   \n",
              "1  1.861925  2.886126  2.660352 -1.536158 -0.842763  1.544363  0.778875   \n",
              "2  1.350170  1.588106 -0.774770 -0.184118  0.739551 -0.226639  1.564503   \n",
              "3 -1.258902 -0.468510  0.746549  0.366422 -0.667172  1.052715 -0.972872   \n",
              "4  2.757838 -1.809263  1.992178  4.714747 -2.849300  1.754489 -0.446464   \n",
              "\n",
              "         27        28        29        30        31        32        33  \\\n",
              "0  0.678233 -0.529299  1.031429  0.622428  0.963141  1.564303  0.072136   \n",
              "1  3.608381 -1.977650 -1.690201  1.120518 -3.466712 -1.741359 -3.111041   \n",
              "2  2.049575  2.719796  1.337711 -0.409861  0.258635  0.423452  2.122319   \n",
              "3  3.536357  1.048322 -1.568869  0.217750  1.065026 -1.604079 -2.695091   \n",
              "4  0.294545  0.473407 -3.031806 -0.328001  1.835402 -2.627015 -3.411539   \n",
              "\n",
              "         34        35        36        37        38        39        40  \\\n",
              "0  0.229229 -0.922197 -1.053265 -1.273172 -3.855770  0.483685 -2.811294   \n",
              "1 -1.273530  0.209606 -2.188210  3.417231  2.698741 -3.866396 -1.357196   \n",
              "2 -0.189819 -0.666852  1.398204  1.616932  2.961853  0.214020 -0.612610   \n",
              "3  0.480879  1.741626  2.788656 -1.173283  1.820558 -1.176862  0.303164   \n",
              "4  2.427627 -1.253685  3.717214  1.236849  0.386002 -1.499237 -1.922083   \n",
              "\n",
              "         41        42        43        44        45        46        47  \\\n",
              "0  2.984292  1.563438 -0.794764  0.451676 -2.839190 -0.922183 -0.588937   \n",
              "1 -1.541459  2.314307  0.428093  0.162664  1.642685 -0.839555  0.334394   \n",
              "2  1.164698 -1.542820 -1.773820 -1.163510  0.494149  0.786239  2.534072   \n",
              "3  1.628694  0.413759  2.874446  0.008407 -1.722086 -1.681245 -1.788172   \n",
              "4  2.357371  0.468699  1.169712  1.398124 -1.246552  3.218529 -1.020320   \n",
              "\n",
              "         48  ...        50        51        52        53        54        55  \\\n",
              "0  0.124389  ...  2.212307 -1.373652 -1.151628  1.233082 -0.114739  0.355403   \n",
              "1 -0.236176  ... -0.861562  3.052371 -1.081948 -0.050591 -0.999002  1.286380   \n",
              "2 -1.081004  ...  0.228059 -0.222501 -1.273461 -2.174260  1.661662  1.489016   \n",
              "3  4.214243  ... -1.074535 -0.498597  0.174571 -1.332097 -1.967473  0.808376   \n",
              "4  0.468594  ...  0.092994 -0.264507  1.699630  0.057480 -4.720330  2.299277   \n",
              "\n",
              "         56        57        58        59        60        61        62  \\\n",
              "0 -0.222574 -0.024164  0.186288  0.312657 -2.103112 -0.771567 -0.795334   \n",
              "1  1.511587  2.777957 -0.820142 -1.556509  0.206523  0.437074  1.488777   \n",
              "2  1.663661 -0.615389 -3.350063  1.573433 -1.215588 -0.283187 -0.595150   \n",
              "3  0.397472 -0.770224 -0.247794 -2.771660  0.372336  1.294655  0.889683   \n",
              "4  2.049339 -3.214644 -1.289949 -3.908444  1.287353  2.237411  0.597709   \n",
              "\n",
              "         63        64        65        66        67        68        69  \\\n",
              "0  0.670436  0.906847 -0.556761  0.320276 -0.397227 -0.685960  0.072995   \n",
              "1  0.608497  0.024010 -3.042209 -3.219231 -4.476652 -1.376558 -0.748353   \n",
              "2 -0.775193  0.073516 -0.055402 -0.330044 -0.043083 -0.068008 -0.167921   \n",
              "3  3.081977  0.633862 -0.286723  0.883439 -2.192332 -0.745756 -1.289132   \n",
              "4  3.287470  1.769610 -3.772229 -1.660268 -0.088326 -1.402821  2.906605   \n",
              "\n",
              "         70        71        72        73        74        75        76  \\\n",
              "0 -0.722636  1.684687  1.527135 -2.895229 -0.952046 -1.625690 -0.077400   \n",
              "1  0.574541 -1.057215 -1.328849  2.984276 -1.021179  1.553032 -0.144159   \n",
              "2  0.012010 -2.808956 -0.979884 -2.480236  0.220134 -1.080997 -0.693541   \n",
              "3  2.709081  0.024834 -0.871629 -0.706097 -0.066508 -1.204489  1.841466   \n",
              "4  0.114356  0.266261  0.041356 -1.619242 -0.651772  0.370407  1.012739   \n",
              "\n",
              "         77        78        79        80        81        82        83  \\\n",
              "0  0.343466 -0.827054 -0.101974 -0.986857  0.275838 -0.638694 -3.272548   \n",
              "1  3.502051  1.707364  0.913523 -1.849349 -0.877244 -0.427580  2.878382   \n",
              "2  0.094829  2.029643  0.152247 -1.094119  0.584320  0.135645 -0.690106   \n",
              "3  1.079788  3.248893 -0.424479 -2.591975 -3.782728 -2.426746 -0.563153   \n",
              "4 -0.467196  0.444236  0.251230  0.414907  1.563577 -1.142417 -1.086293   \n",
              "\n",
              "         84        85        86        87        88        89        90  \\\n",
              "0 -2.409031  0.718897 -0.527748 -0.067337 -1.780519 -0.882830 -1.632579   \n",
              "1 -4.701870  2.158471 -1.405676  3.185790  0.158512 -2.890890  0.355220   \n",
              "2  0.049924  0.892750 -1.240909  0.469891 -0.016474  0.788988  0.470190   \n",
              "3 -1.211615 -1.394256  0.269004 -1.367368  1.257225  2.586693  2.686269   \n",
              "4 -2.349078  0.562112 -1.545248 -1.424732  0.721239  1.819792 -2.429657   \n",
              "\n",
              "         91        92        93        94        95        96        97  \\\n",
              "0 -2.657023 -2.129220 -0.115562  1.324161  0.519318 -1.152068 -0.380904   \n",
              "1 -1.208598  2.342035  2.049306  2.368890 -0.401143 -0.147195  0.874461   \n",
              "2  0.800081 -0.855973 -2.182016 -0.092814 -0.339801 -1.131242 -2.170830   \n",
              "3 -1.543267  1.060993 -1.420402  1.012125  1.677259 -0.453754 -3.375469   \n",
              "4 -1.523415 -0.617741 -3.399148  1.308806  0.451686  2.456748 -0.432998   \n",
              "\n",
              "         98        99  \n",
              "0  3.038339  0.526232  \n",
              "1 -0.836338  1.511108  \n",
              "2  1.973664  0.079429  \n",
              "3 -0.425989 -1.091656  \n",
              "4  0.357868  0.880303  \n",
              "\n",
              "[5 rows x 101 columns]"
            ]
          },
          "metadata": {},
          "execution_count": 203
        }
      ]
    },
    {
      "cell_type": "code",
      "metadata": {
        "colab": {
          "base_uri": "https://localhost:8080/"
        },
        "id": "UTFaHfU1NlU6",
        "outputId": "0aff18d4-8067-46b9-e2eb-ee7b657074b3"
      },
      "source": [
        "df_ticker_with_name.isna().value_counts()"
      ],
      "execution_count": 204,
      "outputs": [
        {
          "output_type": "execute_result",
          "data": {
            "text/plain": [
              "tickers  0      1      2      3      4      5      6      7      8      9      10     11     12     13     14     15     16     17     18     19     20     21     22     23     24     25     26     27     28     29     30     31     32     33     34     35     36     37     38     39     40     41     42     43     44     45     46     47     48     49     50     51     52     53     54     55     56     57     58     59     60     61     62     63     64     65     66     67     68     69     70     71     72     73     74     75     76     77     78     79     80     81     82     83     84     85     86     87     88     89     90     91     92     93     94     95     96     97     98     99   \n",
              "False    False  False  False  False  False  False  False  False  False  False  False  False  False  False  False  False  False  False  False  False  False  False  False  False  False  False  False  False  False  False  False  False  False  False  False  False  False  False  False  False  False  False  False  False  False  False  False  False  False  False  False  False  False  False  False  False  False  False  False  False  False  False  False  False  False  False  False  False  False  False  False  False  False  False  False  False  False  False  False  False  False  False  False  False  False  False  False  False  False  False  False  False  False  False  False  False  False  False  False  False    383\n",
              "dtype: int64"
            ]
          },
          "metadata": {},
          "execution_count": 204
        }
      ]
    },
    {
      "cell_type": "code",
      "metadata": {
        "colab": {
          "base_uri": "https://localhost:8080/",
          "height": 224
        },
        "id": "aFKZR-kmeUT2",
        "outputId": "fc98d75f-0d04-48b8-d514-4062ace55383"
      },
      "source": [
        "# Matriz de embeddings\n",
        "X_ticker_with_name=df_ticker_with_name.copy().drop(['tickers'],axis=1)\n",
        "X_ticker_with_name.head()"
      ],
      "execution_count": 205,
      "outputs": [
        {
          "output_type": "execute_result",
          "data": {
            "text/html": [
              "<div>\n",
              "<style scoped>\n",
              "    .dataframe tbody tr th:only-of-type {\n",
              "        vertical-align: middle;\n",
              "    }\n",
              "\n",
              "    .dataframe tbody tr th {\n",
              "        vertical-align: top;\n",
              "    }\n",
              "\n",
              "    .dataframe thead th {\n",
              "        text-align: right;\n",
              "    }\n",
              "</style>\n",
              "<table border=\"1\" class=\"dataframe\">\n",
              "  <thead>\n",
              "    <tr style=\"text-align: right;\">\n",
              "      <th></th>\n",
              "      <th>0</th>\n",
              "      <th>1</th>\n",
              "      <th>2</th>\n",
              "      <th>3</th>\n",
              "      <th>4</th>\n",
              "      <th>5</th>\n",
              "      <th>6</th>\n",
              "      <th>7</th>\n",
              "      <th>8</th>\n",
              "      <th>9</th>\n",
              "      <th>10</th>\n",
              "      <th>11</th>\n",
              "      <th>12</th>\n",
              "      <th>13</th>\n",
              "      <th>14</th>\n",
              "      <th>15</th>\n",
              "      <th>16</th>\n",
              "      <th>17</th>\n",
              "      <th>18</th>\n",
              "      <th>19</th>\n",
              "      <th>20</th>\n",
              "      <th>21</th>\n",
              "      <th>22</th>\n",
              "      <th>23</th>\n",
              "      <th>24</th>\n",
              "      <th>25</th>\n",
              "      <th>26</th>\n",
              "      <th>27</th>\n",
              "      <th>28</th>\n",
              "      <th>29</th>\n",
              "      <th>30</th>\n",
              "      <th>31</th>\n",
              "      <th>32</th>\n",
              "      <th>33</th>\n",
              "      <th>34</th>\n",
              "      <th>35</th>\n",
              "      <th>36</th>\n",
              "      <th>37</th>\n",
              "      <th>38</th>\n",
              "      <th>39</th>\n",
              "      <th>40</th>\n",
              "      <th>41</th>\n",
              "      <th>42</th>\n",
              "      <th>43</th>\n",
              "      <th>44</th>\n",
              "      <th>45</th>\n",
              "      <th>46</th>\n",
              "      <th>47</th>\n",
              "      <th>48</th>\n",
              "      <th>49</th>\n",
              "      <th>50</th>\n",
              "      <th>51</th>\n",
              "      <th>52</th>\n",
              "      <th>53</th>\n",
              "      <th>54</th>\n",
              "      <th>55</th>\n",
              "      <th>56</th>\n",
              "      <th>57</th>\n",
              "      <th>58</th>\n",
              "      <th>59</th>\n",
              "      <th>60</th>\n",
              "      <th>61</th>\n",
              "      <th>62</th>\n",
              "      <th>63</th>\n",
              "      <th>64</th>\n",
              "      <th>65</th>\n",
              "      <th>66</th>\n",
              "      <th>67</th>\n",
              "      <th>68</th>\n",
              "      <th>69</th>\n",
              "      <th>70</th>\n",
              "      <th>71</th>\n",
              "      <th>72</th>\n",
              "      <th>73</th>\n",
              "      <th>74</th>\n",
              "      <th>75</th>\n",
              "      <th>76</th>\n",
              "      <th>77</th>\n",
              "      <th>78</th>\n",
              "      <th>79</th>\n",
              "      <th>80</th>\n",
              "      <th>81</th>\n",
              "      <th>82</th>\n",
              "      <th>83</th>\n",
              "      <th>84</th>\n",
              "      <th>85</th>\n",
              "      <th>86</th>\n",
              "      <th>87</th>\n",
              "      <th>88</th>\n",
              "      <th>89</th>\n",
              "      <th>90</th>\n",
              "      <th>91</th>\n",
              "      <th>92</th>\n",
              "      <th>93</th>\n",
              "      <th>94</th>\n",
              "      <th>95</th>\n",
              "      <th>96</th>\n",
              "      <th>97</th>\n",
              "      <th>98</th>\n",
              "      <th>99</th>\n",
              "    </tr>\n",
              "  </thead>\n",
              "  <tbody>\n",
              "    <tr>\n",
              "      <th>0</th>\n",
              "      <td>2.563143</td>\n",
              "      <td>1.365254</td>\n",
              "      <td>1.112893</td>\n",
              "      <td>0.482195</td>\n",
              "      <td>0.607864</td>\n",
              "      <td>2.266586</td>\n",
              "      <td>1.934914</td>\n",
              "      <td>-2.301006</td>\n",
              "      <td>-0.549139</td>\n",
              "      <td>-0.782721</td>\n",
              "      <td>-2.855089</td>\n",
              "      <td>0.580298</td>\n",
              "      <td>-0.671509</td>\n",
              "      <td>-0.297220</td>\n",
              "      <td>1.388119</td>\n",
              "      <td>-1.260170</td>\n",
              "      <td>-1.707758</td>\n",
              "      <td>-0.566863</td>\n",
              "      <td>-1.021444</td>\n",
              "      <td>0.991938</td>\n",
              "      <td>0.083334</td>\n",
              "      <td>-0.493793</td>\n",
              "      <td>1.285335</td>\n",
              "      <td>-0.971600</td>\n",
              "      <td>2.484224</td>\n",
              "      <td>-0.546765</td>\n",
              "      <td>2.034072</td>\n",
              "      <td>0.678233</td>\n",
              "      <td>-0.529299</td>\n",
              "      <td>1.031429</td>\n",
              "      <td>0.622428</td>\n",
              "      <td>0.963141</td>\n",
              "      <td>1.564303</td>\n",
              "      <td>0.072136</td>\n",
              "      <td>0.229229</td>\n",
              "      <td>-0.922197</td>\n",
              "      <td>-1.053265</td>\n",
              "      <td>-1.273172</td>\n",
              "      <td>-3.855770</td>\n",
              "      <td>0.483685</td>\n",
              "      <td>-2.811294</td>\n",
              "      <td>2.984292</td>\n",
              "      <td>1.563438</td>\n",
              "      <td>-0.794764</td>\n",
              "      <td>0.451676</td>\n",
              "      <td>-2.839190</td>\n",
              "      <td>-0.922183</td>\n",
              "      <td>-0.588937</td>\n",
              "      <td>0.124389</td>\n",
              "      <td>0.587158</td>\n",
              "      <td>2.212307</td>\n",
              "      <td>-1.373652</td>\n",
              "      <td>-1.151628</td>\n",
              "      <td>1.233082</td>\n",
              "      <td>-0.114739</td>\n",
              "      <td>0.355403</td>\n",
              "      <td>-0.222574</td>\n",
              "      <td>-0.024164</td>\n",
              "      <td>0.186288</td>\n",
              "      <td>0.312657</td>\n",
              "      <td>-2.103112</td>\n",
              "      <td>-0.771567</td>\n",
              "      <td>-0.795334</td>\n",
              "      <td>0.670436</td>\n",
              "      <td>0.906847</td>\n",
              "      <td>-0.556761</td>\n",
              "      <td>0.320276</td>\n",
              "      <td>-0.397227</td>\n",
              "      <td>-0.685960</td>\n",
              "      <td>0.072995</td>\n",
              "      <td>-0.722636</td>\n",
              "      <td>1.684687</td>\n",
              "      <td>1.527135</td>\n",
              "      <td>-2.895229</td>\n",
              "      <td>-0.952046</td>\n",
              "      <td>-1.625690</td>\n",
              "      <td>-0.077400</td>\n",
              "      <td>0.343466</td>\n",
              "      <td>-0.827054</td>\n",
              "      <td>-0.101974</td>\n",
              "      <td>-0.986857</td>\n",
              "      <td>0.275838</td>\n",
              "      <td>-0.638694</td>\n",
              "      <td>-3.272548</td>\n",
              "      <td>-2.409031</td>\n",
              "      <td>0.718897</td>\n",
              "      <td>-0.527748</td>\n",
              "      <td>-0.067337</td>\n",
              "      <td>-1.780519</td>\n",
              "      <td>-0.882830</td>\n",
              "      <td>-1.632579</td>\n",
              "      <td>-2.657023</td>\n",
              "      <td>-2.129220</td>\n",
              "      <td>-0.115562</td>\n",
              "      <td>1.324161</td>\n",
              "      <td>0.519318</td>\n",
              "      <td>-1.152068</td>\n",
              "      <td>-0.380904</td>\n",
              "      <td>3.038339</td>\n",
              "      <td>0.526232</td>\n",
              "    </tr>\n",
              "    <tr>\n",
              "      <th>1</th>\n",
              "      <td>-2.006270</td>\n",
              "      <td>1.535045</td>\n",
              "      <td>-1.276422</td>\n",
              "      <td>2.253911</td>\n",
              "      <td>-1.281605</td>\n",
              "      <td>-0.170470</td>\n",
              "      <td>-0.618417</td>\n",
              "      <td>0.629589</td>\n",
              "      <td>-1.184561</td>\n",
              "      <td>-0.704891</td>\n",
              "      <td>-1.520849</td>\n",
              "      <td>-1.792868</td>\n",
              "      <td>-0.692392</td>\n",
              "      <td>2.243218</td>\n",
              "      <td>0.866788</td>\n",
              "      <td>2.172557</td>\n",
              "      <td>1.277642</td>\n",
              "      <td>-1.638835</td>\n",
              "      <td>0.348648</td>\n",
              "      <td>2.151544</td>\n",
              "      <td>1.861925</td>\n",
              "      <td>2.886126</td>\n",
              "      <td>2.660352</td>\n",
              "      <td>-1.536158</td>\n",
              "      <td>-0.842763</td>\n",
              "      <td>1.544363</td>\n",
              "      <td>0.778875</td>\n",
              "      <td>3.608381</td>\n",
              "      <td>-1.977650</td>\n",
              "      <td>-1.690201</td>\n",
              "      <td>1.120518</td>\n",
              "      <td>-3.466712</td>\n",
              "      <td>-1.741359</td>\n",
              "      <td>-3.111041</td>\n",
              "      <td>-1.273530</td>\n",
              "      <td>0.209606</td>\n",
              "      <td>-2.188210</td>\n",
              "      <td>3.417231</td>\n",
              "      <td>2.698741</td>\n",
              "      <td>-3.866396</td>\n",
              "      <td>-1.357196</td>\n",
              "      <td>-1.541459</td>\n",
              "      <td>2.314307</td>\n",
              "      <td>0.428093</td>\n",
              "      <td>0.162664</td>\n",
              "      <td>1.642685</td>\n",
              "      <td>-0.839555</td>\n",
              "      <td>0.334394</td>\n",
              "      <td>-0.236176</td>\n",
              "      <td>-0.483816</td>\n",
              "      <td>-0.861562</td>\n",
              "      <td>3.052371</td>\n",
              "      <td>-1.081948</td>\n",
              "      <td>-0.050591</td>\n",
              "      <td>-0.999002</td>\n",
              "      <td>1.286380</td>\n",
              "      <td>1.511587</td>\n",
              "      <td>2.777957</td>\n",
              "      <td>-0.820142</td>\n",
              "      <td>-1.556509</td>\n",
              "      <td>0.206523</td>\n",
              "      <td>0.437074</td>\n",
              "      <td>1.488777</td>\n",
              "      <td>0.608497</td>\n",
              "      <td>0.024010</td>\n",
              "      <td>-3.042209</td>\n",
              "      <td>-3.219231</td>\n",
              "      <td>-4.476652</td>\n",
              "      <td>-1.376558</td>\n",
              "      <td>-0.748353</td>\n",
              "      <td>0.574541</td>\n",
              "      <td>-1.057215</td>\n",
              "      <td>-1.328849</td>\n",
              "      <td>2.984276</td>\n",
              "      <td>-1.021179</td>\n",
              "      <td>1.553032</td>\n",
              "      <td>-0.144159</td>\n",
              "      <td>3.502051</td>\n",
              "      <td>1.707364</td>\n",
              "      <td>0.913523</td>\n",
              "      <td>-1.849349</td>\n",
              "      <td>-0.877244</td>\n",
              "      <td>-0.427580</td>\n",
              "      <td>2.878382</td>\n",
              "      <td>-4.701870</td>\n",
              "      <td>2.158471</td>\n",
              "      <td>-1.405676</td>\n",
              "      <td>3.185790</td>\n",
              "      <td>0.158512</td>\n",
              "      <td>-2.890890</td>\n",
              "      <td>0.355220</td>\n",
              "      <td>-1.208598</td>\n",
              "      <td>2.342035</td>\n",
              "      <td>2.049306</td>\n",
              "      <td>2.368890</td>\n",
              "      <td>-0.401143</td>\n",
              "      <td>-0.147195</td>\n",
              "      <td>0.874461</td>\n",
              "      <td>-0.836338</td>\n",
              "      <td>1.511108</td>\n",
              "    </tr>\n",
              "    <tr>\n",
              "      <th>2</th>\n",
              "      <td>-0.186339</td>\n",
              "      <td>0.432199</td>\n",
              "      <td>-2.382167</td>\n",
              "      <td>1.464005</td>\n",
              "      <td>-0.498271</td>\n",
              "      <td>-2.232544</td>\n",
              "      <td>0.705194</td>\n",
              "      <td>-0.440873</td>\n",
              "      <td>0.414185</td>\n",
              "      <td>0.229355</td>\n",
              "      <td>-1.657238</td>\n",
              "      <td>1.956500</td>\n",
              "      <td>-0.936880</td>\n",
              "      <td>-0.249881</td>\n",
              "      <td>1.009666</td>\n",
              "      <td>1.545670</td>\n",
              "      <td>0.356428</td>\n",
              "      <td>1.262355</td>\n",
              "      <td>1.255779</td>\n",
              "      <td>0.118968</td>\n",
              "      <td>1.350170</td>\n",
              "      <td>1.588106</td>\n",
              "      <td>-0.774770</td>\n",
              "      <td>-0.184118</td>\n",
              "      <td>0.739551</td>\n",
              "      <td>-0.226639</td>\n",
              "      <td>1.564503</td>\n",
              "      <td>2.049575</td>\n",
              "      <td>2.719796</td>\n",
              "      <td>1.337711</td>\n",
              "      <td>-0.409861</td>\n",
              "      <td>0.258635</td>\n",
              "      <td>0.423452</td>\n",
              "      <td>2.122319</td>\n",
              "      <td>-0.189819</td>\n",
              "      <td>-0.666852</td>\n",
              "      <td>1.398204</td>\n",
              "      <td>1.616932</td>\n",
              "      <td>2.961853</td>\n",
              "      <td>0.214020</td>\n",
              "      <td>-0.612610</td>\n",
              "      <td>1.164698</td>\n",
              "      <td>-1.542820</td>\n",
              "      <td>-1.773820</td>\n",
              "      <td>-1.163510</td>\n",
              "      <td>0.494149</td>\n",
              "      <td>0.786239</td>\n",
              "      <td>2.534072</td>\n",
              "      <td>-1.081004</td>\n",
              "      <td>0.704697</td>\n",
              "      <td>0.228059</td>\n",
              "      <td>-0.222501</td>\n",
              "      <td>-1.273461</td>\n",
              "      <td>-2.174260</td>\n",
              "      <td>1.661662</td>\n",
              "      <td>1.489016</td>\n",
              "      <td>1.663661</td>\n",
              "      <td>-0.615389</td>\n",
              "      <td>-3.350063</td>\n",
              "      <td>1.573433</td>\n",
              "      <td>-1.215588</td>\n",
              "      <td>-0.283187</td>\n",
              "      <td>-0.595150</td>\n",
              "      <td>-0.775193</td>\n",
              "      <td>0.073516</td>\n",
              "      <td>-0.055402</td>\n",
              "      <td>-0.330044</td>\n",
              "      <td>-0.043083</td>\n",
              "      <td>-0.068008</td>\n",
              "      <td>-0.167921</td>\n",
              "      <td>0.012010</td>\n",
              "      <td>-2.808956</td>\n",
              "      <td>-0.979884</td>\n",
              "      <td>-2.480236</td>\n",
              "      <td>0.220134</td>\n",
              "      <td>-1.080997</td>\n",
              "      <td>-0.693541</td>\n",
              "      <td>0.094829</td>\n",
              "      <td>2.029643</td>\n",
              "      <td>0.152247</td>\n",
              "      <td>-1.094119</td>\n",
              "      <td>0.584320</td>\n",
              "      <td>0.135645</td>\n",
              "      <td>-0.690106</td>\n",
              "      <td>0.049924</td>\n",
              "      <td>0.892750</td>\n",
              "      <td>-1.240909</td>\n",
              "      <td>0.469891</td>\n",
              "      <td>-0.016474</td>\n",
              "      <td>0.788988</td>\n",
              "      <td>0.470190</td>\n",
              "      <td>0.800081</td>\n",
              "      <td>-0.855973</td>\n",
              "      <td>-2.182016</td>\n",
              "      <td>-0.092814</td>\n",
              "      <td>-0.339801</td>\n",
              "      <td>-1.131242</td>\n",
              "      <td>-2.170830</td>\n",
              "      <td>1.973664</td>\n",
              "      <td>0.079429</td>\n",
              "    </tr>\n",
              "    <tr>\n",
              "      <th>3</th>\n",
              "      <td>0.549840</td>\n",
              "      <td>1.472050</td>\n",
              "      <td>3.649642</td>\n",
              "      <td>0.517277</td>\n",
              "      <td>1.131789</td>\n",
              "      <td>4.100861</td>\n",
              "      <td>-0.433317</td>\n",
              "      <td>-3.080845</td>\n",
              "      <td>-2.163394</td>\n",
              "      <td>-1.008068</td>\n",
              "      <td>-2.526573</td>\n",
              "      <td>-2.262453</td>\n",
              "      <td>-1.840403</td>\n",
              "      <td>-0.610588</td>\n",
              "      <td>-1.403553</td>\n",
              "      <td>-1.775790</td>\n",
              "      <td>-1.862253</td>\n",
              "      <td>-1.899588</td>\n",
              "      <td>-1.620691</td>\n",
              "      <td>-1.274856</td>\n",
              "      <td>-1.258902</td>\n",
              "      <td>-0.468510</td>\n",
              "      <td>0.746549</td>\n",
              "      <td>0.366422</td>\n",
              "      <td>-0.667172</td>\n",
              "      <td>1.052715</td>\n",
              "      <td>-0.972872</td>\n",
              "      <td>3.536357</td>\n",
              "      <td>1.048322</td>\n",
              "      <td>-1.568869</td>\n",
              "      <td>0.217750</td>\n",
              "      <td>1.065026</td>\n",
              "      <td>-1.604079</td>\n",
              "      <td>-2.695091</td>\n",
              "      <td>0.480879</td>\n",
              "      <td>1.741626</td>\n",
              "      <td>2.788656</td>\n",
              "      <td>-1.173283</td>\n",
              "      <td>1.820558</td>\n",
              "      <td>-1.176862</td>\n",
              "      <td>0.303164</td>\n",
              "      <td>1.628694</td>\n",
              "      <td>0.413759</td>\n",
              "      <td>2.874446</td>\n",
              "      <td>0.008407</td>\n",
              "      <td>-1.722086</td>\n",
              "      <td>-1.681245</td>\n",
              "      <td>-1.788172</td>\n",
              "      <td>4.214243</td>\n",
              "      <td>0.195302</td>\n",
              "      <td>-1.074535</td>\n",
              "      <td>-0.498597</td>\n",
              "      <td>0.174571</td>\n",
              "      <td>-1.332097</td>\n",
              "      <td>-1.967473</td>\n",
              "      <td>0.808376</td>\n",
              "      <td>0.397472</td>\n",
              "      <td>-0.770224</td>\n",
              "      <td>-0.247794</td>\n",
              "      <td>-2.771660</td>\n",
              "      <td>0.372336</td>\n",
              "      <td>1.294655</td>\n",
              "      <td>0.889683</td>\n",
              "      <td>3.081977</td>\n",
              "      <td>0.633862</td>\n",
              "      <td>-0.286723</td>\n",
              "      <td>0.883439</td>\n",
              "      <td>-2.192332</td>\n",
              "      <td>-0.745756</td>\n",
              "      <td>-1.289132</td>\n",
              "      <td>2.709081</td>\n",
              "      <td>0.024834</td>\n",
              "      <td>-0.871629</td>\n",
              "      <td>-0.706097</td>\n",
              "      <td>-0.066508</td>\n",
              "      <td>-1.204489</td>\n",
              "      <td>1.841466</td>\n",
              "      <td>1.079788</td>\n",
              "      <td>3.248893</td>\n",
              "      <td>-0.424479</td>\n",
              "      <td>-2.591975</td>\n",
              "      <td>-3.782728</td>\n",
              "      <td>-2.426746</td>\n",
              "      <td>-0.563153</td>\n",
              "      <td>-1.211615</td>\n",
              "      <td>-1.394256</td>\n",
              "      <td>0.269004</td>\n",
              "      <td>-1.367368</td>\n",
              "      <td>1.257225</td>\n",
              "      <td>2.586693</td>\n",
              "      <td>2.686269</td>\n",
              "      <td>-1.543267</td>\n",
              "      <td>1.060993</td>\n",
              "      <td>-1.420402</td>\n",
              "      <td>1.012125</td>\n",
              "      <td>1.677259</td>\n",
              "      <td>-0.453754</td>\n",
              "      <td>-3.375469</td>\n",
              "      <td>-0.425989</td>\n",
              "      <td>-1.091656</td>\n",
              "    </tr>\n",
              "    <tr>\n",
              "      <th>4</th>\n",
              "      <td>-0.543017</td>\n",
              "      <td>1.381144</td>\n",
              "      <td>1.262614</td>\n",
              "      <td>0.715123</td>\n",
              "      <td>-0.264861</td>\n",
              "      <td>1.290325</td>\n",
              "      <td>1.975873</td>\n",
              "      <td>0.661182</td>\n",
              "      <td>-2.115392</td>\n",
              "      <td>-2.163345</td>\n",
              "      <td>-1.606874</td>\n",
              "      <td>0.194119</td>\n",
              "      <td>0.362644</td>\n",
              "      <td>-1.785662</td>\n",
              "      <td>-0.869627</td>\n",
              "      <td>0.367253</td>\n",
              "      <td>-3.185323</td>\n",
              "      <td>-0.605936</td>\n",
              "      <td>-1.664022</td>\n",
              "      <td>-1.620058</td>\n",
              "      <td>2.757838</td>\n",
              "      <td>-1.809263</td>\n",
              "      <td>1.992178</td>\n",
              "      <td>4.714747</td>\n",
              "      <td>-2.849300</td>\n",
              "      <td>1.754489</td>\n",
              "      <td>-0.446464</td>\n",
              "      <td>0.294545</td>\n",
              "      <td>0.473407</td>\n",
              "      <td>-3.031806</td>\n",
              "      <td>-0.328001</td>\n",
              "      <td>1.835402</td>\n",
              "      <td>-2.627015</td>\n",
              "      <td>-3.411539</td>\n",
              "      <td>2.427627</td>\n",
              "      <td>-1.253685</td>\n",
              "      <td>3.717214</td>\n",
              "      <td>1.236849</td>\n",
              "      <td>0.386002</td>\n",
              "      <td>-1.499237</td>\n",
              "      <td>-1.922083</td>\n",
              "      <td>2.357371</td>\n",
              "      <td>0.468699</td>\n",
              "      <td>1.169712</td>\n",
              "      <td>1.398124</td>\n",
              "      <td>-1.246552</td>\n",
              "      <td>3.218529</td>\n",
              "      <td>-1.020320</td>\n",
              "      <td>0.468594</td>\n",
              "      <td>2.234919</td>\n",
              "      <td>0.092994</td>\n",
              "      <td>-0.264507</td>\n",
              "      <td>1.699630</td>\n",
              "      <td>0.057480</td>\n",
              "      <td>-4.720330</td>\n",
              "      <td>2.299277</td>\n",
              "      <td>2.049339</td>\n",
              "      <td>-3.214644</td>\n",
              "      <td>-1.289949</td>\n",
              "      <td>-3.908444</td>\n",
              "      <td>1.287353</td>\n",
              "      <td>2.237411</td>\n",
              "      <td>0.597709</td>\n",
              "      <td>3.287470</td>\n",
              "      <td>1.769610</td>\n",
              "      <td>-3.772229</td>\n",
              "      <td>-1.660268</td>\n",
              "      <td>-0.088326</td>\n",
              "      <td>-1.402821</td>\n",
              "      <td>2.906605</td>\n",
              "      <td>0.114356</td>\n",
              "      <td>0.266261</td>\n",
              "      <td>0.041356</td>\n",
              "      <td>-1.619242</td>\n",
              "      <td>-0.651772</td>\n",
              "      <td>0.370407</td>\n",
              "      <td>1.012739</td>\n",
              "      <td>-0.467196</td>\n",
              "      <td>0.444236</td>\n",
              "      <td>0.251230</td>\n",
              "      <td>0.414907</td>\n",
              "      <td>1.563577</td>\n",
              "      <td>-1.142417</td>\n",
              "      <td>-1.086293</td>\n",
              "      <td>-2.349078</td>\n",
              "      <td>0.562112</td>\n",
              "      <td>-1.545248</td>\n",
              "      <td>-1.424732</td>\n",
              "      <td>0.721239</td>\n",
              "      <td>1.819792</td>\n",
              "      <td>-2.429657</td>\n",
              "      <td>-1.523415</td>\n",
              "      <td>-0.617741</td>\n",
              "      <td>-3.399148</td>\n",
              "      <td>1.308806</td>\n",
              "      <td>0.451686</td>\n",
              "      <td>2.456748</td>\n",
              "      <td>-0.432998</td>\n",
              "      <td>0.357868</td>\n",
              "      <td>0.880303</td>\n",
              "    </tr>\n",
              "  </tbody>\n",
              "</table>\n",
              "</div>"
            ],
            "text/plain": [
              "         0         1         2         3         4         5         6   \\\n",
              "0  2.563143  1.365254  1.112893  0.482195  0.607864  2.266586  1.934914   \n",
              "1 -2.006270  1.535045 -1.276422  2.253911 -1.281605 -0.170470 -0.618417   \n",
              "2 -0.186339  0.432199 -2.382167  1.464005 -0.498271 -2.232544  0.705194   \n",
              "3  0.549840  1.472050  3.649642  0.517277  1.131789  4.100861 -0.433317   \n",
              "4 -0.543017  1.381144  1.262614  0.715123 -0.264861  1.290325  1.975873   \n",
              "\n",
              "         7         8         9         10        11        12        13  \\\n",
              "0 -2.301006 -0.549139 -0.782721 -2.855089  0.580298 -0.671509 -0.297220   \n",
              "1  0.629589 -1.184561 -0.704891 -1.520849 -1.792868 -0.692392  2.243218   \n",
              "2 -0.440873  0.414185  0.229355 -1.657238  1.956500 -0.936880 -0.249881   \n",
              "3 -3.080845 -2.163394 -1.008068 -2.526573 -2.262453 -1.840403 -0.610588   \n",
              "4  0.661182 -2.115392 -2.163345 -1.606874  0.194119  0.362644 -1.785662   \n",
              "\n",
              "         14        15        16        17        18        19        20  \\\n",
              "0  1.388119 -1.260170 -1.707758 -0.566863 -1.021444  0.991938  0.083334   \n",
              "1  0.866788  2.172557  1.277642 -1.638835  0.348648  2.151544  1.861925   \n",
              "2  1.009666  1.545670  0.356428  1.262355  1.255779  0.118968  1.350170   \n",
              "3 -1.403553 -1.775790 -1.862253 -1.899588 -1.620691 -1.274856 -1.258902   \n",
              "4 -0.869627  0.367253 -3.185323 -0.605936 -1.664022 -1.620058  2.757838   \n",
              "\n",
              "         21        22        23        24        25        26        27  \\\n",
              "0 -0.493793  1.285335 -0.971600  2.484224 -0.546765  2.034072  0.678233   \n",
              "1  2.886126  2.660352 -1.536158 -0.842763  1.544363  0.778875  3.608381   \n",
              "2  1.588106 -0.774770 -0.184118  0.739551 -0.226639  1.564503  2.049575   \n",
              "3 -0.468510  0.746549  0.366422 -0.667172  1.052715 -0.972872  3.536357   \n",
              "4 -1.809263  1.992178  4.714747 -2.849300  1.754489 -0.446464  0.294545   \n",
              "\n",
              "         28        29        30        31        32        33        34  \\\n",
              "0 -0.529299  1.031429  0.622428  0.963141  1.564303  0.072136  0.229229   \n",
              "1 -1.977650 -1.690201  1.120518 -3.466712 -1.741359 -3.111041 -1.273530   \n",
              "2  2.719796  1.337711 -0.409861  0.258635  0.423452  2.122319 -0.189819   \n",
              "3  1.048322 -1.568869  0.217750  1.065026 -1.604079 -2.695091  0.480879   \n",
              "4  0.473407 -3.031806 -0.328001  1.835402 -2.627015 -3.411539  2.427627   \n",
              "\n",
              "         35        36        37        38        39        40        41  \\\n",
              "0 -0.922197 -1.053265 -1.273172 -3.855770  0.483685 -2.811294  2.984292   \n",
              "1  0.209606 -2.188210  3.417231  2.698741 -3.866396 -1.357196 -1.541459   \n",
              "2 -0.666852  1.398204  1.616932  2.961853  0.214020 -0.612610  1.164698   \n",
              "3  1.741626  2.788656 -1.173283  1.820558 -1.176862  0.303164  1.628694   \n",
              "4 -1.253685  3.717214  1.236849  0.386002 -1.499237 -1.922083  2.357371   \n",
              "\n",
              "         42        43        44        45        46        47        48  \\\n",
              "0  1.563438 -0.794764  0.451676 -2.839190 -0.922183 -0.588937  0.124389   \n",
              "1  2.314307  0.428093  0.162664  1.642685 -0.839555  0.334394 -0.236176   \n",
              "2 -1.542820 -1.773820 -1.163510  0.494149  0.786239  2.534072 -1.081004   \n",
              "3  0.413759  2.874446  0.008407 -1.722086 -1.681245 -1.788172  4.214243   \n",
              "4  0.468699  1.169712  1.398124 -1.246552  3.218529 -1.020320  0.468594   \n",
              "\n",
              "         49        50        51        52        53        54        55  \\\n",
              "0  0.587158  2.212307 -1.373652 -1.151628  1.233082 -0.114739  0.355403   \n",
              "1 -0.483816 -0.861562  3.052371 -1.081948 -0.050591 -0.999002  1.286380   \n",
              "2  0.704697  0.228059 -0.222501 -1.273461 -2.174260  1.661662  1.489016   \n",
              "3  0.195302 -1.074535 -0.498597  0.174571 -1.332097 -1.967473  0.808376   \n",
              "4  2.234919  0.092994 -0.264507  1.699630  0.057480 -4.720330  2.299277   \n",
              "\n",
              "         56        57        58        59        60        61        62  \\\n",
              "0 -0.222574 -0.024164  0.186288  0.312657 -2.103112 -0.771567 -0.795334   \n",
              "1  1.511587  2.777957 -0.820142 -1.556509  0.206523  0.437074  1.488777   \n",
              "2  1.663661 -0.615389 -3.350063  1.573433 -1.215588 -0.283187 -0.595150   \n",
              "3  0.397472 -0.770224 -0.247794 -2.771660  0.372336  1.294655  0.889683   \n",
              "4  2.049339 -3.214644 -1.289949 -3.908444  1.287353  2.237411  0.597709   \n",
              "\n",
              "         63        64        65        66        67        68        69  \\\n",
              "0  0.670436  0.906847 -0.556761  0.320276 -0.397227 -0.685960  0.072995   \n",
              "1  0.608497  0.024010 -3.042209 -3.219231 -4.476652 -1.376558 -0.748353   \n",
              "2 -0.775193  0.073516 -0.055402 -0.330044 -0.043083 -0.068008 -0.167921   \n",
              "3  3.081977  0.633862 -0.286723  0.883439 -2.192332 -0.745756 -1.289132   \n",
              "4  3.287470  1.769610 -3.772229 -1.660268 -0.088326 -1.402821  2.906605   \n",
              "\n",
              "         70        71        72        73        74        75        76  \\\n",
              "0 -0.722636  1.684687  1.527135 -2.895229 -0.952046 -1.625690 -0.077400   \n",
              "1  0.574541 -1.057215 -1.328849  2.984276 -1.021179  1.553032 -0.144159   \n",
              "2  0.012010 -2.808956 -0.979884 -2.480236  0.220134 -1.080997 -0.693541   \n",
              "3  2.709081  0.024834 -0.871629 -0.706097 -0.066508 -1.204489  1.841466   \n",
              "4  0.114356  0.266261  0.041356 -1.619242 -0.651772  0.370407  1.012739   \n",
              "\n",
              "         77        78        79        80        81        82        83  \\\n",
              "0  0.343466 -0.827054 -0.101974 -0.986857  0.275838 -0.638694 -3.272548   \n",
              "1  3.502051  1.707364  0.913523 -1.849349 -0.877244 -0.427580  2.878382   \n",
              "2  0.094829  2.029643  0.152247 -1.094119  0.584320  0.135645 -0.690106   \n",
              "3  1.079788  3.248893 -0.424479 -2.591975 -3.782728 -2.426746 -0.563153   \n",
              "4 -0.467196  0.444236  0.251230  0.414907  1.563577 -1.142417 -1.086293   \n",
              "\n",
              "         84        85        86        87        88        89        90  \\\n",
              "0 -2.409031  0.718897 -0.527748 -0.067337 -1.780519 -0.882830 -1.632579   \n",
              "1 -4.701870  2.158471 -1.405676  3.185790  0.158512 -2.890890  0.355220   \n",
              "2  0.049924  0.892750 -1.240909  0.469891 -0.016474  0.788988  0.470190   \n",
              "3 -1.211615 -1.394256  0.269004 -1.367368  1.257225  2.586693  2.686269   \n",
              "4 -2.349078  0.562112 -1.545248 -1.424732  0.721239  1.819792 -2.429657   \n",
              "\n",
              "         91        92        93        94        95        96        97  \\\n",
              "0 -2.657023 -2.129220 -0.115562  1.324161  0.519318 -1.152068 -0.380904   \n",
              "1 -1.208598  2.342035  2.049306  2.368890 -0.401143 -0.147195  0.874461   \n",
              "2  0.800081 -0.855973 -2.182016 -0.092814 -0.339801 -1.131242 -2.170830   \n",
              "3 -1.543267  1.060993 -1.420402  1.012125  1.677259 -0.453754 -3.375469   \n",
              "4 -1.523415 -0.617741 -3.399148  1.308806  0.451686  2.456748 -0.432998   \n",
              "\n",
              "         98        99  \n",
              "0  3.038339  0.526232  \n",
              "1 -0.836338  1.511108  \n",
              "2  1.973664  0.079429  \n",
              "3 -0.425989 -1.091656  \n",
              "4  0.357868  0.880303  "
            ]
          },
          "metadata": {},
          "execution_count": 205
        }
      ]
    },
    {
      "cell_type": "code",
      "metadata": {
        "colab": {
          "base_uri": "https://localhost:8080/"
        },
        "id": "KvCWW0spcv31",
        "outputId": "6558721c-fa43-40b2-9ad1-199c0fe6afbf"
      },
      "source": [
        "# Escalado\n",
        "scaler_2 = preprocessing.StandardScaler().fit(X_ticker_with_name)\n",
        "X_scaled_name = scaler_2.transform(X_ticker_with_name)\n",
        "X_scaled_name.shape"
      ],
      "execution_count": 206,
      "outputs": [
        {
          "output_type": "execute_result",
          "data": {
            "text/plain": [
              "(383, 100)"
            ]
          },
          "metadata": {},
          "execution_count": 206
        }
      ]
    },
    {
      "cell_type": "code",
      "metadata": {
        "colab": {
          "base_uri": "https://localhost:8080/"
        },
        "id": "8ljG1sz5ekWh",
        "outputId": "b7fdee42-421d-4d77-94ea-2a50be3d6037"
      },
      "source": [
        "time_start = time.time()\n",
        "\n",
        "tsne = manifold.TSNE(n_components=2, verbose=1,perplexity=30, n_iter=5000)\n",
        "X_tsne_with_names = tsne.fit_transform(X_ticker_with_name)\n",
        "\n",
        "print ('t-SNE done! Time elapsed: {} seconds'.format(time.time()-time_start))"
      ],
      "execution_count": 207,
      "outputs": [
        {
          "output_type": "stream",
          "name": "stdout",
          "text": [
            "[t-SNE] Computing 91 nearest neighbors...\n",
            "[t-SNE] Indexed 383 samples in 0.003s...\n",
            "[t-SNE] Computed neighbors for 383 samples in 0.035s...\n",
            "[t-SNE] Computed conditional probabilities for sample 383 / 383\n",
            "[t-SNE] Mean sigma: 4.148042\n",
            "[t-SNE] KL divergence after 250 iterations with early exaggeration: 89.996201\n",
            "[t-SNE] KL divergence after 2550 iterations: 1.067645\n",
            "t-SNE done! Time elapsed: 5.542469263076782 seconds\n"
          ]
        }
      ]
    },
    {
      "cell_type": "code",
      "metadata": {
        "id": "A6D-r3LPe0Xi"
      },
      "source": [
        "data=[]\n",
        "bool_crack=df_ticker_with_name[\"tickers\"].isin(ticker_top) #top tickers\n",
        "\n",
        "#graficamos los datos en el espacio transformado: las dos componentes tsne\n",
        "\n",
        "graf1 = go.Scatter(x=X_tsne_with_names[:,0], y=X_tsne_with_names[:,1],name='Tickers',\n",
        "                           mode='markers',\n",
        "                        text=df_ticker_with_name.loc[:,'tickers'], #'Height', 'Weight', 'Club', 'Age', 'Name','Position'\n",
        "                           marker=dict(\n",
        "                                size=5)\n",
        "                           )\n",
        "\n",
        "crack =go.Scatter(x=X_tsne_with_names[bool_crack,0], y=X_tsne_with_names[bool_crack,1],name='Top Tickers',\n",
        "                      text=df_ticker_with_name.loc[bool_crack,'tickers'],\n",
        "                      textfont=dict(family='sans serif',size=12,color='black'),\n",
        "                      opacity=0.9,mode='text')\n",
        "\n",
        "data=[graf1,crack]\n",
        "\n",
        "\n",
        "layout = go.Layout(title=\"Visualización de la base en el espacio tsne\",titlefont=dict(size=20),\n",
        "                xaxis=dict(title='componente 1'),\n",
        "                yaxis=dict(title='componente 2'),\n",
        "                autosize=False, width=1000,height=700)\n",
        "\n",
        "fig_2 = go.Figure(data=data, layout=layout)\n",
        "\n",
        "#iplot(fig)\n",
        "#plot(fig)"
      ],
      "execution_count": 208,
      "outputs": []
    },
    {
      "cell_type": "code",
      "metadata": {
        "colab": {
          "base_uri": "https://localhost:8080/",
          "height": 735
        },
        "id": "snBRTxdjW7YS",
        "outputId": "080a56ba-1c5c-42a2-883b-b3515e0b7710"
      },
      "source": [
        "\n",
        "iplot(fig_2)\n",
        "plot(fig_2)"
      ],
      "execution_count": 216,
      "outputs": [
        {
          "output_type": "display_data",
          "data": {
            "text/html": [
              "<div>\n",
              "        \n",
              "        \n",
              "            <div id=\"e8cf18a8-24fb-4569-98b3-a42fa464ae96\" class=\"plotly-graph-div\" style=\"height:700px; width:1000px;\"></div>\n",
              "            <script type=\"text/javascript\">\n",
              "                require([\"plotly\"], function(Plotly) {\n",
              "                    window.PLOTLYENV=window.PLOTLYENV || {};\n",
              "                    \n",
              "                if (document.getElementById(\"e8cf18a8-24fb-4569-98b3-a42fa464ae96\")) {\n",
              "                    Plotly.newPlot(\n",
              "                        'e8cf18a8-24fb-4569-98b3-a42fa464ae96',\n",
              "                        [{\"marker\": {\"size\": 5}, \"mode\": \"markers\", \"name\": \"Tickers\", \"text\": [\"SPGI\", \"TSLA\", \"SPG\", \"XOM\", \"AGN\", \"PXD\", \"APD\", \"AA\", \"NTRS\", \"PNW\", \"LB\", \"DDS\", \"NEM\", \"AVY\", \"WPM\", \"MTB\", \"MAS\", \"DXCM\", \"CNS\", \"ETR\", \"UBSG\", \"INTC\", \"BIDU\", \"BIIB\", \"XLNX\", \"NTAP\", \"EL\", \"AMP\", \"SCHW\", \"HOG\", \"WYND\", \"IP\", \"KO\", \"CSIQ\", \"ORCL\", \"ALL\", \"STLD\", \"PBR\", \"COF\", \"UTX\", \"CBRL\", \"QCOM\", \"CNMD\", \"EXPD\", \"MAR\", \"AIZ\", \"A\", \"CHEF\", \"AMD\", \"TROW\", \"NUE\", \"GT\", \"CASY\", \"CROX\", \"MSI\", \"CHTR\", \"IBM\", \"PFE\", \"BBY\", \"CDNS\", \"DHI\", \"LOW\", \"VIAC\", \"CRI\", \"CRUS\", \"STT\", \"TGT\", \"WMT\", \"CINF\", \"DXPE\", \"AAPL\", \"ANTM\", \"TAP\", \"CRAI\", \"MO\", \"MRK\", \"NVDA\", \"SSRM\", \"AKAM\", \"CBRE\", \"DTE\", \"TFC\", \"MET\", \"UNH\", \"OKE\", \"JPM\", \"ALGT\", \"MU\", \"PEP\", \"CSCO\", \"AMT\", \"ATVI\", \"RS\", \"DUK\", \"YNDX\", \"MUR\", \"FSLR\", \"CAJ\", \"DISCA\", \"MAT\", \"FLIR\", \"VRTX\", \"RTN\", \"ROP\", \"FISV\", \"SPAR\", \"J\", \"RGLD\", \"DNKN\", \"KLAC\", \"GIS\", \"RDY\", \"NS\", \"MCHP\", \"CME\", \"ROST\", \"ABMD\", \"IPGP\", \"NYT\", \"FLR\", \"EOG\", \"ADM\", \"STX\", \"MGA\", \"BJRI\", \"MCD\", \"PG\", \"RHI\", \"COP\", \"NRG\", \"CVS\", \"GL\", \"GOOGL\", \"KHC\", \"WDC\", \"DD\", \"K\", \"BDX\", \"SHW\", \"NEE\", \"PPG\", \"SNE\", \"HAIN\", \"GS\", \"CI\", \"JEF\", \"CIEN\", \"DELL\", \"MMM\", \"ANF\", \"ITRI\", \"CACC\", \"PRU\", \"BK\", \"TPR\", \"CVX\", \"VAR\", \"NOV\", \"CEF\", \"UPS\", \"UAA\", \"KSS\", \"PCAR\", \"VZ\", \"LRCX\", \"RCI\", \"AFL\", \"AON\", \"AZO\", \"ADI\", \"NWSA\", \"BLK\", \"CTAS\", \"NSC\", \"MDT\", \"LUV\", \"LEN\", \"AIG\", \"LBTYA\", \"GD\", \"UBER\", \"AMX\", \"HSIC\", \"MRVL\", \"SJM\", \"AVAV\", \"RL\", \"AVB\", \"CHN\", \"ATI\", \"BXP\", \"HAL\", \"JNJ\", \"DRI\", \"CLX\", \"KBH\", \"TTWO\", \"ARCH\", \"WBA\", \"CENT\", \"HMC\", \"CMCSA\", \"PAYX\", \"ACN\", \"MOS\", \"DISH\", \"RYAAY\", \"PLD\", \"LMT\", \"VLO\", \"TRV\", \"SBUX\", \"BAC\", \"DOV\", \"FLS\", \"TMO\", \"NBL\", \"STZ\", \"ADP\", \"INFY\", \"APA\", \"WMB\", \"AEIS\", \"LHX\", \"SRPT\", \"PKI\", \"CPB\", \"LH\", \"LNC\", \"BBBY\", \"PGR\", \"WU\", \"XRX\", \"ETFC\", \"ABC\", \"CB\", \"ALXN\", \"BMRN\", \"NTES\", \"DIS\", \"PCG\", \"WHR\", \"FMC\", \"HD\", \"COST\", \"NOC\", \"LAMR\", \"ICE\", \"EXPE\", \"HPQ\", \"TM\", \"AIMC\", \"GRMN\", \"HON\", \"ADSK\", \"TIF\", \"EBAY\", \"TXN\", \"SRE\", \"PH\", \"JWN\", \"ATGE\", \"MYL\", \"DAL\", \"TSN\", \"FTI\", \"THC\", \"OSK\", \"ANIK\", \"CRM\", \"GPS\", \"AMGN\", \"MCK\", \"ARGO\", \"OXY\", \"HUM\", \"AXP\", \"MPC\", \"ENGIE\", \"BMY\", \"ASML\", \"DLTR\", \"MS\", \"VMC\", \"MCO\", \"GPC\", \"BKR\", \"HRL\", \"CAT\", \"WFC\", \"BRKB\", \"EA\", \"CATM\", \"CMI\", \"CMG\", \"FDX\", \"GWW\", \"KMX\", \"L\", \"TEX\", \"XEL\", \"KMB\", \"LAZ\", \"NXPI\", \"INTU\", \"BHC\", \"FII\", \"CTL\", \"GILD\", \"CAG\", \"AMAT\", \"SO\", \"ORLY\", \"C\", \"ETN\", \"ABT\", \"KR\", \"VMW\", \"CF\", \"EFX\", \"ALGN\", \"AVGO\", \"MSFT\", \"CORT\", \"CHKP\", \"GE\", \"EQIX\", \"TTM\", \"DHR\", \"URBN\", \"GOLD\", \"UNP\", \"NLOK\", \"ILMN\", \"YUM\", \"POLYP\", \"SCCO\", \"AMZN\", \"MHO\", \"ALNY\", \"DVN\", \"HES\", \"PNC\", \"FCX\", \"EW\", \"TEVA\", \"DE\", \"IPG\", \"ADBE\", \"CSII\", \"ISRG\", \"BX\", \"V\", \"MA\", \"HRB\", \"AEM\", \"MKC\", \"BA\", \"PAAS\", \"AAXN\", \"CSX\", \"UAL\", \"WYNN\", \"NFLX\", \"PM\", \"CMTL\", \"HSY\", \"GM\", \"SLB\", \"NDAQ\", \"SYY\", \"LLY\", \"CMA\", \"NKE\", \"VALE\", \"BAX\", \"BKNG\", \"BIG\", \"AMED\", \"COLM\", \"JBLU\", \"COG\", \"HAS\"], \"type\": \"scatter\", \"x\": [7.935588836669922, 7.428297996520996, 6.248086452484131, -10.690187454223633, 13.377190589904785, -9.3513765335083, 21.345792770385742, -9.079924583435059, 8.244391441345215, 6.800140857696533, -3.5168333053588867, -1.345789909362793, 11.883092880249023, -2.5247879028320312, 12.877202033996582, 0.5116599202156067, -3.06080961227417, 7.860625267028809, 2.2570011615753174, -3.7265124320983887, 1.098671317100525, 11.768572807312012, -18.35630989074707, 0.45386940240859985, 9.965271949768066, 8.836227416992188, -1.7268788814544678, 4.389482498168945, 2.943188190460205, -0.35730278491973877, 2.4096405506134033, 10.028531074523926, -10.569101333618164, 18.986557006835938, 19.341129302978516, -0.018128929659724236, -11.314216613769531, -19.159934997558594, 6.084827423095703, -16.802227020263672, 14.359923362731934, 9.740934371948242, 6.973057270050049, 4.089914798736572, 8.86855411529541, -1.2979495525360107, 18.497472763061523, -2.118368625640869, 14.685361862182617, 7.453322887420654, -10.407451629638672, 1.0292168855667114, -4.491915225982666, 3.481992721557617, 18.243871688842773, 16.225229263305664, 5.755160331726074, -6.391753673553467, -1.8540005683898926, 9.46182632446289, 10.036216735839844, 3.133573293685913, 1.7093074321746826, -1.543868899345398, 11.275583267211914, -1.1136728525161743, -7.175264835357666, -6.081610679626465, 4.836716175079346, 4.867086887359619, 7.582400321960449, 1.6480920314788818, -5.293495178222656, 9.835164070129395, -4.015884876251221, -6.5121002197265625, 11.981142044067383, 11.578471183776855, 18.90397071838379, 3.90455961227417, -13.809049606323242, 5.452746868133545, -1.326937198638916, 2.685062885284424, -4.629884243011475, 1.1160449981689453, -0.3202977776527405, 13.277997016906738, -11.874784469604492, 10.29122543334961, 12.079710006713867, 6.455654621124268, -11.358202934265137, -13.435650825500488, 2.7595229148864746, -10.293855667114258, 18.997814178466797, -19.115877151489258, 11.720727920532227, 5.302199840545654, 9.734339714050293, 0.18089386820793152, -15.554931640625, 18.27751922607422, 7.456549644470215, 3.035060405731201, 3.9779956340789795, 13.884415626525879, 1.3004695177078247, 11.006629943847656, -13.381043434143066, 1.7150249481201172, -12.871163368225098, 14.169809341430664, -1.0911844968795776, -4.334228038787842, 7.955447196960449, 4.856150150299072, 4.802441120147705, -4.961742401123047, -9.11516284942627, -5.875595569610596, 14.208792686462402, 10.505765914916992, -2.933814764022827, -9.418328285217285, -9.373026847839355, 4.257740020751953, -9.132011413574219, -14.343340873718262, 2.4969611167907715, 7.124110221862793, 8.28421401977539, -10.981038093566895, 19.17936134338379, -4.8180670738220215, -9.530661582946777, 9.740467071533203, -4.1280107498168945, -13.848063468933105, -17.841552734375, -6.393253803253174, 6.649777889251709, 2.345787286758423, 0.8339042067527771, 5.488577842712402, -3.756657123565674, 19.77841567993164, -11.748751640319824, -5.88478946685791, 6.649551868438721, 7.405742645263672, 4.210716247558594, 0.29231634736061096, -2.1913061141967773, -10.591416358947754, -0.02784852124750614, 7.394333362579346, 13.23086166381836, 0.6749864220619202, -4.106616020202637, -6.485083103179932, 0.8574140667915344, 16.68581771850586, 11.810314178466797, 15.985082626342773, -1.1856210231781006, -0.4311767816543579, -2.7045412063598633, 14.750506401062012, 1.7281889915466309, 1.6109784841537476, 6.1605448722839355, -3.5880372524261475, 12.305436134338379, -12.993640899658203, -8.173200607299805, 11.320773124694824, 8.71020221710205, -13.281318664550781, 19.420944213867188, -17.404033660888672, 8.106304168701172, 14.23625659942627, -6.376507759094238, 3.8048806190490723, -6.035218715667725, 6.162497043609619, 5.5070648193359375, 18.190998077392578, 6.571169376373291, -7.296955108642578, 15.361483573913574, -3.027378797531128, -7.873000144958496, -7.4784040451049805, 6.226974010467529, -8.938809394836426, 0.8878659605979919, 5.923690319061279, -20.287813186645508, 16.180538177490234, 7.691700458526611, 13.963690757751465, -5.326933860778809, 17.154672622680664, -13.878570556640625, 5.595724105834961, -16.47051239013672, -12.594687461853027, -1.1942448616027832, -0.23007041215896606, 0.5594480037689209, -4.380482196807861, -2.860459804534912, 9.991315841674805, -6.516562461853027, -14.336074829101562, 9.794651985168457, -19.383596420288086, -8.896397590637207, -2.9881093502044678, -16.559297561645508, 18.95600700378418, -0.42924144864082336, 10.750543594360352, -8.911431312561035, 3.3265209197998047, 5.45979118347168, 2.081890821456909, 0.5953097939491272, 19.011808395385742, -12.457659721374512, 6.480332374572754, -0.5993539690971375, -1.1655378341674805, 1.6262673139572144, 1.0021867752075195, 4.176423072814941, -9.245748519897461, -10.653112411499023, -7.809393405914307, -6.413557052612305, -7.471242904663086, -4.3137712478637695, -16.320619583129883, 5.256500244140625, -1.7054651975631714, 3.5032312870025635, 18.77845573425293, -20.29376983642578, 5.3027191162109375, 5.638613700866699, 11.558788299560547, 7.970598220825195, -7.468190670013428, 3.9264111518859863, 12.102420806884766, -13.33338451385498, -3.4810092449188232, -5.533339977264404, 7.690925598144531, 2.3859591484069824, -12.348755836486816, -12.354696273803711, -4.857327461242676, 1.6171833276748657, -5.003597736358643, -0.03034042753279209, 18.562496185302734, -2.3286077976226807, 0.3487546443939209, -0.4766411781311035, 10.20216178894043, -13.580153465270996, 1.8542722463607788, 12.264124870300293, -13.582077026367188, -3.0675125122070312, -7.633797645568848, 2.9598095417022705, -0.6173647046089172, 2.2064850330352783, 20.914722442626953, -2.709550142288208, 1.529588222503662, -5.510558128356934, -12.310867309570312, -8.944437026977539, 0.3670559227466583, 0.6198407411575317, 6.537356853485107, 5.071439266204834, -0.34809064865112305, -4.018749237060547, -10.095138549804688, -0.23030966520309448, -2.518265724182129, -17.167627334594727, -5.14884090423584, -14.44548225402832, -7.591206073760986, 0.43932607769966125, 3.2642457485198975, 7.917975902557373, 2.1231446266174316, 1.3622374534606934, 16.186405181884766, -0.9075393080711365, -14.305340766906738, 20.868120193481445, -4.144883155822754, 2.59126615524292, 3.767369270324707, 6.267696857452393, 10.905665397644043, -7.355270862579346, 18.807992935180664, -17.983736038208008, -1.892497181892395, 14.646830558776855, 9.776529312133789, 10.806540489196777, -0.02169119007885456, 4.39822244644165, -14.733312606811523, 6.561459064483643, -20.270431518554688, -1.402465581893921, 2.5055530071258545, 13.47473430633545, 18.9539737701416, 4.130590438842773, 2.804037094116211, -14.749332427978516, 3.360389471054077, -3.573221445083618, 7.873198986053467, 9.394380569458008, 0.36286675930023193, -12.676104545593262, -8.33221435546875, 3.6942038536071777, -8.17727279663086, 11.544755935668945, -20.203514099121094, -4.814815521240234, -1.1212869882583618, 9.39665699005127, 10.566673278808594, 8.390040397644043, 0.44204723834991455, 1.0057260990142822, 14.935567855834961, -6.9144816398620605, 10.569833755493164, -2.8476452827453613, -13.559610366821289, 12.369441032409668, 5.16544771194458, -14.034218788146973, -13.334573745727539, 1.5689200162887573, 7.018675327301025, 11.799712181091309, 14.376696586608887, -8.014633178710938, -14.67159652709961, -7.327585220336914, 12.60092544555664, -7.964292526245117, -7.498948574066162, -2.8020522594451904, -4.087594509124756, -19.357545852661133, 10.729059219360352, -13.944279670715332, 14.892019271850586, 6.565553665161133, 3.838461399078369, -13.620881080627441, -10.352591514587402, 5.347275733947754], \"y\": [-2.8382937908172607, 18.41582679748535, -9.209607124328613, -11.692727088928223, -0.07091224193572998, -17.129878997802734, 8.243045806884766, -5.191001892089844, -10.06244945526123, -11.858787536621094, 2.1725025177001953, 2.1367504596710205, -14.200273513793945, -3.022178888320923, -11.752099990844727, -17.0239315032959, -4.890200138092041, 8.435687065124512, -9.9153470993042, -5.978728294372559, -14.040526390075684, 18.607986450195312, -0.7409741878509521, 17.336421966552734, 14.269255638122559, 12.699536323547363, 0.11735381931066513, -14.190213203430176, -10.857344627380371, 2.3144307136535645, 0.5000703930854797, -4.824178218841553, 3.9663805961608887, -10.37407112121582, 1.6129779815673828, -7.003347396850586, -6.363653659820557, -3.0963635444641113, -13.378798484802246, 7.042166709899902, -3.119432210922241, 16.25288963317871, 6.708497047424316, 2.857631206512451, -4.498486518859863, -8.124066352844238, 15.272815704345703, 10.06063175201416, 12.452581405639648, 2.144334554672241, -5.916821479797363, 4.9164276123046875, 10.243561744689941, 9.474678993225098, 12.382648468017578, 6.924500465393066, -2.1313693523406982, 16.543275833129883, 4.412540912628174, 9.097739219665527, -17.6480655670166, -1.60982084274292, -0.984393835067749, 0.5743904709815979, 14.48410701751709, -15.086350440979004, 6.062213897705078, 6.969173908233643, -13.445307731628418, 7.297002792358398, 19.334455490112305, -6.03470516204834, 0.9847136735916138, -3.487887144088745, 0.6826031804084778, 16.45049285888672, 18.409730911254883, -11.966150283813477, 14.295211791992188, -8.638236045837402, -16.55197525024414, -13.924586296081543, -11.538346290588379, -6.635689735412598, -9.411921501159668, -19.492095947265625, 8.150083541870117, 15.251526832580566, 2.2305805683135986, 10.90438175201416, -8.554486274719238, 14.591179847717285, -6.629641532897949, -14.805228233337402, 3.6582446098327637, -14.803271293640137, -10.363676071166992, -1.540656566619873, 6.734347820281982, 17.07915687561035, 7.5505876541137695, 19.02656364440918, 5.893163681030273, 14.360873222351074, 10.646400451660156, 2.458876848220825, -2.9046671390533447, -12.67417049407959, 10.606660842895508, 13.557302474975586, -3.9972662925720215, 0.12009681761264801, -17.415699005126953, 14.938209533691406, 13.710611343383789, 10.068638801574707, 8.331948280334473, 4.804147243499756, -5.742974281311035, -6.198784828186035, -17.614580154418945, -0.6712464690208435, 16.02668571472168, -3.67824125289917, 9.223713874816895, 5.544699668884277, 1.7403336763381958, -0.8560231328010559, -11.701215744018555, -16.17987060546875, -4.531810283660889, -0.4347863495349884, 20.00221061706543, 0.794434130191803, -4.198462963104248, -16.68527603149414, -0.7234940528869629, 0.7007155418395996, -0.77520751953125, -15.566929817199707, -13.363192558288574, -3.3587241172790527, 2.8777518272399902, -19.38477897644043, -6.066982746124268, -14.417500495910645, -4.037876605987549, 15.306756019592285, 4.669008731842041, 4.1721906661987305, 8.840353965759277, -15.172101020812988, -14.776533126831055, -16.110254287719727, 1.9737542867660522, -11.67835521697998, -2.343257427215576, -5.0874810218811035, -11.762711524963379, 0.790168046951294, 3.936659574508667, 5.280194282531738, 6.16749382019043, 6.304572105407715, 12.677549362182617, 6.68231201171875, -6.527207851409912, -8.846611976623535, 5.901991367340088, 12.389167785644531, -1.699291706085205, -11.604021072387695, 6.429656028747559, -25.17221450805664, 1.471788763999939, 12.733671188354492, 8.410235404968262, -5.31090784072876, -1.890425443649292, -4.14995002746582, 16.185945510864258, -5.488834857940674, 4.382913589477539, 15.232827186584473, 0.8678096532821655, 7.173819065093994, 2.5905091762542725, -7.87923002243042, -0.6374440789222717, 14.425593376159668, -7.905150413513184, -12.661840438842773, -0.6310595273971558, 8.937642097473145, 0.9019918441772461, 9.62061882019043, 13.365058898925781, -17.896116256713867, 9.989596366882324, 0.829861044883728, 1.0978695154190063, 8.21196460723877, 11.007095336914062, 2.2685747146606445, -1.8797032833099365, 7.706544399261475, 10.695046424865723, -8.418234825134277, 5.494842529296875, -15.67192268371582, -1.4300583600997925, 11.064697265625, -17.19985008239746, -4.614040374755859, -4.085080146789551, 2.6140310764312744, -10.031991004943848, 1.9277172088623047, 5.414474964141846, -1.7413794994354248, -10.284799575805664, -1.0458201169967651, -14.05077838897705, 15.148584365844727, 20.52370834350586, 1.8787331581115723, 0.6312158703804016, -0.28955546021461487, -3.8738434314727783, 7.761157989501953, -7.444951057434082, -5.073099613189697, 8.66769027709961, 5.126489639282227, -3.9989843368530273, -9.718867301940918, 17.397125244140625, 18.94341468811035, 10.709328651428223, 3.4726312160491943, -2.740676164627075, -2.446568012237549, -5.618725776672363, 9.824173927307129, 12.143312454223633, 5.579297065734863, 2.070746660232544, 13.136809349060059, 12.132879257202148, 2.8386118412017822, 1.1108651161193848, 3.8231241703033447, 11.424942970275879, -3.7539055347442627, 12.70609188079834, 3.2406585216522217, 13.10560131072998, 11.031601905822754, -16.04177474975586, -2.712634563446045, 6.045648097991943, -2.075784206390381, 18.218765258789062, 12.457551002502441, -0.2580348253250122, -7.401430606842041, -4.096184253692627, -3.96217679977417, 20.8712215423584, 1.0351569652557373, 3.195512533187866, 16.9967041015625, -4.7734808921813965, -3.96767258644104, -10.77565860748291, -5.944804668426514, -8.087745666503906, -10.768776893615723, -13.21725082397461, 14.771926879882812, 1.4955607652664185, 3.705970048904419, -19.42691993713379, 9.855496406555176, -7.3177266120910645, 2.0249006748199463, -11.658955574035645, -0.24437719583511353, -4.170178413391113, -19.795547485351562, -0.6493027210235596, 14.706480026245117, 5.687638282775879, 5.920898914337158, 7.012265205383301, 6.838045597076416, 1.0821682214736938, 5.870642185211182, -6.219814777374268, -4.983034133911133, -15.114765167236328, -0.21741878986358643, -10.590435981750488, 4.561063766479492, 11.967814445495605, -3.6286439895629883, -9.902226448059082, 4.830907821655273, 18.033544540405273, 1.8338139057159424, 10.075462341308594, -24.4113712310791, 5.821755409240723, -17.602375030517578, -19.734878540039062, 1.8571494817733765, 4.794826984405518, 1.9852434396743774, -13.30210018157959, -8.083927154541016, 14.661614418029785, 15.961617469787598, 19.595518112182617, 20.593496322631836, 0.9291422367095947, -3.40474009513855, 9.783247947692871, -0.746770441532135, -4.995411396026611, 9.151456832885742, -13.201068878173828, -5.372231483459473, 0.855775773525238, 15.832770347595215, 2.017821788787842, 0.31943437457084656, -25.187938690185547, 21.025100708007812, -7.853809833526611, 19.152278900146484, -15.221745491027832, -10.613800048828125, -13.912789344787598, -6.370738506317139, 4.035203456878662, -2.9538400173187256, -16.71076202392578, -0.4615447521209717, 11.781563758850098, 9.145196914672852, 6.750886917114258, -11.518198013305664, 3.259337902069092, 2.451770305633545, -8.131370544433594, -12.714136123657227, 0.42811018228530884, 5.9233551025390625, -10.622095108032227, 8.191169738769531, 14.371978759765625, 11.843756675720215, 12.074047088623047, 19.720245361328125, -2.521998167037964, 6.588724613189697, 1.4621025323867798, -3.3931660652160645, -12.696937561035156, 9.073904991149902, -0.7006707787513733, 14.995062828063965, -10.088762283325195, 4.0683064460754395, -3.029075860977173, -2.824481248855591, 10.614826202392578, -6.079682350158691, 7.631253242492676, 22.025169372558594, 13.484098434448242, -15.05540657043457, 17.096946716308594]}, {\"mode\": \"text\", \"name\": \"Top Tickers\", \"opacity\": 0.9, \"text\": [\"TSLA\", \"XOM\", \"AGN\", \"AA\", \"INTC\", \"KO\", \"IBM\", \"TGT\", \"WMT\", \"AAPL\", \"JPM\", \"MU\", \"CME\", \"GOOGL\", \"GS\", \"CVX\", \"VZ\", \"NWSA\", \"BLK\", \"UBER\", \"LMT\", \"SBUX\", \"BAC\", \"WMB\", \"DIS\", \"TM\", \"MS\", \"BKR\", \"CAT\", \"WFC\", \"CMG\", \"SO\", \"C\", \"EFX\", \"MSFT\", \"GE\", \"AMZN\", \"BA\", \"NFLX\", \"GM\"], \"textfont\": {\"color\": \"black\", \"family\": \"sans serif\", \"size\": 12}, \"type\": \"scatter\", \"x\": [7.428297996520996, -10.690187454223633, 13.377190589904785, -9.079924583435059, 11.768572807312012, -10.569101333618164, 5.755160331726074, -7.175264835357666, -6.081610679626465, 7.582400321960449, 1.1160449981689453, 13.277997016906738, -1.0911844968795776, 8.28421401977539, 2.345787286758423, -10.591416358947754, 16.68581771850586, 1.7281889915466309, 1.6109784841537476, 19.420944213867188, -16.47051239013672, -0.23007041215896606, 0.5594480037689209, -2.9881093502044678, -9.245748519897461, -20.29376983642578, 2.2064850330352783, -5.510558128356934, -8.944437026977539, 0.3670559227466583, -4.018749237060547, -4.144883155822754, 3.767369270324707, -1.892497181892395, 10.806540489196777, -14.733312606811523, 7.873198986053467, -13.559610366821289, 7.018675327301025, -14.67159652709961], \"y\": [18.41582679748535, -11.692727088928223, -0.07091224193572998, -5.191001892089844, 18.607986450195312, 3.9663805961608887, -2.1313693523406982, 6.062213897705078, 6.969173908233643, 19.334455490112305, -19.492095947265625, 15.251526832580566, 13.710611343383789, 20.00221061706543, -19.38477897644043, -11.67835521697998, 6.304572105407715, -1.699291706085205, -11.604021072387695, 16.185945510864258, 5.494842529296875, 11.064697265625, -17.19985008239746, -1.0458201169967651, 3.4726312160491943, 1.1108651161193848, -19.42691993713379, -11.658955574035645, -4.170178413391113, -19.795547485351562, 7.012265205383301, -24.4113712310791, -17.602375030517578, -8.083927154541016, 19.595518112182617, -3.40474009513855, 21.025100708007812, 5.9233551025390625, 19.720245361328125, -3.3931660652160645]}],\n",
              "                        {\"autosize\": false, \"height\": 700, \"template\": {\"data\": {\"bar\": [{\"error_x\": {\"color\": \"#2a3f5f\"}, \"error_y\": {\"color\": \"#2a3f5f\"}, \"marker\": {\"line\": {\"color\": \"#E5ECF6\", \"width\": 0.5}}, \"type\": \"bar\"}], \"barpolar\": [{\"marker\": {\"line\": {\"color\": \"#E5ECF6\", \"width\": 0.5}}, \"type\": \"barpolar\"}], \"carpet\": [{\"aaxis\": {\"endlinecolor\": \"#2a3f5f\", \"gridcolor\": \"white\", \"linecolor\": \"white\", \"minorgridcolor\": \"white\", \"startlinecolor\": \"#2a3f5f\"}, \"baxis\": {\"endlinecolor\": \"#2a3f5f\", \"gridcolor\": \"white\", \"linecolor\": \"white\", \"minorgridcolor\": \"white\", \"startlinecolor\": \"#2a3f5f\"}, \"type\": \"carpet\"}], \"choropleth\": [{\"colorbar\": {\"outlinewidth\": 0, \"ticks\": \"\"}, \"type\": \"choropleth\"}], \"contour\": [{\"colorbar\": {\"outlinewidth\": 0, \"ticks\": \"\"}, \"colorscale\": [[0.0, \"#0d0887\"], [0.1111111111111111, \"#46039f\"], [0.2222222222222222, \"#7201a8\"], [0.3333333333333333, \"#9c179e\"], [0.4444444444444444, \"#bd3786\"], [0.5555555555555556, \"#d8576b\"], [0.6666666666666666, \"#ed7953\"], [0.7777777777777778, \"#fb9f3a\"], [0.8888888888888888, \"#fdca26\"], [1.0, \"#f0f921\"]], \"type\": \"contour\"}], \"contourcarpet\": [{\"colorbar\": {\"outlinewidth\": 0, \"ticks\": \"\"}, \"type\": \"contourcarpet\"}], \"heatmap\": [{\"colorbar\": {\"outlinewidth\": 0, \"ticks\": \"\"}, \"colorscale\": [[0.0, \"#0d0887\"], [0.1111111111111111, \"#46039f\"], [0.2222222222222222, \"#7201a8\"], [0.3333333333333333, \"#9c179e\"], [0.4444444444444444, \"#bd3786\"], [0.5555555555555556, \"#d8576b\"], [0.6666666666666666, \"#ed7953\"], [0.7777777777777778, \"#fb9f3a\"], [0.8888888888888888, \"#fdca26\"], [1.0, \"#f0f921\"]], \"type\": \"heatmap\"}], \"heatmapgl\": [{\"colorbar\": {\"outlinewidth\": 0, \"ticks\": \"\"}, \"colorscale\": [[0.0, \"#0d0887\"], [0.1111111111111111, \"#46039f\"], [0.2222222222222222, \"#7201a8\"], [0.3333333333333333, \"#9c179e\"], [0.4444444444444444, \"#bd3786\"], [0.5555555555555556, \"#d8576b\"], [0.6666666666666666, \"#ed7953\"], [0.7777777777777778, \"#fb9f3a\"], [0.8888888888888888, \"#fdca26\"], [1.0, \"#f0f921\"]], \"type\": \"heatmapgl\"}], \"histogram\": [{\"marker\": {\"colorbar\": {\"outlinewidth\": 0, \"ticks\": \"\"}}, \"type\": \"histogram\"}], \"histogram2d\": [{\"colorbar\": {\"outlinewidth\": 0, \"ticks\": \"\"}, \"colorscale\": [[0.0, \"#0d0887\"], [0.1111111111111111, \"#46039f\"], [0.2222222222222222, \"#7201a8\"], [0.3333333333333333, \"#9c179e\"], [0.4444444444444444, \"#bd3786\"], [0.5555555555555556, \"#d8576b\"], [0.6666666666666666, \"#ed7953\"], [0.7777777777777778, \"#fb9f3a\"], [0.8888888888888888, \"#fdca26\"], [1.0, \"#f0f921\"]], \"type\": \"histogram2d\"}], \"histogram2dcontour\": [{\"colorbar\": {\"outlinewidth\": 0, \"ticks\": \"\"}, \"colorscale\": [[0.0, \"#0d0887\"], [0.1111111111111111, \"#46039f\"], [0.2222222222222222, \"#7201a8\"], [0.3333333333333333, \"#9c179e\"], [0.4444444444444444, \"#bd3786\"], [0.5555555555555556, \"#d8576b\"], [0.6666666666666666, \"#ed7953\"], [0.7777777777777778, \"#fb9f3a\"], [0.8888888888888888, \"#fdca26\"], [1.0, \"#f0f921\"]], \"type\": \"histogram2dcontour\"}], \"mesh3d\": [{\"colorbar\": {\"outlinewidth\": 0, \"ticks\": \"\"}, \"type\": \"mesh3d\"}], \"parcoords\": [{\"line\": {\"colorbar\": {\"outlinewidth\": 0, \"ticks\": \"\"}}, \"type\": \"parcoords\"}], \"pie\": [{\"automargin\": true, \"type\": \"pie\"}], \"scatter\": [{\"marker\": {\"colorbar\": {\"outlinewidth\": 0, \"ticks\": \"\"}}, \"type\": \"scatter\"}], \"scatter3d\": [{\"line\": {\"colorbar\": {\"outlinewidth\": 0, \"ticks\": \"\"}}, \"marker\": {\"colorbar\": {\"outlinewidth\": 0, \"ticks\": \"\"}}, \"type\": \"scatter3d\"}], \"scattercarpet\": [{\"marker\": {\"colorbar\": {\"outlinewidth\": 0, \"ticks\": \"\"}}, \"type\": \"scattercarpet\"}], \"scattergeo\": [{\"marker\": {\"colorbar\": {\"outlinewidth\": 0, \"ticks\": \"\"}}, \"type\": \"scattergeo\"}], \"scattergl\": [{\"marker\": {\"colorbar\": {\"outlinewidth\": 0, \"ticks\": \"\"}}, \"type\": \"scattergl\"}], \"scattermapbox\": [{\"marker\": {\"colorbar\": {\"outlinewidth\": 0, \"ticks\": \"\"}}, \"type\": \"scattermapbox\"}], \"scatterpolar\": [{\"marker\": {\"colorbar\": {\"outlinewidth\": 0, \"ticks\": \"\"}}, \"type\": \"scatterpolar\"}], \"scatterpolargl\": [{\"marker\": {\"colorbar\": {\"outlinewidth\": 0, \"ticks\": \"\"}}, \"type\": \"scatterpolargl\"}], \"scatterternary\": [{\"marker\": {\"colorbar\": {\"outlinewidth\": 0, \"ticks\": \"\"}}, \"type\": \"scatterternary\"}], \"surface\": [{\"colorbar\": {\"outlinewidth\": 0, \"ticks\": \"\"}, \"colorscale\": [[0.0, \"#0d0887\"], [0.1111111111111111, \"#46039f\"], [0.2222222222222222, \"#7201a8\"], [0.3333333333333333, \"#9c179e\"], [0.4444444444444444, \"#bd3786\"], [0.5555555555555556, \"#d8576b\"], [0.6666666666666666, \"#ed7953\"], [0.7777777777777778, \"#fb9f3a\"], [0.8888888888888888, \"#fdca26\"], [1.0, \"#f0f921\"]], \"type\": \"surface\"}], \"table\": [{\"cells\": {\"fill\": {\"color\": \"#EBF0F8\"}, \"line\": {\"color\": \"white\"}}, \"header\": {\"fill\": {\"color\": \"#C8D4E3\"}, \"line\": {\"color\": \"white\"}}, \"type\": \"table\"}]}, \"layout\": {\"annotationdefaults\": {\"arrowcolor\": \"#2a3f5f\", \"arrowhead\": 0, \"arrowwidth\": 1}, \"coloraxis\": {\"colorbar\": {\"outlinewidth\": 0, \"ticks\": \"\"}}, \"colorscale\": {\"diverging\": [[0, \"#8e0152\"], [0.1, \"#c51b7d\"], [0.2, \"#de77ae\"], [0.3, \"#f1b6da\"], [0.4, \"#fde0ef\"], [0.5, \"#f7f7f7\"], [0.6, \"#e6f5d0\"], [0.7, \"#b8e186\"], [0.8, \"#7fbc41\"], [0.9, \"#4d9221\"], [1, \"#276419\"]], \"sequential\": [[0.0, \"#0d0887\"], [0.1111111111111111, \"#46039f\"], [0.2222222222222222, \"#7201a8\"], [0.3333333333333333, \"#9c179e\"], [0.4444444444444444, \"#bd3786\"], [0.5555555555555556, \"#d8576b\"], [0.6666666666666666, \"#ed7953\"], [0.7777777777777778, \"#fb9f3a\"], [0.8888888888888888, \"#fdca26\"], [1.0, \"#f0f921\"]], \"sequentialminus\": [[0.0, \"#0d0887\"], [0.1111111111111111, \"#46039f\"], [0.2222222222222222, \"#7201a8\"], [0.3333333333333333, \"#9c179e\"], [0.4444444444444444, \"#bd3786\"], [0.5555555555555556, \"#d8576b\"], [0.6666666666666666, \"#ed7953\"], [0.7777777777777778, \"#fb9f3a\"], [0.8888888888888888, \"#fdca26\"], [1.0, \"#f0f921\"]]}, \"colorway\": [\"#636efa\", \"#EF553B\", \"#00cc96\", \"#ab63fa\", \"#FFA15A\", \"#19d3f3\", \"#FF6692\", \"#B6E880\", \"#FF97FF\", \"#FECB52\"], \"font\": {\"color\": \"#2a3f5f\"}, \"geo\": {\"bgcolor\": \"white\", \"lakecolor\": \"white\", \"landcolor\": \"#E5ECF6\", \"showlakes\": true, \"showland\": true, \"subunitcolor\": \"white\"}, \"hoverlabel\": {\"align\": \"left\"}, \"hovermode\": \"closest\", \"mapbox\": {\"style\": \"light\"}, \"paper_bgcolor\": \"white\", \"plot_bgcolor\": \"#E5ECF6\", \"polar\": {\"angularaxis\": {\"gridcolor\": \"white\", \"linecolor\": \"white\", \"ticks\": \"\"}, \"bgcolor\": \"#E5ECF6\", \"radialaxis\": {\"gridcolor\": \"white\", \"linecolor\": \"white\", \"ticks\": \"\"}}, \"scene\": {\"xaxis\": {\"backgroundcolor\": \"#E5ECF6\", \"gridcolor\": \"white\", \"gridwidth\": 2, \"linecolor\": \"white\", \"showbackground\": true, \"ticks\": \"\", \"zerolinecolor\": \"white\"}, \"yaxis\": {\"backgroundcolor\": \"#E5ECF6\", \"gridcolor\": \"white\", \"gridwidth\": 2, \"linecolor\": \"white\", \"showbackground\": true, \"ticks\": \"\", \"zerolinecolor\": \"white\"}, \"zaxis\": {\"backgroundcolor\": \"#E5ECF6\", \"gridcolor\": \"white\", \"gridwidth\": 2, \"linecolor\": \"white\", \"showbackground\": true, \"ticks\": \"\", \"zerolinecolor\": \"white\"}}, \"shapedefaults\": {\"line\": {\"color\": \"#2a3f5f\"}}, \"ternary\": {\"aaxis\": {\"gridcolor\": \"white\", \"linecolor\": \"white\", \"ticks\": \"\"}, \"baxis\": {\"gridcolor\": \"white\", \"linecolor\": \"white\", \"ticks\": \"\"}, \"bgcolor\": \"#E5ECF6\", \"caxis\": {\"gridcolor\": \"white\", \"linecolor\": \"white\", \"ticks\": \"\"}}, \"title\": {\"x\": 0.05}, \"xaxis\": {\"automargin\": true, \"gridcolor\": \"white\", \"linecolor\": \"white\", \"ticks\": \"\", \"title\": {\"standoff\": 15}, \"zerolinecolor\": \"white\", \"zerolinewidth\": 2}, \"yaxis\": {\"automargin\": true, \"gridcolor\": \"white\", \"linecolor\": \"white\", \"ticks\": \"\", \"title\": {\"standoff\": 15}, \"zerolinecolor\": \"white\", \"zerolinewidth\": 2}}}, \"title\": {\"font\": {\"size\": 20}, \"text\": \"Visualizaci\\u00f3n de la base en el espacio tsne\"}, \"width\": 1000, \"xaxis\": {\"title\": {\"text\": \"componente 1\"}}, \"yaxis\": {\"title\": {\"text\": \"componente 2\"}}},\n",
              "                        {\"responsive\": true}\n",
              "                    ).then(function(){\n",
              "                            \n",
              "var gd = document.getElementById('e8cf18a8-24fb-4569-98b3-a42fa464ae96');\n",
              "var x = new MutationObserver(function (mutations, observer) {{\n",
              "        var display = window.getComputedStyle(gd).display;\n",
              "        if (!display || display === 'none') {{\n",
              "            console.log([gd, 'removed!']);\n",
              "            Plotly.purge(gd);\n",
              "            observer.disconnect();\n",
              "        }}\n",
              "}});\n",
              "\n",
              "// Listen for the removal of the full notebook cells\n",
              "var notebookContainer = gd.closest('#notebook-container');\n",
              "if (notebookContainer) {{\n",
              "    x.observe(notebookContainer, {childList: true});\n",
              "}}\n",
              "\n",
              "// Listen for the clearing of the current output cell\n",
              "var outputEl = gd.closest('.output');\n",
              "if (outputEl) {{\n",
              "    x.observe(outputEl, {childList: true});\n",
              "}}\n",
              "\n",
              "                        })\n",
              "                };\n",
              "                });\n",
              "            </script>\n",
              "        </div>"
            ],
            "application/vnd.plotly.v1+json": {
              "data": [
                {
                  "name": "Tickers",
                  "text": [
                    "SPGI",
                    "TSLA",
                    "SPG",
                    "XOM",
                    "AGN",
                    "PXD",
                    "APD",
                    "AA",
                    "NTRS",
                    "PNW",
                    "LB",
                    "DDS",
                    "NEM",
                    "AVY",
                    "WPM",
                    "MTB",
                    "MAS",
                    "DXCM",
                    "CNS",
                    "ETR",
                    "UBSG",
                    "INTC",
                    "BIDU",
                    "BIIB",
                    "XLNX",
                    "NTAP",
                    "EL",
                    "AMP",
                    "SCHW",
                    "HOG",
                    "WYND",
                    "IP",
                    "KO",
                    "CSIQ",
                    "ORCL",
                    "ALL",
                    "STLD",
                    "PBR",
                    "COF",
                    "UTX",
                    "CBRL",
                    "QCOM",
                    "CNMD",
                    "EXPD",
                    "MAR",
                    "AIZ",
                    "A",
                    "CHEF",
                    "AMD",
                    "TROW",
                    "NUE",
                    "GT",
                    "CASY",
                    "CROX",
                    "MSI",
                    "CHTR",
                    "IBM",
                    "PFE",
                    "BBY",
                    "CDNS",
                    "DHI",
                    "LOW",
                    "VIAC",
                    "CRI",
                    "CRUS",
                    "STT",
                    "TGT",
                    "WMT",
                    "CINF",
                    "DXPE",
                    "AAPL",
                    "ANTM",
                    "TAP",
                    "CRAI",
                    "MO",
                    "MRK",
                    "NVDA",
                    "SSRM",
                    "AKAM",
                    "CBRE",
                    "DTE",
                    "TFC",
                    "MET",
                    "UNH",
                    "OKE",
                    "JPM",
                    "ALGT",
                    "MU",
                    "PEP",
                    "CSCO",
                    "AMT",
                    "ATVI",
                    "RS",
                    "DUK",
                    "YNDX",
                    "MUR",
                    "FSLR",
                    "CAJ",
                    "DISCA",
                    "MAT",
                    "FLIR",
                    "VRTX",
                    "RTN",
                    "ROP",
                    "FISV",
                    "SPAR",
                    "J",
                    "RGLD",
                    "DNKN",
                    "KLAC",
                    "GIS",
                    "RDY",
                    "NS",
                    "MCHP",
                    "CME",
                    "ROST",
                    "ABMD",
                    "IPGP",
                    "NYT",
                    "FLR",
                    "EOG",
                    "ADM",
                    "STX",
                    "MGA",
                    "BJRI",
                    "MCD",
                    "PG",
                    "RHI",
                    "COP",
                    "NRG",
                    "CVS",
                    "GL",
                    "GOOGL",
                    "KHC",
                    "WDC",
                    "DD",
                    "K",
                    "BDX",
                    "SHW",
                    "NEE",
                    "PPG",
                    "SNE",
                    "HAIN",
                    "GS",
                    "CI",
                    "JEF",
                    "CIEN",
                    "DELL",
                    "MMM",
                    "ANF",
                    "ITRI",
                    "CACC",
                    "PRU",
                    "BK",
                    "TPR",
                    "CVX",
                    "VAR",
                    "NOV",
                    "CEF",
                    "UPS",
                    "UAA",
                    "KSS",
                    "PCAR",
                    "VZ",
                    "LRCX",
                    "RCI",
                    "AFL",
                    "AON",
                    "AZO",
                    "ADI",
                    "NWSA",
                    "BLK",
                    "CTAS",
                    "NSC",
                    "MDT",
                    "LUV",
                    "LEN",
                    "AIG",
                    "LBTYA",
                    "GD",
                    "UBER",
                    "AMX",
                    "HSIC",
                    "MRVL",
                    "SJM",
                    "AVAV",
                    "RL",
                    "AVB",
                    "CHN",
                    "ATI",
                    "BXP",
                    "HAL",
                    "JNJ",
                    "DRI",
                    "CLX",
                    "KBH",
                    "TTWO",
                    "ARCH",
                    "WBA",
                    "CENT",
                    "HMC",
                    "CMCSA",
                    "PAYX",
                    "ACN",
                    "MOS",
                    "DISH",
                    "RYAAY",
                    "PLD",
                    "LMT",
                    "VLO",
                    "TRV",
                    "SBUX",
                    "BAC",
                    "DOV",
                    "FLS",
                    "TMO",
                    "NBL",
                    "STZ",
                    "ADP",
                    "INFY",
                    "APA",
                    "WMB",
                    "AEIS",
                    "LHX",
                    "SRPT",
                    "PKI",
                    "CPB",
                    "LH",
                    "LNC",
                    "BBBY",
                    "PGR",
                    "WU",
                    "XRX",
                    "ETFC",
                    "ABC",
                    "CB",
                    "ALXN",
                    "BMRN",
                    "NTES",
                    "DIS",
                    "PCG",
                    "WHR",
                    "FMC",
                    "HD",
                    "COST",
                    "NOC",
                    "LAMR",
                    "ICE",
                    "EXPE",
                    "HPQ",
                    "TM",
                    "AIMC",
                    "GRMN",
                    "HON",
                    "ADSK",
                    "TIF",
                    "EBAY",
                    "TXN",
                    "SRE",
                    "PH",
                    "JWN",
                    "ATGE",
                    "MYL",
                    "DAL",
                    "TSN",
                    "FTI",
                    "THC",
                    "OSK",
                    "ANIK",
                    "CRM",
                    "GPS",
                    "AMGN",
                    "MCK",
                    "ARGO",
                    "OXY",
                    "HUM",
                    "AXP",
                    "MPC",
                    "ENGIE",
                    "BMY",
                    "ASML",
                    "DLTR",
                    "MS",
                    "VMC",
                    "MCO",
                    "GPC",
                    "BKR",
                    "HRL",
                    "CAT",
                    "WFC",
                    "BRKB",
                    "EA",
                    "CATM",
                    "CMI",
                    "CMG",
                    "FDX",
                    "GWW",
                    "KMX",
                    "L",
                    "TEX",
                    "XEL",
                    "KMB",
                    "LAZ",
                    "NXPI",
                    "INTU",
                    "BHC",
                    "FII",
                    "CTL",
                    "GILD",
                    "CAG",
                    "AMAT",
                    "SO",
                    "ORLY",
                    "C",
                    "ETN",
                    "ABT",
                    "KR",
                    "VMW",
                    "CF",
                    "EFX",
                    "ALGN",
                    "AVGO",
                    "MSFT",
                    "CORT",
                    "CHKP",
                    "GE",
                    "EQIX",
                    "TTM",
                    "DHR",
                    "URBN",
                    "GOLD",
                    "UNP",
                    "NLOK",
                    "ILMN",
                    "YUM",
                    "POLYP",
                    "SCCO",
                    "AMZN",
                    "MHO",
                    "ALNY",
                    "DVN",
                    "HES",
                    "PNC",
                    "FCX",
                    "EW",
                    "TEVA",
                    "DE",
                    "IPG",
                    "ADBE",
                    "CSII",
                    "ISRG",
                    "BX",
                    "V",
                    "MA",
                    "HRB",
                    "AEM",
                    "MKC",
                    "BA",
                    "PAAS",
                    "AAXN",
                    "CSX",
                    "UAL",
                    "WYNN",
                    "NFLX",
                    "PM",
                    "CMTL",
                    "HSY",
                    "GM",
                    "SLB",
                    "NDAQ",
                    "SYY",
                    "LLY",
                    "CMA",
                    "NKE",
                    "VALE",
                    "BAX",
                    "BKNG",
                    "BIG",
                    "AMED",
                    "COLM",
                    "JBLU",
                    "COG",
                    "HAS"
                  ],
                  "y": [
                    -2.8382937908172607,
                    18.41582679748535,
                    -9.209607124328613,
                    -11.692727088928223,
                    -0.07091224193572998,
                    -17.129878997802734,
                    8.243045806884766,
                    -5.191001892089844,
                    -10.06244945526123,
                    -11.858787536621094,
                    2.1725025177001953,
                    2.1367504596710205,
                    -14.200273513793945,
                    -3.022178888320923,
                    -11.752099990844727,
                    -17.0239315032959,
                    -4.890200138092041,
                    8.435687065124512,
                    -9.9153470993042,
                    -5.978728294372559,
                    -14.040526390075684,
                    18.607986450195312,
                    -0.7409741878509521,
                    17.336421966552734,
                    14.269255638122559,
                    12.699536323547363,
                    0.11735381931066513,
                    -14.190213203430176,
                    -10.857344627380371,
                    2.3144307136535645,
                    0.5000703930854797,
                    -4.824178218841553,
                    3.9663805961608887,
                    -10.37407112121582,
                    1.6129779815673828,
                    -7.003347396850586,
                    -6.363653659820557,
                    -3.0963635444641113,
                    -13.378798484802246,
                    7.042166709899902,
                    -3.119432210922241,
                    16.25288963317871,
                    6.708497047424316,
                    2.857631206512451,
                    -4.498486518859863,
                    -8.124066352844238,
                    15.272815704345703,
                    10.06063175201416,
                    12.452581405639648,
                    2.144334554672241,
                    -5.916821479797363,
                    4.9164276123046875,
                    10.243561744689941,
                    9.474678993225098,
                    12.382648468017578,
                    6.924500465393066,
                    -2.1313693523406982,
                    16.543275833129883,
                    4.412540912628174,
                    9.097739219665527,
                    -17.6480655670166,
                    -1.60982084274292,
                    -0.984393835067749,
                    0.5743904709815979,
                    14.48410701751709,
                    -15.086350440979004,
                    6.062213897705078,
                    6.969173908233643,
                    -13.445307731628418,
                    7.297002792358398,
                    19.334455490112305,
                    -6.03470516204834,
                    0.9847136735916138,
                    -3.487887144088745,
                    0.6826031804084778,
                    16.45049285888672,
                    18.409730911254883,
                    -11.966150283813477,
                    14.295211791992188,
                    -8.638236045837402,
                    -16.55197525024414,
                    -13.924586296081543,
                    -11.538346290588379,
                    -6.635689735412598,
                    -9.411921501159668,
                    -19.492095947265625,
                    8.150083541870117,
                    15.251526832580566,
                    2.2305805683135986,
                    10.90438175201416,
                    -8.554486274719238,
                    14.591179847717285,
                    -6.629641532897949,
                    -14.805228233337402,
                    3.6582446098327637,
                    -14.803271293640137,
                    -10.363676071166992,
                    -1.540656566619873,
                    6.734347820281982,
                    17.07915687561035,
                    7.5505876541137695,
                    19.02656364440918,
                    5.893163681030273,
                    14.360873222351074,
                    10.646400451660156,
                    2.458876848220825,
                    -2.9046671390533447,
                    -12.67417049407959,
                    10.606660842895508,
                    13.557302474975586,
                    -3.9972662925720215,
                    0.12009681761264801,
                    -17.415699005126953,
                    14.938209533691406,
                    13.710611343383789,
                    10.068638801574707,
                    8.331948280334473,
                    4.804147243499756,
                    -5.742974281311035,
                    -6.198784828186035,
                    -17.614580154418945,
                    -0.6712464690208435,
                    16.02668571472168,
                    -3.67824125289917,
                    9.223713874816895,
                    5.544699668884277,
                    1.7403336763381958,
                    -0.8560231328010559,
                    -11.701215744018555,
                    -16.17987060546875,
                    -4.531810283660889,
                    -0.4347863495349884,
                    20.00221061706543,
                    0.794434130191803,
                    -4.198462963104248,
                    -16.68527603149414,
                    -0.7234940528869629,
                    0.7007155418395996,
                    -0.77520751953125,
                    -15.566929817199707,
                    -13.363192558288574,
                    -3.3587241172790527,
                    2.8777518272399902,
                    -19.38477897644043,
                    -6.066982746124268,
                    -14.417500495910645,
                    -4.037876605987549,
                    15.306756019592285,
                    4.669008731842041,
                    4.1721906661987305,
                    8.840353965759277,
                    -15.172101020812988,
                    -14.776533126831055,
                    -16.110254287719727,
                    1.9737542867660522,
                    -11.67835521697998,
                    -2.343257427215576,
                    -5.0874810218811035,
                    -11.762711524963379,
                    0.790168046951294,
                    3.936659574508667,
                    5.280194282531738,
                    6.16749382019043,
                    6.304572105407715,
                    12.677549362182617,
                    6.68231201171875,
                    -6.527207851409912,
                    -8.846611976623535,
                    5.901991367340088,
                    12.389167785644531,
                    -1.699291706085205,
                    -11.604021072387695,
                    6.429656028747559,
                    -25.17221450805664,
                    1.471788763999939,
                    12.733671188354492,
                    8.410235404968262,
                    -5.31090784072876,
                    -1.890425443649292,
                    -4.14995002746582,
                    16.185945510864258,
                    -5.488834857940674,
                    4.382913589477539,
                    15.232827186584473,
                    0.8678096532821655,
                    7.173819065093994,
                    2.5905091762542725,
                    -7.87923002243042,
                    -0.6374440789222717,
                    14.425593376159668,
                    -7.905150413513184,
                    -12.661840438842773,
                    -0.6310595273971558,
                    8.937642097473145,
                    0.9019918441772461,
                    9.62061882019043,
                    13.365058898925781,
                    -17.896116256713867,
                    9.989596366882324,
                    0.829861044883728,
                    1.0978695154190063,
                    8.21196460723877,
                    11.007095336914062,
                    2.2685747146606445,
                    -1.8797032833099365,
                    7.706544399261475,
                    10.695046424865723,
                    -8.418234825134277,
                    5.494842529296875,
                    -15.67192268371582,
                    -1.4300583600997925,
                    11.064697265625,
                    -17.19985008239746,
                    -4.614040374755859,
                    -4.085080146789551,
                    2.6140310764312744,
                    -10.031991004943848,
                    1.9277172088623047,
                    5.414474964141846,
                    -1.7413794994354248,
                    -10.284799575805664,
                    -1.0458201169967651,
                    -14.05077838897705,
                    15.148584365844727,
                    20.52370834350586,
                    1.8787331581115723,
                    0.6312158703804016,
                    -0.28955546021461487,
                    -3.8738434314727783,
                    7.761157989501953,
                    -7.444951057434082,
                    -5.073099613189697,
                    8.66769027709961,
                    5.126489639282227,
                    -3.9989843368530273,
                    -9.718867301940918,
                    17.397125244140625,
                    18.94341468811035,
                    10.709328651428223,
                    3.4726312160491943,
                    -2.740676164627075,
                    -2.446568012237549,
                    -5.618725776672363,
                    9.824173927307129,
                    12.143312454223633,
                    5.579297065734863,
                    2.070746660232544,
                    13.136809349060059,
                    12.132879257202148,
                    2.8386118412017822,
                    1.1108651161193848,
                    3.8231241703033447,
                    11.424942970275879,
                    -3.7539055347442627,
                    12.70609188079834,
                    3.2406585216522217,
                    13.10560131072998,
                    11.031601905822754,
                    -16.04177474975586,
                    -2.712634563446045,
                    6.045648097991943,
                    -2.075784206390381,
                    18.218765258789062,
                    12.457551002502441,
                    -0.2580348253250122,
                    -7.401430606842041,
                    -4.096184253692627,
                    -3.96217679977417,
                    20.8712215423584,
                    1.0351569652557373,
                    3.195512533187866,
                    16.9967041015625,
                    -4.7734808921813965,
                    -3.96767258644104,
                    -10.77565860748291,
                    -5.944804668426514,
                    -8.087745666503906,
                    -10.768776893615723,
                    -13.21725082397461,
                    14.771926879882812,
                    1.4955607652664185,
                    3.705970048904419,
                    -19.42691993713379,
                    9.855496406555176,
                    -7.3177266120910645,
                    2.0249006748199463,
                    -11.658955574035645,
                    -0.24437719583511353,
                    -4.170178413391113,
                    -19.795547485351562,
                    -0.6493027210235596,
                    14.706480026245117,
                    5.687638282775879,
                    5.920898914337158,
                    7.012265205383301,
                    6.838045597076416,
                    1.0821682214736938,
                    5.870642185211182,
                    -6.219814777374268,
                    -4.983034133911133,
                    -15.114765167236328,
                    -0.21741878986358643,
                    -10.590435981750488,
                    4.561063766479492,
                    11.967814445495605,
                    -3.6286439895629883,
                    -9.902226448059082,
                    4.830907821655273,
                    18.033544540405273,
                    1.8338139057159424,
                    10.075462341308594,
                    -24.4113712310791,
                    5.821755409240723,
                    -17.602375030517578,
                    -19.734878540039062,
                    1.8571494817733765,
                    4.794826984405518,
                    1.9852434396743774,
                    -13.30210018157959,
                    -8.083927154541016,
                    14.661614418029785,
                    15.961617469787598,
                    19.595518112182617,
                    20.593496322631836,
                    0.9291422367095947,
                    -3.40474009513855,
                    9.783247947692871,
                    -0.746770441532135,
                    -4.995411396026611,
                    9.151456832885742,
                    -13.201068878173828,
                    -5.372231483459473,
                    0.855775773525238,
                    15.832770347595215,
                    2.017821788787842,
                    0.31943437457084656,
                    -25.187938690185547,
                    21.025100708007812,
                    -7.853809833526611,
                    19.152278900146484,
                    -15.221745491027832,
                    -10.613800048828125,
                    -13.912789344787598,
                    -6.370738506317139,
                    4.035203456878662,
                    -2.9538400173187256,
                    -16.71076202392578,
                    -0.4615447521209717,
                    11.781563758850098,
                    9.145196914672852,
                    6.750886917114258,
                    -11.518198013305664,
                    3.259337902069092,
                    2.451770305633545,
                    -8.131370544433594,
                    -12.714136123657227,
                    0.42811018228530884,
                    5.9233551025390625,
                    -10.622095108032227,
                    8.191169738769531,
                    14.371978759765625,
                    11.843756675720215,
                    12.074047088623047,
                    19.720245361328125,
                    -2.521998167037964,
                    6.588724613189697,
                    1.4621025323867798,
                    -3.3931660652160645,
                    -12.696937561035156,
                    9.073904991149902,
                    -0.7006707787513733,
                    14.995062828063965,
                    -10.088762283325195,
                    4.0683064460754395,
                    -3.029075860977173,
                    -2.824481248855591,
                    10.614826202392578,
                    -6.079682350158691,
                    7.631253242492676,
                    22.025169372558594,
                    13.484098434448242,
                    -15.05540657043457,
                    17.096946716308594
                  ],
                  "mode": "markers",
                  "marker": {
                    "size": 5
                  },
                  "x": [
                    7.935588836669922,
                    7.428297996520996,
                    6.248086452484131,
                    -10.690187454223633,
                    13.377190589904785,
                    -9.3513765335083,
                    21.345792770385742,
                    -9.079924583435059,
                    8.244391441345215,
                    6.800140857696533,
                    -3.5168333053588867,
                    -1.345789909362793,
                    11.883092880249023,
                    -2.5247879028320312,
                    12.877202033996582,
                    0.5116599202156067,
                    -3.06080961227417,
                    7.860625267028809,
                    2.2570011615753174,
                    -3.7265124320983887,
                    1.098671317100525,
                    11.768572807312012,
                    -18.35630989074707,
                    0.45386940240859985,
                    9.965271949768066,
                    8.836227416992188,
                    -1.7268788814544678,
                    4.389482498168945,
                    2.943188190460205,
                    -0.35730278491973877,
                    2.4096405506134033,
                    10.028531074523926,
                    -10.569101333618164,
                    18.986557006835938,
                    19.341129302978516,
                    -0.018128929659724236,
                    -11.314216613769531,
                    -19.159934997558594,
                    6.084827423095703,
                    -16.802227020263672,
                    14.359923362731934,
                    9.740934371948242,
                    6.973057270050049,
                    4.089914798736572,
                    8.86855411529541,
                    -1.2979495525360107,
                    18.497472763061523,
                    -2.118368625640869,
                    14.685361862182617,
                    7.453322887420654,
                    -10.407451629638672,
                    1.0292168855667114,
                    -4.491915225982666,
                    3.481992721557617,
                    18.243871688842773,
                    16.225229263305664,
                    5.755160331726074,
                    -6.391753673553467,
                    -1.8540005683898926,
                    9.46182632446289,
                    10.036216735839844,
                    3.133573293685913,
                    1.7093074321746826,
                    -1.543868899345398,
                    11.275583267211914,
                    -1.1136728525161743,
                    -7.175264835357666,
                    -6.081610679626465,
                    4.836716175079346,
                    4.867086887359619,
                    7.582400321960449,
                    1.6480920314788818,
                    -5.293495178222656,
                    9.835164070129395,
                    -4.015884876251221,
                    -6.5121002197265625,
                    11.981142044067383,
                    11.578471183776855,
                    18.90397071838379,
                    3.90455961227417,
                    -13.809049606323242,
                    5.452746868133545,
                    -1.326937198638916,
                    2.685062885284424,
                    -4.629884243011475,
                    1.1160449981689453,
                    -0.3202977776527405,
                    13.277997016906738,
                    -11.874784469604492,
                    10.29122543334961,
                    12.079710006713867,
                    6.455654621124268,
                    -11.358202934265137,
                    -13.435650825500488,
                    2.7595229148864746,
                    -10.293855667114258,
                    18.997814178466797,
                    -19.115877151489258,
                    11.720727920532227,
                    5.302199840545654,
                    9.734339714050293,
                    0.18089386820793152,
                    -15.554931640625,
                    18.27751922607422,
                    7.456549644470215,
                    3.035060405731201,
                    3.9779956340789795,
                    13.884415626525879,
                    1.3004695177078247,
                    11.006629943847656,
                    -13.381043434143066,
                    1.7150249481201172,
                    -12.871163368225098,
                    14.169809341430664,
                    -1.0911844968795776,
                    -4.334228038787842,
                    7.955447196960449,
                    4.856150150299072,
                    4.802441120147705,
                    -4.961742401123047,
                    -9.11516284942627,
                    -5.875595569610596,
                    14.208792686462402,
                    10.505765914916992,
                    -2.933814764022827,
                    -9.418328285217285,
                    -9.373026847839355,
                    4.257740020751953,
                    -9.132011413574219,
                    -14.343340873718262,
                    2.4969611167907715,
                    7.124110221862793,
                    8.28421401977539,
                    -10.981038093566895,
                    19.17936134338379,
                    -4.8180670738220215,
                    -9.530661582946777,
                    9.740467071533203,
                    -4.1280107498168945,
                    -13.848063468933105,
                    -17.841552734375,
                    -6.393253803253174,
                    6.649777889251709,
                    2.345787286758423,
                    0.8339042067527771,
                    5.488577842712402,
                    -3.756657123565674,
                    19.77841567993164,
                    -11.748751640319824,
                    -5.88478946685791,
                    6.649551868438721,
                    7.405742645263672,
                    4.210716247558594,
                    0.29231634736061096,
                    -2.1913061141967773,
                    -10.591416358947754,
                    -0.02784852124750614,
                    7.394333362579346,
                    13.23086166381836,
                    0.6749864220619202,
                    -4.106616020202637,
                    -6.485083103179932,
                    0.8574140667915344,
                    16.68581771850586,
                    11.810314178466797,
                    15.985082626342773,
                    -1.1856210231781006,
                    -0.4311767816543579,
                    -2.7045412063598633,
                    14.750506401062012,
                    1.7281889915466309,
                    1.6109784841537476,
                    6.1605448722839355,
                    -3.5880372524261475,
                    12.305436134338379,
                    -12.993640899658203,
                    -8.173200607299805,
                    11.320773124694824,
                    8.71020221710205,
                    -13.281318664550781,
                    19.420944213867188,
                    -17.404033660888672,
                    8.106304168701172,
                    14.23625659942627,
                    -6.376507759094238,
                    3.8048806190490723,
                    -6.035218715667725,
                    6.162497043609619,
                    5.5070648193359375,
                    18.190998077392578,
                    6.571169376373291,
                    -7.296955108642578,
                    15.361483573913574,
                    -3.027378797531128,
                    -7.873000144958496,
                    -7.4784040451049805,
                    6.226974010467529,
                    -8.938809394836426,
                    0.8878659605979919,
                    5.923690319061279,
                    -20.287813186645508,
                    16.180538177490234,
                    7.691700458526611,
                    13.963690757751465,
                    -5.326933860778809,
                    17.154672622680664,
                    -13.878570556640625,
                    5.595724105834961,
                    -16.47051239013672,
                    -12.594687461853027,
                    -1.1942448616027832,
                    -0.23007041215896606,
                    0.5594480037689209,
                    -4.380482196807861,
                    -2.860459804534912,
                    9.991315841674805,
                    -6.516562461853027,
                    -14.336074829101562,
                    9.794651985168457,
                    -19.383596420288086,
                    -8.896397590637207,
                    -2.9881093502044678,
                    -16.559297561645508,
                    18.95600700378418,
                    -0.42924144864082336,
                    10.750543594360352,
                    -8.911431312561035,
                    3.3265209197998047,
                    5.45979118347168,
                    2.081890821456909,
                    0.5953097939491272,
                    19.011808395385742,
                    -12.457659721374512,
                    6.480332374572754,
                    -0.5993539690971375,
                    -1.1655378341674805,
                    1.6262673139572144,
                    1.0021867752075195,
                    4.176423072814941,
                    -9.245748519897461,
                    -10.653112411499023,
                    -7.809393405914307,
                    -6.413557052612305,
                    -7.471242904663086,
                    -4.3137712478637695,
                    -16.320619583129883,
                    5.256500244140625,
                    -1.7054651975631714,
                    3.5032312870025635,
                    18.77845573425293,
                    -20.29376983642578,
                    5.3027191162109375,
                    5.638613700866699,
                    11.558788299560547,
                    7.970598220825195,
                    -7.468190670013428,
                    3.9264111518859863,
                    12.102420806884766,
                    -13.33338451385498,
                    -3.4810092449188232,
                    -5.533339977264404,
                    7.690925598144531,
                    2.3859591484069824,
                    -12.348755836486816,
                    -12.354696273803711,
                    -4.857327461242676,
                    1.6171833276748657,
                    -5.003597736358643,
                    -0.03034042753279209,
                    18.562496185302734,
                    -2.3286077976226807,
                    0.3487546443939209,
                    -0.4766411781311035,
                    10.20216178894043,
                    -13.580153465270996,
                    1.8542722463607788,
                    12.264124870300293,
                    -13.582077026367188,
                    -3.0675125122070312,
                    -7.633797645568848,
                    2.9598095417022705,
                    -0.6173647046089172,
                    2.2064850330352783,
                    20.914722442626953,
                    -2.709550142288208,
                    1.529588222503662,
                    -5.510558128356934,
                    -12.310867309570312,
                    -8.944437026977539,
                    0.3670559227466583,
                    0.6198407411575317,
                    6.537356853485107,
                    5.071439266204834,
                    -0.34809064865112305,
                    -4.018749237060547,
                    -10.095138549804688,
                    -0.23030966520309448,
                    -2.518265724182129,
                    -17.167627334594727,
                    -5.14884090423584,
                    -14.44548225402832,
                    -7.591206073760986,
                    0.43932607769966125,
                    3.2642457485198975,
                    7.917975902557373,
                    2.1231446266174316,
                    1.3622374534606934,
                    16.186405181884766,
                    -0.9075393080711365,
                    -14.305340766906738,
                    20.868120193481445,
                    -4.144883155822754,
                    2.59126615524292,
                    3.767369270324707,
                    6.267696857452393,
                    10.905665397644043,
                    -7.355270862579346,
                    18.807992935180664,
                    -17.983736038208008,
                    -1.892497181892395,
                    14.646830558776855,
                    9.776529312133789,
                    10.806540489196777,
                    -0.02169119007885456,
                    4.39822244644165,
                    -14.733312606811523,
                    6.561459064483643,
                    -20.270431518554688,
                    -1.402465581893921,
                    2.5055530071258545,
                    13.47473430633545,
                    18.9539737701416,
                    4.130590438842773,
                    2.804037094116211,
                    -14.749332427978516,
                    3.360389471054077,
                    -3.573221445083618,
                    7.873198986053467,
                    9.394380569458008,
                    0.36286675930023193,
                    -12.676104545593262,
                    -8.33221435546875,
                    3.6942038536071777,
                    -8.17727279663086,
                    11.544755935668945,
                    -20.203514099121094,
                    -4.814815521240234,
                    -1.1212869882583618,
                    9.39665699005127,
                    10.566673278808594,
                    8.390040397644043,
                    0.44204723834991455,
                    1.0057260990142822,
                    14.935567855834961,
                    -6.9144816398620605,
                    10.569833755493164,
                    -2.8476452827453613,
                    -13.559610366821289,
                    12.369441032409668,
                    5.16544771194458,
                    -14.034218788146973,
                    -13.334573745727539,
                    1.5689200162887573,
                    7.018675327301025,
                    11.799712181091309,
                    14.376696586608887,
                    -8.014633178710938,
                    -14.67159652709961,
                    -7.327585220336914,
                    12.60092544555664,
                    -7.964292526245117,
                    -7.498948574066162,
                    -2.8020522594451904,
                    -4.087594509124756,
                    -19.357545852661133,
                    10.729059219360352,
                    -13.944279670715332,
                    14.892019271850586,
                    6.565553665161133,
                    3.838461399078369,
                    -13.620881080627441,
                    -10.352591514587402,
                    5.347275733947754
                  ],
                  "type": "scatter"
                },
                {
                  "opacity": 0.9,
                  "textfont": {
                    "color": "black",
                    "family": "sans serif",
                    "size": 12
                  },
                  "name": "Top Tickers",
                  "text": [
                    "TSLA",
                    "XOM",
                    "AGN",
                    "AA",
                    "INTC",
                    "KO",
                    "IBM",
                    "TGT",
                    "WMT",
                    "AAPL",
                    "JPM",
                    "MU",
                    "CME",
                    "GOOGL",
                    "GS",
                    "CVX",
                    "VZ",
                    "NWSA",
                    "BLK",
                    "UBER",
                    "LMT",
                    "SBUX",
                    "BAC",
                    "WMB",
                    "DIS",
                    "TM",
                    "MS",
                    "BKR",
                    "CAT",
                    "WFC",
                    "CMG",
                    "SO",
                    "C",
                    "EFX",
                    "MSFT",
                    "GE",
                    "AMZN",
                    "BA",
                    "NFLX",
                    "GM"
                  ],
                  "mode": "text",
                  "y": [
                    18.41582679748535,
                    -11.692727088928223,
                    -0.07091224193572998,
                    -5.191001892089844,
                    18.607986450195312,
                    3.9663805961608887,
                    -2.1313693523406982,
                    6.062213897705078,
                    6.969173908233643,
                    19.334455490112305,
                    -19.492095947265625,
                    15.251526832580566,
                    13.710611343383789,
                    20.00221061706543,
                    -19.38477897644043,
                    -11.67835521697998,
                    6.304572105407715,
                    -1.699291706085205,
                    -11.604021072387695,
                    16.185945510864258,
                    5.494842529296875,
                    11.064697265625,
                    -17.19985008239746,
                    -1.0458201169967651,
                    3.4726312160491943,
                    1.1108651161193848,
                    -19.42691993713379,
                    -11.658955574035645,
                    -4.170178413391113,
                    -19.795547485351562,
                    7.012265205383301,
                    -24.4113712310791,
                    -17.602375030517578,
                    -8.083927154541016,
                    19.595518112182617,
                    -3.40474009513855,
                    21.025100708007812,
                    5.9233551025390625,
                    19.720245361328125,
                    -3.3931660652160645
                  ],
                  "x": [
                    7.428297996520996,
                    -10.690187454223633,
                    13.377190589904785,
                    -9.079924583435059,
                    11.768572807312012,
                    -10.569101333618164,
                    5.755160331726074,
                    -7.175264835357666,
                    -6.081610679626465,
                    7.582400321960449,
                    1.1160449981689453,
                    13.277997016906738,
                    -1.0911844968795776,
                    8.28421401977539,
                    2.345787286758423,
                    -10.591416358947754,
                    16.68581771850586,
                    1.7281889915466309,
                    1.6109784841537476,
                    19.420944213867188,
                    -16.47051239013672,
                    -0.23007041215896606,
                    0.5594480037689209,
                    -2.9881093502044678,
                    -9.245748519897461,
                    -20.29376983642578,
                    2.2064850330352783,
                    -5.510558128356934,
                    -8.944437026977539,
                    0.3670559227466583,
                    -4.018749237060547,
                    -4.144883155822754,
                    3.767369270324707,
                    -1.892497181892395,
                    10.806540489196777,
                    -14.733312606811523,
                    7.873198986053467,
                    -13.559610366821289,
                    7.018675327301025,
                    -14.67159652709961
                  ],
                  "type": "scatter"
                }
              ],
              "config": {
                "plotlyServerURL": "https://plot.ly",
                "linkText": "Export to plot.ly",
                "showLink": false
              },
              "layout": {
                "autosize": false,
                "template": {
                  "layout": {
                    "shapedefaults": {
                      "line": {
                        "color": "#2a3f5f"
                      }
                    },
                    "polar": {
                      "radialaxis": {
                        "ticks": "",
                        "gridcolor": "white",
                        "linecolor": "white"
                      },
                      "bgcolor": "#E5ECF6",
                      "angularaxis": {
                        "ticks": "",
                        "gridcolor": "white",
                        "linecolor": "white"
                      }
                    },
                    "colorway": [
                      "#636efa",
                      "#EF553B",
                      "#00cc96",
                      "#ab63fa",
                      "#FFA15A",
                      "#19d3f3",
                      "#FF6692",
                      "#B6E880",
                      "#FF97FF",
                      "#FECB52"
                    ],
                    "xaxis": {
                      "automargin": true,
                      "title": {
                        "standoff": 15
                      },
                      "zerolinewidth": 2,
                      "ticks": "",
                      "zerolinecolor": "white",
                      "gridcolor": "white",
                      "linecolor": "white"
                    },
                    "colorscale": {
                      "diverging": [
                        [
                          0,
                          "#8e0152"
                        ],
                        [
                          0.1,
                          "#c51b7d"
                        ],
                        [
                          0.2,
                          "#de77ae"
                        ],
                        [
                          0.3,
                          "#f1b6da"
                        ],
                        [
                          0.4,
                          "#fde0ef"
                        ],
                        [
                          0.5,
                          "#f7f7f7"
                        ],
                        [
                          0.6,
                          "#e6f5d0"
                        ],
                        [
                          0.7,
                          "#b8e186"
                        ],
                        [
                          0.8,
                          "#7fbc41"
                        ],
                        [
                          0.9,
                          "#4d9221"
                        ],
                        [
                          1,
                          "#276419"
                        ]
                      ],
                      "sequential": [
                        [
                          0,
                          "#0d0887"
                        ],
                        [
                          0.1111111111111111,
                          "#46039f"
                        ],
                        [
                          0.2222222222222222,
                          "#7201a8"
                        ],
                        [
                          0.3333333333333333,
                          "#9c179e"
                        ],
                        [
                          0.4444444444444444,
                          "#bd3786"
                        ],
                        [
                          0.5555555555555556,
                          "#d8576b"
                        ],
                        [
                          0.6666666666666666,
                          "#ed7953"
                        ],
                        [
                          0.7777777777777778,
                          "#fb9f3a"
                        ],
                        [
                          0.8888888888888888,
                          "#fdca26"
                        ],
                        [
                          1,
                          "#f0f921"
                        ]
                      ],
                      "sequentialminus": [
                        [
                          0,
                          "#0d0887"
                        ],
                        [
                          0.1111111111111111,
                          "#46039f"
                        ],
                        [
                          0.2222222222222222,
                          "#7201a8"
                        ],
                        [
                          0.3333333333333333,
                          "#9c179e"
                        ],
                        [
                          0.4444444444444444,
                          "#bd3786"
                        ],
                        [
                          0.5555555555555556,
                          "#d8576b"
                        ],
                        [
                          0.6666666666666666,
                          "#ed7953"
                        ],
                        [
                          0.7777777777777778,
                          "#fb9f3a"
                        ],
                        [
                          0.8888888888888888,
                          "#fdca26"
                        ],
                        [
                          1,
                          "#f0f921"
                        ]
                      ]
                    },
                    "paper_bgcolor": "white",
                    "plot_bgcolor": "#E5ECF6",
                    "title": {
                      "x": 0.05
                    },
                    "scene": {
                      "zaxis": {
                        "backgroundcolor": "#E5ECF6",
                        "ticks": "",
                        "gridwidth": 2,
                        "showbackground": true,
                        "zerolinecolor": "white",
                        "gridcolor": "white",
                        "linecolor": "white"
                      },
                      "xaxis": {
                        "backgroundcolor": "#E5ECF6",
                        "ticks": "",
                        "gridwidth": 2,
                        "showbackground": true,
                        "zerolinecolor": "white",
                        "gridcolor": "white",
                        "linecolor": "white"
                      },
                      "yaxis": {
                        "backgroundcolor": "#E5ECF6",
                        "ticks": "",
                        "gridwidth": 2,
                        "showbackground": true,
                        "zerolinecolor": "white",
                        "gridcolor": "white",
                        "linecolor": "white"
                      }
                    },
                    "yaxis": {
                      "automargin": true,
                      "title": {
                        "standoff": 15
                      },
                      "zerolinewidth": 2,
                      "ticks": "",
                      "zerolinecolor": "white",
                      "gridcolor": "white",
                      "linecolor": "white"
                    },
                    "annotationdefaults": {
                      "arrowwidth": 1,
                      "arrowhead": 0,
                      "arrowcolor": "#2a3f5f"
                    },
                    "hoverlabel": {
                      "align": "left"
                    },
                    "ternary": {
                      "bgcolor": "#E5ECF6",
                      "baxis": {
                        "ticks": "",
                        "gridcolor": "white",
                        "linecolor": "white"
                      },
                      "caxis": {
                        "ticks": "",
                        "gridcolor": "white",
                        "linecolor": "white"
                      },
                      "aaxis": {
                        "ticks": "",
                        "gridcolor": "white",
                        "linecolor": "white"
                      }
                    },
                    "mapbox": {
                      "style": "light"
                    },
                    "hovermode": "closest",
                    "font": {
                      "color": "#2a3f5f"
                    },
                    "geo": {
                      "showland": true,
                      "landcolor": "#E5ECF6",
                      "showlakes": true,
                      "bgcolor": "white",
                      "subunitcolor": "white",
                      "lakecolor": "white"
                    },
                    "coloraxis": {
                      "colorbar": {
                        "outlinewidth": 0,
                        "ticks": ""
                      }
                    }
                  },
                  "data": {
                    "mesh3d": [
                      {
                        "colorbar": {
                          "outlinewidth": 0,
                          "ticks": ""
                        },
                        "type": "mesh3d"
                      }
                    ],
                    "scattercarpet": [
                      {
                        "marker": {
                          "colorbar": {
                            "outlinewidth": 0,
                            "ticks": ""
                          }
                        },
                        "type": "scattercarpet"
                      }
                    ],
                    "pie": [
                      {
                        "automargin": true,
                        "type": "pie"
                      }
                    ],
                    "surface": [
                      {
                        "colorbar": {
                          "outlinewidth": 0,
                          "ticks": ""
                        },
                        "type": "surface",
                        "colorscale": [
                          [
                            0,
                            "#0d0887"
                          ],
                          [
                            0.1111111111111111,
                            "#46039f"
                          ],
                          [
                            0.2222222222222222,
                            "#7201a8"
                          ],
                          [
                            0.3333333333333333,
                            "#9c179e"
                          ],
                          [
                            0.4444444444444444,
                            "#bd3786"
                          ],
                          [
                            0.5555555555555556,
                            "#d8576b"
                          ],
                          [
                            0.6666666666666666,
                            "#ed7953"
                          ],
                          [
                            0.7777777777777778,
                            "#fb9f3a"
                          ],
                          [
                            0.8888888888888888,
                            "#fdca26"
                          ],
                          [
                            1,
                            "#f0f921"
                          ]
                        ]
                      }
                    ],
                    "table": [
                      {
                        "header": {
                          "line": {
                            "color": "white"
                          },
                          "fill": {
                            "color": "#C8D4E3"
                          }
                        },
                        "cells": {
                          "line": {
                            "color": "white"
                          },
                          "fill": {
                            "color": "#EBF0F8"
                          }
                        },
                        "type": "table"
                      }
                    ],
                    "scatterpolargl": [
                      {
                        "marker": {
                          "colorbar": {
                            "outlinewidth": 0,
                            "ticks": ""
                          }
                        },
                        "type": "scatterpolargl"
                      }
                    ],
                    "contour": [
                      {
                        "colorbar": {
                          "outlinewidth": 0,
                          "ticks": ""
                        },
                        "type": "contour",
                        "colorscale": [
                          [
                            0,
                            "#0d0887"
                          ],
                          [
                            0.1111111111111111,
                            "#46039f"
                          ],
                          [
                            0.2222222222222222,
                            "#7201a8"
                          ],
                          [
                            0.3333333333333333,
                            "#9c179e"
                          ],
                          [
                            0.4444444444444444,
                            "#bd3786"
                          ],
                          [
                            0.5555555555555556,
                            "#d8576b"
                          ],
                          [
                            0.6666666666666666,
                            "#ed7953"
                          ],
                          [
                            0.7777777777777778,
                            "#fb9f3a"
                          ],
                          [
                            0.8888888888888888,
                            "#fdca26"
                          ],
                          [
                            1,
                            "#f0f921"
                          ]
                        ]
                      }
                    ],
                    "carpet": [
                      {
                        "type": "carpet",
                        "baxis": {
                          "minorgridcolor": "white",
                          "gridcolor": "white",
                          "linecolor": "white",
                          "endlinecolor": "#2a3f5f",
                          "startlinecolor": "#2a3f5f"
                        },
                        "aaxis": {
                          "minorgridcolor": "white",
                          "gridcolor": "white",
                          "linecolor": "white",
                          "endlinecolor": "#2a3f5f",
                          "startlinecolor": "#2a3f5f"
                        }
                      }
                    ],
                    "contourcarpet": [
                      {
                        "colorbar": {
                          "outlinewidth": 0,
                          "ticks": ""
                        },
                        "type": "contourcarpet"
                      }
                    ],
                    "heatmap": [
                      {
                        "colorbar": {
                          "outlinewidth": 0,
                          "ticks": ""
                        },
                        "type": "heatmap",
                        "colorscale": [
                          [
                            0,
                            "#0d0887"
                          ],
                          [
                            0.1111111111111111,
                            "#46039f"
                          ],
                          [
                            0.2222222222222222,
                            "#7201a8"
                          ],
                          [
                            0.3333333333333333,
                            "#9c179e"
                          ],
                          [
                            0.4444444444444444,
                            "#bd3786"
                          ],
                          [
                            0.5555555555555556,
                            "#d8576b"
                          ],
                          [
                            0.6666666666666666,
                            "#ed7953"
                          ],
                          [
                            0.7777777777777778,
                            "#fb9f3a"
                          ],
                          [
                            0.8888888888888888,
                            "#fdca26"
                          ],
                          [
                            1,
                            "#f0f921"
                          ]
                        ]
                      }
                    ],
                    "scattermapbox": [
                      {
                        "marker": {
                          "colorbar": {
                            "outlinewidth": 0,
                            "ticks": ""
                          }
                        },
                        "type": "scattermapbox"
                      }
                    ],
                    "scatter3d": [
                      {
                        "marker": {
                          "colorbar": {
                            "outlinewidth": 0,
                            "ticks": ""
                          }
                        },
                        "line": {
                          "colorbar": {
                            "outlinewidth": 0,
                            "ticks": ""
                          }
                        },
                        "type": "scatter3d"
                      }
                    ],
                    "scattergl": [
                      {
                        "marker": {
                          "colorbar": {
                            "outlinewidth": 0,
                            "ticks": ""
                          }
                        },
                        "type": "scattergl"
                      }
                    ],
                    "scatterternary": [
                      {
                        "marker": {
                          "colorbar": {
                            "outlinewidth": 0,
                            "ticks": ""
                          }
                        },
                        "type": "scatterternary"
                      }
                    ],
                    "histogram": [
                      {
                        "marker": {
                          "colorbar": {
                            "outlinewidth": 0,
                            "ticks": ""
                          }
                        },
                        "type": "histogram"
                      }
                    ],
                    "heatmapgl": [
                      {
                        "colorbar": {
                          "outlinewidth": 0,
                          "ticks": ""
                        },
                        "type": "heatmapgl",
                        "colorscale": [
                          [
                            0,
                            "#0d0887"
                          ],
                          [
                            0.1111111111111111,
                            "#46039f"
                          ],
                          [
                            0.2222222222222222,
                            "#7201a8"
                          ],
                          [
                            0.3333333333333333,
                            "#9c179e"
                          ],
                          [
                            0.4444444444444444,
                            "#bd3786"
                          ],
                          [
                            0.5555555555555556,
                            "#d8576b"
                          ],
                          [
                            0.6666666666666666,
                            "#ed7953"
                          ],
                          [
                            0.7777777777777778,
                            "#fb9f3a"
                          ],
                          [
                            0.8888888888888888,
                            "#fdca26"
                          ],
                          [
                            1,
                            "#f0f921"
                          ]
                        ]
                      }
                    ],
                    "scatterpolar": [
                      {
                        "marker": {
                          "colorbar": {
                            "outlinewidth": 0,
                            "ticks": ""
                          }
                        },
                        "type": "scatterpolar"
                      }
                    ],
                    "histogram2d": [
                      {
                        "colorbar": {
                          "outlinewidth": 0,
                          "ticks": ""
                        },
                        "type": "histogram2d",
                        "colorscale": [
                          [
                            0,
                            "#0d0887"
                          ],
                          [
                            0.1111111111111111,
                            "#46039f"
                          ],
                          [
                            0.2222222222222222,
                            "#7201a8"
                          ],
                          [
                            0.3333333333333333,
                            "#9c179e"
                          ],
                          [
                            0.4444444444444444,
                            "#bd3786"
                          ],
                          [
                            0.5555555555555556,
                            "#d8576b"
                          ],
                          [
                            0.6666666666666666,
                            "#ed7953"
                          ],
                          [
                            0.7777777777777778,
                            "#fb9f3a"
                          ],
                          [
                            0.8888888888888888,
                            "#fdca26"
                          ],
                          [
                            1,
                            "#f0f921"
                          ]
                        ]
                      }
                    ],
                    "scattergeo": [
                      {
                        "marker": {
                          "colorbar": {
                            "outlinewidth": 0,
                            "ticks": ""
                          }
                        },
                        "type": "scattergeo"
                      }
                    ],
                    "bar": [
                      {
                        "marker": {
                          "line": {
                            "color": "#E5ECF6",
                            "width": 0.5
                          }
                        },
                        "type": "bar",
                        "error_x": {
                          "color": "#2a3f5f"
                        },
                        "error_y": {
                          "color": "#2a3f5f"
                        }
                      }
                    ],
                    "choropleth": [
                      {
                        "colorbar": {
                          "outlinewidth": 0,
                          "ticks": ""
                        },
                        "type": "choropleth"
                      }
                    ],
                    "parcoords": [
                      {
                        "line": {
                          "colorbar": {
                            "outlinewidth": 0,
                            "ticks": ""
                          }
                        },
                        "type": "parcoords"
                      }
                    ],
                    "barpolar": [
                      {
                        "marker": {
                          "line": {
                            "color": "#E5ECF6",
                            "width": 0.5
                          }
                        },
                        "type": "barpolar"
                      }
                    ],
                    "histogram2dcontour": [
                      {
                        "colorbar": {
                          "outlinewidth": 0,
                          "ticks": ""
                        },
                        "type": "histogram2dcontour",
                        "colorscale": [
                          [
                            0,
                            "#0d0887"
                          ],
                          [
                            0.1111111111111111,
                            "#46039f"
                          ],
                          [
                            0.2222222222222222,
                            "#7201a8"
                          ],
                          [
                            0.3333333333333333,
                            "#9c179e"
                          ],
                          [
                            0.4444444444444444,
                            "#bd3786"
                          ],
                          [
                            0.5555555555555556,
                            "#d8576b"
                          ],
                          [
                            0.6666666666666666,
                            "#ed7953"
                          ],
                          [
                            0.7777777777777778,
                            "#fb9f3a"
                          ],
                          [
                            0.8888888888888888,
                            "#fdca26"
                          ],
                          [
                            1,
                            "#f0f921"
                          ]
                        ]
                      }
                    ],
                    "scatter": [
                      {
                        "marker": {
                          "colorbar": {
                            "outlinewidth": 0,
                            "ticks": ""
                          }
                        },
                        "type": "scatter"
                      }
                    ]
                  }
                },
                "title": {
                  "text": "Visualización de la base en el espacio tsne",
                  "font": {
                    "size": 20
                  }
                },
                "yaxis": {
                  "title": {
                    "text": "componente 2"
                  }
                },
                "height": 700,
                "width": 1000,
                "xaxis": {
                  "title": {
                    "text": "componente 1"
                  }
                }
              }
            }
          },
          "metadata": {}
        },
        {
          "output_type": "execute_result",
          "data": {
            "application/vnd.google.colaboratory.intrinsic+json": {
              "type": "string"
            },
            "text/plain": [
              "'temp-plot.html'"
            ]
          },
          "metadata": {},
          "execution_count": 216
        }
      ]
    },
    {
      "cell_type": "code",
      "metadata": {
        "colab": {
          "base_uri": "https://localhost:8080/",
          "height": 717
        },
        "id": "IhoCz0CAe4US",
        "outputId": "59aa1902-616d-48b5-d1fb-56208351bc1d"
      },
      "source": [
        "#En Colab\n",
        "fig_2.show(renderer=\"colab\")"
      ],
      "execution_count": 209,
      "outputs": [
        {
          "output_type": "display_data",
          "data": {
            "text/html": [
              "<html>\n",
              "<head><meta charset=\"utf-8\" /></head>\n",
              "<body>\n",
              "    <div>\n",
              "            <script src=\"https://cdnjs.cloudflare.com/ajax/libs/mathjax/2.7.5/MathJax.js?config=TeX-AMS-MML_SVG\"></script><script type=\"text/javascript\">if (window.MathJax) {MathJax.Hub.Config({SVG: {font: \"STIX-Web\"}});}</script>\n",
              "                <script type=\"text/javascript\">window.PlotlyConfig = {MathJaxConfig: 'local'};</script>\n",
              "        <script src=\"https://cdn.plot.ly/plotly-latest.min.js\"></script>    \n",
              "            <div id=\"d0f913cc-8ec6-4d66-8ef6-98ca20764ea8\" class=\"plotly-graph-div\" style=\"height:700px; width:1000px;\"></div>\n",
              "            <script type=\"text/javascript\">\n",
              "                \n",
              "                    window.PLOTLYENV=window.PLOTLYENV || {};\n",
              "                    \n",
              "                if (document.getElementById(\"d0f913cc-8ec6-4d66-8ef6-98ca20764ea8\")) {\n",
              "                    Plotly.newPlot(\n",
              "                        'd0f913cc-8ec6-4d66-8ef6-98ca20764ea8',\n",
              "                        [{\"marker\": {\"size\": 5}, \"mode\": \"markers\", \"name\": \"Tickers\", \"text\": [\"SPGI\", \"TSLA\", \"SPG\", \"XOM\", \"AGN\", \"PXD\", \"APD\", \"AA\", \"NTRS\", \"PNW\", \"LB\", \"DDS\", \"NEM\", \"AVY\", \"WPM\", \"MTB\", \"MAS\", \"DXCM\", \"CNS\", \"ETR\", \"UBSG\", \"INTC\", \"BIDU\", \"BIIB\", \"XLNX\", \"NTAP\", \"EL\", \"AMP\", \"SCHW\", \"HOG\", \"WYND\", \"IP\", \"KO\", \"CSIQ\", \"ORCL\", \"ALL\", \"STLD\", \"PBR\", \"COF\", \"UTX\", \"CBRL\", \"QCOM\", \"CNMD\", \"EXPD\", \"MAR\", \"AIZ\", \"A\", \"CHEF\", \"AMD\", \"TROW\", \"NUE\", \"GT\", \"CASY\", \"CROX\", \"MSI\", \"CHTR\", \"IBM\", \"PFE\", \"BBY\", \"CDNS\", \"DHI\", \"LOW\", \"VIAC\", \"CRI\", \"CRUS\", \"STT\", \"TGT\", \"WMT\", \"CINF\", \"DXPE\", \"AAPL\", \"ANTM\", \"TAP\", \"CRAI\", \"MO\", \"MRK\", \"NVDA\", \"SSRM\", \"AKAM\", \"CBRE\", \"DTE\", \"TFC\", \"MET\", \"UNH\", \"OKE\", \"JPM\", \"ALGT\", \"MU\", \"PEP\", \"CSCO\", \"AMT\", \"ATVI\", \"RS\", \"DUK\", \"YNDX\", \"MUR\", \"FSLR\", \"CAJ\", \"DISCA\", \"MAT\", \"FLIR\", \"VRTX\", \"RTN\", \"ROP\", \"FISV\", \"SPAR\", \"J\", \"RGLD\", \"DNKN\", \"KLAC\", \"GIS\", \"RDY\", \"NS\", \"MCHP\", \"CME\", \"ROST\", \"ABMD\", \"IPGP\", \"NYT\", \"FLR\", \"EOG\", \"ADM\", \"STX\", \"MGA\", \"BJRI\", \"MCD\", \"PG\", \"RHI\", \"COP\", \"NRG\", \"CVS\", \"GL\", \"GOOGL\", \"KHC\", \"WDC\", \"DD\", \"K\", \"BDX\", \"SHW\", \"NEE\", \"PPG\", \"SNE\", \"HAIN\", \"GS\", \"CI\", \"JEF\", \"CIEN\", \"DELL\", \"MMM\", \"ANF\", \"ITRI\", \"CACC\", \"PRU\", \"BK\", \"TPR\", \"CVX\", \"VAR\", \"NOV\", \"CEF\", \"UPS\", \"UAA\", \"KSS\", \"PCAR\", \"VZ\", \"LRCX\", \"RCI\", \"AFL\", \"AON\", \"AZO\", \"ADI\", \"NWSA\", \"BLK\", \"CTAS\", \"NSC\", \"MDT\", \"LUV\", \"LEN\", \"AIG\", \"LBTYA\", \"GD\", \"UBER\", \"AMX\", \"HSIC\", \"MRVL\", \"SJM\", \"AVAV\", \"RL\", \"AVB\", \"CHN\", \"ATI\", \"BXP\", \"HAL\", \"JNJ\", \"DRI\", \"CLX\", \"KBH\", \"TTWO\", \"ARCH\", \"WBA\", \"CENT\", \"HMC\", \"CMCSA\", \"PAYX\", \"ACN\", \"MOS\", \"DISH\", \"RYAAY\", \"PLD\", \"LMT\", \"VLO\", \"TRV\", \"SBUX\", \"BAC\", \"DOV\", \"FLS\", \"TMO\", \"NBL\", \"STZ\", \"ADP\", \"INFY\", \"APA\", \"WMB\", \"AEIS\", \"LHX\", \"SRPT\", \"PKI\", \"CPB\", \"LH\", \"LNC\", \"BBBY\", \"PGR\", \"WU\", \"XRX\", \"ETFC\", \"ABC\", \"CB\", \"ALXN\", \"BMRN\", \"NTES\", \"DIS\", \"PCG\", \"WHR\", \"FMC\", \"HD\", \"COST\", \"NOC\", \"LAMR\", \"ICE\", \"EXPE\", \"HPQ\", \"TM\", \"AIMC\", \"GRMN\", \"HON\", \"ADSK\", \"TIF\", \"EBAY\", \"TXN\", \"SRE\", \"PH\", \"JWN\", \"ATGE\", \"MYL\", \"DAL\", \"TSN\", \"FTI\", \"THC\", \"OSK\", \"ANIK\", \"CRM\", \"GPS\", \"AMGN\", \"MCK\", \"ARGO\", \"OXY\", \"HUM\", \"AXP\", \"MPC\", \"ENGIE\", \"BMY\", \"ASML\", \"DLTR\", \"MS\", \"VMC\", \"MCO\", \"GPC\", \"BKR\", \"HRL\", \"CAT\", \"WFC\", \"BRKB\", \"EA\", \"CATM\", \"CMI\", \"CMG\", \"FDX\", \"GWW\", \"KMX\", \"L\", \"TEX\", \"XEL\", \"KMB\", \"LAZ\", \"NXPI\", \"INTU\", \"BHC\", \"FII\", \"CTL\", \"GILD\", \"CAG\", \"AMAT\", \"SO\", \"ORLY\", \"C\", \"ETN\", \"ABT\", \"KR\", \"VMW\", \"CF\", \"EFX\", \"ALGN\", \"AVGO\", \"MSFT\", \"CORT\", \"CHKP\", \"GE\", \"EQIX\", \"TTM\", \"DHR\", \"URBN\", \"GOLD\", \"UNP\", \"NLOK\", \"ILMN\", \"YUM\", \"POLYP\", \"SCCO\", \"AMZN\", \"MHO\", \"ALNY\", \"DVN\", \"HES\", \"PNC\", \"FCX\", \"EW\", \"TEVA\", \"DE\", \"IPG\", \"ADBE\", \"CSII\", \"ISRG\", \"BX\", \"V\", \"MA\", \"HRB\", \"AEM\", \"MKC\", \"BA\", \"PAAS\", \"AAXN\", \"CSX\", \"UAL\", \"WYNN\", \"NFLX\", \"PM\", \"CMTL\", \"HSY\", \"GM\", \"SLB\", \"NDAQ\", \"SYY\", \"LLY\", \"CMA\", \"NKE\", \"VALE\", \"BAX\", \"BKNG\", \"BIG\", \"AMED\", \"COLM\", \"JBLU\", \"COG\", \"HAS\"], \"type\": \"scatter\", \"x\": [7.935588836669922, 7.428297996520996, 6.248086452484131, -10.690187454223633, 13.377190589904785, -9.3513765335083, 21.345792770385742, -9.079924583435059, 8.244391441345215, 6.800140857696533, -3.5168333053588867, -1.345789909362793, 11.883092880249023, -2.5247879028320312, 12.877202033996582, 0.5116599202156067, -3.06080961227417, 7.860625267028809, 2.2570011615753174, -3.7265124320983887, 1.098671317100525, 11.768572807312012, -18.35630989074707, 0.45386940240859985, 9.965271949768066, 8.836227416992188, -1.7268788814544678, 4.389482498168945, 2.943188190460205, -0.35730278491973877, 2.4096405506134033, 10.028531074523926, -10.569101333618164, 18.986557006835938, 19.341129302978516, -0.018128929659724236, -11.314216613769531, -19.159934997558594, 6.084827423095703, -16.802227020263672, 14.359923362731934, 9.740934371948242, 6.973057270050049, 4.089914798736572, 8.86855411529541, -1.2979495525360107, 18.497472763061523, -2.118368625640869, 14.685361862182617, 7.453322887420654, -10.407451629638672, 1.0292168855667114, -4.491915225982666, 3.481992721557617, 18.243871688842773, 16.225229263305664, 5.755160331726074, -6.391753673553467, -1.8540005683898926, 9.46182632446289, 10.036216735839844, 3.133573293685913, 1.7093074321746826, -1.543868899345398, 11.275583267211914, -1.1136728525161743, -7.175264835357666, -6.081610679626465, 4.836716175079346, 4.867086887359619, 7.582400321960449, 1.6480920314788818, -5.293495178222656, 9.835164070129395, -4.015884876251221, -6.5121002197265625, 11.981142044067383, 11.578471183776855, 18.90397071838379, 3.90455961227417, -13.809049606323242, 5.452746868133545, -1.326937198638916, 2.685062885284424, -4.629884243011475, 1.1160449981689453, -0.3202977776527405, 13.277997016906738, -11.874784469604492, 10.29122543334961, 12.079710006713867, 6.455654621124268, -11.358202934265137, -13.435650825500488, 2.7595229148864746, -10.293855667114258, 18.997814178466797, -19.115877151489258, 11.720727920532227, 5.302199840545654, 9.734339714050293, 0.18089386820793152, -15.554931640625, 18.27751922607422, 7.456549644470215, 3.035060405731201, 3.9779956340789795, 13.884415626525879, 1.3004695177078247, 11.006629943847656, -13.381043434143066, 1.7150249481201172, -12.871163368225098, 14.169809341430664, -1.0911844968795776, -4.334228038787842, 7.955447196960449, 4.856150150299072, 4.802441120147705, -4.961742401123047, -9.11516284942627, -5.875595569610596, 14.208792686462402, 10.505765914916992, -2.933814764022827, -9.418328285217285, -9.373026847839355, 4.257740020751953, -9.132011413574219, -14.343340873718262, 2.4969611167907715, 7.124110221862793, 8.28421401977539, -10.981038093566895, 19.17936134338379, -4.8180670738220215, -9.530661582946777, 9.740467071533203, -4.1280107498168945, -13.848063468933105, -17.841552734375, -6.393253803253174, 6.649777889251709, 2.345787286758423, 0.8339042067527771, 5.488577842712402, -3.756657123565674, 19.77841567993164, -11.748751640319824, -5.88478946685791, 6.649551868438721, 7.405742645263672, 4.210716247558594, 0.29231634736061096, -2.1913061141967773, -10.591416358947754, -0.02784852124750614, 7.394333362579346, 13.23086166381836, 0.6749864220619202, -4.106616020202637, -6.485083103179932, 0.8574140667915344, 16.68581771850586, 11.810314178466797, 15.985082626342773, -1.1856210231781006, -0.4311767816543579, -2.7045412063598633, 14.750506401062012, 1.7281889915466309, 1.6109784841537476, 6.1605448722839355, -3.5880372524261475, 12.305436134338379, -12.993640899658203, -8.173200607299805, 11.320773124694824, 8.71020221710205, -13.281318664550781, 19.420944213867188, -17.404033660888672, 8.106304168701172, 14.23625659942627, -6.376507759094238, 3.8048806190490723, -6.035218715667725, 6.162497043609619, 5.5070648193359375, 18.190998077392578, 6.571169376373291, -7.296955108642578, 15.361483573913574, -3.027378797531128, -7.873000144958496, -7.4784040451049805, 6.226974010467529, -8.938809394836426, 0.8878659605979919, 5.923690319061279, -20.287813186645508, 16.180538177490234, 7.691700458526611, 13.963690757751465, -5.326933860778809, 17.154672622680664, -13.878570556640625, 5.595724105834961, -16.47051239013672, -12.594687461853027, -1.1942448616027832, -0.23007041215896606, 0.5594480037689209, -4.380482196807861, -2.860459804534912, 9.991315841674805, -6.516562461853027, -14.336074829101562, 9.794651985168457, -19.383596420288086, -8.896397590637207, -2.9881093502044678, -16.559297561645508, 18.95600700378418, -0.42924144864082336, 10.750543594360352, -8.911431312561035, 3.3265209197998047, 5.45979118347168, 2.081890821456909, 0.5953097939491272, 19.011808395385742, -12.457659721374512, 6.480332374572754, -0.5993539690971375, -1.1655378341674805, 1.6262673139572144, 1.0021867752075195, 4.176423072814941, -9.245748519897461, -10.653112411499023, -7.809393405914307, -6.413557052612305, -7.471242904663086, -4.3137712478637695, -16.320619583129883, 5.256500244140625, -1.7054651975631714, 3.5032312870025635, 18.77845573425293, -20.29376983642578, 5.3027191162109375, 5.638613700866699, 11.558788299560547, 7.970598220825195, -7.468190670013428, 3.9264111518859863, 12.102420806884766, -13.33338451385498, -3.4810092449188232, -5.533339977264404, 7.690925598144531, 2.3859591484069824, -12.348755836486816, -12.354696273803711, -4.857327461242676, 1.6171833276748657, -5.003597736358643, -0.03034042753279209, 18.562496185302734, -2.3286077976226807, 0.3487546443939209, -0.4766411781311035, 10.20216178894043, -13.580153465270996, 1.8542722463607788, 12.264124870300293, -13.582077026367188, -3.0675125122070312, -7.633797645568848, 2.9598095417022705, -0.6173647046089172, 2.2064850330352783, 20.914722442626953, -2.709550142288208, 1.529588222503662, -5.510558128356934, -12.310867309570312, -8.944437026977539, 0.3670559227466583, 0.6198407411575317, 6.537356853485107, 5.071439266204834, -0.34809064865112305, -4.018749237060547, -10.095138549804688, -0.23030966520309448, -2.518265724182129, -17.167627334594727, -5.14884090423584, -14.44548225402832, -7.591206073760986, 0.43932607769966125, 3.2642457485198975, 7.917975902557373, 2.1231446266174316, 1.3622374534606934, 16.186405181884766, -0.9075393080711365, -14.305340766906738, 20.868120193481445, -4.144883155822754, 2.59126615524292, 3.767369270324707, 6.267696857452393, 10.905665397644043, -7.355270862579346, 18.807992935180664, -17.983736038208008, -1.892497181892395, 14.646830558776855, 9.776529312133789, 10.806540489196777, -0.02169119007885456, 4.39822244644165, -14.733312606811523, 6.561459064483643, -20.270431518554688, -1.402465581893921, 2.5055530071258545, 13.47473430633545, 18.9539737701416, 4.130590438842773, 2.804037094116211, -14.749332427978516, 3.360389471054077, -3.573221445083618, 7.873198986053467, 9.394380569458008, 0.36286675930023193, -12.676104545593262, -8.33221435546875, 3.6942038536071777, -8.17727279663086, 11.544755935668945, -20.203514099121094, -4.814815521240234, -1.1212869882583618, 9.39665699005127, 10.566673278808594, 8.390040397644043, 0.44204723834991455, 1.0057260990142822, 14.935567855834961, -6.9144816398620605, 10.569833755493164, -2.8476452827453613, -13.559610366821289, 12.369441032409668, 5.16544771194458, -14.034218788146973, -13.334573745727539, 1.5689200162887573, 7.018675327301025, 11.799712181091309, 14.376696586608887, -8.014633178710938, -14.67159652709961, -7.327585220336914, 12.60092544555664, -7.964292526245117, -7.498948574066162, -2.8020522594451904, -4.087594509124756, -19.357545852661133, 10.729059219360352, -13.944279670715332, 14.892019271850586, 6.565553665161133, 3.838461399078369, -13.620881080627441, -10.352591514587402, 5.347275733947754], \"y\": [-2.8382937908172607, 18.41582679748535, -9.209607124328613, -11.692727088928223, -0.07091224193572998, -17.129878997802734, 8.243045806884766, -5.191001892089844, -10.06244945526123, -11.858787536621094, 2.1725025177001953, 2.1367504596710205, -14.200273513793945, -3.022178888320923, -11.752099990844727, -17.0239315032959, -4.890200138092041, 8.435687065124512, -9.9153470993042, -5.978728294372559, -14.040526390075684, 18.607986450195312, -0.7409741878509521, 17.336421966552734, 14.269255638122559, 12.699536323547363, 0.11735381931066513, -14.190213203430176, -10.857344627380371, 2.3144307136535645, 0.5000703930854797, -4.824178218841553, 3.9663805961608887, -10.37407112121582, 1.6129779815673828, -7.003347396850586, -6.363653659820557, -3.0963635444641113, -13.378798484802246, 7.042166709899902, -3.119432210922241, 16.25288963317871, 6.708497047424316, 2.857631206512451, -4.498486518859863, -8.124066352844238, 15.272815704345703, 10.06063175201416, 12.452581405639648, 2.144334554672241, -5.916821479797363, 4.9164276123046875, 10.243561744689941, 9.474678993225098, 12.382648468017578, 6.924500465393066, -2.1313693523406982, 16.543275833129883, 4.412540912628174, 9.097739219665527, -17.6480655670166, -1.60982084274292, -0.984393835067749, 0.5743904709815979, 14.48410701751709, -15.086350440979004, 6.062213897705078, 6.969173908233643, -13.445307731628418, 7.297002792358398, 19.334455490112305, -6.03470516204834, 0.9847136735916138, -3.487887144088745, 0.6826031804084778, 16.45049285888672, 18.409730911254883, -11.966150283813477, 14.295211791992188, -8.638236045837402, -16.55197525024414, -13.924586296081543, -11.538346290588379, -6.635689735412598, -9.411921501159668, -19.492095947265625, 8.150083541870117, 15.251526832580566, 2.2305805683135986, 10.90438175201416, -8.554486274719238, 14.591179847717285, -6.629641532897949, -14.805228233337402, 3.6582446098327637, -14.803271293640137, -10.363676071166992, -1.540656566619873, 6.734347820281982, 17.07915687561035, 7.5505876541137695, 19.02656364440918, 5.893163681030273, 14.360873222351074, 10.646400451660156, 2.458876848220825, -2.9046671390533447, -12.67417049407959, 10.606660842895508, 13.557302474975586, -3.9972662925720215, 0.12009681761264801, -17.415699005126953, 14.938209533691406, 13.710611343383789, 10.068638801574707, 8.331948280334473, 4.804147243499756, -5.742974281311035, -6.198784828186035, -17.614580154418945, -0.6712464690208435, 16.02668571472168, -3.67824125289917, 9.223713874816895, 5.544699668884277, 1.7403336763381958, -0.8560231328010559, -11.701215744018555, -16.17987060546875, -4.531810283660889, -0.4347863495349884, 20.00221061706543, 0.794434130191803, -4.198462963104248, -16.68527603149414, -0.7234940528869629, 0.7007155418395996, -0.77520751953125, -15.566929817199707, -13.363192558288574, -3.3587241172790527, 2.8777518272399902, -19.38477897644043, -6.066982746124268, -14.417500495910645, -4.037876605987549, 15.306756019592285, 4.669008731842041, 4.1721906661987305, 8.840353965759277, -15.172101020812988, -14.776533126831055, -16.110254287719727, 1.9737542867660522, -11.67835521697998, -2.343257427215576, -5.0874810218811035, -11.762711524963379, 0.790168046951294, 3.936659574508667, 5.280194282531738, 6.16749382019043, 6.304572105407715, 12.677549362182617, 6.68231201171875, -6.527207851409912, -8.846611976623535, 5.901991367340088, 12.389167785644531, -1.699291706085205, -11.604021072387695, 6.429656028747559, -25.17221450805664, 1.471788763999939, 12.733671188354492, 8.410235404968262, -5.31090784072876, -1.890425443649292, -4.14995002746582, 16.185945510864258, -5.488834857940674, 4.382913589477539, 15.232827186584473, 0.8678096532821655, 7.173819065093994, 2.5905091762542725, -7.87923002243042, -0.6374440789222717, 14.425593376159668, -7.905150413513184, -12.661840438842773, -0.6310595273971558, 8.937642097473145, 0.9019918441772461, 9.62061882019043, 13.365058898925781, -17.896116256713867, 9.989596366882324, 0.829861044883728, 1.0978695154190063, 8.21196460723877, 11.007095336914062, 2.2685747146606445, -1.8797032833099365, 7.706544399261475, 10.695046424865723, -8.418234825134277, 5.494842529296875, -15.67192268371582, -1.4300583600997925, 11.064697265625, -17.19985008239746, -4.614040374755859, -4.085080146789551, 2.6140310764312744, -10.031991004943848, 1.9277172088623047, 5.414474964141846, -1.7413794994354248, -10.284799575805664, -1.0458201169967651, -14.05077838897705, 15.148584365844727, 20.52370834350586, 1.8787331581115723, 0.6312158703804016, -0.28955546021461487, -3.8738434314727783, 7.761157989501953, -7.444951057434082, -5.073099613189697, 8.66769027709961, 5.126489639282227, -3.9989843368530273, -9.718867301940918, 17.397125244140625, 18.94341468811035, 10.709328651428223, 3.4726312160491943, -2.740676164627075, -2.446568012237549, -5.618725776672363, 9.824173927307129, 12.143312454223633, 5.579297065734863, 2.070746660232544, 13.136809349060059, 12.132879257202148, 2.8386118412017822, 1.1108651161193848, 3.8231241703033447, 11.424942970275879, -3.7539055347442627, 12.70609188079834, 3.2406585216522217, 13.10560131072998, 11.031601905822754, -16.04177474975586, -2.712634563446045, 6.045648097991943, -2.075784206390381, 18.218765258789062, 12.457551002502441, -0.2580348253250122, -7.401430606842041, -4.096184253692627, -3.96217679977417, 20.8712215423584, 1.0351569652557373, 3.195512533187866, 16.9967041015625, -4.7734808921813965, -3.96767258644104, -10.77565860748291, -5.944804668426514, -8.087745666503906, -10.768776893615723, -13.21725082397461, 14.771926879882812, 1.4955607652664185, 3.705970048904419, -19.42691993713379, 9.855496406555176, -7.3177266120910645, 2.0249006748199463, -11.658955574035645, -0.24437719583511353, -4.170178413391113, -19.795547485351562, -0.6493027210235596, 14.706480026245117, 5.687638282775879, 5.920898914337158, 7.012265205383301, 6.838045597076416, 1.0821682214736938, 5.870642185211182, -6.219814777374268, -4.983034133911133, -15.114765167236328, -0.21741878986358643, -10.590435981750488, 4.561063766479492, 11.967814445495605, -3.6286439895629883, -9.902226448059082, 4.830907821655273, 18.033544540405273, 1.8338139057159424, 10.075462341308594, -24.4113712310791, 5.821755409240723, -17.602375030517578, -19.734878540039062, 1.8571494817733765, 4.794826984405518, 1.9852434396743774, -13.30210018157959, -8.083927154541016, 14.661614418029785, 15.961617469787598, 19.595518112182617, 20.593496322631836, 0.9291422367095947, -3.40474009513855, 9.783247947692871, -0.746770441532135, -4.995411396026611, 9.151456832885742, -13.201068878173828, -5.372231483459473, 0.855775773525238, 15.832770347595215, 2.017821788787842, 0.31943437457084656, -25.187938690185547, 21.025100708007812, -7.853809833526611, 19.152278900146484, -15.221745491027832, -10.613800048828125, -13.912789344787598, -6.370738506317139, 4.035203456878662, -2.9538400173187256, -16.71076202392578, -0.4615447521209717, 11.781563758850098, 9.145196914672852, 6.750886917114258, -11.518198013305664, 3.259337902069092, 2.451770305633545, -8.131370544433594, -12.714136123657227, 0.42811018228530884, 5.9233551025390625, -10.622095108032227, 8.191169738769531, 14.371978759765625, 11.843756675720215, 12.074047088623047, 19.720245361328125, -2.521998167037964, 6.588724613189697, 1.4621025323867798, -3.3931660652160645, -12.696937561035156, 9.073904991149902, -0.7006707787513733, 14.995062828063965, -10.088762283325195, 4.0683064460754395, -3.029075860977173, -2.824481248855591, 10.614826202392578, -6.079682350158691, 7.631253242492676, 22.025169372558594, 13.484098434448242, -15.05540657043457, 17.096946716308594]}, {\"mode\": \"text\", \"name\": \"Top Tickers\", \"opacity\": 0.9, \"text\": [\"TSLA\", \"XOM\", \"AGN\", \"AA\", \"INTC\", \"KO\", \"IBM\", \"TGT\", \"WMT\", \"AAPL\", \"JPM\", \"MU\", \"CME\", \"GOOGL\", \"GS\", \"CVX\", \"VZ\", \"NWSA\", \"BLK\", \"UBER\", \"LMT\", \"SBUX\", \"BAC\", \"WMB\", \"DIS\", \"TM\", \"MS\", \"BKR\", \"CAT\", \"WFC\", \"CMG\", \"SO\", \"C\", \"EFX\", \"MSFT\", \"GE\", \"AMZN\", \"BA\", \"NFLX\", \"GM\"], \"textfont\": {\"color\": \"black\", \"family\": \"sans serif\", \"size\": 12}, \"type\": \"scatter\", \"x\": [7.428297996520996, -10.690187454223633, 13.377190589904785, -9.079924583435059, 11.768572807312012, -10.569101333618164, 5.755160331726074, -7.175264835357666, -6.081610679626465, 7.582400321960449, 1.1160449981689453, 13.277997016906738, -1.0911844968795776, 8.28421401977539, 2.345787286758423, -10.591416358947754, 16.68581771850586, 1.7281889915466309, 1.6109784841537476, 19.420944213867188, -16.47051239013672, -0.23007041215896606, 0.5594480037689209, -2.9881093502044678, -9.245748519897461, -20.29376983642578, 2.2064850330352783, -5.510558128356934, -8.944437026977539, 0.3670559227466583, -4.018749237060547, -4.144883155822754, 3.767369270324707, -1.892497181892395, 10.806540489196777, -14.733312606811523, 7.873198986053467, -13.559610366821289, 7.018675327301025, -14.67159652709961], \"y\": [18.41582679748535, -11.692727088928223, -0.07091224193572998, -5.191001892089844, 18.607986450195312, 3.9663805961608887, -2.1313693523406982, 6.062213897705078, 6.969173908233643, 19.334455490112305, -19.492095947265625, 15.251526832580566, 13.710611343383789, 20.00221061706543, -19.38477897644043, -11.67835521697998, 6.304572105407715, -1.699291706085205, -11.604021072387695, 16.185945510864258, 5.494842529296875, 11.064697265625, -17.19985008239746, -1.0458201169967651, 3.4726312160491943, 1.1108651161193848, -19.42691993713379, -11.658955574035645, -4.170178413391113, -19.795547485351562, 7.012265205383301, -24.4113712310791, -17.602375030517578, -8.083927154541016, 19.595518112182617, -3.40474009513855, 21.025100708007812, 5.9233551025390625, 19.720245361328125, -3.3931660652160645]}],\n",
              "                        {\"autosize\": false, \"height\": 700, \"template\": {\"data\": {\"bar\": [{\"error_x\": {\"color\": \"#2a3f5f\"}, \"error_y\": {\"color\": \"#2a3f5f\"}, \"marker\": {\"line\": {\"color\": \"#E5ECF6\", \"width\": 0.5}}, \"type\": \"bar\"}], \"barpolar\": [{\"marker\": {\"line\": {\"color\": \"#E5ECF6\", \"width\": 0.5}}, \"type\": \"barpolar\"}], \"carpet\": [{\"aaxis\": {\"endlinecolor\": \"#2a3f5f\", \"gridcolor\": \"white\", \"linecolor\": \"white\", \"minorgridcolor\": \"white\", \"startlinecolor\": \"#2a3f5f\"}, \"baxis\": {\"endlinecolor\": \"#2a3f5f\", \"gridcolor\": \"white\", \"linecolor\": \"white\", \"minorgridcolor\": \"white\", \"startlinecolor\": \"#2a3f5f\"}, \"type\": \"carpet\"}], \"choropleth\": [{\"colorbar\": {\"outlinewidth\": 0, \"ticks\": \"\"}, \"type\": \"choropleth\"}], \"contour\": [{\"colorbar\": {\"outlinewidth\": 0, \"ticks\": \"\"}, \"colorscale\": [[0.0, \"#0d0887\"], [0.1111111111111111, \"#46039f\"], [0.2222222222222222, \"#7201a8\"], [0.3333333333333333, \"#9c179e\"], [0.4444444444444444, \"#bd3786\"], [0.5555555555555556, \"#d8576b\"], [0.6666666666666666, \"#ed7953\"], [0.7777777777777778, \"#fb9f3a\"], [0.8888888888888888, \"#fdca26\"], [1.0, \"#f0f921\"]], \"type\": \"contour\"}], \"contourcarpet\": [{\"colorbar\": {\"outlinewidth\": 0, \"ticks\": \"\"}, \"type\": \"contourcarpet\"}], \"heatmap\": [{\"colorbar\": {\"outlinewidth\": 0, \"ticks\": \"\"}, \"colorscale\": [[0.0, \"#0d0887\"], [0.1111111111111111, \"#46039f\"], [0.2222222222222222, \"#7201a8\"], [0.3333333333333333, \"#9c179e\"], [0.4444444444444444, \"#bd3786\"], [0.5555555555555556, \"#d8576b\"], [0.6666666666666666, \"#ed7953\"], [0.7777777777777778, \"#fb9f3a\"], [0.8888888888888888, \"#fdca26\"], [1.0, \"#f0f921\"]], \"type\": \"heatmap\"}], \"heatmapgl\": [{\"colorbar\": {\"outlinewidth\": 0, \"ticks\": \"\"}, \"colorscale\": [[0.0, \"#0d0887\"], [0.1111111111111111, \"#46039f\"], [0.2222222222222222, \"#7201a8\"], [0.3333333333333333, \"#9c179e\"], [0.4444444444444444, \"#bd3786\"], [0.5555555555555556, \"#d8576b\"], [0.6666666666666666, \"#ed7953\"], [0.7777777777777778, \"#fb9f3a\"], [0.8888888888888888, \"#fdca26\"], [1.0, \"#f0f921\"]], \"type\": \"heatmapgl\"}], \"histogram\": [{\"marker\": {\"colorbar\": {\"outlinewidth\": 0, \"ticks\": \"\"}}, \"type\": \"histogram\"}], \"histogram2d\": [{\"colorbar\": {\"outlinewidth\": 0, \"ticks\": \"\"}, \"colorscale\": [[0.0, \"#0d0887\"], [0.1111111111111111, \"#46039f\"], [0.2222222222222222, \"#7201a8\"], [0.3333333333333333, \"#9c179e\"], [0.4444444444444444, \"#bd3786\"], [0.5555555555555556, \"#d8576b\"], [0.6666666666666666, \"#ed7953\"], [0.7777777777777778, \"#fb9f3a\"], [0.8888888888888888, \"#fdca26\"], [1.0, \"#f0f921\"]], \"type\": \"histogram2d\"}], \"histogram2dcontour\": [{\"colorbar\": {\"outlinewidth\": 0, \"ticks\": \"\"}, \"colorscale\": [[0.0, \"#0d0887\"], [0.1111111111111111, \"#46039f\"], [0.2222222222222222, \"#7201a8\"], [0.3333333333333333, \"#9c179e\"], [0.4444444444444444, \"#bd3786\"], [0.5555555555555556, \"#d8576b\"], [0.6666666666666666, \"#ed7953\"], [0.7777777777777778, \"#fb9f3a\"], [0.8888888888888888, \"#fdca26\"], [1.0, \"#f0f921\"]], \"type\": \"histogram2dcontour\"}], \"mesh3d\": [{\"colorbar\": {\"outlinewidth\": 0, \"ticks\": \"\"}, \"type\": \"mesh3d\"}], \"parcoords\": [{\"line\": {\"colorbar\": {\"outlinewidth\": 0, \"ticks\": \"\"}}, \"type\": \"parcoords\"}], \"pie\": [{\"automargin\": true, \"type\": \"pie\"}], \"scatter\": [{\"marker\": {\"colorbar\": {\"outlinewidth\": 0, \"ticks\": \"\"}}, \"type\": \"scatter\"}], \"scatter3d\": [{\"line\": {\"colorbar\": {\"outlinewidth\": 0, \"ticks\": \"\"}}, \"marker\": {\"colorbar\": {\"outlinewidth\": 0, \"ticks\": \"\"}}, \"type\": \"scatter3d\"}], \"scattercarpet\": [{\"marker\": {\"colorbar\": {\"outlinewidth\": 0, \"ticks\": \"\"}}, \"type\": \"scattercarpet\"}], \"scattergeo\": [{\"marker\": {\"colorbar\": {\"outlinewidth\": 0, \"ticks\": \"\"}}, \"type\": \"scattergeo\"}], \"scattergl\": [{\"marker\": {\"colorbar\": {\"outlinewidth\": 0, \"ticks\": \"\"}}, \"type\": \"scattergl\"}], \"scattermapbox\": [{\"marker\": {\"colorbar\": {\"outlinewidth\": 0, \"ticks\": \"\"}}, \"type\": \"scattermapbox\"}], \"scatterpolar\": [{\"marker\": {\"colorbar\": {\"outlinewidth\": 0, \"ticks\": \"\"}}, \"type\": \"scatterpolar\"}], \"scatterpolargl\": [{\"marker\": {\"colorbar\": {\"outlinewidth\": 0, \"ticks\": \"\"}}, \"type\": \"scatterpolargl\"}], \"scatterternary\": [{\"marker\": {\"colorbar\": {\"outlinewidth\": 0, \"ticks\": \"\"}}, \"type\": \"scatterternary\"}], \"surface\": [{\"colorbar\": {\"outlinewidth\": 0, \"ticks\": \"\"}, \"colorscale\": [[0.0, \"#0d0887\"], [0.1111111111111111, \"#46039f\"], [0.2222222222222222, \"#7201a8\"], [0.3333333333333333, \"#9c179e\"], [0.4444444444444444, \"#bd3786\"], [0.5555555555555556, \"#d8576b\"], [0.6666666666666666, \"#ed7953\"], [0.7777777777777778, \"#fb9f3a\"], [0.8888888888888888, \"#fdca26\"], [1.0, \"#f0f921\"]], \"type\": \"surface\"}], \"table\": [{\"cells\": {\"fill\": {\"color\": \"#EBF0F8\"}, \"line\": {\"color\": \"white\"}}, \"header\": {\"fill\": {\"color\": \"#C8D4E3\"}, \"line\": {\"color\": \"white\"}}, \"type\": \"table\"}]}, \"layout\": {\"annotationdefaults\": {\"arrowcolor\": \"#2a3f5f\", \"arrowhead\": 0, \"arrowwidth\": 1}, \"coloraxis\": {\"colorbar\": {\"outlinewidth\": 0, \"ticks\": \"\"}}, \"colorscale\": {\"diverging\": [[0, \"#8e0152\"], [0.1, \"#c51b7d\"], [0.2, \"#de77ae\"], [0.3, \"#f1b6da\"], [0.4, \"#fde0ef\"], [0.5, \"#f7f7f7\"], [0.6, \"#e6f5d0\"], [0.7, \"#b8e186\"], [0.8, \"#7fbc41\"], [0.9, \"#4d9221\"], [1, \"#276419\"]], \"sequential\": [[0.0, \"#0d0887\"], [0.1111111111111111, \"#46039f\"], [0.2222222222222222, \"#7201a8\"], [0.3333333333333333, \"#9c179e\"], [0.4444444444444444, \"#bd3786\"], [0.5555555555555556, \"#d8576b\"], [0.6666666666666666, \"#ed7953\"], [0.7777777777777778, \"#fb9f3a\"], [0.8888888888888888, \"#fdca26\"], [1.0, \"#f0f921\"]], \"sequentialminus\": [[0.0, \"#0d0887\"], [0.1111111111111111, \"#46039f\"], [0.2222222222222222, \"#7201a8\"], [0.3333333333333333, \"#9c179e\"], [0.4444444444444444, \"#bd3786\"], [0.5555555555555556, \"#d8576b\"], [0.6666666666666666, \"#ed7953\"], [0.7777777777777778, \"#fb9f3a\"], [0.8888888888888888, \"#fdca26\"], [1.0, \"#f0f921\"]]}, \"colorway\": [\"#636efa\", \"#EF553B\", \"#00cc96\", \"#ab63fa\", \"#FFA15A\", \"#19d3f3\", \"#FF6692\", \"#B6E880\", \"#FF97FF\", \"#FECB52\"], \"font\": {\"color\": \"#2a3f5f\"}, \"geo\": {\"bgcolor\": \"white\", \"lakecolor\": \"white\", \"landcolor\": \"#E5ECF6\", \"showlakes\": true, \"showland\": true, \"subunitcolor\": \"white\"}, \"hoverlabel\": {\"align\": \"left\"}, \"hovermode\": \"closest\", \"mapbox\": {\"style\": \"light\"}, \"paper_bgcolor\": \"white\", \"plot_bgcolor\": \"#E5ECF6\", \"polar\": {\"angularaxis\": {\"gridcolor\": \"white\", \"linecolor\": \"white\", \"ticks\": \"\"}, \"bgcolor\": \"#E5ECF6\", \"radialaxis\": {\"gridcolor\": \"white\", \"linecolor\": \"white\", \"ticks\": \"\"}}, \"scene\": {\"xaxis\": {\"backgroundcolor\": \"#E5ECF6\", \"gridcolor\": \"white\", \"gridwidth\": 2, \"linecolor\": \"white\", \"showbackground\": true, \"ticks\": \"\", \"zerolinecolor\": \"white\"}, \"yaxis\": {\"backgroundcolor\": \"#E5ECF6\", \"gridcolor\": \"white\", \"gridwidth\": 2, \"linecolor\": \"white\", \"showbackground\": true, \"ticks\": \"\", \"zerolinecolor\": \"white\"}, \"zaxis\": {\"backgroundcolor\": \"#E5ECF6\", \"gridcolor\": \"white\", \"gridwidth\": 2, \"linecolor\": \"white\", \"showbackground\": true, \"ticks\": \"\", \"zerolinecolor\": \"white\"}}, \"shapedefaults\": {\"line\": {\"color\": \"#2a3f5f\"}}, \"ternary\": {\"aaxis\": {\"gridcolor\": \"white\", \"linecolor\": \"white\", \"ticks\": \"\"}, \"baxis\": {\"gridcolor\": \"white\", \"linecolor\": \"white\", \"ticks\": \"\"}, \"bgcolor\": \"#E5ECF6\", \"caxis\": {\"gridcolor\": \"white\", \"linecolor\": \"white\", \"ticks\": \"\"}}, \"title\": {\"x\": 0.05}, \"xaxis\": {\"automargin\": true, \"gridcolor\": \"white\", \"linecolor\": \"white\", \"ticks\": \"\", \"title\": {\"standoff\": 15}, \"zerolinecolor\": \"white\", \"zerolinewidth\": 2}, \"yaxis\": {\"automargin\": true, \"gridcolor\": \"white\", \"linecolor\": \"white\", \"ticks\": \"\", \"title\": {\"standoff\": 15}, \"zerolinecolor\": \"white\", \"zerolinewidth\": 2}}}, \"title\": {\"font\": {\"size\": 20}, \"text\": \"Visualizaci\\u00f3n de la base en el espacio tsne\"}, \"width\": 1000, \"xaxis\": {\"title\": {\"text\": \"componente 1\"}}, \"yaxis\": {\"title\": {\"text\": \"componente 2\"}}},\n",
              "                        {\"responsive\": true}\n",
              "                    ).then(function(){\n",
              "                            \n",
              "var gd = document.getElementById('d0f913cc-8ec6-4d66-8ef6-98ca20764ea8');\n",
              "var x = new MutationObserver(function (mutations, observer) {{\n",
              "        var display = window.getComputedStyle(gd).display;\n",
              "        if (!display || display === 'none') {{\n",
              "            console.log([gd, 'removed!']);\n",
              "            Plotly.purge(gd);\n",
              "            observer.disconnect();\n",
              "        }}\n",
              "}});\n",
              "\n",
              "// Listen for the removal of the full notebook cells\n",
              "var notebookContainer = gd.closest('#notebook-container');\n",
              "if (notebookContainer) {{\n",
              "    x.observe(notebookContainer, {childList: true});\n",
              "}}\n",
              "\n",
              "// Listen for the clearing of the current output cell\n",
              "var outputEl = gd.closest('.output');\n",
              "if (outputEl) {{\n",
              "    x.observe(outputEl, {childList: true});\n",
              "}}\n",
              "\n",
              "                        })\n",
              "                };\n",
              "                \n",
              "            </script>\n",
              "        </div>\n",
              "</body>\n",
              "</html>"
            ]
          },
          "metadata": {}
        }
      ]
    },
    {
      "cell_type": "markdown",
      "metadata": {
        "id": "iL_C9oZkgoPp"
      },
      "source": [
        "### Sectores"
      ]
    },
    {
      "cell_type": "markdown",
      "metadata": {
        "id": "9X1Zo0aJAWEH"
      },
      "source": [
        "Agregamos sectores al grafico anterior"
      ]
    },
    {
      "cell_type": "code",
      "metadata": {
        "colab": {
          "base_uri": "https://localhost:8080/"
        },
        "id": "yclSEEhFl8Tt",
        "outputId": "0420d5f1-8c04-40be-cce6-99ca743744e2"
      },
      "source": [
        "df_ticker_with_name[\"Sector\"]=df_ticker_with_name[\"tickers\"].apply(lambda x: sector(x))\n",
        "\n",
        "df_ticker_with_name[\"Sector\"].value_counts()"
      ],
      "execution_count": 210,
      "outputs": [
        {
          "output_type": "execute_result",
          "data": {
            "text/plain": [
              "consumer cyclical         60\n",
              "technology                58\n",
              "industrials               52\n",
              "healthcare                48\n",
              "financial services        45\n",
              "consumer defensive        33\n",
              "energy                    22\n",
              "basic materials           22\n",
              "nan                       18\n",
              "utilities                 10\n",
              "communication services     9\n",
              "real estate                6\n",
              "Name: Sector, dtype: int64"
            ]
          },
          "metadata": {},
          "execution_count": 210
        }
      ]
    },
    {
      "cell_type": "code",
      "metadata": {
        "id": "A3tfx1R0gH9A"
      },
      "source": [
        "bool_technology= df_ticker_with_name[\"Sector\"] == 'technology'\n",
        "bool_financial= df_ticker_with_name[\"Sector\"] == 'financial services'\n",
        "bool_industrials= df_ticker_with_name[\"Sector\"] == 'industrials'\n",
        "\n",
        "bool_healthcare= df_ticker_with_name[\"Sector\"] == 'healthcare'\n",
        "bool_consumer_cyclical= df_ticker_with_name[\"Sector\"] == 'consumer cyclical'\n",
        "bool_consumer_defensive= df_ticker_with_name[\"Sector\"] == 'consumer defensive'\n",
        "bool_energy= df_ticker_with_name[\"Sector\"] == 'energy'\n",
        "bool_basic_materials= df_ticker_with_name[\"Sector\"] == 'basic materials'\n",
        "\n",
        "bool_crack=df_ticker_with_name[\"tickers\"].isin(ticker_top)\n",
        "\n",
        "#palette=['navy','red','#A2D5F2','orange','green','pink']  \n",
        "data=[]\n",
        "\n",
        "technology =go.Scatter(x=X_tsne_with_names[bool_technology,0], y=X_tsne_with_names[bool_technology,1],name='technology',\n",
        "                      text=df_ticker_with_name.loc[bool_technology,'tickers'],\n",
        "                      opacity=0.9,marker=dict(color=palette[2],size=5),mode='markers')\n",
        "\n",
        "financial =go.Scatter(x=X_tsne_with_names[bool_financial,0], y=X_tsne_with_names[bool_financial,1],name='financial',\n",
        "                      text=df_ticker_with_name.loc[bool_financial,'tickers'],\n",
        "                      opacity=0.6,marker=dict(color=palette[1],size=5),mode='markers')\n",
        "\n",
        "industrials =go.Scatter(x=X_tsne_with_names[bool_industrials,0], y=X_tsne_with_names[bool_industrials,1],name='industrials',\n",
        "                      text=df_ticker_with_name.loc[bool_industrials,'tickers'],\n",
        "                      opacity=0.7,marker=dict(color=palette[3],size=5),mode='markers')\n",
        "\n",
        "healthcare =go.Scatter(x=X_tsne_with_names[bool_healthcare,0], y=X_tsne_with_names[bool_healthcare,1],name='healthcare',\n",
        "                      text=df_ticker_with_name.loc[bool_healthcare,'tickers'],\n",
        "                      opacity=0.4,marker=dict(color=palette[5],size=5),mode='markers')\n",
        "\n",
        "consumer_cyclical =go.Scatter(x=X_tsne_with_names[bool_consumer_cyclical,0], y=X_tsne_with_names[bool_consumer_cyclical,1],name='consumer cyclical',\n",
        "                      text=df_ticker_with_name.loc[bool_consumer_cyclical,'tickers'],\n",
        "                      opacity=0.9,marker=dict(color=palette[6],size=5),mode='markers')\n",
        "\n",
        "consumer_defensive =go.Scatter(x=X_tsne_with_names[bool_consumer_defensive,0], y=X_tsne_with_names[bool_consumer_defensive,1],name='consumer defensive',\n",
        "                      text=df_ticker_with_name.loc[bool_consumer_defensive,'tickers'],\n",
        "                      opacity=0.9,marker=dict(color=palette[7],size=5),mode='markers')\n",
        "\n",
        "energy =go.Scatter(x=X_tsne_with_names[bool_energy,0], y=X_tsne_with_names[bool_energy,1],name='energy',\n",
        "                      text=df_ticker_with_name.loc[bool_energy,'tickers'],\n",
        "                      opacity=0.9,marker=dict(color=palette[8],size=5),mode='markers')\n",
        "\n",
        "basic_materials =go.Scatter(x=X_tsne_with_names[bool_basic_materials,0], y=X_tsne_with_names[bool_basic_materials,1],name='basic materials',\n",
        "                      text=df_ticker_with_name.loc[bool_basic_materials,'tickers'],\n",
        "                      opacity=0.9,marker=dict(color=palette[0],size=5),mode='markers')\n",
        "\n",
        "crack =go.Scatter(x=X_tsne_with_names[bool_crack,0], y=X_tsne_with_names[bool_crack,1],name='Top',\n",
        "                      text=df_ticker_with_name.loc[bool_crack,'tickers'],\n",
        "                      textfont=dict(family='sans serif',size=12,color='black'),\n",
        "                      opacity=0.9,mode='text')\n",
        "\n",
        "data=[technology,financial,industrials,healthcare,energy,basic_materials,crack,consumer_cyclical,consumer_defensive] # \n",
        "\n",
        "layout = go.Layout(title=\"t-SNE - News Tickers\",titlefont=dict(size=20),\n",
        "                autosize=False, width=1150,height=750)\n",
        "\n",
        "fig_3_sector = go.Figure(data=data, layout=layout)"
      ],
      "execution_count": 211,
      "outputs": []
    },
    {
      "cell_type": "code",
      "metadata": {
        "colab": {
          "base_uri": "https://localhost:8080/",
          "height": 785
        },
        "id": "sa8sRub9XA1i",
        "outputId": "8805ac26-be95-48db-cbb7-5463c37fe301"
      },
      "source": [
        "\n",
        "iplot(fig_3_sector)\n",
        "plot(fig_3_sector)"
      ],
      "execution_count": 217,
      "outputs": [
        {
          "output_type": "display_data",
          "data": {
            "text/html": [
              "<div>\n",
              "        \n",
              "        \n",
              "            <div id=\"9a705cac-70e8-4fa8-b2d1-2fcd1f4af154\" class=\"plotly-graph-div\" style=\"height:750px; width:1150px;\"></div>\n",
              "            <script type=\"text/javascript\">\n",
              "                require([\"plotly\"], function(Plotly) {\n",
              "                    window.PLOTLYENV=window.PLOTLYENV || {};\n",
              "                    \n",
              "                if (document.getElementById(\"9a705cac-70e8-4fa8-b2d1-2fcd1f4af154\")) {\n",
              "                    Plotly.newPlot(\n",
              "                        '9a705cac-70e8-4fa8-b2d1-2fcd1f4af154',\n",
              "                        [{\"marker\": {\"color\": \"yellow\", \"size\": 5}, \"mode\": \"markers\", \"name\": \"technology\", \"opacity\": 0.9, \"text\": [\"INTC\", \"BIDU\", \"XLNX\", \"NTAP\", \"CSIQ\", \"ORCL\", \"QCOM\", \"AMD\", \"MSI\", \"IBM\", \"CDNS\", \"CRUS\", \"AAPL\", \"NVDA\", \"AKAM\", \"MU\", \"CSCO\", \"ATVI\", \"YNDX\", \"FSLR\", \"FLIR\", \"KLAC\", \"MCHP\", \"IPGP\", \"STX\", \"GOOGL\", \"WDC\", \"SNE\", \"CIEN\", \"ITRI\", \"LRCX\", \"ADI\", \"MRVL\", \"TTWO\", \"ACN\", \"INFY\", \"AEIS\", \"XRX\", \"NTES\", \"WHR\", \"HPQ\", \"GRMN\", \"ADSK\", \"TXN\", \"CRM\", \"ASML\", \"EA\", \"NXPI\", \"INTU\", \"AMAT\", \"VMW\", \"AVGO\", \"MSFT\", \"CHKP\", \"EQIX\", \"AMZN\", \"ADBE\", \"CMTL\"], \"type\": \"scatter\", \"x\": [11.768572807312012, -18.35630989074707, 9.965271949768066, 8.836227416992188, 18.986557006835938, 19.341129302978516, 9.740934371948242, 14.685361862182617, 18.243871688842773, 5.755160331726074, 9.46182632446289, 11.275583267211914, 7.582400321960449, 11.981142044067383, 18.90397071838379, 13.277997016906738, 10.29122543334961, 6.455654621124268, 2.7595229148864746, 18.997814178466797, 9.734339714050293, 11.006629943847656, 14.169809341430664, 4.856150150299072, 14.208792686462402, 8.28421401977539, 19.17936134338379, -6.393253803253174, -3.756657123565674, 6.649551868438721, 11.810314178466797, 14.750506401062012, 14.23625659942627, 6.226974010467529, 13.963690757751465, -19.383596420288086, -16.559297561645508, -12.457659721374512, 4.176423072814941, -7.809393405914307, 18.77845573425293, 5.638613700866699, 7.970598220825195, 12.102420806884766, 18.562496185302734, 2.9598095417022705, 6.537356853485107, 3.2642457485198975, 7.917975902557373, 20.868120193481445, 18.807992935180664, 9.776529312133789, 10.806540489196777, 4.39822244644165, 6.561459064483643, 7.873198986053467, 9.39665699005127, 14.376696586608887], \"y\": [18.607986450195312, -0.7409741878509521, 14.269255638122559, 12.699536323547363, -10.37407112121582, 1.6129779815673828, 16.25288963317871, 12.452581405639648, 12.382648468017578, -2.1313693523406982, 9.097739219665527, 14.48410701751709, 19.334455490112305, 18.409730911254883, 14.295211791992188, 15.251526832580566, 10.90438175201416, 14.591179847717285, 3.6582446098327637, -10.363676071166992, 7.5505876541137695, 13.557302474975586, 14.938209533691406, 4.804147243499756, 16.02668571472168, 20.00221061706543, -4.198462963104248, -3.3587241172790527, -4.037876605987549, 8.840353965759277, 12.677549362182617, 12.389167785644531, 15.232827186584473, 13.365058898925781, 2.2685747146606445, -1.7413794994354248, -14.05077838897705, 8.66769027709961, 10.709328651428223, -2.446568012237549, 2.8386118412017822, 11.424942970275879, 12.70609188079834, 11.031601905822754, 1.0351569652557373, 1.4955607652664185, 14.706480026245117, 4.561063766479492, 11.967814445495605, 10.075462341308594, 1.9852434396743774, 15.961617469787598, 19.595518112182617, 0.9291422367095947, 9.783247947692871, 21.025100708007812, 11.781563758850098, 6.588724613189697]}, {\"marker\": {\"color\": \"red\", \"size\": 5}, \"mode\": \"markers\", \"name\": \"financial\", \"opacity\": 0.6, \"text\": [\"NTRS\", \"MTB\", \"CNS\", \"AMP\", \"SCHW\", \"ALL\", \"COF\", \"AIZ\", \"TROW\", \"STT\", \"CINF\", \"MET\", \"JPM\", \"CME\", \"GS\", \"CACC\", \"PRU\", \"BK\", \"CEF\", \"AFL\", \"AON\", \"BLK\", \"AIG\", \"CHN\", \"TRV\", \"BAC\", \"LNC\", \"PGR\", \"WU\", \"ETFC\", \"CB\", \"ICE\", \"AXP\", \"MS\", \"WFC\", \"L\", \"LAZ\", \"FII\", \"C\", \"PNC\", \"BX\", \"V\", \"MA\", \"NDAQ\", \"CMA\"], \"type\": \"scatter\", \"x\": [8.244391441345215, 0.5116599202156067, 2.2570011615753174, 4.389482498168945, 2.943188190460205, -0.018128929659724236, 6.084827423095703, -1.2979495525360107, 7.453322887420654, -1.1136728525161743, 4.836716175079346, -1.326937198638916, 1.1160449981689453, -1.0911844968795776, 2.345787286758423, 7.405742645263672, 4.210716247558594, 0.29231634736061096, 13.23086166381836, -1.1856210231781006, -0.4311767816543579, 1.6109784841537476, 11.320773124694824, 5.5070648193359375, -1.1942448616027832, 0.5594480037689209, 5.45979118347168, 0.5953097939491272, 19.011808395385742, 6.480332374572754, -1.1655378341674805, -1.7054651975631714, 12.264124870300293, 2.2064850330352783, 0.3670559227466583, -17.167627334594727, 0.43932607769966125, 1.3622374534606934, 3.767369270324707, 3.6942038536071777, 0.44204723834991455, 1.0057260990142822, 14.935567855834961, 12.60092544555664, -2.8020522594451904], \"y\": [-10.06244945526123, -17.0239315032959, -9.9153470993042, -14.190213203430176, -10.857344627380371, -7.003347396850586, -13.378798484802246, -8.124066352844238, 2.144334554672241, -15.086350440979004, -13.445307731628418, -11.538346290588379, -19.492095947265625, 13.710611343383789, -19.38477897644043, -15.172101020812988, -14.776533126831055, -16.110254287719727, -11.762711524963379, -6.527207851409912, -8.846611976623535, -11.604021072387695, -5.31090784072876, -0.6374440789222717, -1.4300583600997925, -17.19985008239746, -3.8738434314727783, -7.444951057434082, -5.073099613189697, 5.126489639282227, -9.718867301940918, 13.136809349060059, -8.087745666503906, -19.42691993713379, -19.795547485351562, -6.219814777374268, -10.590435981750488, -9.902226448059082, -17.602375030517578, -13.912789344787598, -11.518198013305664, 3.259337902069092, 2.451770305633545, 9.073904991149902, -10.088762283325195]}, {\"marker\": {\"color\": \"orange\", \"size\": 5}, \"mode\": \"markers\", \"name\": \"industrials\", \"opacity\": 0.7, \"text\": [\"SPGI\", \"AVY\", \"UTX\", \"EXPD\", \"DXPE\", \"CRAI\", \"ALGT\", \"RS\", \"CAJ\", \"RTN\", \"ROP\", \"FISV\", \"SPAR\", \"FLR\", \"RHI\", \"MMM\", \"UPS\", \"PCAR\", \"NSC\", \"LUV\", \"GD\", \"AVAV\", \"ATI\", \"PAYX\", \"RYAAY\", \"LMT\", \"DOV\", \"FLS\", \"ADP\", \"NOC\", \"AIMC\", \"HON\", \"PH\", \"DAL\", \"OSK\", \"MCO\", \"CAT\", \"CATM\", \"CMI\", \"FDX\", \"GWW\", \"TEX\", \"ETN\", \"EFX\", \"GE\", \"UNP\", \"DE\", \"BA\", \"AAXN\", \"CSX\", \"UAL\", \"JBLU\"], \"type\": \"scatter\", \"x\": [7.935588836669922, -2.5247879028320312, -16.802227020263672, 4.089914798736572, 4.867086887359619, 9.835164070129395, -0.3202977776527405, -11.358202934265137, -19.115877151489258, -15.554931640625, 18.27751922607422, 7.456549644470215, 3.035060405731201, -4.961742401123047, 4.257740020751953, -11.748751640319824, 0.6749864220619202, 0.8574140667915344, -3.5880372524261475, -12.993640899658203, -13.281318664550781, 3.8048806190490723, 18.190998077392578, 7.691700458526611, -13.878570556640625, -16.47051239013672, -4.380482196807861, -2.860459804534912, 9.794651985168457, -16.320619583129883, 5.3027191162109375, 11.558788299560547, -3.4810092449188232, -12.348755836486816, -5.003597736358643, -2.709550142288208, -8.944437026977539, 5.071439266204834, -0.34809064865112305, -10.095138549804688, -0.23030966520309448, -5.14884090423584, 6.267696857452393, -1.892497181892395, -14.733312606811523, 18.9539737701416, -4.814815521240234, -13.559610366821289, 5.16544771194458, -14.034218788146973, -13.334573745727539, -13.620881080627441], \"y\": [-2.8382937908172607, -3.022178888320923, 7.042166709899902, 2.857631206512451, 7.297002792358398, -3.487887144088745, 8.150083541870117, -6.629641532897949, -1.540656566619873, 5.893163681030273, 14.360873222351074, 10.646400451660156, 2.458876848220825, -6.198784828186035, -0.8560231328010559, 4.669008731842041, 0.790168046951294, 6.16749382019043, -25.17221450805664, 12.733671188354492, -4.14995002746582, 7.173819065093994, 14.425593376159668, 11.007095336914062, 10.695046424865723, 5.494842529296875, -4.614040374755859, -4.085080146789551, 5.414474964141846, 5.579297065734863, 3.8231241703033447, -3.7539055347442627, -2.712634563446045, 12.457551002502441, -3.96217679977417, -7.3177266120910645, -4.170178413391113, 5.687638282775879, 5.920898914337158, 6.838045597076416, 1.0821682214736938, -4.983034133911133, -19.734878540039062, -8.083927154541016, -3.40474009513855, -5.372231483459473, -16.71076202392578, 5.9233551025390625, 8.191169738769531, 14.371978759765625, 11.843756675720215, 13.484098434448242]}, {\"marker\": {\"color\": \"brown\", \"size\": 5}, \"mode\": \"markers\", \"name\": \"healthcare\", \"opacity\": 0.4, \"text\": [\"AGN\", \"DXCM\", \"BIIB\", \"CNMD\", \"A\", \"PFE\", \"ANTM\", \"MRK\", \"UNH\", \"VRTX\", \"RDY\", \"ABMD\", \"CVS\", \"BDX\", \"CI\", \"VAR\", \"MDT\", \"HSIC\", \"JNJ\", \"WBA\", \"TMO\", \"SRPT\", \"PKI\", \"LH\", \"ABC\", \"ALXN\", \"BMRN\", \"MYL\", \"THC\", \"ANIK\", \"AMGN\", \"MCK\", \"HUM\", \"BMY\", \"GILD\", \"ABT\", \"ALGN\", \"CORT\", \"DHR\", \"ILMN\", \"ALNY\", \"EW\", \"TEVA\", \"CSII\", \"ISRG\", \"LLY\", \"BAX\", \"AMED\"], \"type\": \"scatter\", \"x\": [13.377190589904785, 7.860625267028809, 0.45386940240859985, 6.973057270050049, 18.497472763061523, -6.391753673553467, 1.6480920314788818, -6.5121002197265625, 2.685062885284424, 0.18089386820793152, 1.7150249481201172, 7.955447196960449, 2.4969611167907715, 9.740467071533203, 0.8339042067527771, -0.02784852124750614, 12.305436134338379, 8.106304168701172, 15.361483573913574, 0.8878659605979919, 9.991315841674805, -0.42924144864082336, 10.750543594360352, 3.3265209197998047, -0.5993539690971375, 1.6262673139572144, 1.0021867752075195, 2.3859591484069824, 1.6171833276748657, -0.03034042753279209, 0.3487546443939209, -0.4766411781311035, 1.8542722463607788, -7.633797645568848, -0.9075393080711365, 10.905665397644043, 14.646830558776855, -0.02169119007885456, -1.402465581893921, 2.804037094116211, 0.36286675930023193, 11.544755935668945, -20.203514099121094, 10.566673278808594, 8.390040397644043, -7.498948574066162, 10.729059219360352, 6.565553665161133], \"y\": [-0.07091224193572998, 8.435687065124512, 17.336421966552734, 6.708497047424316, 15.272815704345703, 16.543275833129883, -6.03470516204834, 16.45049285888672, -6.635689735412598, 19.02656364440918, 0.12009681761264801, 8.331948280334473, -4.531810283660889, 0.7007155418395996, -6.066982746124268, -2.343257427215576, 1.471788763999939, 4.382913589477539, -0.6310595273971558, 9.989596366882324, 2.6140310764312744, 20.52370834350586, 1.8787331581115723, -0.28955546021461487, -3.9989843368530273, 17.397125244140625, 18.94341468811035, 18.218765258789062, -4.096184253692627, 20.8712215423584, 16.9967041015625, -4.7734808921813965, -5.944804668426514, 14.771926879882812, 18.033544540405273, 1.8571494817733765, 14.661614418029785, 20.593496322631836, -4.995411396026611, 15.832770347595215, 19.152278900146484, 4.035203456878662, -2.9538400173187256, 9.145196914672852, 6.750886917114258, 14.995062828063965, -2.824481248855591, 7.631253242492676]}, {\"marker\": {\"color\": \"goldenrod\", \"size\": 5}, \"mode\": \"markers\", \"name\": \"energy\", \"opacity\": 0.9, \"text\": [\"XOM\", \"PXD\", \"PBR\", \"OKE\", \"MUR\", \"NS\", \"EOG\", \"COP\", \"CVX\", \"NOV\", \"HAL\", \"VLO\", \"NBL\", \"APA\", \"WMB\", \"FTI\", \"OXY\", \"MPC\", \"DVN\", \"HES\", \"SLB\", \"COG\"], \"type\": \"scatter\", \"x\": [-10.690187454223633, -9.3513765335083, -19.159934997558594, -4.629884243011475, -10.293855667114258, -12.871163368225098, -9.11516284942627, -9.132011413574219, -10.591416358947754, 7.394333362579346, -7.296955108642578, -12.594687461853027, -6.516562461853027, -8.896397590637207, -2.9881093502044678, -4.857327461242676, -13.580153465270996, -13.582077026367188, -12.676104545593262, -8.33221435546875, -7.327585220336914, -10.352591514587402], \"y\": [-11.692727088928223, -17.129878997802734, -3.0963635444641113, -9.411921501159668, -14.803271293640137, -17.415699005126953, -17.614580154418945, -11.701215744018555, -11.67835521697998, -5.0874810218811035, -12.661840438842773, -15.67192268371582, -10.031991004943848, -10.284799575805664, -1.0458201169967651, -7.401430606842041, -10.77565860748291, -10.768776893615723, -15.221745491027832, -10.613800048828125, -12.696937561035156, -15.05540657043457]}, {\"marker\": {\"color\": \"navy\", \"size\": 5}, \"mode\": \"markers\", \"name\": \"basic materials\", \"opacity\": 0.9, \"text\": [\"APD\", \"AA\", \"NEM\", \"WPM\", \"MAS\", \"STLD\", \"NUE\", \"SSRM\", \"RGLD\", \"SHW\", \"PPG\", \"ARCH\", \"MOS\", \"FMC\", \"VMC\", \"CF\", \"GOLD\", \"SCCO\", \"FCX\", \"AEM\", \"PAAS\", \"VALE\"], \"type\": \"scatter\", \"x\": [21.345792770385742, -9.079924583435059, 11.883092880249023, 12.877202033996582, -3.06080961227417, -11.314216613769531, -10.407451629638672, 11.578471183776855, 13.884415626525879, -4.1280107498168945, -17.841552734375, -8.938809394836426, -5.326933860778809, -6.413557052612305, 20.914722442626953, -17.983736038208008, 13.47473430633545, -3.573221445083618, -8.17727279663086, 10.569833755493164, 12.369441032409668, -19.357545852661133], \"y\": [8.243045806884766, -5.191001892089844, -14.200273513793945, -11.752099990844727, -4.890200138092041, -6.363653659820557, -5.916821479797363, -11.966150283813477, -12.67417049407959, -0.77520751953125, -13.363192558288574, -17.896116256713867, -1.8797032833099365, -5.618725776672363, 9.855496406555176, -13.30210018157959, -13.201068878173828, -25.187938690185547, -6.370738506317139, -12.714136123657227, -10.622095108032227, -3.029075860977173]}, {\"mode\": \"text\", \"name\": \"Top\", \"opacity\": 0.9, \"text\": [\"TSLA\", \"XOM\", \"AGN\", \"AA\", \"INTC\", \"KO\", \"IBM\", \"TGT\", \"WMT\", \"AAPL\", \"JPM\", \"MU\", \"CME\", \"GOOGL\", \"GS\", \"CVX\", \"VZ\", \"NWSA\", \"BLK\", \"UBER\", \"LMT\", \"SBUX\", \"BAC\", \"WMB\", \"DIS\", \"TM\", \"MS\", \"BKR\", \"CAT\", \"WFC\", \"CMG\", \"SO\", \"C\", \"EFX\", \"MSFT\", \"GE\", \"AMZN\", \"BA\", \"NFLX\", \"GM\"], \"textfont\": {\"color\": \"black\", \"family\": \"sans serif\", \"size\": 12}, \"type\": \"scatter\", \"x\": [7.428297996520996, -10.690187454223633, 13.377190589904785, -9.079924583435059, 11.768572807312012, -10.569101333618164, 5.755160331726074, -7.175264835357666, -6.081610679626465, 7.582400321960449, 1.1160449981689453, 13.277997016906738, -1.0911844968795776, 8.28421401977539, 2.345787286758423, -10.591416358947754, 16.68581771850586, 1.7281889915466309, 1.6109784841537476, 19.420944213867188, -16.47051239013672, -0.23007041215896606, 0.5594480037689209, -2.9881093502044678, -9.245748519897461, -20.29376983642578, 2.2064850330352783, -5.510558128356934, -8.944437026977539, 0.3670559227466583, -4.018749237060547, -4.144883155822754, 3.767369270324707, -1.892497181892395, 10.806540489196777, -14.733312606811523, 7.873198986053467, -13.559610366821289, 7.018675327301025, -14.67159652709961], \"y\": [18.41582679748535, -11.692727088928223, -0.07091224193572998, -5.191001892089844, 18.607986450195312, 3.9663805961608887, -2.1313693523406982, 6.062213897705078, 6.969173908233643, 19.334455490112305, -19.492095947265625, 15.251526832580566, 13.710611343383789, 20.00221061706543, -19.38477897644043, -11.67835521697998, 6.304572105407715, -1.699291706085205, -11.604021072387695, 16.185945510864258, 5.494842529296875, 11.064697265625, -17.19985008239746, -1.0458201169967651, 3.4726312160491943, 1.1108651161193848, -19.42691993713379, -11.658955574035645, -4.170178413391113, -19.795547485351562, 7.012265205383301, -24.4113712310791, -17.602375030517578, -8.083927154541016, 19.595518112182617, -3.40474009513855, 21.025100708007812, 5.9233551025390625, 19.720245361328125, -3.3931660652160645]}, {\"marker\": {\"color\": \"blue\", \"size\": 5}, \"mode\": \"markers\", \"name\": \"consumer cyclical\", \"opacity\": 0.9, \"text\": [\"TSLA\", \"LB\", \"DDS\", \"HOG\", \"IP\", \"CBRL\", \"MAR\", \"GT\", \"CROX\", \"BBY\", \"DHI\", \"LOW\", \"CRI\", \"DISCA\", \"MAT\", \"DNKN\", \"ROST\", \"NYT\", \"MGA\", \"BJRI\", \"MCD\", \"ANF\", \"TPR\", \"UAA\", \"KSS\", \"AZO\", \"NWSA\", \"CTAS\", \"LEN\", \"RL\", \"DRI\", \"KBH\", \"HMC\", \"CMCSA\", \"SBUX\", \"BBBY\", \"DIS\", \"HD\", \"EXPE\", \"TM\", \"TIF\", \"EBAY\", \"JWN\", \"GPS\", \"GPC\", \"CMG\", \"KMX\", \"ORLY\", \"TTM\", \"URBN\", \"YUM\", \"MHO\", \"IPG\", \"HRB\", \"WYNN\", \"GM\", \"NKE\", \"BKNG\", \"COLM\", \"HAS\"], \"type\": \"scatter\", \"x\": [7.428297996520996, -3.5168333053588867, -1.345789909362793, -0.35730278491973877, 10.028531074523926, 14.359923362731934, 8.86855411529541, 1.0292168855667114, 3.481992721557617, -1.8540005683898926, 10.036216735839844, 3.133573293685913, -1.543868899345398, 11.720727920532227, 5.302199840545654, 1.3004695177078247, -4.334228038787842, 4.802441120147705, 10.505765914916992, -2.933814764022827, -9.418328285217285, -5.88478946685791, -2.1913061141967773, -4.106616020202637, -6.485083103179932, -2.7045412063598633, 1.7281889915466309, 6.1605448722839355, -8.173200607299805, -6.035218715667725, -3.027378797531128, -7.4784040451049805, -20.287813186645508, 16.180538177490234, -0.23007041215896606, 2.081890821456909, -9.245748519897461, -7.471242904663086, 3.5032312870025635, -20.29376983642578, -7.468190670013428, 3.9264111518859863, -5.533339977264404, -2.3286077976226807, 1.529588222503662, -4.018749237060547, -2.518265724182129, 2.59126615524292, -20.270431518554688, 2.5055530071258545, -14.749332427978516, 9.394380569458008, -1.1212869882583618, -6.9144816398620605, 1.5689200162887573, -14.67159652709961, -4.087594509124756, -13.944279670715332, 3.838461399078369, 5.347275733947754], \"y\": [18.41582679748535, 2.1725025177001953, 2.1367504596710205, 2.3144307136535645, -4.824178218841553, -3.119432210922241, -4.498486518859863, 4.9164276123046875, 9.474678993225098, 4.412540912628174, -17.6480655670166, -1.60982084274292, 0.5743904709815979, 6.734347820281982, 17.07915687561035, 10.606660842895508, 10.068638801574707, -5.742974281311035, -3.67824125289917, 9.223713874816895, 5.544699668884277, 4.1721906661987305, 1.9737542867660522, 3.936659574508667, 5.280194282531738, 5.901991367340088, -1.699291706085205, 6.429656028747559, 8.410235404968262, 2.5905091762542725, 8.937642097473145, 9.62061882019043, 1.0978695154190063, 8.21196460723877, 11.064697265625, 7.761157989501953, 3.4726312160491943, 9.824173927307129, 12.132879257202148, 1.1108651161193848, 3.2406585216522217, 13.10560131072998, 6.045648097991943, 3.195512533187866, 2.0249006748199463, 7.012265205383301, 5.870642185211182, 5.821755409240723, -0.746770441532135, 9.151456832885742, 2.017821788787842, -7.853809833526611, -0.4615447521209717, -8.131370544433594, 12.074047088623047, -3.3931660652160645, 4.0683064460754395, 10.614826202392578, 22.025169372558594, 17.096946716308594]}, {\"marker\": {\"color\": \"magenta\", \"size\": 5}, \"mode\": \"markers\", \"name\": \"consumer defensive\", \"opacity\": 0.9, \"text\": [\"EL\", \"KO\", \"CHEF\", \"CASY\", \"TGT\", \"WMT\", \"TAP\", \"MO\", \"PEP\", \"GIS\", \"ADM\", \"PG\", \"KHC\", \"K\", \"HAIN\", \"SJM\", \"CLX\", \"CENT\", \"STZ\", \"CPB\", \"COST\", \"ATGE\", \"TSN\", \"DLTR\", \"HRL\", \"KMB\", \"CAG\", \"KR\", \"MKC\", \"PM\", \"HSY\", \"SYY\", \"BIG\"], \"type\": \"scatter\", \"x\": [-1.7268788814544678, -10.569101333618164, -2.118368625640869, -4.491915225982666, -7.175264835357666, -6.081610679626465, -5.293495178222656, -4.015884876251221, -11.874784469604492, -13.381043434143066, -5.875595569610596, -9.373026847839355, -10.981038093566895, -9.530661582946777, 6.649777889251709, -6.376507759094238, -7.873000144958496, 5.923690319061279, -14.336074829101562, -8.911431312561035, -4.3137712478637695, 7.690925598144531, -12.354696273803711, -0.6173647046089172, -12.310867309570312, -7.591206073760986, -14.305340766906738, -7.355270862579346, -2.8476452827453613, 11.799712181091309, -8.014633178710938, -7.964292526245117, 14.892019271850586], \"y\": [0.11735381931066513, 3.9663805961608887, 10.06063175201416, 10.243561744689941, 6.062213897705078, 6.969173908233643, 0.9847136735916138, 0.6826031804084778, 2.2305805683135986, -3.9972662925720215, -0.6712464690208435, 1.7403336763381958, 0.794434130191803, -0.7234940528869629, 2.8777518272399902, 0.8678096532821655, 0.9019918441772461, 0.829861044883728, 1.9277172088623047, 0.6312158703804016, 12.143312454223633, -2.075784206390381, -0.2580348253250122, 3.705970048904419, -0.24437719583511353, -0.21741878986358643, 1.8338139057159424, 4.794826984405518, 0.42811018228530884, -2.521998167037964, 1.4621025323867798, -0.7006707787513733, -6.079682350158691]}],\n",
              "                        {\"autosize\": false, \"height\": 750, \"template\": {\"data\": {\"bar\": [{\"error_x\": {\"color\": \"#2a3f5f\"}, \"error_y\": {\"color\": \"#2a3f5f\"}, \"marker\": {\"line\": {\"color\": \"#E5ECF6\", \"width\": 0.5}}, \"type\": \"bar\"}], \"barpolar\": [{\"marker\": {\"line\": {\"color\": \"#E5ECF6\", \"width\": 0.5}}, \"type\": \"barpolar\"}], \"carpet\": [{\"aaxis\": {\"endlinecolor\": \"#2a3f5f\", \"gridcolor\": \"white\", \"linecolor\": \"white\", \"minorgridcolor\": \"white\", \"startlinecolor\": \"#2a3f5f\"}, \"baxis\": {\"endlinecolor\": \"#2a3f5f\", \"gridcolor\": \"white\", \"linecolor\": \"white\", \"minorgridcolor\": \"white\", \"startlinecolor\": \"#2a3f5f\"}, \"type\": \"carpet\"}], \"choropleth\": [{\"colorbar\": {\"outlinewidth\": 0, \"ticks\": \"\"}, \"type\": \"choropleth\"}], \"contour\": [{\"colorbar\": {\"outlinewidth\": 0, \"ticks\": \"\"}, \"colorscale\": [[0.0, \"#0d0887\"], [0.1111111111111111, \"#46039f\"], [0.2222222222222222, \"#7201a8\"], [0.3333333333333333, \"#9c179e\"], [0.4444444444444444, \"#bd3786\"], [0.5555555555555556, \"#d8576b\"], [0.6666666666666666, \"#ed7953\"], [0.7777777777777778, \"#fb9f3a\"], [0.8888888888888888, \"#fdca26\"], [1.0, \"#f0f921\"]], \"type\": \"contour\"}], \"contourcarpet\": [{\"colorbar\": {\"outlinewidth\": 0, \"ticks\": \"\"}, \"type\": \"contourcarpet\"}], \"heatmap\": [{\"colorbar\": {\"outlinewidth\": 0, \"ticks\": \"\"}, \"colorscale\": [[0.0, \"#0d0887\"], [0.1111111111111111, \"#46039f\"], [0.2222222222222222, \"#7201a8\"], [0.3333333333333333, \"#9c179e\"], [0.4444444444444444, \"#bd3786\"], [0.5555555555555556, \"#d8576b\"], [0.6666666666666666, \"#ed7953\"], [0.7777777777777778, \"#fb9f3a\"], [0.8888888888888888, \"#fdca26\"], [1.0, \"#f0f921\"]], \"type\": \"heatmap\"}], \"heatmapgl\": [{\"colorbar\": {\"outlinewidth\": 0, \"ticks\": \"\"}, \"colorscale\": [[0.0, \"#0d0887\"], [0.1111111111111111, \"#46039f\"], [0.2222222222222222, \"#7201a8\"], [0.3333333333333333, \"#9c179e\"], [0.4444444444444444, \"#bd3786\"], [0.5555555555555556, \"#d8576b\"], [0.6666666666666666, \"#ed7953\"], [0.7777777777777778, \"#fb9f3a\"], [0.8888888888888888, \"#fdca26\"], [1.0, \"#f0f921\"]], \"type\": \"heatmapgl\"}], \"histogram\": [{\"marker\": {\"colorbar\": {\"outlinewidth\": 0, \"ticks\": \"\"}}, \"type\": \"histogram\"}], \"histogram2d\": [{\"colorbar\": {\"outlinewidth\": 0, \"ticks\": \"\"}, \"colorscale\": [[0.0, \"#0d0887\"], [0.1111111111111111, \"#46039f\"], [0.2222222222222222, \"#7201a8\"], [0.3333333333333333, \"#9c179e\"], [0.4444444444444444, \"#bd3786\"], [0.5555555555555556, \"#d8576b\"], [0.6666666666666666, \"#ed7953\"], [0.7777777777777778, \"#fb9f3a\"], [0.8888888888888888, \"#fdca26\"], [1.0, \"#f0f921\"]], \"type\": \"histogram2d\"}], \"histogram2dcontour\": [{\"colorbar\": {\"outlinewidth\": 0, \"ticks\": \"\"}, \"colorscale\": [[0.0, \"#0d0887\"], [0.1111111111111111, \"#46039f\"], [0.2222222222222222, \"#7201a8\"], [0.3333333333333333, \"#9c179e\"], [0.4444444444444444, \"#bd3786\"], [0.5555555555555556, \"#d8576b\"], [0.6666666666666666, \"#ed7953\"], [0.7777777777777778, \"#fb9f3a\"], [0.8888888888888888, \"#fdca26\"], [1.0, \"#f0f921\"]], \"type\": \"histogram2dcontour\"}], \"mesh3d\": [{\"colorbar\": {\"outlinewidth\": 0, \"ticks\": \"\"}, \"type\": \"mesh3d\"}], \"parcoords\": [{\"line\": {\"colorbar\": {\"outlinewidth\": 0, \"ticks\": \"\"}}, \"type\": \"parcoords\"}], \"pie\": [{\"automargin\": true, \"type\": \"pie\"}], \"scatter\": [{\"marker\": {\"colorbar\": {\"outlinewidth\": 0, \"ticks\": \"\"}}, \"type\": \"scatter\"}], \"scatter3d\": [{\"line\": {\"colorbar\": {\"outlinewidth\": 0, \"ticks\": \"\"}}, \"marker\": {\"colorbar\": {\"outlinewidth\": 0, \"ticks\": \"\"}}, \"type\": \"scatter3d\"}], \"scattercarpet\": [{\"marker\": {\"colorbar\": {\"outlinewidth\": 0, \"ticks\": \"\"}}, \"type\": \"scattercarpet\"}], \"scattergeo\": [{\"marker\": {\"colorbar\": {\"outlinewidth\": 0, \"ticks\": \"\"}}, \"type\": \"scattergeo\"}], \"scattergl\": [{\"marker\": {\"colorbar\": {\"outlinewidth\": 0, \"ticks\": \"\"}}, \"type\": \"scattergl\"}], \"scattermapbox\": [{\"marker\": {\"colorbar\": {\"outlinewidth\": 0, \"ticks\": \"\"}}, \"type\": \"scattermapbox\"}], \"scatterpolar\": [{\"marker\": {\"colorbar\": {\"outlinewidth\": 0, \"ticks\": \"\"}}, \"type\": \"scatterpolar\"}], \"scatterpolargl\": [{\"marker\": {\"colorbar\": {\"outlinewidth\": 0, \"ticks\": \"\"}}, \"type\": \"scatterpolargl\"}], \"scatterternary\": [{\"marker\": {\"colorbar\": {\"outlinewidth\": 0, \"ticks\": \"\"}}, \"type\": \"scatterternary\"}], \"surface\": [{\"colorbar\": {\"outlinewidth\": 0, \"ticks\": \"\"}, \"colorscale\": [[0.0, \"#0d0887\"], [0.1111111111111111, \"#46039f\"], [0.2222222222222222, \"#7201a8\"], [0.3333333333333333, \"#9c179e\"], [0.4444444444444444, \"#bd3786\"], [0.5555555555555556, \"#d8576b\"], [0.6666666666666666, \"#ed7953\"], [0.7777777777777778, \"#fb9f3a\"], [0.8888888888888888, \"#fdca26\"], [1.0, \"#f0f921\"]], \"type\": \"surface\"}], \"table\": [{\"cells\": {\"fill\": {\"color\": \"#EBF0F8\"}, \"line\": {\"color\": \"white\"}}, \"header\": {\"fill\": {\"color\": \"#C8D4E3\"}, \"line\": {\"color\": \"white\"}}, \"type\": \"table\"}]}, \"layout\": {\"annotationdefaults\": {\"arrowcolor\": \"#2a3f5f\", \"arrowhead\": 0, \"arrowwidth\": 1}, \"coloraxis\": {\"colorbar\": {\"outlinewidth\": 0, \"ticks\": \"\"}}, \"colorscale\": {\"diverging\": [[0, \"#8e0152\"], [0.1, \"#c51b7d\"], [0.2, \"#de77ae\"], [0.3, \"#f1b6da\"], [0.4, \"#fde0ef\"], [0.5, \"#f7f7f7\"], [0.6, \"#e6f5d0\"], [0.7, \"#b8e186\"], [0.8, \"#7fbc41\"], [0.9, \"#4d9221\"], [1, \"#276419\"]], \"sequential\": [[0.0, \"#0d0887\"], [0.1111111111111111, \"#46039f\"], [0.2222222222222222, \"#7201a8\"], [0.3333333333333333, \"#9c179e\"], [0.4444444444444444, \"#bd3786\"], [0.5555555555555556, \"#d8576b\"], [0.6666666666666666, \"#ed7953\"], [0.7777777777777778, \"#fb9f3a\"], [0.8888888888888888, \"#fdca26\"], [1.0, \"#f0f921\"]], \"sequentialminus\": [[0.0, \"#0d0887\"], [0.1111111111111111, \"#46039f\"], [0.2222222222222222, \"#7201a8\"], [0.3333333333333333, \"#9c179e\"], [0.4444444444444444, \"#bd3786\"], [0.5555555555555556, \"#d8576b\"], [0.6666666666666666, \"#ed7953\"], [0.7777777777777778, \"#fb9f3a\"], [0.8888888888888888, \"#fdca26\"], [1.0, \"#f0f921\"]]}, \"colorway\": [\"#636efa\", \"#EF553B\", \"#00cc96\", \"#ab63fa\", \"#FFA15A\", \"#19d3f3\", \"#FF6692\", \"#B6E880\", \"#FF97FF\", \"#FECB52\"], \"font\": {\"color\": \"#2a3f5f\"}, \"geo\": {\"bgcolor\": \"white\", \"lakecolor\": \"white\", \"landcolor\": \"#E5ECF6\", \"showlakes\": true, \"showland\": true, \"subunitcolor\": \"white\"}, \"hoverlabel\": {\"align\": \"left\"}, \"hovermode\": \"closest\", \"mapbox\": {\"style\": \"light\"}, \"paper_bgcolor\": \"white\", \"plot_bgcolor\": \"#E5ECF6\", \"polar\": {\"angularaxis\": {\"gridcolor\": \"white\", \"linecolor\": \"white\", \"ticks\": \"\"}, \"bgcolor\": \"#E5ECF6\", \"radialaxis\": {\"gridcolor\": \"white\", \"linecolor\": \"white\", \"ticks\": \"\"}}, \"scene\": {\"xaxis\": {\"backgroundcolor\": \"#E5ECF6\", \"gridcolor\": \"white\", \"gridwidth\": 2, \"linecolor\": \"white\", \"showbackground\": true, \"ticks\": \"\", \"zerolinecolor\": \"white\"}, \"yaxis\": {\"backgroundcolor\": \"#E5ECF6\", \"gridcolor\": \"white\", \"gridwidth\": 2, \"linecolor\": \"white\", \"showbackground\": true, \"ticks\": \"\", \"zerolinecolor\": \"white\"}, \"zaxis\": {\"backgroundcolor\": \"#E5ECF6\", \"gridcolor\": \"white\", \"gridwidth\": 2, \"linecolor\": \"white\", \"showbackground\": true, \"ticks\": \"\", \"zerolinecolor\": \"white\"}}, \"shapedefaults\": {\"line\": {\"color\": \"#2a3f5f\"}}, \"ternary\": {\"aaxis\": {\"gridcolor\": \"white\", \"linecolor\": \"white\", \"ticks\": \"\"}, \"baxis\": {\"gridcolor\": \"white\", \"linecolor\": \"white\", \"ticks\": \"\"}, \"bgcolor\": \"#E5ECF6\", \"caxis\": {\"gridcolor\": \"white\", \"linecolor\": \"white\", \"ticks\": \"\"}}, \"title\": {\"x\": 0.05}, \"xaxis\": {\"automargin\": true, \"gridcolor\": \"white\", \"linecolor\": \"white\", \"ticks\": \"\", \"title\": {\"standoff\": 15}, \"zerolinecolor\": \"white\", \"zerolinewidth\": 2}, \"yaxis\": {\"automargin\": true, \"gridcolor\": \"white\", \"linecolor\": \"white\", \"ticks\": \"\", \"title\": {\"standoff\": 15}, \"zerolinecolor\": \"white\", \"zerolinewidth\": 2}}}, \"title\": {\"font\": {\"size\": 20}, \"text\": \"t-SNE - News Tickers\"}, \"width\": 1150},\n",
              "                        {\"responsive\": true}\n",
              "                    ).then(function(){\n",
              "                            \n",
              "var gd = document.getElementById('9a705cac-70e8-4fa8-b2d1-2fcd1f4af154');\n",
              "var x = new MutationObserver(function (mutations, observer) {{\n",
              "        var display = window.getComputedStyle(gd).display;\n",
              "        if (!display || display === 'none') {{\n",
              "            console.log([gd, 'removed!']);\n",
              "            Plotly.purge(gd);\n",
              "            observer.disconnect();\n",
              "        }}\n",
              "}});\n",
              "\n",
              "// Listen for the removal of the full notebook cells\n",
              "var notebookContainer = gd.closest('#notebook-container');\n",
              "if (notebookContainer) {{\n",
              "    x.observe(notebookContainer, {childList: true});\n",
              "}}\n",
              "\n",
              "// Listen for the clearing of the current output cell\n",
              "var outputEl = gd.closest('.output');\n",
              "if (outputEl) {{\n",
              "    x.observe(outputEl, {childList: true});\n",
              "}}\n",
              "\n",
              "                        })\n",
              "                };\n",
              "                });\n",
              "            </script>\n",
              "        </div>"
            ],
            "application/vnd.plotly.v1+json": {
              "data": [
                {
                  "opacity": 0.9,
                  "name": "technology",
                  "text": [
                    "INTC",
                    "BIDU",
                    "XLNX",
                    "NTAP",
                    "CSIQ",
                    "ORCL",
                    "QCOM",
                    "AMD",
                    "MSI",
                    "IBM",
                    "CDNS",
                    "CRUS",
                    "AAPL",
                    "NVDA",
                    "AKAM",
                    "MU",
                    "CSCO",
                    "ATVI",
                    "YNDX",
                    "FSLR",
                    "FLIR",
                    "KLAC",
                    "MCHP",
                    "IPGP",
                    "STX",
                    "GOOGL",
                    "WDC",
                    "SNE",
                    "CIEN",
                    "ITRI",
                    "LRCX",
                    "ADI",
                    "MRVL",
                    "TTWO",
                    "ACN",
                    "INFY",
                    "AEIS",
                    "XRX",
                    "NTES",
                    "WHR",
                    "HPQ",
                    "GRMN",
                    "ADSK",
                    "TXN",
                    "CRM",
                    "ASML",
                    "EA",
                    "NXPI",
                    "INTU",
                    "AMAT",
                    "VMW",
                    "AVGO",
                    "MSFT",
                    "CHKP",
                    "EQIX",
                    "AMZN",
                    "ADBE",
                    "CMTL"
                  ],
                  "y": [
                    18.607986450195312,
                    -0.7409741878509521,
                    14.269255638122559,
                    12.699536323547363,
                    -10.37407112121582,
                    1.6129779815673828,
                    16.25288963317871,
                    12.452581405639648,
                    12.382648468017578,
                    -2.1313693523406982,
                    9.097739219665527,
                    14.48410701751709,
                    19.334455490112305,
                    18.409730911254883,
                    14.295211791992188,
                    15.251526832580566,
                    10.90438175201416,
                    14.591179847717285,
                    3.6582446098327637,
                    -10.363676071166992,
                    7.5505876541137695,
                    13.557302474975586,
                    14.938209533691406,
                    4.804147243499756,
                    16.02668571472168,
                    20.00221061706543,
                    -4.198462963104248,
                    -3.3587241172790527,
                    -4.037876605987549,
                    8.840353965759277,
                    12.677549362182617,
                    12.389167785644531,
                    15.232827186584473,
                    13.365058898925781,
                    2.2685747146606445,
                    -1.7413794994354248,
                    -14.05077838897705,
                    8.66769027709961,
                    10.709328651428223,
                    -2.446568012237549,
                    2.8386118412017822,
                    11.424942970275879,
                    12.70609188079834,
                    11.031601905822754,
                    1.0351569652557373,
                    1.4955607652664185,
                    14.706480026245117,
                    4.561063766479492,
                    11.967814445495605,
                    10.075462341308594,
                    1.9852434396743774,
                    15.961617469787598,
                    19.595518112182617,
                    0.9291422367095947,
                    9.783247947692871,
                    21.025100708007812,
                    11.781563758850098,
                    6.588724613189697
                  ],
                  "mode": "markers",
                  "marker": {
                    "color": "yellow",
                    "size": 5
                  },
                  "x": [
                    11.768572807312012,
                    -18.35630989074707,
                    9.965271949768066,
                    8.836227416992188,
                    18.986557006835938,
                    19.341129302978516,
                    9.740934371948242,
                    14.685361862182617,
                    18.243871688842773,
                    5.755160331726074,
                    9.46182632446289,
                    11.275583267211914,
                    7.582400321960449,
                    11.981142044067383,
                    18.90397071838379,
                    13.277997016906738,
                    10.29122543334961,
                    6.455654621124268,
                    2.7595229148864746,
                    18.997814178466797,
                    9.734339714050293,
                    11.006629943847656,
                    14.169809341430664,
                    4.856150150299072,
                    14.208792686462402,
                    8.28421401977539,
                    19.17936134338379,
                    -6.393253803253174,
                    -3.756657123565674,
                    6.649551868438721,
                    11.810314178466797,
                    14.750506401062012,
                    14.23625659942627,
                    6.226974010467529,
                    13.963690757751465,
                    -19.383596420288086,
                    -16.559297561645508,
                    -12.457659721374512,
                    4.176423072814941,
                    -7.809393405914307,
                    18.77845573425293,
                    5.638613700866699,
                    7.970598220825195,
                    12.102420806884766,
                    18.562496185302734,
                    2.9598095417022705,
                    6.537356853485107,
                    3.2642457485198975,
                    7.917975902557373,
                    20.868120193481445,
                    18.807992935180664,
                    9.776529312133789,
                    10.806540489196777,
                    4.39822244644165,
                    6.561459064483643,
                    7.873198986053467,
                    9.39665699005127,
                    14.376696586608887
                  ],
                  "type": "scatter"
                },
                {
                  "opacity": 0.6,
                  "name": "financial",
                  "text": [
                    "NTRS",
                    "MTB",
                    "CNS",
                    "AMP",
                    "SCHW",
                    "ALL",
                    "COF",
                    "AIZ",
                    "TROW",
                    "STT",
                    "CINF",
                    "MET",
                    "JPM",
                    "CME",
                    "GS",
                    "CACC",
                    "PRU",
                    "BK",
                    "CEF",
                    "AFL",
                    "AON",
                    "BLK",
                    "AIG",
                    "CHN",
                    "TRV",
                    "BAC",
                    "LNC",
                    "PGR",
                    "WU",
                    "ETFC",
                    "CB",
                    "ICE",
                    "AXP",
                    "MS",
                    "WFC",
                    "L",
                    "LAZ",
                    "FII",
                    "C",
                    "PNC",
                    "BX",
                    "V",
                    "MA",
                    "NDAQ",
                    "CMA"
                  ],
                  "y": [
                    -10.06244945526123,
                    -17.0239315032959,
                    -9.9153470993042,
                    -14.190213203430176,
                    -10.857344627380371,
                    -7.003347396850586,
                    -13.378798484802246,
                    -8.124066352844238,
                    2.144334554672241,
                    -15.086350440979004,
                    -13.445307731628418,
                    -11.538346290588379,
                    -19.492095947265625,
                    13.710611343383789,
                    -19.38477897644043,
                    -15.172101020812988,
                    -14.776533126831055,
                    -16.110254287719727,
                    -11.762711524963379,
                    -6.527207851409912,
                    -8.846611976623535,
                    -11.604021072387695,
                    -5.31090784072876,
                    -0.6374440789222717,
                    -1.4300583600997925,
                    -17.19985008239746,
                    -3.8738434314727783,
                    -7.444951057434082,
                    -5.073099613189697,
                    5.126489639282227,
                    -9.718867301940918,
                    13.136809349060059,
                    -8.087745666503906,
                    -19.42691993713379,
                    -19.795547485351562,
                    -6.219814777374268,
                    -10.590435981750488,
                    -9.902226448059082,
                    -17.602375030517578,
                    -13.912789344787598,
                    -11.518198013305664,
                    3.259337902069092,
                    2.451770305633545,
                    9.073904991149902,
                    -10.088762283325195
                  ],
                  "mode": "markers",
                  "marker": {
                    "color": "red",
                    "size": 5
                  },
                  "x": [
                    8.244391441345215,
                    0.5116599202156067,
                    2.2570011615753174,
                    4.389482498168945,
                    2.943188190460205,
                    -0.018128929659724236,
                    6.084827423095703,
                    -1.2979495525360107,
                    7.453322887420654,
                    -1.1136728525161743,
                    4.836716175079346,
                    -1.326937198638916,
                    1.1160449981689453,
                    -1.0911844968795776,
                    2.345787286758423,
                    7.405742645263672,
                    4.210716247558594,
                    0.29231634736061096,
                    13.23086166381836,
                    -1.1856210231781006,
                    -0.4311767816543579,
                    1.6109784841537476,
                    11.320773124694824,
                    5.5070648193359375,
                    -1.1942448616027832,
                    0.5594480037689209,
                    5.45979118347168,
                    0.5953097939491272,
                    19.011808395385742,
                    6.480332374572754,
                    -1.1655378341674805,
                    -1.7054651975631714,
                    12.264124870300293,
                    2.2064850330352783,
                    0.3670559227466583,
                    -17.167627334594727,
                    0.43932607769966125,
                    1.3622374534606934,
                    3.767369270324707,
                    3.6942038536071777,
                    0.44204723834991455,
                    1.0057260990142822,
                    14.935567855834961,
                    12.60092544555664,
                    -2.8020522594451904
                  ],
                  "type": "scatter"
                },
                {
                  "opacity": 0.7,
                  "name": "industrials",
                  "text": [
                    "SPGI",
                    "AVY",
                    "UTX",
                    "EXPD",
                    "DXPE",
                    "CRAI",
                    "ALGT",
                    "RS",
                    "CAJ",
                    "RTN",
                    "ROP",
                    "FISV",
                    "SPAR",
                    "FLR",
                    "RHI",
                    "MMM",
                    "UPS",
                    "PCAR",
                    "NSC",
                    "LUV",
                    "GD",
                    "AVAV",
                    "ATI",
                    "PAYX",
                    "RYAAY",
                    "LMT",
                    "DOV",
                    "FLS",
                    "ADP",
                    "NOC",
                    "AIMC",
                    "HON",
                    "PH",
                    "DAL",
                    "OSK",
                    "MCO",
                    "CAT",
                    "CATM",
                    "CMI",
                    "FDX",
                    "GWW",
                    "TEX",
                    "ETN",
                    "EFX",
                    "GE",
                    "UNP",
                    "DE",
                    "BA",
                    "AAXN",
                    "CSX",
                    "UAL",
                    "JBLU"
                  ],
                  "y": [
                    -2.8382937908172607,
                    -3.022178888320923,
                    7.042166709899902,
                    2.857631206512451,
                    7.297002792358398,
                    -3.487887144088745,
                    8.150083541870117,
                    -6.629641532897949,
                    -1.540656566619873,
                    5.893163681030273,
                    14.360873222351074,
                    10.646400451660156,
                    2.458876848220825,
                    -6.198784828186035,
                    -0.8560231328010559,
                    4.669008731842041,
                    0.790168046951294,
                    6.16749382019043,
                    -25.17221450805664,
                    12.733671188354492,
                    -4.14995002746582,
                    7.173819065093994,
                    14.425593376159668,
                    11.007095336914062,
                    10.695046424865723,
                    5.494842529296875,
                    -4.614040374755859,
                    -4.085080146789551,
                    5.414474964141846,
                    5.579297065734863,
                    3.8231241703033447,
                    -3.7539055347442627,
                    -2.712634563446045,
                    12.457551002502441,
                    -3.96217679977417,
                    -7.3177266120910645,
                    -4.170178413391113,
                    5.687638282775879,
                    5.920898914337158,
                    6.838045597076416,
                    1.0821682214736938,
                    -4.983034133911133,
                    -19.734878540039062,
                    -8.083927154541016,
                    -3.40474009513855,
                    -5.372231483459473,
                    -16.71076202392578,
                    5.9233551025390625,
                    8.191169738769531,
                    14.371978759765625,
                    11.843756675720215,
                    13.484098434448242
                  ],
                  "mode": "markers",
                  "marker": {
                    "color": "orange",
                    "size": 5
                  },
                  "x": [
                    7.935588836669922,
                    -2.5247879028320312,
                    -16.802227020263672,
                    4.089914798736572,
                    4.867086887359619,
                    9.835164070129395,
                    -0.3202977776527405,
                    -11.358202934265137,
                    -19.115877151489258,
                    -15.554931640625,
                    18.27751922607422,
                    7.456549644470215,
                    3.035060405731201,
                    -4.961742401123047,
                    4.257740020751953,
                    -11.748751640319824,
                    0.6749864220619202,
                    0.8574140667915344,
                    -3.5880372524261475,
                    -12.993640899658203,
                    -13.281318664550781,
                    3.8048806190490723,
                    18.190998077392578,
                    7.691700458526611,
                    -13.878570556640625,
                    -16.47051239013672,
                    -4.380482196807861,
                    -2.860459804534912,
                    9.794651985168457,
                    -16.320619583129883,
                    5.3027191162109375,
                    11.558788299560547,
                    -3.4810092449188232,
                    -12.348755836486816,
                    -5.003597736358643,
                    -2.709550142288208,
                    -8.944437026977539,
                    5.071439266204834,
                    -0.34809064865112305,
                    -10.095138549804688,
                    -0.23030966520309448,
                    -5.14884090423584,
                    6.267696857452393,
                    -1.892497181892395,
                    -14.733312606811523,
                    18.9539737701416,
                    -4.814815521240234,
                    -13.559610366821289,
                    5.16544771194458,
                    -14.034218788146973,
                    -13.334573745727539,
                    -13.620881080627441
                  ],
                  "type": "scatter"
                },
                {
                  "opacity": 0.4,
                  "name": "healthcare",
                  "text": [
                    "AGN",
                    "DXCM",
                    "BIIB",
                    "CNMD",
                    "A",
                    "PFE",
                    "ANTM",
                    "MRK",
                    "UNH",
                    "VRTX",
                    "RDY",
                    "ABMD",
                    "CVS",
                    "BDX",
                    "CI",
                    "VAR",
                    "MDT",
                    "HSIC",
                    "JNJ",
                    "WBA",
                    "TMO",
                    "SRPT",
                    "PKI",
                    "LH",
                    "ABC",
                    "ALXN",
                    "BMRN",
                    "MYL",
                    "THC",
                    "ANIK",
                    "AMGN",
                    "MCK",
                    "HUM",
                    "BMY",
                    "GILD",
                    "ABT",
                    "ALGN",
                    "CORT",
                    "DHR",
                    "ILMN",
                    "ALNY",
                    "EW",
                    "TEVA",
                    "CSII",
                    "ISRG",
                    "LLY",
                    "BAX",
                    "AMED"
                  ],
                  "y": [
                    -0.07091224193572998,
                    8.435687065124512,
                    17.336421966552734,
                    6.708497047424316,
                    15.272815704345703,
                    16.543275833129883,
                    -6.03470516204834,
                    16.45049285888672,
                    -6.635689735412598,
                    19.02656364440918,
                    0.12009681761264801,
                    8.331948280334473,
                    -4.531810283660889,
                    0.7007155418395996,
                    -6.066982746124268,
                    -2.343257427215576,
                    1.471788763999939,
                    4.382913589477539,
                    -0.6310595273971558,
                    9.989596366882324,
                    2.6140310764312744,
                    20.52370834350586,
                    1.8787331581115723,
                    -0.28955546021461487,
                    -3.9989843368530273,
                    17.397125244140625,
                    18.94341468811035,
                    18.218765258789062,
                    -4.096184253692627,
                    20.8712215423584,
                    16.9967041015625,
                    -4.7734808921813965,
                    -5.944804668426514,
                    14.771926879882812,
                    18.033544540405273,
                    1.8571494817733765,
                    14.661614418029785,
                    20.593496322631836,
                    -4.995411396026611,
                    15.832770347595215,
                    19.152278900146484,
                    4.035203456878662,
                    -2.9538400173187256,
                    9.145196914672852,
                    6.750886917114258,
                    14.995062828063965,
                    -2.824481248855591,
                    7.631253242492676
                  ],
                  "mode": "markers",
                  "marker": {
                    "color": "brown",
                    "size": 5
                  },
                  "x": [
                    13.377190589904785,
                    7.860625267028809,
                    0.45386940240859985,
                    6.973057270050049,
                    18.497472763061523,
                    -6.391753673553467,
                    1.6480920314788818,
                    -6.5121002197265625,
                    2.685062885284424,
                    0.18089386820793152,
                    1.7150249481201172,
                    7.955447196960449,
                    2.4969611167907715,
                    9.740467071533203,
                    0.8339042067527771,
                    -0.02784852124750614,
                    12.305436134338379,
                    8.106304168701172,
                    15.361483573913574,
                    0.8878659605979919,
                    9.991315841674805,
                    -0.42924144864082336,
                    10.750543594360352,
                    3.3265209197998047,
                    -0.5993539690971375,
                    1.6262673139572144,
                    1.0021867752075195,
                    2.3859591484069824,
                    1.6171833276748657,
                    -0.03034042753279209,
                    0.3487546443939209,
                    -0.4766411781311035,
                    1.8542722463607788,
                    -7.633797645568848,
                    -0.9075393080711365,
                    10.905665397644043,
                    14.646830558776855,
                    -0.02169119007885456,
                    -1.402465581893921,
                    2.804037094116211,
                    0.36286675930023193,
                    11.544755935668945,
                    -20.203514099121094,
                    10.566673278808594,
                    8.390040397644043,
                    -7.498948574066162,
                    10.729059219360352,
                    6.565553665161133
                  ],
                  "type": "scatter"
                },
                {
                  "opacity": 0.9,
                  "name": "energy",
                  "text": [
                    "XOM",
                    "PXD",
                    "PBR",
                    "OKE",
                    "MUR",
                    "NS",
                    "EOG",
                    "COP",
                    "CVX",
                    "NOV",
                    "HAL",
                    "VLO",
                    "NBL",
                    "APA",
                    "WMB",
                    "FTI",
                    "OXY",
                    "MPC",
                    "DVN",
                    "HES",
                    "SLB",
                    "COG"
                  ],
                  "y": [
                    -11.692727088928223,
                    -17.129878997802734,
                    -3.0963635444641113,
                    -9.411921501159668,
                    -14.803271293640137,
                    -17.415699005126953,
                    -17.614580154418945,
                    -11.701215744018555,
                    -11.67835521697998,
                    -5.0874810218811035,
                    -12.661840438842773,
                    -15.67192268371582,
                    -10.031991004943848,
                    -10.284799575805664,
                    -1.0458201169967651,
                    -7.401430606842041,
                    -10.77565860748291,
                    -10.768776893615723,
                    -15.221745491027832,
                    -10.613800048828125,
                    -12.696937561035156,
                    -15.05540657043457
                  ],
                  "mode": "markers",
                  "marker": {
                    "color": "goldenrod",
                    "size": 5
                  },
                  "x": [
                    -10.690187454223633,
                    -9.3513765335083,
                    -19.159934997558594,
                    -4.629884243011475,
                    -10.293855667114258,
                    -12.871163368225098,
                    -9.11516284942627,
                    -9.132011413574219,
                    -10.591416358947754,
                    7.394333362579346,
                    -7.296955108642578,
                    -12.594687461853027,
                    -6.516562461853027,
                    -8.896397590637207,
                    -2.9881093502044678,
                    -4.857327461242676,
                    -13.580153465270996,
                    -13.582077026367188,
                    -12.676104545593262,
                    -8.33221435546875,
                    -7.327585220336914,
                    -10.352591514587402
                  ],
                  "type": "scatter"
                },
                {
                  "opacity": 0.9,
                  "name": "basic materials",
                  "text": [
                    "APD",
                    "AA",
                    "NEM",
                    "WPM",
                    "MAS",
                    "STLD",
                    "NUE",
                    "SSRM",
                    "RGLD",
                    "SHW",
                    "PPG",
                    "ARCH",
                    "MOS",
                    "FMC",
                    "VMC",
                    "CF",
                    "GOLD",
                    "SCCO",
                    "FCX",
                    "AEM",
                    "PAAS",
                    "VALE"
                  ],
                  "y": [
                    8.243045806884766,
                    -5.191001892089844,
                    -14.200273513793945,
                    -11.752099990844727,
                    -4.890200138092041,
                    -6.363653659820557,
                    -5.916821479797363,
                    -11.966150283813477,
                    -12.67417049407959,
                    -0.77520751953125,
                    -13.363192558288574,
                    -17.896116256713867,
                    -1.8797032833099365,
                    -5.618725776672363,
                    9.855496406555176,
                    -13.30210018157959,
                    -13.201068878173828,
                    -25.187938690185547,
                    -6.370738506317139,
                    -12.714136123657227,
                    -10.622095108032227,
                    -3.029075860977173
                  ],
                  "mode": "markers",
                  "marker": {
                    "color": "navy",
                    "size": 5
                  },
                  "x": [
                    21.345792770385742,
                    -9.079924583435059,
                    11.883092880249023,
                    12.877202033996582,
                    -3.06080961227417,
                    -11.314216613769531,
                    -10.407451629638672,
                    11.578471183776855,
                    13.884415626525879,
                    -4.1280107498168945,
                    -17.841552734375,
                    -8.938809394836426,
                    -5.326933860778809,
                    -6.413557052612305,
                    20.914722442626953,
                    -17.983736038208008,
                    13.47473430633545,
                    -3.573221445083618,
                    -8.17727279663086,
                    10.569833755493164,
                    12.369441032409668,
                    -19.357545852661133
                  ],
                  "type": "scatter"
                },
                {
                  "opacity": 0.9,
                  "textfont": {
                    "color": "black",
                    "family": "sans serif",
                    "size": 12
                  },
                  "name": "Top",
                  "text": [
                    "TSLA",
                    "XOM",
                    "AGN",
                    "AA",
                    "INTC",
                    "KO",
                    "IBM",
                    "TGT",
                    "WMT",
                    "AAPL",
                    "JPM",
                    "MU",
                    "CME",
                    "GOOGL",
                    "GS",
                    "CVX",
                    "VZ",
                    "NWSA",
                    "BLK",
                    "UBER",
                    "LMT",
                    "SBUX",
                    "BAC",
                    "WMB",
                    "DIS",
                    "TM",
                    "MS",
                    "BKR",
                    "CAT",
                    "WFC",
                    "CMG",
                    "SO",
                    "C",
                    "EFX",
                    "MSFT",
                    "GE",
                    "AMZN",
                    "BA",
                    "NFLX",
                    "GM"
                  ],
                  "mode": "text",
                  "y": [
                    18.41582679748535,
                    -11.692727088928223,
                    -0.07091224193572998,
                    -5.191001892089844,
                    18.607986450195312,
                    3.9663805961608887,
                    -2.1313693523406982,
                    6.062213897705078,
                    6.969173908233643,
                    19.334455490112305,
                    -19.492095947265625,
                    15.251526832580566,
                    13.710611343383789,
                    20.00221061706543,
                    -19.38477897644043,
                    -11.67835521697998,
                    6.304572105407715,
                    -1.699291706085205,
                    -11.604021072387695,
                    16.185945510864258,
                    5.494842529296875,
                    11.064697265625,
                    -17.19985008239746,
                    -1.0458201169967651,
                    3.4726312160491943,
                    1.1108651161193848,
                    -19.42691993713379,
                    -11.658955574035645,
                    -4.170178413391113,
                    -19.795547485351562,
                    7.012265205383301,
                    -24.4113712310791,
                    -17.602375030517578,
                    -8.083927154541016,
                    19.595518112182617,
                    -3.40474009513855,
                    21.025100708007812,
                    5.9233551025390625,
                    19.720245361328125,
                    -3.3931660652160645
                  ],
                  "x": [
                    7.428297996520996,
                    -10.690187454223633,
                    13.377190589904785,
                    -9.079924583435059,
                    11.768572807312012,
                    -10.569101333618164,
                    5.755160331726074,
                    -7.175264835357666,
                    -6.081610679626465,
                    7.582400321960449,
                    1.1160449981689453,
                    13.277997016906738,
                    -1.0911844968795776,
                    8.28421401977539,
                    2.345787286758423,
                    -10.591416358947754,
                    16.68581771850586,
                    1.7281889915466309,
                    1.6109784841537476,
                    19.420944213867188,
                    -16.47051239013672,
                    -0.23007041215896606,
                    0.5594480037689209,
                    -2.9881093502044678,
                    -9.245748519897461,
                    -20.29376983642578,
                    2.2064850330352783,
                    -5.510558128356934,
                    -8.944437026977539,
                    0.3670559227466583,
                    -4.018749237060547,
                    -4.144883155822754,
                    3.767369270324707,
                    -1.892497181892395,
                    10.806540489196777,
                    -14.733312606811523,
                    7.873198986053467,
                    -13.559610366821289,
                    7.018675327301025,
                    -14.67159652709961
                  ],
                  "type": "scatter"
                },
                {
                  "opacity": 0.9,
                  "name": "consumer cyclical",
                  "text": [
                    "TSLA",
                    "LB",
                    "DDS",
                    "HOG",
                    "IP",
                    "CBRL",
                    "MAR",
                    "GT",
                    "CROX",
                    "BBY",
                    "DHI",
                    "LOW",
                    "CRI",
                    "DISCA",
                    "MAT",
                    "DNKN",
                    "ROST",
                    "NYT",
                    "MGA",
                    "BJRI",
                    "MCD",
                    "ANF",
                    "TPR",
                    "UAA",
                    "KSS",
                    "AZO",
                    "NWSA",
                    "CTAS",
                    "LEN",
                    "RL",
                    "DRI",
                    "KBH",
                    "HMC",
                    "CMCSA",
                    "SBUX",
                    "BBBY",
                    "DIS",
                    "HD",
                    "EXPE",
                    "TM",
                    "TIF",
                    "EBAY",
                    "JWN",
                    "GPS",
                    "GPC",
                    "CMG",
                    "KMX",
                    "ORLY",
                    "TTM",
                    "URBN",
                    "YUM",
                    "MHO",
                    "IPG",
                    "HRB",
                    "WYNN",
                    "GM",
                    "NKE",
                    "BKNG",
                    "COLM",
                    "HAS"
                  ],
                  "y": [
                    18.41582679748535,
                    2.1725025177001953,
                    2.1367504596710205,
                    2.3144307136535645,
                    -4.824178218841553,
                    -3.119432210922241,
                    -4.498486518859863,
                    4.9164276123046875,
                    9.474678993225098,
                    4.412540912628174,
                    -17.6480655670166,
                    -1.60982084274292,
                    0.5743904709815979,
                    6.734347820281982,
                    17.07915687561035,
                    10.606660842895508,
                    10.068638801574707,
                    -5.742974281311035,
                    -3.67824125289917,
                    9.223713874816895,
                    5.544699668884277,
                    4.1721906661987305,
                    1.9737542867660522,
                    3.936659574508667,
                    5.280194282531738,
                    5.901991367340088,
                    -1.699291706085205,
                    6.429656028747559,
                    8.410235404968262,
                    2.5905091762542725,
                    8.937642097473145,
                    9.62061882019043,
                    1.0978695154190063,
                    8.21196460723877,
                    11.064697265625,
                    7.761157989501953,
                    3.4726312160491943,
                    9.824173927307129,
                    12.132879257202148,
                    1.1108651161193848,
                    3.2406585216522217,
                    13.10560131072998,
                    6.045648097991943,
                    3.195512533187866,
                    2.0249006748199463,
                    7.012265205383301,
                    5.870642185211182,
                    5.821755409240723,
                    -0.746770441532135,
                    9.151456832885742,
                    2.017821788787842,
                    -7.853809833526611,
                    -0.4615447521209717,
                    -8.131370544433594,
                    12.074047088623047,
                    -3.3931660652160645,
                    4.0683064460754395,
                    10.614826202392578,
                    22.025169372558594,
                    17.096946716308594
                  ],
                  "mode": "markers",
                  "marker": {
                    "color": "blue",
                    "size": 5
                  },
                  "x": [
                    7.428297996520996,
                    -3.5168333053588867,
                    -1.345789909362793,
                    -0.35730278491973877,
                    10.028531074523926,
                    14.359923362731934,
                    8.86855411529541,
                    1.0292168855667114,
                    3.481992721557617,
                    -1.8540005683898926,
                    10.036216735839844,
                    3.133573293685913,
                    -1.543868899345398,
                    11.720727920532227,
                    5.302199840545654,
                    1.3004695177078247,
                    -4.334228038787842,
                    4.802441120147705,
                    10.505765914916992,
                    -2.933814764022827,
                    -9.418328285217285,
                    -5.88478946685791,
                    -2.1913061141967773,
                    -4.106616020202637,
                    -6.485083103179932,
                    -2.7045412063598633,
                    1.7281889915466309,
                    6.1605448722839355,
                    -8.173200607299805,
                    -6.035218715667725,
                    -3.027378797531128,
                    -7.4784040451049805,
                    -20.287813186645508,
                    16.180538177490234,
                    -0.23007041215896606,
                    2.081890821456909,
                    -9.245748519897461,
                    -7.471242904663086,
                    3.5032312870025635,
                    -20.29376983642578,
                    -7.468190670013428,
                    3.9264111518859863,
                    -5.533339977264404,
                    -2.3286077976226807,
                    1.529588222503662,
                    -4.018749237060547,
                    -2.518265724182129,
                    2.59126615524292,
                    -20.270431518554688,
                    2.5055530071258545,
                    -14.749332427978516,
                    9.394380569458008,
                    -1.1212869882583618,
                    -6.9144816398620605,
                    1.5689200162887573,
                    -14.67159652709961,
                    -4.087594509124756,
                    -13.944279670715332,
                    3.838461399078369,
                    5.347275733947754
                  ],
                  "type": "scatter"
                },
                {
                  "opacity": 0.9,
                  "name": "consumer defensive",
                  "text": [
                    "EL",
                    "KO",
                    "CHEF",
                    "CASY",
                    "TGT",
                    "WMT",
                    "TAP",
                    "MO",
                    "PEP",
                    "GIS",
                    "ADM",
                    "PG",
                    "KHC",
                    "K",
                    "HAIN",
                    "SJM",
                    "CLX",
                    "CENT",
                    "STZ",
                    "CPB",
                    "COST",
                    "ATGE",
                    "TSN",
                    "DLTR",
                    "HRL",
                    "KMB",
                    "CAG",
                    "KR",
                    "MKC",
                    "PM",
                    "HSY",
                    "SYY",
                    "BIG"
                  ],
                  "y": [
                    0.11735381931066513,
                    3.9663805961608887,
                    10.06063175201416,
                    10.243561744689941,
                    6.062213897705078,
                    6.969173908233643,
                    0.9847136735916138,
                    0.6826031804084778,
                    2.2305805683135986,
                    -3.9972662925720215,
                    -0.6712464690208435,
                    1.7403336763381958,
                    0.794434130191803,
                    -0.7234940528869629,
                    2.8777518272399902,
                    0.8678096532821655,
                    0.9019918441772461,
                    0.829861044883728,
                    1.9277172088623047,
                    0.6312158703804016,
                    12.143312454223633,
                    -2.075784206390381,
                    -0.2580348253250122,
                    3.705970048904419,
                    -0.24437719583511353,
                    -0.21741878986358643,
                    1.8338139057159424,
                    4.794826984405518,
                    0.42811018228530884,
                    -2.521998167037964,
                    1.4621025323867798,
                    -0.7006707787513733,
                    -6.079682350158691
                  ],
                  "mode": "markers",
                  "marker": {
                    "color": "magenta",
                    "size": 5
                  },
                  "x": [
                    -1.7268788814544678,
                    -10.569101333618164,
                    -2.118368625640869,
                    -4.491915225982666,
                    -7.175264835357666,
                    -6.081610679626465,
                    -5.293495178222656,
                    -4.015884876251221,
                    -11.874784469604492,
                    -13.381043434143066,
                    -5.875595569610596,
                    -9.373026847839355,
                    -10.981038093566895,
                    -9.530661582946777,
                    6.649777889251709,
                    -6.376507759094238,
                    -7.873000144958496,
                    5.923690319061279,
                    -14.336074829101562,
                    -8.911431312561035,
                    -4.3137712478637695,
                    7.690925598144531,
                    -12.354696273803711,
                    -0.6173647046089172,
                    -12.310867309570312,
                    -7.591206073760986,
                    -14.305340766906738,
                    -7.355270862579346,
                    -2.8476452827453613,
                    11.799712181091309,
                    -8.014633178710938,
                    -7.964292526245117,
                    14.892019271850586
                  ],
                  "type": "scatter"
                }
              ],
              "config": {
                "plotlyServerURL": "https://plot.ly",
                "linkText": "Export to plot.ly",
                "showLink": false
              },
              "layout": {
                "width": 1150,
                "autosize": false,
                "title": {
                  "text": "t-SNE - News Tickers",
                  "font": {
                    "size": 20
                  }
                },
                "template": {
                  "layout": {
                    "shapedefaults": {
                      "line": {
                        "color": "#2a3f5f"
                      }
                    },
                    "polar": {
                      "radialaxis": {
                        "ticks": "",
                        "gridcolor": "white",
                        "linecolor": "white"
                      },
                      "bgcolor": "#E5ECF6",
                      "angularaxis": {
                        "ticks": "",
                        "gridcolor": "white",
                        "linecolor": "white"
                      }
                    },
                    "colorway": [
                      "#636efa",
                      "#EF553B",
                      "#00cc96",
                      "#ab63fa",
                      "#FFA15A",
                      "#19d3f3",
                      "#FF6692",
                      "#B6E880",
                      "#FF97FF",
                      "#FECB52"
                    ],
                    "xaxis": {
                      "automargin": true,
                      "title": {
                        "standoff": 15
                      },
                      "zerolinewidth": 2,
                      "ticks": "",
                      "zerolinecolor": "white",
                      "gridcolor": "white",
                      "linecolor": "white"
                    },
                    "colorscale": {
                      "diverging": [
                        [
                          0,
                          "#8e0152"
                        ],
                        [
                          0.1,
                          "#c51b7d"
                        ],
                        [
                          0.2,
                          "#de77ae"
                        ],
                        [
                          0.3,
                          "#f1b6da"
                        ],
                        [
                          0.4,
                          "#fde0ef"
                        ],
                        [
                          0.5,
                          "#f7f7f7"
                        ],
                        [
                          0.6,
                          "#e6f5d0"
                        ],
                        [
                          0.7,
                          "#b8e186"
                        ],
                        [
                          0.8,
                          "#7fbc41"
                        ],
                        [
                          0.9,
                          "#4d9221"
                        ],
                        [
                          1,
                          "#276419"
                        ]
                      ],
                      "sequential": [
                        [
                          0,
                          "#0d0887"
                        ],
                        [
                          0.1111111111111111,
                          "#46039f"
                        ],
                        [
                          0.2222222222222222,
                          "#7201a8"
                        ],
                        [
                          0.3333333333333333,
                          "#9c179e"
                        ],
                        [
                          0.4444444444444444,
                          "#bd3786"
                        ],
                        [
                          0.5555555555555556,
                          "#d8576b"
                        ],
                        [
                          0.6666666666666666,
                          "#ed7953"
                        ],
                        [
                          0.7777777777777778,
                          "#fb9f3a"
                        ],
                        [
                          0.8888888888888888,
                          "#fdca26"
                        ],
                        [
                          1,
                          "#f0f921"
                        ]
                      ],
                      "sequentialminus": [
                        [
                          0,
                          "#0d0887"
                        ],
                        [
                          0.1111111111111111,
                          "#46039f"
                        ],
                        [
                          0.2222222222222222,
                          "#7201a8"
                        ],
                        [
                          0.3333333333333333,
                          "#9c179e"
                        ],
                        [
                          0.4444444444444444,
                          "#bd3786"
                        ],
                        [
                          0.5555555555555556,
                          "#d8576b"
                        ],
                        [
                          0.6666666666666666,
                          "#ed7953"
                        ],
                        [
                          0.7777777777777778,
                          "#fb9f3a"
                        ],
                        [
                          0.8888888888888888,
                          "#fdca26"
                        ],
                        [
                          1,
                          "#f0f921"
                        ]
                      ]
                    },
                    "paper_bgcolor": "white",
                    "plot_bgcolor": "#E5ECF6",
                    "title": {
                      "x": 0.05
                    },
                    "scene": {
                      "zaxis": {
                        "backgroundcolor": "#E5ECF6",
                        "ticks": "",
                        "gridwidth": 2,
                        "showbackground": true,
                        "zerolinecolor": "white",
                        "gridcolor": "white",
                        "linecolor": "white"
                      },
                      "xaxis": {
                        "backgroundcolor": "#E5ECF6",
                        "ticks": "",
                        "gridwidth": 2,
                        "showbackground": true,
                        "zerolinecolor": "white",
                        "gridcolor": "white",
                        "linecolor": "white"
                      },
                      "yaxis": {
                        "backgroundcolor": "#E5ECF6",
                        "ticks": "",
                        "gridwidth": 2,
                        "showbackground": true,
                        "zerolinecolor": "white",
                        "gridcolor": "white",
                        "linecolor": "white"
                      }
                    },
                    "yaxis": {
                      "automargin": true,
                      "title": {
                        "standoff": 15
                      },
                      "zerolinewidth": 2,
                      "ticks": "",
                      "zerolinecolor": "white",
                      "gridcolor": "white",
                      "linecolor": "white"
                    },
                    "annotationdefaults": {
                      "arrowwidth": 1,
                      "arrowhead": 0,
                      "arrowcolor": "#2a3f5f"
                    },
                    "hoverlabel": {
                      "align": "left"
                    },
                    "ternary": {
                      "bgcolor": "#E5ECF6",
                      "baxis": {
                        "ticks": "",
                        "gridcolor": "white",
                        "linecolor": "white"
                      },
                      "caxis": {
                        "ticks": "",
                        "gridcolor": "white",
                        "linecolor": "white"
                      },
                      "aaxis": {
                        "ticks": "",
                        "gridcolor": "white",
                        "linecolor": "white"
                      }
                    },
                    "mapbox": {
                      "style": "light"
                    },
                    "hovermode": "closest",
                    "font": {
                      "color": "#2a3f5f"
                    },
                    "geo": {
                      "showland": true,
                      "landcolor": "#E5ECF6",
                      "showlakes": true,
                      "bgcolor": "white",
                      "subunitcolor": "white",
                      "lakecolor": "white"
                    },
                    "coloraxis": {
                      "colorbar": {
                        "outlinewidth": 0,
                        "ticks": ""
                      }
                    }
                  },
                  "data": {
                    "mesh3d": [
                      {
                        "colorbar": {
                          "outlinewidth": 0,
                          "ticks": ""
                        },
                        "type": "mesh3d"
                      }
                    ],
                    "scattercarpet": [
                      {
                        "marker": {
                          "colorbar": {
                            "outlinewidth": 0,
                            "ticks": ""
                          }
                        },
                        "type": "scattercarpet"
                      }
                    ],
                    "pie": [
                      {
                        "automargin": true,
                        "type": "pie"
                      }
                    ],
                    "surface": [
                      {
                        "colorbar": {
                          "outlinewidth": 0,
                          "ticks": ""
                        },
                        "type": "surface",
                        "colorscale": [
                          [
                            0,
                            "#0d0887"
                          ],
                          [
                            0.1111111111111111,
                            "#46039f"
                          ],
                          [
                            0.2222222222222222,
                            "#7201a8"
                          ],
                          [
                            0.3333333333333333,
                            "#9c179e"
                          ],
                          [
                            0.4444444444444444,
                            "#bd3786"
                          ],
                          [
                            0.5555555555555556,
                            "#d8576b"
                          ],
                          [
                            0.6666666666666666,
                            "#ed7953"
                          ],
                          [
                            0.7777777777777778,
                            "#fb9f3a"
                          ],
                          [
                            0.8888888888888888,
                            "#fdca26"
                          ],
                          [
                            1,
                            "#f0f921"
                          ]
                        ]
                      }
                    ],
                    "table": [
                      {
                        "header": {
                          "line": {
                            "color": "white"
                          },
                          "fill": {
                            "color": "#C8D4E3"
                          }
                        },
                        "cells": {
                          "line": {
                            "color": "white"
                          },
                          "fill": {
                            "color": "#EBF0F8"
                          }
                        },
                        "type": "table"
                      }
                    ],
                    "scatterpolargl": [
                      {
                        "marker": {
                          "colorbar": {
                            "outlinewidth": 0,
                            "ticks": ""
                          }
                        },
                        "type": "scatterpolargl"
                      }
                    ],
                    "contour": [
                      {
                        "colorbar": {
                          "outlinewidth": 0,
                          "ticks": ""
                        },
                        "type": "contour",
                        "colorscale": [
                          [
                            0,
                            "#0d0887"
                          ],
                          [
                            0.1111111111111111,
                            "#46039f"
                          ],
                          [
                            0.2222222222222222,
                            "#7201a8"
                          ],
                          [
                            0.3333333333333333,
                            "#9c179e"
                          ],
                          [
                            0.4444444444444444,
                            "#bd3786"
                          ],
                          [
                            0.5555555555555556,
                            "#d8576b"
                          ],
                          [
                            0.6666666666666666,
                            "#ed7953"
                          ],
                          [
                            0.7777777777777778,
                            "#fb9f3a"
                          ],
                          [
                            0.8888888888888888,
                            "#fdca26"
                          ],
                          [
                            1,
                            "#f0f921"
                          ]
                        ]
                      }
                    ],
                    "carpet": [
                      {
                        "type": "carpet",
                        "baxis": {
                          "minorgridcolor": "white",
                          "gridcolor": "white",
                          "linecolor": "white",
                          "endlinecolor": "#2a3f5f",
                          "startlinecolor": "#2a3f5f"
                        },
                        "aaxis": {
                          "minorgridcolor": "white",
                          "gridcolor": "white",
                          "linecolor": "white",
                          "endlinecolor": "#2a3f5f",
                          "startlinecolor": "#2a3f5f"
                        }
                      }
                    ],
                    "contourcarpet": [
                      {
                        "colorbar": {
                          "outlinewidth": 0,
                          "ticks": ""
                        },
                        "type": "contourcarpet"
                      }
                    ],
                    "heatmap": [
                      {
                        "colorbar": {
                          "outlinewidth": 0,
                          "ticks": ""
                        },
                        "type": "heatmap",
                        "colorscale": [
                          [
                            0,
                            "#0d0887"
                          ],
                          [
                            0.1111111111111111,
                            "#46039f"
                          ],
                          [
                            0.2222222222222222,
                            "#7201a8"
                          ],
                          [
                            0.3333333333333333,
                            "#9c179e"
                          ],
                          [
                            0.4444444444444444,
                            "#bd3786"
                          ],
                          [
                            0.5555555555555556,
                            "#d8576b"
                          ],
                          [
                            0.6666666666666666,
                            "#ed7953"
                          ],
                          [
                            0.7777777777777778,
                            "#fb9f3a"
                          ],
                          [
                            0.8888888888888888,
                            "#fdca26"
                          ],
                          [
                            1,
                            "#f0f921"
                          ]
                        ]
                      }
                    ],
                    "scattermapbox": [
                      {
                        "marker": {
                          "colorbar": {
                            "outlinewidth": 0,
                            "ticks": ""
                          }
                        },
                        "type": "scattermapbox"
                      }
                    ],
                    "scatter3d": [
                      {
                        "marker": {
                          "colorbar": {
                            "outlinewidth": 0,
                            "ticks": ""
                          }
                        },
                        "line": {
                          "colorbar": {
                            "outlinewidth": 0,
                            "ticks": ""
                          }
                        },
                        "type": "scatter3d"
                      }
                    ],
                    "scattergl": [
                      {
                        "marker": {
                          "colorbar": {
                            "outlinewidth": 0,
                            "ticks": ""
                          }
                        },
                        "type": "scattergl"
                      }
                    ],
                    "scatterternary": [
                      {
                        "marker": {
                          "colorbar": {
                            "outlinewidth": 0,
                            "ticks": ""
                          }
                        },
                        "type": "scatterternary"
                      }
                    ],
                    "histogram": [
                      {
                        "marker": {
                          "colorbar": {
                            "outlinewidth": 0,
                            "ticks": ""
                          }
                        },
                        "type": "histogram"
                      }
                    ],
                    "heatmapgl": [
                      {
                        "colorbar": {
                          "outlinewidth": 0,
                          "ticks": ""
                        },
                        "type": "heatmapgl",
                        "colorscale": [
                          [
                            0,
                            "#0d0887"
                          ],
                          [
                            0.1111111111111111,
                            "#46039f"
                          ],
                          [
                            0.2222222222222222,
                            "#7201a8"
                          ],
                          [
                            0.3333333333333333,
                            "#9c179e"
                          ],
                          [
                            0.4444444444444444,
                            "#bd3786"
                          ],
                          [
                            0.5555555555555556,
                            "#d8576b"
                          ],
                          [
                            0.6666666666666666,
                            "#ed7953"
                          ],
                          [
                            0.7777777777777778,
                            "#fb9f3a"
                          ],
                          [
                            0.8888888888888888,
                            "#fdca26"
                          ],
                          [
                            1,
                            "#f0f921"
                          ]
                        ]
                      }
                    ],
                    "scatterpolar": [
                      {
                        "marker": {
                          "colorbar": {
                            "outlinewidth": 0,
                            "ticks": ""
                          }
                        },
                        "type": "scatterpolar"
                      }
                    ],
                    "histogram2d": [
                      {
                        "colorbar": {
                          "outlinewidth": 0,
                          "ticks": ""
                        },
                        "type": "histogram2d",
                        "colorscale": [
                          [
                            0,
                            "#0d0887"
                          ],
                          [
                            0.1111111111111111,
                            "#46039f"
                          ],
                          [
                            0.2222222222222222,
                            "#7201a8"
                          ],
                          [
                            0.3333333333333333,
                            "#9c179e"
                          ],
                          [
                            0.4444444444444444,
                            "#bd3786"
                          ],
                          [
                            0.5555555555555556,
                            "#d8576b"
                          ],
                          [
                            0.6666666666666666,
                            "#ed7953"
                          ],
                          [
                            0.7777777777777778,
                            "#fb9f3a"
                          ],
                          [
                            0.8888888888888888,
                            "#fdca26"
                          ],
                          [
                            1,
                            "#f0f921"
                          ]
                        ]
                      }
                    ],
                    "scattergeo": [
                      {
                        "marker": {
                          "colorbar": {
                            "outlinewidth": 0,
                            "ticks": ""
                          }
                        },
                        "type": "scattergeo"
                      }
                    ],
                    "bar": [
                      {
                        "marker": {
                          "line": {
                            "color": "#E5ECF6",
                            "width": 0.5
                          }
                        },
                        "type": "bar",
                        "error_x": {
                          "color": "#2a3f5f"
                        },
                        "error_y": {
                          "color": "#2a3f5f"
                        }
                      }
                    ],
                    "choropleth": [
                      {
                        "colorbar": {
                          "outlinewidth": 0,
                          "ticks": ""
                        },
                        "type": "choropleth"
                      }
                    ],
                    "parcoords": [
                      {
                        "line": {
                          "colorbar": {
                            "outlinewidth": 0,
                            "ticks": ""
                          }
                        },
                        "type": "parcoords"
                      }
                    ],
                    "barpolar": [
                      {
                        "marker": {
                          "line": {
                            "color": "#E5ECF6",
                            "width": 0.5
                          }
                        },
                        "type": "barpolar"
                      }
                    ],
                    "histogram2dcontour": [
                      {
                        "colorbar": {
                          "outlinewidth": 0,
                          "ticks": ""
                        },
                        "type": "histogram2dcontour",
                        "colorscale": [
                          [
                            0,
                            "#0d0887"
                          ],
                          [
                            0.1111111111111111,
                            "#46039f"
                          ],
                          [
                            0.2222222222222222,
                            "#7201a8"
                          ],
                          [
                            0.3333333333333333,
                            "#9c179e"
                          ],
                          [
                            0.4444444444444444,
                            "#bd3786"
                          ],
                          [
                            0.5555555555555556,
                            "#d8576b"
                          ],
                          [
                            0.6666666666666666,
                            "#ed7953"
                          ],
                          [
                            0.7777777777777778,
                            "#fb9f3a"
                          ],
                          [
                            0.8888888888888888,
                            "#fdca26"
                          ],
                          [
                            1,
                            "#f0f921"
                          ]
                        ]
                      }
                    ],
                    "scatter": [
                      {
                        "marker": {
                          "colorbar": {
                            "outlinewidth": 0,
                            "ticks": ""
                          }
                        },
                        "type": "scatter"
                      }
                    ]
                  }
                },
                "height": 750
              }
            }
          },
          "metadata": {}
        },
        {
          "output_type": "execute_result",
          "data": {
            "application/vnd.google.colaboratory.intrinsic+json": {
              "type": "string"
            },
            "text/plain": [
              "'temp-plot.html'"
            ]
          },
          "metadata": {},
          "execution_count": 217
        }
      ]
    },
    {
      "cell_type": "code",
      "metadata": {
        "colab": {
          "base_uri": "https://localhost:8080/",
          "height": 767
        },
        "id": "IdCiCsoghSLX",
        "outputId": "94c9e297-2c39-4789-d25b-0604b33eeebf"
      },
      "source": [
        "#En Colab\n",
        "fig_3_sector.show(renderer=\"colab\")"
      ],
      "execution_count": 212,
      "outputs": [
        {
          "output_type": "display_data",
          "data": {
            "text/html": [
              "<html>\n",
              "<head><meta charset=\"utf-8\" /></head>\n",
              "<body>\n",
              "    <div>\n",
              "            <script src=\"https://cdnjs.cloudflare.com/ajax/libs/mathjax/2.7.5/MathJax.js?config=TeX-AMS-MML_SVG\"></script><script type=\"text/javascript\">if (window.MathJax) {MathJax.Hub.Config({SVG: {font: \"STIX-Web\"}});}</script>\n",
              "                <script type=\"text/javascript\">window.PlotlyConfig = {MathJaxConfig: 'local'};</script>\n",
              "        <script src=\"https://cdn.plot.ly/plotly-latest.min.js\"></script>    \n",
              "            <div id=\"42c6076f-036d-4c89-8f2f-87f2d39096e0\" class=\"plotly-graph-div\" style=\"height:750px; width:1150px;\"></div>\n",
              "            <script type=\"text/javascript\">\n",
              "                \n",
              "                    window.PLOTLYENV=window.PLOTLYENV || {};\n",
              "                    \n",
              "                if (document.getElementById(\"42c6076f-036d-4c89-8f2f-87f2d39096e0\")) {\n",
              "                    Plotly.newPlot(\n",
              "                        '42c6076f-036d-4c89-8f2f-87f2d39096e0',\n",
              "                        [{\"marker\": {\"color\": \"yellow\", \"size\": 5}, \"mode\": \"markers\", \"name\": \"technology\", \"opacity\": 0.9, \"text\": [\"INTC\", \"BIDU\", \"XLNX\", \"NTAP\", \"CSIQ\", \"ORCL\", \"QCOM\", \"AMD\", \"MSI\", \"IBM\", \"CDNS\", \"CRUS\", \"AAPL\", \"NVDA\", \"AKAM\", \"MU\", \"CSCO\", \"ATVI\", \"YNDX\", \"FSLR\", \"FLIR\", \"KLAC\", \"MCHP\", \"IPGP\", \"STX\", \"GOOGL\", \"WDC\", \"SNE\", \"CIEN\", \"ITRI\", \"LRCX\", \"ADI\", \"MRVL\", \"TTWO\", \"ACN\", \"INFY\", \"AEIS\", \"XRX\", \"NTES\", \"WHR\", \"HPQ\", \"GRMN\", \"ADSK\", \"TXN\", \"CRM\", \"ASML\", \"EA\", \"NXPI\", \"INTU\", \"AMAT\", \"VMW\", \"AVGO\", \"MSFT\", \"CHKP\", \"EQIX\", \"AMZN\", \"ADBE\", \"CMTL\"], \"type\": \"scatter\", \"x\": [11.768572807312012, -18.35630989074707, 9.965271949768066, 8.836227416992188, 18.986557006835938, 19.341129302978516, 9.740934371948242, 14.685361862182617, 18.243871688842773, 5.755160331726074, 9.46182632446289, 11.275583267211914, 7.582400321960449, 11.981142044067383, 18.90397071838379, 13.277997016906738, 10.29122543334961, 6.455654621124268, 2.7595229148864746, 18.997814178466797, 9.734339714050293, 11.006629943847656, 14.169809341430664, 4.856150150299072, 14.208792686462402, 8.28421401977539, 19.17936134338379, -6.393253803253174, -3.756657123565674, 6.649551868438721, 11.810314178466797, 14.750506401062012, 14.23625659942627, 6.226974010467529, 13.963690757751465, -19.383596420288086, -16.559297561645508, -12.457659721374512, 4.176423072814941, -7.809393405914307, 18.77845573425293, 5.638613700866699, 7.970598220825195, 12.102420806884766, 18.562496185302734, 2.9598095417022705, 6.537356853485107, 3.2642457485198975, 7.917975902557373, 20.868120193481445, 18.807992935180664, 9.776529312133789, 10.806540489196777, 4.39822244644165, 6.561459064483643, 7.873198986053467, 9.39665699005127, 14.376696586608887], \"y\": [18.607986450195312, -0.7409741878509521, 14.269255638122559, 12.699536323547363, -10.37407112121582, 1.6129779815673828, 16.25288963317871, 12.452581405639648, 12.382648468017578, -2.1313693523406982, 9.097739219665527, 14.48410701751709, 19.334455490112305, 18.409730911254883, 14.295211791992188, 15.251526832580566, 10.90438175201416, 14.591179847717285, 3.6582446098327637, -10.363676071166992, 7.5505876541137695, 13.557302474975586, 14.938209533691406, 4.804147243499756, 16.02668571472168, 20.00221061706543, -4.198462963104248, -3.3587241172790527, -4.037876605987549, 8.840353965759277, 12.677549362182617, 12.389167785644531, 15.232827186584473, 13.365058898925781, 2.2685747146606445, -1.7413794994354248, -14.05077838897705, 8.66769027709961, 10.709328651428223, -2.446568012237549, 2.8386118412017822, 11.424942970275879, 12.70609188079834, 11.031601905822754, 1.0351569652557373, 1.4955607652664185, 14.706480026245117, 4.561063766479492, 11.967814445495605, 10.075462341308594, 1.9852434396743774, 15.961617469787598, 19.595518112182617, 0.9291422367095947, 9.783247947692871, 21.025100708007812, 11.781563758850098, 6.588724613189697]}, {\"marker\": {\"color\": \"red\", \"size\": 5}, \"mode\": \"markers\", \"name\": \"financial\", \"opacity\": 0.6, \"text\": [\"NTRS\", \"MTB\", \"CNS\", \"AMP\", \"SCHW\", \"ALL\", \"COF\", \"AIZ\", \"TROW\", \"STT\", \"CINF\", \"MET\", \"JPM\", \"CME\", \"GS\", \"CACC\", \"PRU\", \"BK\", \"CEF\", \"AFL\", \"AON\", \"BLK\", \"AIG\", \"CHN\", \"TRV\", \"BAC\", \"LNC\", \"PGR\", \"WU\", \"ETFC\", \"CB\", \"ICE\", \"AXP\", \"MS\", \"WFC\", \"L\", \"LAZ\", \"FII\", \"C\", \"PNC\", \"BX\", \"V\", \"MA\", \"NDAQ\", \"CMA\"], \"type\": \"scatter\", \"x\": [8.244391441345215, 0.5116599202156067, 2.2570011615753174, 4.389482498168945, 2.943188190460205, -0.018128929659724236, 6.084827423095703, -1.2979495525360107, 7.453322887420654, -1.1136728525161743, 4.836716175079346, -1.326937198638916, 1.1160449981689453, -1.0911844968795776, 2.345787286758423, 7.405742645263672, 4.210716247558594, 0.29231634736061096, 13.23086166381836, -1.1856210231781006, -0.4311767816543579, 1.6109784841537476, 11.320773124694824, 5.5070648193359375, -1.1942448616027832, 0.5594480037689209, 5.45979118347168, 0.5953097939491272, 19.011808395385742, 6.480332374572754, -1.1655378341674805, -1.7054651975631714, 12.264124870300293, 2.2064850330352783, 0.3670559227466583, -17.167627334594727, 0.43932607769966125, 1.3622374534606934, 3.767369270324707, 3.6942038536071777, 0.44204723834991455, 1.0057260990142822, 14.935567855834961, 12.60092544555664, -2.8020522594451904], \"y\": [-10.06244945526123, -17.0239315032959, -9.9153470993042, -14.190213203430176, -10.857344627380371, -7.003347396850586, -13.378798484802246, -8.124066352844238, 2.144334554672241, -15.086350440979004, -13.445307731628418, -11.538346290588379, -19.492095947265625, 13.710611343383789, -19.38477897644043, -15.172101020812988, -14.776533126831055, -16.110254287719727, -11.762711524963379, -6.527207851409912, -8.846611976623535, -11.604021072387695, -5.31090784072876, -0.6374440789222717, -1.4300583600997925, -17.19985008239746, -3.8738434314727783, -7.444951057434082, -5.073099613189697, 5.126489639282227, -9.718867301940918, 13.136809349060059, -8.087745666503906, -19.42691993713379, -19.795547485351562, -6.219814777374268, -10.590435981750488, -9.902226448059082, -17.602375030517578, -13.912789344787598, -11.518198013305664, 3.259337902069092, 2.451770305633545, 9.073904991149902, -10.088762283325195]}, {\"marker\": {\"color\": \"orange\", \"size\": 5}, \"mode\": \"markers\", \"name\": \"industrials\", \"opacity\": 0.7, \"text\": [\"SPGI\", \"AVY\", \"UTX\", \"EXPD\", \"DXPE\", \"CRAI\", \"ALGT\", \"RS\", \"CAJ\", \"RTN\", \"ROP\", \"FISV\", \"SPAR\", \"FLR\", \"RHI\", \"MMM\", \"UPS\", \"PCAR\", \"NSC\", \"LUV\", \"GD\", \"AVAV\", \"ATI\", \"PAYX\", \"RYAAY\", \"LMT\", \"DOV\", \"FLS\", \"ADP\", \"NOC\", \"AIMC\", \"HON\", \"PH\", \"DAL\", \"OSK\", \"MCO\", \"CAT\", \"CATM\", \"CMI\", \"FDX\", \"GWW\", \"TEX\", \"ETN\", \"EFX\", \"GE\", \"UNP\", \"DE\", \"BA\", \"AAXN\", \"CSX\", \"UAL\", \"JBLU\"], \"type\": \"scatter\", \"x\": [7.935588836669922, -2.5247879028320312, -16.802227020263672, 4.089914798736572, 4.867086887359619, 9.835164070129395, -0.3202977776527405, -11.358202934265137, -19.115877151489258, -15.554931640625, 18.27751922607422, 7.456549644470215, 3.035060405731201, -4.961742401123047, 4.257740020751953, -11.748751640319824, 0.6749864220619202, 0.8574140667915344, -3.5880372524261475, -12.993640899658203, -13.281318664550781, 3.8048806190490723, 18.190998077392578, 7.691700458526611, -13.878570556640625, -16.47051239013672, -4.380482196807861, -2.860459804534912, 9.794651985168457, -16.320619583129883, 5.3027191162109375, 11.558788299560547, -3.4810092449188232, -12.348755836486816, -5.003597736358643, -2.709550142288208, -8.944437026977539, 5.071439266204834, -0.34809064865112305, -10.095138549804688, -0.23030966520309448, -5.14884090423584, 6.267696857452393, -1.892497181892395, -14.733312606811523, 18.9539737701416, -4.814815521240234, -13.559610366821289, 5.16544771194458, -14.034218788146973, -13.334573745727539, -13.620881080627441], \"y\": [-2.8382937908172607, -3.022178888320923, 7.042166709899902, 2.857631206512451, 7.297002792358398, -3.487887144088745, 8.150083541870117, -6.629641532897949, -1.540656566619873, 5.893163681030273, 14.360873222351074, 10.646400451660156, 2.458876848220825, -6.198784828186035, -0.8560231328010559, 4.669008731842041, 0.790168046951294, 6.16749382019043, -25.17221450805664, 12.733671188354492, -4.14995002746582, 7.173819065093994, 14.425593376159668, 11.007095336914062, 10.695046424865723, 5.494842529296875, -4.614040374755859, -4.085080146789551, 5.414474964141846, 5.579297065734863, 3.8231241703033447, -3.7539055347442627, -2.712634563446045, 12.457551002502441, -3.96217679977417, -7.3177266120910645, -4.170178413391113, 5.687638282775879, 5.920898914337158, 6.838045597076416, 1.0821682214736938, -4.983034133911133, -19.734878540039062, -8.083927154541016, -3.40474009513855, -5.372231483459473, -16.71076202392578, 5.9233551025390625, 8.191169738769531, 14.371978759765625, 11.843756675720215, 13.484098434448242]}, {\"marker\": {\"color\": \"brown\", \"size\": 5}, \"mode\": \"markers\", \"name\": \"healthcare\", \"opacity\": 0.4, \"text\": [\"AGN\", \"DXCM\", \"BIIB\", \"CNMD\", \"A\", \"PFE\", \"ANTM\", \"MRK\", \"UNH\", \"VRTX\", \"RDY\", \"ABMD\", \"CVS\", \"BDX\", \"CI\", \"VAR\", \"MDT\", \"HSIC\", \"JNJ\", \"WBA\", \"TMO\", \"SRPT\", \"PKI\", \"LH\", \"ABC\", \"ALXN\", \"BMRN\", \"MYL\", \"THC\", \"ANIK\", \"AMGN\", \"MCK\", \"HUM\", \"BMY\", \"GILD\", \"ABT\", \"ALGN\", \"CORT\", \"DHR\", \"ILMN\", \"ALNY\", \"EW\", \"TEVA\", \"CSII\", \"ISRG\", \"LLY\", \"BAX\", \"AMED\"], \"type\": \"scatter\", \"x\": [13.377190589904785, 7.860625267028809, 0.45386940240859985, 6.973057270050049, 18.497472763061523, -6.391753673553467, 1.6480920314788818, -6.5121002197265625, 2.685062885284424, 0.18089386820793152, 1.7150249481201172, 7.955447196960449, 2.4969611167907715, 9.740467071533203, 0.8339042067527771, -0.02784852124750614, 12.305436134338379, 8.106304168701172, 15.361483573913574, 0.8878659605979919, 9.991315841674805, -0.42924144864082336, 10.750543594360352, 3.3265209197998047, -0.5993539690971375, 1.6262673139572144, 1.0021867752075195, 2.3859591484069824, 1.6171833276748657, -0.03034042753279209, 0.3487546443939209, -0.4766411781311035, 1.8542722463607788, -7.633797645568848, -0.9075393080711365, 10.905665397644043, 14.646830558776855, -0.02169119007885456, -1.402465581893921, 2.804037094116211, 0.36286675930023193, 11.544755935668945, -20.203514099121094, 10.566673278808594, 8.390040397644043, -7.498948574066162, 10.729059219360352, 6.565553665161133], \"y\": [-0.07091224193572998, 8.435687065124512, 17.336421966552734, 6.708497047424316, 15.272815704345703, 16.543275833129883, -6.03470516204834, 16.45049285888672, -6.635689735412598, 19.02656364440918, 0.12009681761264801, 8.331948280334473, -4.531810283660889, 0.7007155418395996, -6.066982746124268, -2.343257427215576, 1.471788763999939, 4.382913589477539, -0.6310595273971558, 9.989596366882324, 2.6140310764312744, 20.52370834350586, 1.8787331581115723, -0.28955546021461487, -3.9989843368530273, 17.397125244140625, 18.94341468811035, 18.218765258789062, -4.096184253692627, 20.8712215423584, 16.9967041015625, -4.7734808921813965, -5.944804668426514, 14.771926879882812, 18.033544540405273, 1.8571494817733765, 14.661614418029785, 20.593496322631836, -4.995411396026611, 15.832770347595215, 19.152278900146484, 4.035203456878662, -2.9538400173187256, 9.145196914672852, 6.750886917114258, 14.995062828063965, -2.824481248855591, 7.631253242492676]}, {\"marker\": {\"color\": \"goldenrod\", \"size\": 5}, \"mode\": \"markers\", \"name\": \"energy\", \"opacity\": 0.9, \"text\": [\"XOM\", \"PXD\", \"PBR\", \"OKE\", \"MUR\", \"NS\", \"EOG\", \"COP\", \"CVX\", \"NOV\", \"HAL\", \"VLO\", \"NBL\", \"APA\", \"WMB\", \"FTI\", \"OXY\", \"MPC\", \"DVN\", \"HES\", \"SLB\", \"COG\"], \"type\": \"scatter\", \"x\": [-10.690187454223633, -9.3513765335083, -19.159934997558594, -4.629884243011475, -10.293855667114258, -12.871163368225098, -9.11516284942627, -9.132011413574219, -10.591416358947754, 7.394333362579346, -7.296955108642578, -12.594687461853027, -6.516562461853027, -8.896397590637207, -2.9881093502044678, -4.857327461242676, -13.580153465270996, -13.582077026367188, -12.676104545593262, -8.33221435546875, -7.327585220336914, -10.352591514587402], \"y\": [-11.692727088928223, -17.129878997802734, -3.0963635444641113, -9.411921501159668, -14.803271293640137, -17.415699005126953, -17.614580154418945, -11.701215744018555, -11.67835521697998, -5.0874810218811035, -12.661840438842773, -15.67192268371582, -10.031991004943848, -10.284799575805664, -1.0458201169967651, -7.401430606842041, -10.77565860748291, -10.768776893615723, -15.221745491027832, -10.613800048828125, -12.696937561035156, -15.05540657043457]}, {\"marker\": {\"color\": \"navy\", \"size\": 5}, \"mode\": \"markers\", \"name\": \"basic materials\", \"opacity\": 0.9, \"text\": [\"APD\", \"AA\", \"NEM\", \"WPM\", \"MAS\", \"STLD\", \"NUE\", \"SSRM\", \"RGLD\", \"SHW\", \"PPG\", \"ARCH\", \"MOS\", \"FMC\", \"VMC\", \"CF\", \"GOLD\", \"SCCO\", \"FCX\", \"AEM\", \"PAAS\", \"VALE\"], \"type\": \"scatter\", \"x\": [21.345792770385742, -9.079924583435059, 11.883092880249023, 12.877202033996582, -3.06080961227417, -11.314216613769531, -10.407451629638672, 11.578471183776855, 13.884415626525879, -4.1280107498168945, -17.841552734375, -8.938809394836426, -5.326933860778809, -6.413557052612305, 20.914722442626953, -17.983736038208008, 13.47473430633545, -3.573221445083618, -8.17727279663086, 10.569833755493164, 12.369441032409668, -19.357545852661133], \"y\": [8.243045806884766, -5.191001892089844, -14.200273513793945, -11.752099990844727, -4.890200138092041, -6.363653659820557, -5.916821479797363, -11.966150283813477, -12.67417049407959, -0.77520751953125, -13.363192558288574, -17.896116256713867, -1.8797032833099365, -5.618725776672363, 9.855496406555176, -13.30210018157959, -13.201068878173828, -25.187938690185547, -6.370738506317139, -12.714136123657227, -10.622095108032227, -3.029075860977173]}, {\"mode\": \"text\", \"name\": \"Top\", \"opacity\": 0.9, \"text\": [\"TSLA\", \"XOM\", \"AGN\", \"AA\", \"INTC\", \"KO\", \"IBM\", \"TGT\", \"WMT\", \"AAPL\", \"JPM\", \"MU\", \"CME\", \"GOOGL\", \"GS\", \"CVX\", \"VZ\", \"NWSA\", \"BLK\", \"UBER\", \"LMT\", \"SBUX\", \"BAC\", \"WMB\", \"DIS\", \"TM\", \"MS\", \"BKR\", \"CAT\", \"WFC\", \"CMG\", \"SO\", \"C\", \"EFX\", \"MSFT\", \"GE\", \"AMZN\", \"BA\", \"NFLX\", \"GM\"], \"textfont\": {\"color\": \"black\", \"family\": \"sans serif\", \"size\": 12}, \"type\": \"scatter\", \"x\": [7.428297996520996, -10.690187454223633, 13.377190589904785, -9.079924583435059, 11.768572807312012, -10.569101333618164, 5.755160331726074, -7.175264835357666, -6.081610679626465, 7.582400321960449, 1.1160449981689453, 13.277997016906738, -1.0911844968795776, 8.28421401977539, 2.345787286758423, -10.591416358947754, 16.68581771850586, 1.7281889915466309, 1.6109784841537476, 19.420944213867188, -16.47051239013672, -0.23007041215896606, 0.5594480037689209, -2.9881093502044678, -9.245748519897461, -20.29376983642578, 2.2064850330352783, -5.510558128356934, -8.944437026977539, 0.3670559227466583, -4.018749237060547, -4.144883155822754, 3.767369270324707, -1.892497181892395, 10.806540489196777, -14.733312606811523, 7.873198986053467, -13.559610366821289, 7.018675327301025, -14.67159652709961], \"y\": [18.41582679748535, -11.692727088928223, -0.07091224193572998, -5.191001892089844, 18.607986450195312, 3.9663805961608887, -2.1313693523406982, 6.062213897705078, 6.969173908233643, 19.334455490112305, -19.492095947265625, 15.251526832580566, 13.710611343383789, 20.00221061706543, -19.38477897644043, -11.67835521697998, 6.304572105407715, -1.699291706085205, -11.604021072387695, 16.185945510864258, 5.494842529296875, 11.064697265625, -17.19985008239746, -1.0458201169967651, 3.4726312160491943, 1.1108651161193848, -19.42691993713379, -11.658955574035645, -4.170178413391113, -19.795547485351562, 7.012265205383301, -24.4113712310791, -17.602375030517578, -8.083927154541016, 19.595518112182617, -3.40474009513855, 21.025100708007812, 5.9233551025390625, 19.720245361328125, -3.3931660652160645]}, {\"marker\": {\"color\": \"blue\", \"size\": 5}, \"mode\": \"markers\", \"name\": \"consumer cyclical\", \"opacity\": 0.9, \"text\": [\"TSLA\", \"LB\", \"DDS\", \"HOG\", \"IP\", \"CBRL\", \"MAR\", \"GT\", \"CROX\", \"BBY\", \"DHI\", \"LOW\", \"CRI\", \"DISCA\", \"MAT\", \"DNKN\", \"ROST\", \"NYT\", \"MGA\", \"BJRI\", \"MCD\", \"ANF\", \"TPR\", \"UAA\", \"KSS\", \"AZO\", \"NWSA\", \"CTAS\", \"LEN\", \"RL\", \"DRI\", \"KBH\", \"HMC\", \"CMCSA\", \"SBUX\", \"BBBY\", \"DIS\", \"HD\", \"EXPE\", \"TM\", \"TIF\", \"EBAY\", \"JWN\", \"GPS\", \"GPC\", \"CMG\", \"KMX\", \"ORLY\", \"TTM\", \"URBN\", \"YUM\", \"MHO\", \"IPG\", \"HRB\", \"WYNN\", \"GM\", \"NKE\", \"BKNG\", \"COLM\", \"HAS\"], \"type\": \"scatter\", \"x\": [7.428297996520996, -3.5168333053588867, -1.345789909362793, -0.35730278491973877, 10.028531074523926, 14.359923362731934, 8.86855411529541, 1.0292168855667114, 3.481992721557617, -1.8540005683898926, 10.036216735839844, 3.133573293685913, -1.543868899345398, 11.720727920532227, 5.302199840545654, 1.3004695177078247, -4.334228038787842, 4.802441120147705, 10.505765914916992, -2.933814764022827, -9.418328285217285, -5.88478946685791, -2.1913061141967773, -4.106616020202637, -6.485083103179932, -2.7045412063598633, 1.7281889915466309, 6.1605448722839355, -8.173200607299805, -6.035218715667725, -3.027378797531128, -7.4784040451049805, -20.287813186645508, 16.180538177490234, -0.23007041215896606, 2.081890821456909, -9.245748519897461, -7.471242904663086, 3.5032312870025635, -20.29376983642578, -7.468190670013428, 3.9264111518859863, -5.533339977264404, -2.3286077976226807, 1.529588222503662, -4.018749237060547, -2.518265724182129, 2.59126615524292, -20.270431518554688, 2.5055530071258545, -14.749332427978516, 9.394380569458008, -1.1212869882583618, -6.9144816398620605, 1.5689200162887573, -14.67159652709961, -4.087594509124756, -13.944279670715332, 3.838461399078369, 5.347275733947754], \"y\": [18.41582679748535, 2.1725025177001953, 2.1367504596710205, 2.3144307136535645, -4.824178218841553, -3.119432210922241, -4.498486518859863, 4.9164276123046875, 9.474678993225098, 4.412540912628174, -17.6480655670166, -1.60982084274292, 0.5743904709815979, 6.734347820281982, 17.07915687561035, 10.606660842895508, 10.068638801574707, -5.742974281311035, -3.67824125289917, 9.223713874816895, 5.544699668884277, 4.1721906661987305, 1.9737542867660522, 3.936659574508667, 5.280194282531738, 5.901991367340088, -1.699291706085205, 6.429656028747559, 8.410235404968262, 2.5905091762542725, 8.937642097473145, 9.62061882019043, 1.0978695154190063, 8.21196460723877, 11.064697265625, 7.761157989501953, 3.4726312160491943, 9.824173927307129, 12.132879257202148, 1.1108651161193848, 3.2406585216522217, 13.10560131072998, 6.045648097991943, 3.195512533187866, 2.0249006748199463, 7.012265205383301, 5.870642185211182, 5.821755409240723, -0.746770441532135, 9.151456832885742, 2.017821788787842, -7.853809833526611, -0.4615447521209717, -8.131370544433594, 12.074047088623047, -3.3931660652160645, 4.0683064460754395, 10.614826202392578, 22.025169372558594, 17.096946716308594]}, {\"marker\": {\"color\": \"magenta\", \"size\": 5}, \"mode\": \"markers\", \"name\": \"consumer defensive\", \"opacity\": 0.9, \"text\": [\"EL\", \"KO\", \"CHEF\", \"CASY\", \"TGT\", \"WMT\", \"TAP\", \"MO\", \"PEP\", \"GIS\", \"ADM\", \"PG\", \"KHC\", \"K\", \"HAIN\", \"SJM\", \"CLX\", \"CENT\", \"STZ\", \"CPB\", \"COST\", \"ATGE\", \"TSN\", \"DLTR\", \"HRL\", \"KMB\", \"CAG\", \"KR\", \"MKC\", \"PM\", \"HSY\", \"SYY\", \"BIG\"], \"type\": \"scatter\", \"x\": [-1.7268788814544678, -10.569101333618164, -2.118368625640869, -4.491915225982666, -7.175264835357666, -6.081610679626465, -5.293495178222656, -4.015884876251221, -11.874784469604492, -13.381043434143066, -5.875595569610596, -9.373026847839355, -10.981038093566895, -9.530661582946777, 6.649777889251709, -6.376507759094238, -7.873000144958496, 5.923690319061279, -14.336074829101562, -8.911431312561035, -4.3137712478637695, 7.690925598144531, -12.354696273803711, -0.6173647046089172, -12.310867309570312, -7.591206073760986, -14.305340766906738, -7.355270862579346, -2.8476452827453613, 11.799712181091309, -8.014633178710938, -7.964292526245117, 14.892019271850586], \"y\": [0.11735381931066513, 3.9663805961608887, 10.06063175201416, 10.243561744689941, 6.062213897705078, 6.969173908233643, 0.9847136735916138, 0.6826031804084778, 2.2305805683135986, -3.9972662925720215, -0.6712464690208435, 1.7403336763381958, 0.794434130191803, -0.7234940528869629, 2.8777518272399902, 0.8678096532821655, 0.9019918441772461, 0.829861044883728, 1.9277172088623047, 0.6312158703804016, 12.143312454223633, -2.075784206390381, -0.2580348253250122, 3.705970048904419, -0.24437719583511353, -0.21741878986358643, 1.8338139057159424, 4.794826984405518, 0.42811018228530884, -2.521998167037964, 1.4621025323867798, -0.7006707787513733, -6.079682350158691]}],\n",
              "                        {\"autosize\": false, \"height\": 750, \"template\": {\"data\": {\"bar\": [{\"error_x\": {\"color\": \"#2a3f5f\"}, \"error_y\": {\"color\": \"#2a3f5f\"}, \"marker\": {\"line\": {\"color\": \"#E5ECF6\", \"width\": 0.5}}, \"type\": \"bar\"}], \"barpolar\": [{\"marker\": {\"line\": {\"color\": \"#E5ECF6\", \"width\": 0.5}}, \"type\": \"barpolar\"}], \"carpet\": [{\"aaxis\": {\"endlinecolor\": \"#2a3f5f\", \"gridcolor\": \"white\", \"linecolor\": \"white\", \"minorgridcolor\": \"white\", \"startlinecolor\": \"#2a3f5f\"}, \"baxis\": {\"endlinecolor\": \"#2a3f5f\", \"gridcolor\": \"white\", \"linecolor\": \"white\", \"minorgridcolor\": \"white\", \"startlinecolor\": \"#2a3f5f\"}, \"type\": \"carpet\"}], \"choropleth\": [{\"colorbar\": {\"outlinewidth\": 0, \"ticks\": \"\"}, \"type\": \"choropleth\"}], \"contour\": [{\"colorbar\": {\"outlinewidth\": 0, \"ticks\": \"\"}, \"colorscale\": [[0.0, \"#0d0887\"], [0.1111111111111111, \"#46039f\"], [0.2222222222222222, \"#7201a8\"], [0.3333333333333333, \"#9c179e\"], [0.4444444444444444, \"#bd3786\"], [0.5555555555555556, \"#d8576b\"], [0.6666666666666666, \"#ed7953\"], [0.7777777777777778, \"#fb9f3a\"], [0.8888888888888888, \"#fdca26\"], [1.0, \"#f0f921\"]], \"type\": \"contour\"}], \"contourcarpet\": [{\"colorbar\": {\"outlinewidth\": 0, \"ticks\": \"\"}, \"type\": \"contourcarpet\"}], \"heatmap\": [{\"colorbar\": {\"outlinewidth\": 0, \"ticks\": \"\"}, \"colorscale\": [[0.0, \"#0d0887\"], [0.1111111111111111, \"#46039f\"], [0.2222222222222222, \"#7201a8\"], [0.3333333333333333, \"#9c179e\"], [0.4444444444444444, \"#bd3786\"], [0.5555555555555556, \"#d8576b\"], [0.6666666666666666, \"#ed7953\"], [0.7777777777777778, \"#fb9f3a\"], [0.8888888888888888, \"#fdca26\"], [1.0, \"#f0f921\"]], \"type\": \"heatmap\"}], \"heatmapgl\": [{\"colorbar\": {\"outlinewidth\": 0, \"ticks\": \"\"}, \"colorscale\": [[0.0, \"#0d0887\"], [0.1111111111111111, \"#46039f\"], [0.2222222222222222, \"#7201a8\"], [0.3333333333333333, \"#9c179e\"], [0.4444444444444444, \"#bd3786\"], [0.5555555555555556, \"#d8576b\"], [0.6666666666666666, \"#ed7953\"], [0.7777777777777778, \"#fb9f3a\"], [0.8888888888888888, \"#fdca26\"], [1.0, \"#f0f921\"]], \"type\": \"heatmapgl\"}], \"histogram\": [{\"marker\": {\"colorbar\": {\"outlinewidth\": 0, \"ticks\": \"\"}}, \"type\": \"histogram\"}], \"histogram2d\": [{\"colorbar\": {\"outlinewidth\": 0, \"ticks\": \"\"}, \"colorscale\": [[0.0, \"#0d0887\"], [0.1111111111111111, \"#46039f\"], [0.2222222222222222, \"#7201a8\"], [0.3333333333333333, \"#9c179e\"], [0.4444444444444444, \"#bd3786\"], [0.5555555555555556, \"#d8576b\"], [0.6666666666666666, \"#ed7953\"], [0.7777777777777778, \"#fb9f3a\"], [0.8888888888888888, \"#fdca26\"], [1.0, \"#f0f921\"]], \"type\": \"histogram2d\"}], \"histogram2dcontour\": [{\"colorbar\": {\"outlinewidth\": 0, \"ticks\": \"\"}, \"colorscale\": [[0.0, \"#0d0887\"], [0.1111111111111111, \"#46039f\"], [0.2222222222222222, \"#7201a8\"], [0.3333333333333333, \"#9c179e\"], [0.4444444444444444, \"#bd3786\"], [0.5555555555555556, \"#d8576b\"], [0.6666666666666666, \"#ed7953\"], [0.7777777777777778, \"#fb9f3a\"], [0.8888888888888888, \"#fdca26\"], [1.0, \"#f0f921\"]], \"type\": \"histogram2dcontour\"}], \"mesh3d\": [{\"colorbar\": {\"outlinewidth\": 0, \"ticks\": \"\"}, \"type\": \"mesh3d\"}], \"parcoords\": [{\"line\": {\"colorbar\": {\"outlinewidth\": 0, \"ticks\": \"\"}}, \"type\": \"parcoords\"}], \"pie\": [{\"automargin\": true, \"type\": \"pie\"}], \"scatter\": [{\"marker\": {\"colorbar\": {\"outlinewidth\": 0, \"ticks\": \"\"}}, \"type\": \"scatter\"}], \"scatter3d\": [{\"line\": {\"colorbar\": {\"outlinewidth\": 0, \"ticks\": \"\"}}, \"marker\": {\"colorbar\": {\"outlinewidth\": 0, \"ticks\": \"\"}}, \"type\": \"scatter3d\"}], \"scattercarpet\": [{\"marker\": {\"colorbar\": {\"outlinewidth\": 0, \"ticks\": \"\"}}, \"type\": \"scattercarpet\"}], \"scattergeo\": [{\"marker\": {\"colorbar\": {\"outlinewidth\": 0, \"ticks\": \"\"}}, \"type\": \"scattergeo\"}], \"scattergl\": [{\"marker\": {\"colorbar\": {\"outlinewidth\": 0, \"ticks\": \"\"}}, \"type\": \"scattergl\"}], \"scattermapbox\": [{\"marker\": {\"colorbar\": {\"outlinewidth\": 0, \"ticks\": \"\"}}, \"type\": \"scattermapbox\"}], \"scatterpolar\": [{\"marker\": {\"colorbar\": {\"outlinewidth\": 0, \"ticks\": \"\"}}, \"type\": \"scatterpolar\"}], \"scatterpolargl\": [{\"marker\": {\"colorbar\": {\"outlinewidth\": 0, \"ticks\": \"\"}}, \"type\": \"scatterpolargl\"}], \"scatterternary\": [{\"marker\": {\"colorbar\": {\"outlinewidth\": 0, \"ticks\": \"\"}}, \"type\": \"scatterternary\"}], \"surface\": [{\"colorbar\": {\"outlinewidth\": 0, \"ticks\": \"\"}, \"colorscale\": [[0.0, \"#0d0887\"], [0.1111111111111111, \"#46039f\"], [0.2222222222222222, \"#7201a8\"], [0.3333333333333333, \"#9c179e\"], [0.4444444444444444, \"#bd3786\"], [0.5555555555555556, \"#d8576b\"], [0.6666666666666666, \"#ed7953\"], [0.7777777777777778, \"#fb9f3a\"], [0.8888888888888888, \"#fdca26\"], [1.0, \"#f0f921\"]], \"type\": \"surface\"}], \"table\": [{\"cells\": {\"fill\": {\"color\": \"#EBF0F8\"}, \"line\": {\"color\": \"white\"}}, \"header\": {\"fill\": {\"color\": \"#C8D4E3\"}, \"line\": {\"color\": \"white\"}}, \"type\": \"table\"}]}, \"layout\": {\"annotationdefaults\": {\"arrowcolor\": \"#2a3f5f\", \"arrowhead\": 0, \"arrowwidth\": 1}, \"coloraxis\": {\"colorbar\": {\"outlinewidth\": 0, \"ticks\": \"\"}}, \"colorscale\": {\"diverging\": [[0, \"#8e0152\"], [0.1, \"#c51b7d\"], [0.2, \"#de77ae\"], [0.3, \"#f1b6da\"], [0.4, \"#fde0ef\"], [0.5, \"#f7f7f7\"], [0.6, \"#e6f5d0\"], [0.7, \"#b8e186\"], [0.8, \"#7fbc41\"], [0.9, \"#4d9221\"], [1, \"#276419\"]], \"sequential\": [[0.0, \"#0d0887\"], [0.1111111111111111, \"#46039f\"], [0.2222222222222222, \"#7201a8\"], [0.3333333333333333, \"#9c179e\"], [0.4444444444444444, \"#bd3786\"], [0.5555555555555556, \"#d8576b\"], [0.6666666666666666, \"#ed7953\"], [0.7777777777777778, \"#fb9f3a\"], [0.8888888888888888, \"#fdca26\"], [1.0, \"#f0f921\"]], \"sequentialminus\": [[0.0, \"#0d0887\"], [0.1111111111111111, \"#46039f\"], [0.2222222222222222, \"#7201a8\"], [0.3333333333333333, \"#9c179e\"], [0.4444444444444444, \"#bd3786\"], [0.5555555555555556, \"#d8576b\"], [0.6666666666666666, \"#ed7953\"], [0.7777777777777778, \"#fb9f3a\"], [0.8888888888888888, \"#fdca26\"], [1.0, \"#f0f921\"]]}, \"colorway\": [\"#636efa\", \"#EF553B\", \"#00cc96\", \"#ab63fa\", \"#FFA15A\", \"#19d3f3\", \"#FF6692\", \"#B6E880\", \"#FF97FF\", \"#FECB52\"], \"font\": {\"color\": \"#2a3f5f\"}, \"geo\": {\"bgcolor\": \"white\", \"lakecolor\": \"white\", \"landcolor\": \"#E5ECF6\", \"showlakes\": true, \"showland\": true, \"subunitcolor\": \"white\"}, \"hoverlabel\": {\"align\": \"left\"}, \"hovermode\": \"closest\", \"mapbox\": {\"style\": \"light\"}, \"paper_bgcolor\": \"white\", \"plot_bgcolor\": \"#E5ECF6\", \"polar\": {\"angularaxis\": {\"gridcolor\": \"white\", \"linecolor\": \"white\", \"ticks\": \"\"}, \"bgcolor\": \"#E5ECF6\", \"radialaxis\": {\"gridcolor\": \"white\", \"linecolor\": \"white\", \"ticks\": \"\"}}, \"scene\": {\"xaxis\": {\"backgroundcolor\": \"#E5ECF6\", \"gridcolor\": \"white\", \"gridwidth\": 2, \"linecolor\": \"white\", \"showbackground\": true, \"ticks\": \"\", \"zerolinecolor\": \"white\"}, \"yaxis\": {\"backgroundcolor\": \"#E5ECF6\", \"gridcolor\": \"white\", \"gridwidth\": 2, \"linecolor\": \"white\", \"showbackground\": true, \"ticks\": \"\", \"zerolinecolor\": \"white\"}, \"zaxis\": {\"backgroundcolor\": \"#E5ECF6\", \"gridcolor\": \"white\", \"gridwidth\": 2, \"linecolor\": \"white\", \"showbackground\": true, \"ticks\": \"\", \"zerolinecolor\": \"white\"}}, \"shapedefaults\": {\"line\": {\"color\": \"#2a3f5f\"}}, \"ternary\": {\"aaxis\": {\"gridcolor\": \"white\", \"linecolor\": \"white\", \"ticks\": \"\"}, \"baxis\": {\"gridcolor\": \"white\", \"linecolor\": \"white\", \"ticks\": \"\"}, \"bgcolor\": \"#E5ECF6\", \"caxis\": {\"gridcolor\": \"white\", \"linecolor\": \"white\", \"ticks\": \"\"}}, \"title\": {\"x\": 0.05}, \"xaxis\": {\"automargin\": true, \"gridcolor\": \"white\", \"linecolor\": \"white\", \"ticks\": \"\", \"title\": {\"standoff\": 15}, \"zerolinecolor\": \"white\", \"zerolinewidth\": 2}, \"yaxis\": {\"automargin\": true, \"gridcolor\": \"white\", \"linecolor\": \"white\", \"ticks\": \"\", \"title\": {\"standoff\": 15}, \"zerolinecolor\": \"white\", \"zerolinewidth\": 2}}}, \"title\": {\"font\": {\"size\": 20}, \"text\": \"t-SNE - News Tickers\"}, \"width\": 1150},\n",
              "                        {\"responsive\": true}\n",
              "                    ).then(function(){\n",
              "                            \n",
              "var gd = document.getElementById('42c6076f-036d-4c89-8f2f-87f2d39096e0');\n",
              "var x = new MutationObserver(function (mutations, observer) {{\n",
              "        var display = window.getComputedStyle(gd).display;\n",
              "        if (!display || display === 'none') {{\n",
              "            console.log([gd, 'removed!']);\n",
              "            Plotly.purge(gd);\n",
              "            observer.disconnect();\n",
              "        }}\n",
              "}});\n",
              "\n",
              "// Listen for the removal of the full notebook cells\n",
              "var notebookContainer = gd.closest('#notebook-container');\n",
              "if (notebookContainer) {{\n",
              "    x.observe(notebookContainer, {childList: true});\n",
              "}}\n",
              "\n",
              "// Listen for the clearing of the current output cell\n",
              "var outputEl = gd.closest('.output');\n",
              "if (outputEl) {{\n",
              "    x.observe(outputEl, {childList: true});\n",
              "}}\n",
              "\n",
              "                        })\n",
              "                };\n",
              "                \n",
              "            </script>\n",
              "        </div>\n",
              "</body>\n",
              "</html>"
            ]
          },
          "metadata": {}
        }
      ]
    },
    {
      "cell_type": "markdown",
      "metadata": {
        "id": "NQ6_KtOpAfbE"
      },
      "source": [
        "En el grafico anterior podemos observar 'que aprende' , la representacion en vectores realizada con word2vec, sobre las compañias que son mencionados en las noticias financieras. Se observa que las relaciones aprendidas parecen tener alguna relacion con los sectores a los que pertenecen. Empresas tecnologicas como NFLX,AMZN, GOGL, aparecen en el plano mas cerca entre si; al igual que empresas relacionadas al sector financiero como BAC,JPM,WFC."
      ]
    },
    {
      "cell_type": "code",
      "metadata": {
        "id": "ngNOdJitYB3M"
      },
      "source": [
        "#import plotly.express as px\n",
        "\n",
        "\n",
        "#fig_3_sector.write_html(\"tsne_News_tickers_with_sector.html\")"
      ],
      "execution_count": 197,
      "outputs": []
    },
    {
      "cell_type": "code",
      "metadata": {
        "id": "JnUhU1lQcVYX"
      },
      "source": [
        "#fig_2.write_html(\"tsne_News_tickers.html\")"
      ],
      "execution_count": 198,
      "outputs": []
    }
  ]
}