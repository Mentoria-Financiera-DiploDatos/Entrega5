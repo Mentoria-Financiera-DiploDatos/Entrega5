{
  "nbformat": 4,
  "nbformat_minor": 0,
  "metadata": {
    "colab": {
      "name": "5_2_Embedding_word2vec_news.ipynb",
      "provenance": [],
      "collapsed_sections": []
    },
    "kernelspec": {
      "display_name": "Python 3",
      "name": "python3"
    },
    "language_info": {
      "name": "python"
    },
    "accelerator": "TPU"
  },
  "cells": [
    {
      "cell_type": "markdown",
      "metadata": {
        "id": "CHvGFW3mVIBR"
      },
      "source": [
        "# Clasificacion de Sentimientos utilizando embeddings sobre dataset financiero"
      ]
    },
    {
      "cell_type": "markdown",
      "metadata": {
        "id": "YsUEmqt-oqYz"
      },
      "source": [
        "En esta notebook utilizaremos los embeddings entrenados en la notebook anterior, con el dataset financial_news (que posee mas de 200 mil noticias financieras), para predecir los sentimientos de noticias en el dataset con noticias etiquetadas, el cual cuenta con aproximadamente 2000 noticias etiquetadas con sentimientos positivos y negativos."
      ]
    },
    {
      "cell_type": "code",
      "metadata": {
        "id": "cyj2dzjfhIjV"
      },
      "source": [
        "import pandas as pd\n",
        "import numpy as np\n",
        "import gensim"
      ],
      "execution_count": 1,
      "outputs": []
    },
    {
      "cell_type": "code",
      "metadata": {
        "colab": {
          "base_uri": "https://localhost:8080/"
        },
        "id": "Vne_tyIQ49wB",
        "outputId": "7b7fb9e6-f2a4-4466-baa2-fc0d91c89390"
      },
      "source": [
        "from google.colab import drive\n",
        "drive.mount('/content/drive')"
      ],
      "execution_count": 2,
      "outputs": [
        {
          "output_type": "stream",
          "name": "stdout",
          "text": [
            "Mounted at /content/drive\n"
          ]
        }
      ]
    },
    {
      "cell_type": "markdown",
      "metadata": {
        "id": "vW6xeS_yVK4B"
      },
      "source": [
        "Cargamos los embeddings entrenados en la notebook anterior 5_1_1."
      ]
    },
    {
      "cell_type": "code",
      "metadata": {
        "id": "D8tyjHSe0XNV"
      },
      "source": [
        "#load model\n",
        "import os\n",
        "filename='/content/drive/MyDrive/Mentoria/Embedding_FinancialNews_word2vec.txt'\n",
        "\n",
        "embeddings_index={}\n",
        "f=open(os.path.join('',filename), encoding=\"utf-8\")\n",
        "for line in f:\n",
        "  values=line.split()\n",
        "  word=values[0]\n",
        "  coefs=np.asarray(values[1:])\n",
        "  embeddings_index[word]=coefs\n",
        "f.close()"
      ],
      "execution_count": 8,
      "outputs": []
    },
    {
      "cell_type": "code",
      "metadata": {
        "id": "fWC5kUGy4sou"
      },
      "source": [
        "embeddings = gensim.models.KeyedVectors.load_word2vec_format(filename, binary=False)"
      ],
      "execution_count": 9,
      "outputs": []
    },
    {
      "cell_type": "code",
      "metadata": {
        "colab": {
          "base_uri": "https://localhost:8080/"
        },
        "id": "n_NRN8ID4pvu",
        "outputId": "3902154d-a246-430e-f163-5be2389f898f"
      },
      "source": [
        "print(\"Cantidad de palabras: \", embeddings.vectors.shape[0])\n",
        "print(\"Tamaño del vector para cada palabra: \", embeddings.vector_size)"
      ],
      "execution_count": 10,
      "outputs": [
        {
          "output_type": "stream",
          "name": "stdout",
          "text": [
            "Cantidad de palabras:  94966\n",
            "Tamaño del vector para cada palabra:  100\n"
          ]
        }
      ]
    },
    {
      "cell_type": "markdown",
      "metadata": {
        "id": "j4PZKM2rVete"
      },
      "source": [
        "## Noticias Financieras etiquetadas con sentimiento"
      ]
    },
    {
      "cell_type": "markdown",
      "metadata": {
        "id": "NR_d8weviCSL"
      },
      "source": [
        "Cargamos el dataset de noticias financieras etiquetadas con sentimientos positivos, neutrales y negativos.\n"
      ]
    },
    {
      "cell_type": "code",
      "metadata": {
        "colab": {
          "base_uri": "https://localhost:8080/",
          "height": 161
        },
        "id": "bZoeImGD2_iJ",
        "outputId": "cc854497-a6dd-4f22-c118-bfd87b47ce64"
      },
      "source": [
        "df_sent = pd.read_csv(\"https://raw.githubusercontent.com/Mentoria-Financiera-DiploDatos/Entrega3/master/sentimientos/data/feeling_procesado.csv\")\n",
        "print(df_sent.news.size)\n",
        "df_sent.head(3)"
      ],
      "execution_count": 11,
      "outputs": [
        {
          "output_type": "stream",
          "name": "stdout",
          "text": [
            "4838\n"
          ]
        },
        {
          "output_type": "execute_result",
          "data": {
            "text/html": [
              "<div>\n",
              "<style scoped>\n",
              "    .dataframe tbody tr th:only-of-type {\n",
              "        vertical-align: middle;\n",
              "    }\n",
              "\n",
              "    .dataframe tbody tr th {\n",
              "        vertical-align: top;\n",
              "    }\n",
              "\n",
              "    .dataframe thead th {\n",
              "        text-align: right;\n",
              "    }\n",
              "</style>\n",
              "<table border=\"1\" class=\"dataframe\">\n",
              "  <thead>\n",
              "    <tr style=\"text-align: right;\">\n",
              "      <th></th>\n",
              "      <th>Unnamed: 0</th>\n",
              "      <th>feeling</th>\n",
              "      <th>news</th>\n",
              "      <th>news_tokens</th>\n",
              "      <th>news_tokens_tagged</th>\n",
              "    </tr>\n",
              "  </thead>\n",
              "  <tbody>\n",
              "    <tr>\n",
              "      <th>0</th>\n",
              "      <td>0</td>\n",
              "      <td>neutral</td>\n",
              "      <td>According to Gran , the company has no plans t...</td>\n",
              "      <td>['accord', 'gran', 'company', 'plan', 'move', ...</td>\n",
              "      <td>[('accord', 'NN'), ('gran', 'VBD'), ('company'...</td>\n",
              "    </tr>\n",
              "    <tr>\n",
              "      <th>1</th>\n",
              "      <td>1</td>\n",
              "      <td>neutral</td>\n",
              "      <td>Technopolis plans to develop in stages an area...</td>\n",
              "      <td>['technopolis', 'plan', 'develop', 'stage', 'a...</td>\n",
              "      <td>[('technopolis', 'NN'), ('plan', 'NN'), ('deve...</td>\n",
              "    </tr>\n",
              "    <tr>\n",
              "      <th>2</th>\n",
              "      <td>2</td>\n",
              "      <td>negative</td>\n",
              "      <td>The international electronic industry company ...</td>\n",
              "      <td>['international', 'electronic', 'industry', 'c...</td>\n",
              "      <td>[('international', 'JJ'), ('electronic', 'JJ')...</td>\n",
              "    </tr>\n",
              "  </tbody>\n",
              "</table>\n",
              "</div>"
            ],
            "text/plain": [
              "   Unnamed: 0  ...                                 news_tokens_tagged\n",
              "0           0  ...  [('accord', 'NN'), ('gran', 'VBD'), ('company'...\n",
              "1           1  ...  [('technopolis', 'NN'), ('plan', 'NN'), ('deve...\n",
              "2           2  ...  [('international', 'JJ'), ('electronic', 'JJ')...\n",
              "\n",
              "[3 rows x 5 columns]"
            ]
          },
          "metadata": {},
          "execution_count": 11
        }
      ]
    },
    {
      "cell_type": "code",
      "metadata": {
        "colab": {
          "base_uri": "https://localhost:8080/",
          "height": 230
        },
        "id": "UIM6gGzt4TzS",
        "outputId": "6cccd8db-269d-4100-88bd-a26a43653de1"
      },
      "source": [
        "# No tenemos en cuenta las noticias etiquetadas como neutrales\n",
        "df_sent = df_sent[df_sent['feeling'] != 'neutral'].reset_index(drop=True)\n",
        "\n",
        "df_sent = df_sent.reset_index(drop=True)\n",
        "print(df_sent.feeling.size)\n",
        "df_sent.head(3)"
      ],
      "execution_count": 13,
      "outputs": [
        {
          "output_type": "stream",
          "name": "stdout",
          "text": [
            "1966\n"
          ]
        },
        {
          "output_type": "execute_result",
          "data": {
            "text/html": [
              "<div>\n",
              "<style scoped>\n",
              "    .dataframe tbody tr th:only-of-type {\n",
              "        vertical-align: middle;\n",
              "    }\n",
              "\n",
              "    .dataframe tbody tr th {\n",
              "        vertical-align: top;\n",
              "    }\n",
              "\n",
              "    .dataframe thead th {\n",
              "        text-align: right;\n",
              "    }\n",
              "</style>\n",
              "<table border=\"1\" class=\"dataframe\">\n",
              "  <thead>\n",
              "    <tr style=\"text-align: right;\">\n",
              "      <th></th>\n",
              "      <th>Unnamed: 0</th>\n",
              "      <th>feeling</th>\n",
              "      <th>news</th>\n",
              "      <th>news_tokens</th>\n",
              "      <th>news_tokens_tagged</th>\n",
              "      <th>news_tokens_str</th>\n",
              "    </tr>\n",
              "  </thead>\n",
              "  <tbody>\n",
              "    <tr>\n",
              "      <th>0</th>\n",
              "      <td>2</td>\n",
              "      <td>negative</td>\n",
              "      <td>The international electronic industry company ...</td>\n",
              "      <td>['international', 'electronic', 'industry', 'c...</td>\n",
              "      <td>[('international', 'JJ'), ('electronic', 'JJ')...</td>\n",
              "      <td>international electronic industry company elco...</td>\n",
              "    </tr>\n",
              "    <tr>\n",
              "      <th>1</th>\n",
              "      <td>3</td>\n",
              "      <td>positive</td>\n",
              "      <td>With the new production plant the company woul...</td>\n",
              "      <td>['new', 'production', 'plant', 'company', 'wou...</td>\n",
              "      <td>[('new', 'JJ'), ('production', 'NN'), ('plant'...</td>\n",
              "      <td>new production plant company would increase ca...</td>\n",
              "    </tr>\n",
              "    <tr>\n",
              "      <th>2</th>\n",
              "      <td>4</td>\n",
              "      <td>positive</td>\n",
              "      <td>According to the company 's updated strategy f...</td>\n",
              "      <td>['accord', 'company', 'update', 'strategy', 'y...</td>\n",
              "      <td>[('accord', 'NN'), ('company', 'NN'), ('update...</td>\n",
              "      <td>accord company update strategy year basware ta...</td>\n",
              "    </tr>\n",
              "  </tbody>\n",
              "</table>\n",
              "</div>"
            ],
            "text/plain": [
              "   Unnamed: 0  ...                                    news_tokens_str\n",
              "0           2  ...  international electronic industry company elco...\n",
              "1           3  ...  new production plant company would increase ca...\n",
              "2           4  ...  accord company update strategy year basware ta...\n",
              "\n",
              "[3 rows x 6 columns]"
            ]
          },
          "metadata": {},
          "execution_count": 13
        }
      ]
    },
    {
      "cell_type": "code",
      "metadata": {
        "colab": {
          "base_uri": "https://localhost:8080/"
        },
        "id": "Xp0at3L_kjrn",
        "outputId": "b959c8cd-176d-4316-82b0-1a89d1920f3a"
      },
      "source": [
        "df_sent.info()"
      ],
      "execution_count": 14,
      "outputs": [
        {
          "output_type": "stream",
          "name": "stdout",
          "text": [
            "<class 'pandas.core.frame.DataFrame'>\n",
            "RangeIndex: 1966 entries, 0 to 1965\n",
            "Data columns (total 6 columns):\n",
            " #   Column              Non-Null Count  Dtype \n",
            "---  ------              --------------  ----- \n",
            " 0   Unnamed: 0          1966 non-null   int64 \n",
            " 1   feeling             1966 non-null   object\n",
            " 2   news                1966 non-null   object\n",
            " 3   news_tokens         1966 non-null   object\n",
            " 4   news_tokens_tagged  1966 non-null   object\n",
            " 5   news_tokens_str     1966 non-null   object\n",
            "dtypes: int64(1), object(5)\n",
            "memory usage: 92.3+ KB\n"
          ]
        }
      ]
    },
    {
      "cell_type": "code",
      "metadata": {
        "id": "5pOi2X243V_4"
      },
      "source": [
        "# Definimos X\n",
        "X=df_sent['news'].copy()"
      ],
      "execution_count": 18,
      "outputs": []
    },
    {
      "cell_type": "code",
      "metadata": {
        "id": "CKBlbzWx6blc"
      },
      "source": [
        "# Asignamos un 0 a las noticias negativas y 1 a las noticias positivas\n",
        "df_sent['feeling_bin']= np.where(df_sent['feeling']=='negative',0, 1)"
      ],
      "execution_count": 16,
      "outputs": []
    },
    {
      "cell_type": "code",
      "metadata": {
        "colab": {
          "base_uri": "https://localhost:8080/",
          "height": 212
        },
        "id": "mTZP_QmP9GPh",
        "outputId": "6c7f47f9-4778-4174-9191-ab9864fd4141"
      },
      "source": [
        "df_sent.head(3)"
      ],
      "execution_count": 14,
      "outputs": [
        {
          "output_type": "execute_result",
          "data": {
            "text/html": [
              "<div>\n",
              "<style scoped>\n",
              "    .dataframe tbody tr th:only-of-type {\n",
              "        vertical-align: middle;\n",
              "    }\n",
              "\n",
              "    .dataframe tbody tr th {\n",
              "        vertical-align: top;\n",
              "    }\n",
              "\n",
              "    .dataframe thead th {\n",
              "        text-align: right;\n",
              "    }\n",
              "</style>\n",
              "<table border=\"1\" class=\"dataframe\">\n",
              "  <thead>\n",
              "    <tr style=\"text-align: right;\">\n",
              "      <th></th>\n",
              "      <th>Unnamed: 0</th>\n",
              "      <th>feeling</th>\n",
              "      <th>news</th>\n",
              "      <th>news_tokens</th>\n",
              "      <th>news_tokens_tagged</th>\n",
              "      <th>news_tokens_str</th>\n",
              "      <th>feeling_bin</th>\n",
              "    </tr>\n",
              "  </thead>\n",
              "  <tbody>\n",
              "    <tr>\n",
              "      <th>0</th>\n",
              "      <td>2</td>\n",
              "      <td>negative</td>\n",
              "      <td>The international electronic industry company ...</td>\n",
              "      <td>['international', 'electronic', 'industry', 'c...</td>\n",
              "      <td>[('international', 'JJ'), ('electronic', 'JJ')...</td>\n",
              "      <td>international electronic industry company elco...</td>\n",
              "      <td>0</td>\n",
              "    </tr>\n",
              "    <tr>\n",
              "      <th>1</th>\n",
              "      <td>3</td>\n",
              "      <td>positive</td>\n",
              "      <td>With the new production plant the company woul...</td>\n",
              "      <td>['new', 'production', 'plant', 'company', 'wou...</td>\n",
              "      <td>[('new', 'JJ'), ('production', 'NN'), ('plant'...</td>\n",
              "      <td>new production plant company would increase ca...</td>\n",
              "      <td>1</td>\n",
              "    </tr>\n",
              "    <tr>\n",
              "      <th>2</th>\n",
              "      <td>4</td>\n",
              "      <td>positive</td>\n",
              "      <td>According to the company 's updated strategy f...</td>\n",
              "      <td>['accord', 'company', 'update', 'strategy', 'y...</td>\n",
              "      <td>[('accord', 'NN'), ('company', 'NN'), ('update...</td>\n",
              "      <td>accord company update strategy year basware ta...</td>\n",
              "      <td>1</td>\n",
              "    </tr>\n",
              "  </tbody>\n",
              "</table>\n",
              "</div>"
            ],
            "text/plain": [
              "   Unnamed: 0  ... feeling_bin\n",
              "0           2  ...           0\n",
              "1           3  ...           1\n",
              "2           4  ...           1\n",
              "\n",
              "[3 rows x 7 columns]"
            ]
          },
          "metadata": {},
          "execution_count": 14
        }
      ]
    },
    {
      "cell_type": "code",
      "metadata": {
        "id": "CHUyct6r9MNb"
      },
      "source": [
        "# Almacenamos etiquetas en y\n",
        "y=df_sent['feeling_bin'].values"
      ],
      "execution_count": 19,
      "outputs": []
    },
    {
      "cell_type": "markdown",
      "metadata": {
        "id": "KtKBqA2hlxxQ"
      },
      "source": [
        "Realizamos un preprocesado eliminando signos de puntuacion, simbolos no alfabeticos y llevando todo a minusculas. Conservamos stopwords ya que en un trabajo anterior obteniamos mejores resultados de esta forma."
      ]
    },
    {
      "cell_type": "code",
      "metadata": {
        "colab": {
          "base_uri": "https://localhost:8080/"
        },
        "id": "cVEAWBAMmRjR",
        "outputId": "418af2e8-9ae4-4645-ea20-7f13091d3c81"
      },
      "source": [
        "import nltk\n",
        "from nltk.corpus import stopwords\n",
        "nltk.download('punkt')"
      ],
      "execution_count": 32,
      "outputs": [
        {
          "output_type": "stream",
          "name": "stdout",
          "text": [
            "[nltk_data] Downloading package punkt to /root/nltk_data...\n",
            "[nltk_data]   Package punkt is already up-to-date!\n"
          ]
        },
        {
          "output_type": "execute_result",
          "data": {
            "text/plain": [
              "True"
            ]
          },
          "metadata": {},
          "execution_count": 32
        }
      ]
    },
    {
      "cell_type": "code",
      "metadata": {
        "id": "P51Jc-r2lVN8"
      },
      "source": [
        "import string\n",
        "from nltk.tokenize import word_tokenize\n",
        "\n",
        "news_lines= list()\n",
        "lines=X.tolist()\n",
        "\n",
        "for line in lines:\n",
        "  tokens= word_tokenize(line)\n",
        "  #to lower case\n",
        "  tokens=[w.lower() for w in tokens]\n",
        "  # remove puntuaction from each word\n",
        "  table=str.maketrans('','',string.punctuation)\n",
        "  stripped= [w.translate(table) for w in tokens]\n",
        "  # remove remaining tokens that are not alphabetic\n",
        "  words=[word for word in stripped if word.isalpha()]\n",
        "  news_lines.append(words)"
      ],
      "execution_count": 33,
      "outputs": []
    },
    {
      "cell_type": "code",
      "metadata": {
        "colab": {
          "base_uri": "https://localhost:8080/"
        },
        "id": "aH8T5lRomLBB",
        "outputId": "38237ba5-1de0-4883-af97-6393ee14fcc1"
      },
      "source": [
        "len(news_lines)"
      ],
      "execution_count": 36,
      "outputs": [
        {
          "output_type": "execute_result",
          "data": {
            "text/plain": [
              "1966"
            ]
          },
          "metadata": {},
          "execution_count": 36
        }
      ]
    },
    {
      "cell_type": "code",
      "metadata": {
        "colab": {
          "base_uri": "https://localhost:8080/"
        },
        "id": "qikfyEpM9zpg",
        "outputId": "4a7100a1-b398-4898-bd9b-d6b45d370d98"
      },
      "source": [
        "X.shape , news_lines.shape"
      ],
      "execution_count": 23,
      "outputs": [
        {
          "output_type": "execute_result",
          "data": {
            "text/plain": [
              "((1966,), (1966,))"
            ]
          },
          "metadata": {},
          "execution_count": 23
        }
      ]
    },
    {
      "cell_type": "code",
      "metadata": {
        "colab": {
          "base_uri": "https://localhost:8080/"
        },
        "id": "9ni0SAHWpnF1",
        "outputId": "ee9dbb94-84aa-4e20-d249-4d74289a3a5d"
      },
      "source": [
        "max([len(s) for s in news_lines])"
      ],
      "execution_count": 41,
      "outputs": [
        {
          "output_type": "execute_result",
          "data": {
            "text/plain": [
              "49"
            ]
          },
          "metadata": {},
          "execution_count": 41
        }
      ]
    },
    {
      "cell_type": "markdown",
      "metadata": {
        "id": "4Fq7ygAmV8hg"
      },
      "source": [
        "## Tokenizado y creacion de matriz de embeddings"
      ]
    },
    {
      "cell_type": "markdown",
      "metadata": {
        "id": "R2RaL1oznLnT"
      },
      "source": [
        "Tokenizamos las noticias y realizamos un padding"
      ]
    },
    {
      "cell_type": "code",
      "metadata": {
        "colab": {
          "base_uri": "https://localhost:8080/"
        },
        "id": "6kw_VVEax11G",
        "outputId": "1ee76dc4-a188-4fff-efe4-64abd160aa56"
      },
      "source": [
        "# vectorize the text sample into a 2D integer tensor\n",
        "\n",
        "from tensorflow.python.keras.preprocessing.text import Tokenizer\n",
        "from tensorflow.python.keras.preprocessing.sequence import pad_sequences\n",
        "\n",
        "tokenizer_obj= Tokenizer()\n",
        "tokenizer_obj.fit_on_texts(news_lines)\n",
        "sequences=tokenizer_obj.texts_to_sequences(news_lines)\n",
        "\n",
        "max_length=max([len(s) for s in news_lines])\n",
        "\n",
        "#pad sequences\n",
        "word_index=tokenizer_obj.word_index\n",
        "print('Found %s unique tokens.' %len(word_index))\n",
        "\n",
        "news_pad=pad_sequences(sequences,maxlen=max_length)\n",
        "sentiment=y\n",
        "print('Shape of reviews tensor',news_pad.shape)\n",
        "print('Shape of sentiment tensor:',sentiment.shape)"
      ],
      "execution_count": 42,
      "outputs": [
        {
          "output_type": "stream",
          "name": "stdout",
          "text": [
            "Found 4975 unique tokens.\n",
            "Shape of reviews tensor (1966, 49)\n",
            "Shape of sentiment tensor: (1966,)\n"
          ]
        }
      ]
    },
    {
      "cell_type": "code",
      "metadata": {
        "colab": {
          "base_uri": "https://localhost:8080/"
        },
        "id": "HX6ujWd-_ELm",
        "outputId": "62f3a59f-7728-46e2-926b-83ffc52eb01a"
      },
      "source": [
        "news_pad.shape"
      ],
      "execution_count": 43,
      "outputs": [
        {
          "output_type": "execute_result",
          "data": {
            "text/plain": [
              "(1966, 49)"
            ]
          },
          "metadata": {},
          "execution_count": 43
        }
      ]
    },
    {
      "cell_type": "markdown",
      "metadata": {
        "id": "qgErjnxDnY94"
      },
      "source": [
        "Creamos la matriz de embeddings para la capa de Embeddings, cada fila de esta matriz contiene el vector de embedding de cada uno de los tokens encontrados en el dataset de noticias."
      ]
    },
    {
      "cell_type": "code",
      "metadata": {
        "id": "XtACLO0j_RbW"
      },
      "source": [
        "EMBEDDING_DIM=100"
      ],
      "execution_count": 44,
      "outputs": []
    },
    {
      "cell_type": "code",
      "metadata": {
        "id": "_ilQ4jEVyyht"
      },
      "source": [
        "num_words=len(word_index)+1\n",
        "embedding_matrix=np.zeros((num_words,EMBEDDING_DIM))\n",
        "\n",
        "for word,i in word_index.items():\n",
        "  if i> num_words:\n",
        "    continue\n",
        "  embedding_vector = embeddings_index.get(word)\n",
        "  if embedding_vector is not None:\n",
        "    # words not found in embedding index will be all-zeros\n",
        "    embedding_matrix[i]=embedding_vector"
      ],
      "execution_count": 45,
      "outputs": []
    },
    {
      "cell_type": "code",
      "metadata": {
        "colab": {
          "base_uri": "https://localhost:8080/"
        },
        "id": "RPsy5iMu0knl",
        "outputId": "815e4df1-91ee-4846-8bbc-698d766e0df1"
      },
      "source": [
        "embedding_matrix.shape"
      ],
      "execution_count": 46,
      "outputs": [
        {
          "output_type": "execute_result",
          "data": {
            "text/plain": [
              "(4976, 100)"
            ]
          },
          "metadata": {},
          "execution_count": 46
        }
      ]
    },
    {
      "cell_type": "markdown",
      "metadata": {
        "id": "01TMoPSJ3mCW"
      },
      "source": [
        "## Modelos\n"
      ]
    },
    {
      "cell_type": "markdown",
      "metadata": {
        "id": "N7VZSY7SnvBQ"
      },
      "source": [
        "Separamos el dataset de noticias en conjuntos de entrenamiento y test"
      ]
    },
    {
      "cell_type": "code",
      "metadata": {
        "colab": {
          "base_uri": "https://localhost:8080/"
        },
        "id": "pk4bpLtlumb4",
        "outputId": "653790b3-90c6-4cf6-da55-e4922e234a1a"
      },
      "source": [
        "# split data into a training set and a validation set\n",
        "VALIDATION_SPLIT=0.2\n",
        "\n",
        "indices=np.arange(news_pad.shape[0])\n",
        "np.random.shuffle(indices)\n",
        "news_pad=news_pad[indices]\n",
        "sentiment=y[indices]\n",
        "num_validation_samples=int(VALIDATION_SPLIT*news_pad.shape[0])\n",
        "\n",
        "X_train_pad=news_pad[:-num_validation_samples]\n",
        "y_train=sentiment[:-num_validation_samples]\n",
        "X_test_pad=news_pad[-num_validation_samples:]\n",
        "y_test=sentiment[-num_validation_samples:]\n",
        "\n",
        "print('Shape of X_train_pad tensor: ', X_train_pad.shape)\n",
        "print('Shape of y_train tensor: ', y_train.shape)\n",
        "print('Shape of X_test_pad tensor: ', X_test_pad.shape)\n",
        "print('Shape of y_test tensor: ', y_test.shape)"
      ],
      "execution_count": 51,
      "outputs": [
        {
          "output_type": "stream",
          "name": "stdout",
          "text": [
            "Shape of X_train_pad tensor:  (1573, 49)\n",
            "Shape of y_train tensor:  (1573,)\n",
            "Shape of X_test_pad tensor:  (393, 49)\n",
            "Shape of y_test tensor:  (393,)\n"
          ]
        }
      ]
    },
    {
      "cell_type": "markdown",
      "metadata": {
        "id": "U-whWkvGqizv"
      },
      "source": [
        "Agregamos las metricas recall, precision, f1 para el entrenamiento y evaluacion de los modelos con keras."
      ]
    },
    {
      "cell_type": "code",
      "metadata": {
        "id": "mm33oC7Sqhn_"
      },
      "source": [
        "from keras import backend as K\n",
        "\n",
        "def recall_m(y_true, y_pred):\n",
        "    true_positives = K.sum(K.round(K.clip(y_true * y_pred, 0, 1)))\n",
        "    possible_positives = K.sum(K.round(K.clip(y_true, 0, 1)))\n",
        "    recall = true_positives / (possible_positives + K.epsilon())\n",
        "    return recall\n",
        "\n",
        "def precision_m(y_true, y_pred):\n",
        "    true_positives = K.sum(K.round(K.clip(y_true * y_pred, 0, 1)))\n",
        "    predicted_positives = K.sum(K.round(K.clip(y_pred, 0, 1)))\n",
        "    precision = true_positives / (predicted_positives + K.epsilon())\n",
        "    return precision\n",
        "\n",
        "def f1_m(y_true, y_pred):\n",
        "    precision = precision_m(y_true, y_pred)\n",
        "    recall = recall_m(y_true, y_pred)\n",
        "    return 2*((precision*recall)/(precision+recall+K.epsilon()))"
      ],
      "execution_count": 55,
      "outputs": []
    },
    {
      "cell_type": "markdown",
      "metadata": {
        "id": "i37Qr3PPWG3X"
      },
      "source": [
        "### Modelo 1 : GRU"
      ]
    },
    {
      "cell_type": "code",
      "metadata": {
        "id": "BrtGrD1U05OF"
      },
      "source": [
        "from keras.models import Sequential\n",
        "from keras.layers import Dense, Embedding, LSTM, GRU\n",
        "from keras.layers.embeddings import Embedding\n",
        "from keras.initializers import Constant\n",
        "\n",
        "#define model\n",
        "model=Sequential()\n",
        "embedding_layer=Embedding(num_words,\n",
        "                          EMBEDDING_DIM,\n",
        "                          embeddings_initializer=Constant(embedding_matrix),\n",
        "                          input_length=max_length,\n",
        "                          trainable=False)\n",
        "\n",
        "model.add(embedding_layer) # ver\n",
        "model.add(GRU(units=24,dropout=0.2,recurrent_dropout=0.2)) #ver\n",
        "model.add(Dense(1,activation='sigmoid'))  # ver \n",
        "\n",
        "# try using different optimizers and different optimizer configs\n",
        "model.compile(loss='binary_crossentropy',optimizer='adam',metrics=['acc',f1_m,precision_m, recall_m])"
      ],
      "execution_count": 56,
      "outputs": []
    },
    {
      "cell_type": "code",
      "metadata": {
        "colab": {
          "base_uri": "https://localhost:8080/"
        },
        "id": "dNZVTD44GgZ5",
        "outputId": "e9cefa94-d6ab-4f4c-bdf6-0c7d834c5ca3"
      },
      "source": [
        "model.summary()"
      ],
      "execution_count": 57,
      "outputs": [
        {
          "output_type": "stream",
          "name": "stdout",
          "text": [
            "Model: \"sequential_2\"\n",
            "_________________________________________________________________\n",
            "Layer (type)                 Output Shape              Param #   \n",
            "=================================================================\n",
            "embedding_2 (Embedding)      (None, 49, 100)           497600    \n",
            "_________________________________________________________________\n",
            "gru_2 (GRU)                  (None, 24)                9072      \n",
            "_________________________________________________________________\n",
            "dense_2 (Dense)              (None, 1)                 25        \n",
            "=================================================================\n",
            "Total params: 506,697\n",
            "Trainable params: 9,097\n",
            "Non-trainable params: 497,600\n",
            "_________________________________________________________________\n"
          ]
        }
      ]
    },
    {
      "cell_type": "code",
      "metadata": {
        "colab": {
          "base_uri": "https://localhost:8080/"
        },
        "id": "z80dCNMl1WLj",
        "outputId": "6e598866-7911-43c2-c864-eb38bb2d69af"
      },
      "source": [
        "print('train....')\n",
        "\n",
        "history_1 = model.fit(X_train_pad,y_train,batch_size=32,epochs=20,validation_data=(X_test_pad,y_test),verbose=2)"
      ],
      "execution_count": 77,
      "outputs": [
        {
          "output_type": "stream",
          "name": "stdout",
          "text": [
            "train....\n",
            "Epoch 1/20\n",
            "50/50 - 2s - loss: 0.1883 - acc: 0.9199 - f1_m: 0.9421 - precision_m: 0.9376 - recall_m: 0.9490 - val_loss: 0.3487 - val_acc: 0.8906 - val_f1_m: 0.9286 - val_precision_m: 0.9130 - val_recall_m: 0.9466\n",
            "Epoch 2/20\n",
            "50/50 - 2s - loss: 0.2067 - acc: 0.9142 - f1_m: 0.9366 - precision_m: 0.9366 - recall_m: 0.9399 - val_loss: 0.3377 - val_acc: 0.8830 - val_f1_m: 0.9237 - val_precision_m: 0.9125 - val_recall_m: 0.9368\n",
            "Epoch 3/20\n",
            "50/50 - 2s - loss: 0.1928 - acc: 0.9199 - f1_m: 0.9398 - precision_m: 0.9339 - recall_m: 0.9490 - val_loss: 0.3464 - val_acc: 0.8830 - val_f1_m: 0.9243 - val_precision_m: 0.9078 - val_recall_m: 0.9436\n",
            "Epoch 4/20\n",
            "50/50 - 2s - loss: 0.1777 - acc: 0.9352 - f1_m: 0.9528 - precision_m: 0.9523 - recall_m: 0.9556 - val_loss: 0.3450 - val_acc: 0.8855 - val_f1_m: 0.9258 - val_precision_m: 0.9067 - val_recall_m: 0.9472\n",
            "Epoch 5/20\n",
            "50/50 - 2s - loss: 0.1813 - acc: 0.9237 - f1_m: 0.9419 - precision_m: 0.9432 - recall_m: 0.9443 - val_loss: 0.3562 - val_acc: 0.8906 - val_f1_m: 0.9294 - val_precision_m: 0.9112 - val_recall_m: 0.9507\n",
            "Epoch 6/20\n",
            "50/50 - 2s - loss: 0.1770 - acc: 0.9326 - f1_m: 0.9471 - precision_m: 0.9440 - recall_m: 0.9547 - val_loss: 0.3644 - val_acc: 0.8855 - val_f1_m: 0.9257 - val_precision_m: 0.9102 - val_recall_m: 0.9437\n",
            "Epoch 7/20\n",
            "50/50 - 2s - loss: 0.1684 - acc: 0.9320 - f1_m: 0.9511 - precision_m: 0.9454 - recall_m: 0.9603 - val_loss: 0.3695 - val_acc: 0.8855 - val_f1_m: 0.9255 - val_precision_m: 0.9131 - val_recall_m: 0.9402\n",
            "Epoch 8/20\n",
            "50/50 - 2s - loss: 0.1654 - acc: 0.9339 - f1_m: 0.9508 - precision_m: 0.9457 - recall_m: 0.9585 - val_loss: 0.3798 - val_acc: 0.8804 - val_f1_m: 0.9221 - val_precision_m: 0.9128 - val_recall_m: 0.9341\n",
            "Epoch 9/20\n",
            "50/50 - 2s - loss: 0.1544 - acc: 0.9320 - f1_m: 0.9513 - precision_m: 0.9498 - recall_m: 0.9546 - val_loss: 0.3871 - val_acc: 0.8830 - val_f1_m: 0.9241 - val_precision_m: 0.9110 - val_recall_m: 0.9406\n",
            "Epoch 10/20\n",
            "50/50 - 2s - loss: 0.1608 - acc: 0.9332 - f1_m: 0.9521 - precision_m: 0.9454 - recall_m: 0.9617 - val_loss: 0.3878 - val_acc: 0.8728 - val_f1_m: 0.9168 - val_precision_m: 0.9120 - val_recall_m: 0.9236\n",
            "Epoch 11/20\n",
            "50/50 - 2s - loss: 0.1474 - acc: 0.9415 - f1_m: 0.9512 - precision_m: 0.9499 - recall_m: 0.9580 - val_loss: 0.3838 - val_acc: 0.8855 - val_f1_m: 0.9255 - val_precision_m: 0.9143 - val_recall_m: 0.9397\n",
            "Epoch 12/20\n",
            "50/50 - 2s - loss: 0.1409 - acc: 0.9434 - f1_m: 0.9592 - precision_m: 0.9556 - recall_m: 0.9645 - val_loss: 0.3852 - val_acc: 0.8830 - val_f1_m: 0.9239 - val_precision_m: 0.9141 - val_recall_m: 0.9366\n",
            "Epoch 13/20\n",
            "50/50 - 2s - loss: 0.1552 - acc: 0.9307 - f1_m: 0.9477 - precision_m: 0.9421 - recall_m: 0.9557 - val_loss: 0.3707 - val_acc: 0.8779 - val_f1_m: 0.9200 - val_precision_m: 0.9167 - val_recall_m: 0.9255\n",
            "Epoch 14/20\n",
            "50/50 - 2s - loss: 0.1483 - acc: 0.9364 - f1_m: 0.9352 - precision_m: 0.9371 - recall_m: 0.9350 - val_loss: 0.3714 - val_acc: 0.8804 - val_f1_m: 0.9226 - val_precision_m: 0.9050 - val_recall_m: 0.9437\n",
            "Epoch 15/20\n",
            "50/50 - 2s - loss: 0.1370 - acc: 0.9491 - f1_m: 0.9593 - precision_m: 0.9567 - recall_m: 0.9637 - val_loss: 0.3667 - val_acc: 0.8779 - val_f1_m: 0.9197 - val_precision_m: 0.9124 - val_recall_m: 0.9289\n",
            "Epoch 16/20\n",
            "50/50 - 2s - loss: 0.1329 - acc: 0.9453 - f1_m: 0.9585 - precision_m: 0.9528 - recall_m: 0.9666 - val_loss: 0.3683 - val_acc: 0.8677 - val_f1_m: 0.9129 - val_precision_m: 0.9063 - val_recall_m: 0.9222\n",
            "Epoch 17/20\n",
            "50/50 - 2s - loss: 0.1479 - acc: 0.9396 - f1_m: 0.9552 - precision_m: 0.9607 - recall_m: 0.9517 - val_loss: 0.3874 - val_acc: 0.8779 - val_f1_m: 0.9208 - val_precision_m: 0.8958 - val_recall_m: 0.9497\n",
            "Epoch 18/20\n",
            "50/50 - 2s - loss: 0.1423 - acc: 0.9358 - f1_m: 0.9485 - precision_m: 0.9398 - recall_m: 0.9616 - val_loss: 0.3851 - val_acc: 0.8779 - val_f1_m: 0.9211 - val_precision_m: 0.9019 - val_recall_m: 0.9433\n",
            "Epoch 19/20\n",
            "50/50 - 2s - loss: 0.1388 - acc: 0.9460 - f1_m: 0.9603 - precision_m: 0.9612 - recall_m: 0.9608 - val_loss: 0.3904 - val_acc: 0.8728 - val_f1_m: 0.9150 - val_precision_m: 0.9183 - val_recall_m: 0.9145\n",
            "Epoch 20/20\n",
            "50/50 - 2s - loss: 0.1236 - acc: 0.9510 - f1_m: 0.9642 - precision_m: 0.9657 - recall_m: 0.9641 - val_loss: 0.3885 - val_acc: 0.8702 - val_f1_m: 0.9153 - val_precision_m: 0.9066 - val_recall_m: 0.9267\n"
          ]
        }
      ]
    },
    {
      "cell_type": "code",
      "metadata": {
        "id": "dsU3sfydDe_0",
        "colab": {
          "base_uri": "https://localhost:8080/"
        },
        "outputId": "7d1e7ecc-f6d4-4498-cbba-a4635859d1e6"
      },
      "source": [
        "# Evaluate the model on the test data using `evaluate`\n",
        "print(\"Evaluate on test data\")\n",
        "results = model.evaluate(X_test_pad, y_test, batch_size=128)\n"
      ],
      "execution_count": 81,
      "outputs": [
        {
          "output_type": "stream",
          "name": "stdout",
          "text": [
            "Evaluate on test data\n",
            "4/4 [==============================] - 0s 13ms/step - loss: 0.3885 - acc: 0.8702 - f1_m: 0.9309 - precision_m: 0.9226 - recall_m: 0.9404\n"
          ]
        }
      ]
    },
    {
      "cell_type": "code",
      "metadata": {
        "colab": {
          "base_uri": "https://localhost:8080/",
          "height": 585
        },
        "id": "CLPiu3vtuumA",
        "outputId": "b19cd848-a15d-4b9f-8eab-f0d064f9058f"
      },
      "source": [
        "from matplotlib import pyplot as plt\n",
        "\n",
        "fig, axs = plt.subplots(2, 2, figsize=(15,8))\n",
        "axs[0, 0].plot(history_1.history['acc'], label='train')\n",
        "axs[0, 0].plot(history_1.history['val_acc'], label='val')\n",
        "axs[0, 0].set_title(\"Accuracy\")\n",
        "axs[0, 0].legend(prop={'size': 18})\n",
        "axs[1, 0].plot(history_1.history['f1_m'])\n",
        "axs[1, 0].plot(history_1.history['val_f1_m'])\n",
        "axs[1, 0].set_title(\"F1\")\n",
        "\n",
        "axs[0, 1].plot(history_1.history['recall_m'])\n",
        "axs[0, 1].plot(history_1.history['val_recall_m'])\n",
        "axs[0, 1].set_title(\"Recall\")\n",
        "\n",
        "axs[1, 1].plot(history_1.history['precision_m'])\n",
        "axs[1, 1].plot(history_1.history['val_precision_m'])\n",
        "axs[1, 1].set_title(\"Precision\")\n",
        "\n",
        "fig.tight_layout()"
      ],
      "execution_count": 82,
      "outputs": [
        {
          "output_type": "display_data",
          "data": {
            "image/png": "[encoded data removed]",
            "text/plain": [
              "<Figure size 1080x576 with 4 Axes>"
            ]
          },
          "metadata": {
            "needs_background": "light"
          }
        }
      ]
    },
    {
      "cell_type": "markdown",
      "metadata": {
        "id": "eDhrX_ixoBSi"
      },
      "source": [
        "### Modelo 2: LSTM"
      ]
    },
    {
      "cell_type": "code",
      "metadata": {
        "id": "gb5987SdAXni"
      },
      "source": [
        "from tensorflow.keras.layers import LSTM,Dense, Dropout, SpatialDropout1D\n",
        "\n",
        "model_2=Sequential()\n",
        "embedding_layer=Embedding(num_words,\n",
        "                          EMBEDDING_DIM,\n",
        "                          embeddings_initializer=Constant(embedding_matrix),\n",
        "                          input_length=max_length,\n",
        "                          trainable=False)\n",
        "\n",
        "model_2.add(embedding_layer) # ver\n",
        "\n",
        "model_2.add(SpatialDropout1D(0.25))\n",
        "model_2.add(LSTM(50, dropout=0.5, recurrent_dropout=0.5))\n",
        "model_2.add(Dropout(0.5))\n",
        "model_2.add(Dense(1, activation='sigmoid')) \n",
        "model_2.compile(loss='binary_crossentropy',optimizer='adam', metrics=['acc',f1_m,precision_m, recall_m])  "
      ],
      "execution_count": 83,
      "outputs": []
    },
    {
      "cell_type": "code",
      "metadata": {
        "colab": {
          "base_uri": "https://localhost:8080/"
        },
        "id": "Bp13P84a1BCx",
        "outputId": "682ef79d-7720-46a0-d970-4d368c2e9871"
      },
      "source": [
        "model_2.summary()"
      ],
      "execution_count": 84,
      "outputs": [
        {
          "output_type": "stream",
          "name": "stdout",
          "text": [
            "Model: \"sequential_4\"\n",
            "_________________________________________________________________\n",
            "Layer (type)                 Output Shape              Param #   \n",
            "=================================================================\n",
            "embedding_4 (Embedding)      (None, 49, 100)           497600    \n",
            "_________________________________________________________________\n",
            "spatial_dropout1d_1 (Spatial (None, 49, 100)           0         \n",
            "_________________________________________________________________\n",
            "lstm_1 (LSTM)                (None, 50)                30200     \n",
            "_________________________________________________________________\n",
            "dropout_1 (Dropout)          (None, 50)                0         \n",
            "_________________________________________________________________\n",
            "dense_4 (Dense)              (None, 1)                 51        \n",
            "=================================================================\n",
            "Total params: 527,851\n",
            "Trainable params: 30,251\n",
            "Non-trainable params: 497,600\n",
            "_________________________________________________________________\n"
          ]
        }
      ]
    },
    {
      "cell_type": "code",
      "metadata": {
        "colab": {
          "base_uri": "https://localhost:8080/"
        },
        "id": "bzF7mIuBq36P",
        "outputId": "4bd474a0-5588-4fbd-f0fb-c9cad390a575"
      },
      "source": [
        "X_train_pad.shape"
      ],
      "execution_count": 85,
      "outputs": [
        {
          "output_type": "execute_result",
          "data": {
            "text/plain": [
              "(1573, 49)"
            ]
          },
          "metadata": {},
          "execution_count": 85
        }
      ]
    },
    {
      "cell_type": "code",
      "metadata": {
        "id": "oISqnOCrAzwl",
        "colab": {
          "base_uri": "https://localhost:8080/"
        },
        "outputId": "cc207679-b99f-418a-e684-c4d07fa61455"
      },
      "source": [
        "history_2 = model_2.fit(X_train_pad,y_train,batch_size=32,epochs=30,validation_split=0.2,verbose=2)"
      ],
      "execution_count": 86,
      "outputs": [
        {
          "output_type": "stream",
          "name": "stdout",
          "text": [
            "Epoch 1/30\n",
            "40/40 - 6s - loss: 0.6844 - acc: 0.5612 - f1_m: 0.6721 - precision_m: 0.6943 - recall_m: 0.6632 - val_loss: 0.6314 - val_acc: 0.6540 - val_f1_m: 0.7845 - val_precision_m: 0.6636 - val_recall_m: 0.9623\n",
            "Epoch 2/30\n",
            "40/40 - 3s - loss: 0.6523 - acc: 0.6312 - f1_m: 0.7494 - precision_m: 0.7037 - recall_m: 0.8142 - val_loss: 0.6189 - val_acc: 0.6635 - val_f1_m: 0.7937 - val_precision_m: 0.6630 - val_recall_m: 0.9905\n",
            "Epoch 3/30\n",
            "40/40 - 3s - loss: 0.6081 - acc: 0.6892 - f1_m: 0.8004 - precision_m: 0.7198 - recall_m: 0.9108 - val_loss: 0.6132 - val_acc: 0.6603 - val_f1_m: 0.7910 - val_precision_m: 0.6618 - val_recall_m: 0.9850\n",
            "Epoch 4/30\n",
            "40/40 - 3s - loss: 0.6077 - acc: 0.6749 - f1_m: 0.7899 - precision_m: 0.7094 - recall_m: 0.8988 - val_loss: 0.5997 - val_acc: 0.6603 - val_f1_m: 0.7910 - val_precision_m: 0.6618 - val_recall_m: 0.9850\n",
            "Epoch 5/30\n",
            "40/40 - 3s - loss: 0.5977 - acc: 0.6741 - f1_m: 0.7884 - precision_m: 0.7158 - recall_m: 0.8845 - val_loss: 0.6081 - val_acc: 0.6698 - val_f1_m: 0.7976 - val_precision_m: 0.6666 - val_recall_m: 0.9952\n",
            "Epoch 6/30\n",
            "40/40 - 3s - loss: 0.5742 - acc: 0.6971 - f1_m: 0.8036 - precision_m: 0.7226 - recall_m: 0.9116 - val_loss: 0.5828 - val_acc: 0.6698 - val_f1_m: 0.7960 - val_precision_m: 0.6693 - val_recall_m: 0.9848\n",
            "Epoch 7/30\n",
            "40/40 - 3s - loss: 0.5638 - acc: 0.7154 - f1_m: 0.8153 - precision_m: 0.7439 - recall_m: 0.9086 - val_loss: 0.5652 - val_acc: 0.6730 - val_f1_m: 0.7912 - val_precision_m: 0.6813 - val_recall_m: 0.9472\n",
            "Epoch 8/30\n",
            "40/40 - 2s - loss: 0.5608 - acc: 0.7083 - f1_m: 0.8084 - precision_m: 0.7392 - recall_m: 0.9021 - val_loss: 0.5304 - val_acc: 0.6825 - val_f1_m: 0.7887 - val_precision_m: 0.7002 - val_recall_m: 0.9071\n",
            "Epoch 9/30\n",
            "40/40 - 2s - loss: 0.5446 - acc: 0.7130 - f1_m: 0.8063 - precision_m: 0.7490 - recall_m: 0.8831 - val_loss: 0.5368 - val_acc: 0.7016 - val_f1_m: 0.8068 - val_precision_m: 0.7055 - val_recall_m: 0.9456\n",
            "Epoch 10/30\n",
            "40/40 - 3s - loss: 0.5278 - acc: 0.7313 - f1_m: 0.8226 - precision_m: 0.7549 - recall_m: 0.9123 - val_loss: 0.4876 - val_acc: 0.7302 - val_f1_m: 0.8151 - val_precision_m: 0.7395 - val_recall_m: 0.9120\n",
            "Epoch 11/30\n",
            "40/40 - 2s - loss: 0.5165 - acc: 0.7122 - f1_m: 0.8049 - precision_m: 0.7624 - recall_m: 0.8607 - val_loss: 0.5101 - val_acc: 0.7270 - val_f1_m: 0.8092 - val_precision_m: 0.7471 - val_recall_m: 0.8875\n",
            "Epoch 12/30\n",
            "40/40 - 3s - loss: 0.5155 - acc: 0.7361 - f1_m: 0.8181 - precision_m: 0.7736 - recall_m: 0.8757 - val_loss: 0.4652 - val_acc: 0.7429 - val_f1_m: 0.8231 - val_precision_m: 0.7578 - val_recall_m: 0.9045\n",
            "Epoch 13/30\n",
            "40/40 - 3s - loss: 0.5022 - acc: 0.7313 - f1_m: 0.8149 - precision_m: 0.7757 - recall_m: 0.8672 - val_loss: 0.4697 - val_acc: 0.7651 - val_f1_m: 0.8358 - val_precision_m: 0.7790 - val_recall_m: 0.9074\n",
            "Epoch 14/30\n",
            "40/40 - 3s - loss: 0.4711 - acc: 0.7599 - f1_m: 0.8355 - precision_m: 0.7980 - recall_m: 0.8823 - val_loss: 0.4586 - val_acc: 0.7746 - val_f1_m: 0.8414 - val_precision_m: 0.7876 - val_recall_m: 0.9094\n",
            "Epoch 15/30\n",
            "40/40 - 2s - loss: 0.4663 - acc: 0.7663 - f1_m: 0.8364 - precision_m: 0.8057 - recall_m: 0.8736 - val_loss: 0.4411 - val_acc: 0.7873 - val_f1_m: 0.8407 - val_precision_m: 0.8286 - val_recall_m: 0.8608\n",
            "Epoch 16/30\n",
            "40/40 - 2s - loss: 0.4730 - acc: 0.7695 - f1_m: 0.8373 - precision_m: 0.8155 - recall_m: 0.8699 - val_loss: 0.4378 - val_acc: 0.7968 - val_f1_m: 0.8508 - val_precision_m: 0.8264 - val_recall_m: 0.8849\n",
            "Epoch 17/30\n",
            "40/40 - 2s - loss: 0.4430 - acc: 0.7917 - f1_m: 0.8545 - precision_m: 0.8319 - recall_m: 0.8853 - val_loss: 0.4424 - val_acc: 0.8032 - val_f1_m: 0.8540 - val_precision_m: 0.8356 - val_recall_m: 0.8796\n",
            "Epoch 18/30\n",
            "40/40 - 2s - loss: 0.4536 - acc: 0.7774 - f1_m: 0.8414 - precision_m: 0.8292 - recall_m: 0.8604 - val_loss: 0.4268 - val_acc: 0.8032 - val_f1_m: 0.8577 - val_precision_m: 0.8274 - val_recall_m: 0.8985\n",
            "Epoch 19/30\n",
            "40/40 - 3s - loss: 0.4382 - acc: 0.7925 - f1_m: 0.8559 - precision_m: 0.8226 - recall_m: 0.8974 - val_loss: 0.3964 - val_acc: 0.8254 - val_f1_m: 0.8679 - val_precision_m: 0.8606 - val_recall_m: 0.8831\n",
            "Epoch 20/30\n",
            "40/40 - 2s - loss: 0.4353 - acc: 0.7798 - f1_m: 0.8396 - precision_m: 0.8267 - recall_m: 0.8603 - val_loss: 0.4135 - val_acc: 0.8095 - val_f1_m: 0.8652 - val_precision_m: 0.8231 - val_recall_m: 0.9185\n",
            "Epoch 21/30\n",
            "40/40 - 2s - loss: 0.4403 - acc: 0.7862 - f1_m: 0.8475 - precision_m: 0.8177 - recall_m: 0.8843 - val_loss: 0.4178 - val_acc: 0.8000 - val_f1_m: 0.8524 - val_precision_m: 0.8310 - val_recall_m: 0.8840\n",
            "Epoch 22/30\n",
            "40/40 - 2s - loss: 0.4254 - acc: 0.7886 - f1_m: 0.8495 - precision_m: 0.8489 - recall_m: 0.8576 - val_loss: 0.3947 - val_acc: 0.8159 - val_f1_m: 0.8623 - val_precision_m: 0.8523 - val_recall_m: 0.8790\n",
            "Epoch 23/30\n",
            "40/40 - 2s - loss: 0.4382 - acc: 0.7957 - f1_m: 0.8507 - precision_m: 0.8312 - recall_m: 0.8777 - val_loss: 0.4342 - val_acc: 0.8000 - val_f1_m: 0.8567 - val_precision_m: 0.8189 - val_recall_m: 0.9049\n",
            "Epoch 24/30\n",
            "40/40 - 2s - loss: 0.4302 - acc: 0.7822 - f1_m: 0.8429 - precision_m: 0.8352 - recall_m: 0.8557 - val_loss: 0.4069 - val_acc: 0.8286 - val_f1_m: 0.8737 - val_precision_m: 0.8523 - val_recall_m: 0.9038\n",
            "Epoch 25/30\n",
            "40/40 - 2s - loss: 0.4073 - acc: 0.8021 - f1_m: 0.8589 - precision_m: 0.8391 - recall_m: 0.8852 - val_loss: 0.3809 - val_acc: 0.8381 - val_f1_m: 0.8788 - val_precision_m: 0.8652 - val_recall_m: 0.8990\n",
            "Epoch 26/30\n",
            "40/40 - 2s - loss: 0.4077 - acc: 0.8037 - f1_m: 0.8591 - precision_m: 0.8472 - recall_m: 0.8778 - val_loss: 0.3644 - val_acc: 0.8413 - val_f1_m: 0.8784 - val_precision_m: 0.8784 - val_recall_m: 0.8842\n",
            "Epoch 27/30\n",
            "40/40 - 3s - loss: 0.4106 - acc: 0.7989 - f1_m: 0.8555 - precision_m: 0.8456 - recall_m: 0.8728 - val_loss: 0.3601 - val_acc: 0.8349 - val_f1_m: 0.8758 - val_precision_m: 0.8630 - val_recall_m: 0.8938\n",
            "Epoch 28/30\n",
            "40/40 - 2s - loss: 0.4027 - acc: 0.8021 - f1_m: 0.8590 - precision_m: 0.8421 - recall_m: 0.8821 - val_loss: 0.3539 - val_acc: 0.8349 - val_f1_m: 0.8728 - val_precision_m: 0.8775 - val_recall_m: 0.8749\n",
            "Epoch 29/30\n",
            "40/40 - 2s - loss: 0.4150 - acc: 0.7989 - f1_m: 0.8524 - precision_m: 0.8529 - recall_m: 0.8567 - val_loss: 0.3664 - val_acc: 0.8413 - val_f1_m: 0.8808 - val_precision_m: 0.8686 - val_recall_m: 0.8986\n",
            "Epoch 30/30\n",
            "40/40 - 2s - loss: 0.3993 - acc: 0.8045 - f1_m: 0.8603 - precision_m: 0.8485 - recall_m: 0.8776 - val_loss: 0.3543 - val_acc: 0.8413 - val_f1_m: 0.8812 - val_precision_m: 0.8654 - val_recall_m: 0.9033\n"
          ]
        }
      ]
    },
    {
      "cell_type": "code",
      "metadata": {
        "id": "mRcP59byHFHC",
        "colab": {
          "base_uri": "https://localhost:8080/"
        },
        "outputId": "b627d382-72cf-46c1-da0f-f5b2b981e2d5"
      },
      "source": [
        "# Evaluate the model on the test data using `evaluate`\n",
        "print(\"Evaluate on test data\")\n",
        "results = model_2.evaluate(X_test_pad, y_test, batch_size=128)\n",
        "#print(\"test loss, test acc:\", results)"
      ],
      "execution_count": 87,
      "outputs": [
        {
          "output_type": "stream",
          "name": "stdout",
          "text": [
            "Evaluate on test data\n",
            "4/4 [==============================] - 0s 24ms/step - loss: 0.3130 - acc: 0.8804 - f1_m: 0.8898 - precision_m: 0.8761 - recall_m: 0.9045\n"
          ]
        }
      ]
    },
    {
      "cell_type": "code",
      "metadata": {
        "colab": {
          "base_uri": "https://localhost:8080/"
        },
        "id": "YWwW3PJPtWZx",
        "outputId": "106da3b2-a2a0-4980-b57e-76872f5fce26"
      },
      "source": [
        "history_2"
      ],
      "execution_count": 88,
      "outputs": [
        {
          "output_type": "execute_result",
          "data": {
            "text/plain": [
              "<keras.callbacks.History at 0x7f73c2ccc510>"
            ]
          },
          "metadata": {},
          "execution_count": 88
        }
      ]
    },
    {
      "cell_type": "code",
      "metadata": {
        "id": "nJTUBLHs3c7w",
        "colab": {
          "base_uri": "https://localhost:8080/",
          "height": 585
        },
        "outputId": "75b923f6-2290-41a9-92c1-1e60423e21cd"
      },
      "source": [
        "from matplotlib import pyplot as plt\n",
        "\n",
        "fig, axs = plt.subplots(2, 2, figsize=(15,8))\n",
        "axs[0, 0].plot(history_2.history['acc'], label='train')\n",
        "axs[0, 0].plot(history_2.history['val_acc'], label='val')\n",
        "axs[0, 0].set_title(\"Accuracy\")\n",
        "axs[0, 0].legend(prop={'size': 18})\n",
        "axs[1, 0].plot(history_2.history['f1_m'])\n",
        "axs[1, 0].plot(history_2.history['val_f1_m'])\n",
        "axs[1, 0].set_title(\"F1\")\n",
        "\n",
        "axs[0, 1].plot(history_2.history['recall_m'])\n",
        "axs[0, 1].plot(history_2.history['val_recall_m'])\n",
        "axs[0, 1].set_title(\"Recall\")\n",
        "\n",
        "axs[1, 1].plot(history_2.history['precision_m'])\n",
        "axs[1, 1].plot(history_2.history['val_precision_m'])\n",
        "axs[1, 1].set_title(\"Precision\")\n",
        "\n",
        "fig.tight_layout()"
      ],
      "execution_count": 89,
      "outputs": [
        {
          "output_type": "display_data",
          "data": {
            "image/png": "[encoded data removed]",
            "text/plain": [
              "<Figure size 1080x576 with 4 Axes>"
            ]
          },
          "metadata": {
            "needs_background": "light"
          }
        }
      ]
    },
    {
      "cell_type": "code",
      "metadata": {
        "id": "VvELtMvHtJ_H"
      },
      "source": [
        ""
      ],
      "execution_count": null,
      "outputs": []
    }
  ]
}